{
 "cells": [
  {
   "cell_type": "code",
   "execution_count": 15,
   "metadata": {
    "ExecuteTime": {
     "end_time": "2019-09-13T11:43:30.643027Z",
     "start_time": "2019-09-13T11:43:30.634542Z"
    }
   },
   "outputs": [],
   "source": [
    "import requests\n",
    "from bs4 import BeautifulSoup\n",
    "import time\n",
    "import os\n",
    "import numpy as np\n",
    "import pandas as pd\n",
    "import matplotlib.pyplot as plt"
   ]
  },
  {
   "cell_type": "code",
   "execution_count": 2,
   "metadata": {
    "ExecuteTime": {
     "end_time": "2019-09-13T11:36:20.142150Z",
     "start_time": "2019-09-13T11:36:20.135867Z"
    }
   },
   "outputs": [],
   "source": [
    "partial_url = 'https://cbi.iq/currency_auction/view/'\n",
    "ua1 = \"Mozilla/5.0 (Windows NT 10.0; Win64; x64) AppleWebKit/537.36 (KHTML, like Gecko) \" \\\n",
    "      \"Chrome/66.0.3359.139 Safari/537.36\"\n",
    "headers = {\"User-Agent\": ua1}"
   ]
  },
  {
   "cell_type": "code",
   "execution_count": 134,
   "metadata": {
    "ExecuteTime": {
     "end_time": "2019-09-12T02:13:11.261569Z",
     "start_time": "2019-09-12T02:13:10.175903Z"
    }
   },
   "outputs": [
    {
     "data": {
      "text/plain": [
       "[<span style=\"font-family:Arial,Helvetica,sans-serif\"><span style=\"font-size:16px\"><strong>إعلان رقم (3529)</strong></span></span>,\n",
       " <span style=\"font-family:Arial,Helvetica,sans-serif\"><span style=\"font-size:14px\"><strong>تـاريخ البيع</strong> - الثلاثاء 19-9-2017 والمنفذ يوم الاثنين 18-9-2017</span></span>,\n",
       " <span style=\"font-family:Arial,Helvetica,sans-serif\"><strong>التفاصيل</strong> </span>,\n",
       " <span style=\"font-family:Arial,Helvetica,sans-serif\"><strong>المبلغ</strong></span>,\n",
       " <span style=\"font-family:Arial,Helvetica,sans-serif\">اجمالي البيع لأغراض تعزيز الارصدة في الخارج (حوالات،إعتمادات)</span>,\n",
       " <span style=\"font-family:Arial,Helvetica,sans-serif\">118,812,407</span>,\n",
       " <span style=\"font-family:Arial,Helvetica,sans-serif\">اجمالي البيع النقدي</span>,\n",
       " <span style=\"font-family:Arial,Helvetica,sans-serif\">2,160,000</span>,\n",
       " <span style=\"font-family:Arial,Helvetica,sans-serif\">اجمالي المبيعات الكلية</span>,\n",
       " <span style=\"font-family:Arial,Helvetica,sans-serif\">162,772,407</span>,\n",
       " <span style=\"font-family:Arial,Helvetica,sans-serif\"><strong>علماً أن :</strong></span>,\n",
       " <span style=\"font-family:Arial,Helvetica,sans-serif\">سعر بيع المبالغ المحولة لحسابات المصارف في الخارج (1190) دينار لكل دولار.</span>,\n",
       " <span style=\"font-family:Arial,Helvetica,sans-serif\">سعر البيع النقدي (1190) دينارلكل دولار.</span>,\n",
       " <span style=\"font-family:Arial,Helvetica,sans-serif\">* <a href=\"https://cbi.iq/static/uploads/up/file-150588804310786.pdf\">جدول مبيعات البنك المركزي العراقي للعملة الاجنبية (المبالغ بالاف الدولارات) ليوم الثلاثاء 19-9-2017 والمنفذ يوم الاثنين 18-9-2017</a></span>]"
      ]
     },
     "execution_count": 134,
     "metadata": {},
     "output_type": "execute_result"
    }
   ],
   "source": [
    "whole_url = partial_url + '124'\n",
    "\n",
    "page = requests.get(whole_url, headers=headers, timeout=500)\n",
    "soup = BeautifulSoup(page.content, \"html.parser\")\n",
    "\n",
    "# soup.find_all('span', attrs={\"style\":\"font-family:Arial,Helvetica,sans-serif\"})[0:]\n",
    "info = soup.find_all('span', attrs={\"style\":\"font-family:Arial,Helvetica,sans-serif\"})\n",
    "info"
   ]
  },
  {
   "cell_type": "code",
   "execution_count": 135,
   "metadata": {
    "ExecuteTime": {
     "end_time": "2019-09-12T02:13:45.316311Z",
     "start_time": "2019-09-12T02:13:45.308319Z"
    }
   },
   "outputs": [
    {
     "name": "stdout",
     "output_type": "stream",
     "text": [
      "تـاريخ البيع - الثلاثاء 19-9-2017 والمنفذ يوم الاثنين 18-9-2017\n",
      "118,812,407\n",
      "2,160,000\n",
      "162,772,407\n",
      "سعر بيع المبالغ المحولة لحسابات المصارف في الخارج (1190) دينار لكل دولار.\n"
     ]
    }
   ],
   "source": [
    "data = [i.text for i in info]\n",
    "print(data[1])\n",
    "print(data[5])\n",
    "print(data[7])\n",
    "print(data[9])\n",
    "print(data[-3])"
   ]
  },
  {
   "cell_type": "markdown",
   "metadata": {},
   "source": [
    "### URLs 124 - 394"
   ]
  },
  {
   "cell_type": "markdown",
   "metadata": {},
   "source": [
    "#### Function to scrape and save (run in separate .py file)"
   ]
  },
  {
   "cell_type": "code",
   "execution_count": 128,
   "metadata": {
    "ExecuteTime": {
     "end_time": "2019-09-12T02:09:32.545037Z",
     "start_time": "2019-09-12T02:09:32.535516Z"
    },
    "scrolled": false
   },
   "outputs": [],
   "source": [
    "# establish df outside the for loop\n",
    "\n",
    "def scraper_124_394():\n",
    "    df = pd.DataFrame(columns=['date', 'total_for_foreign',\n",
    "                               'total_cash', 'grand_total', 'exchange_rate'])\n",
    "    for page in range(124, 395):\n",
    "\n",
    "        # piece together each unique URL\n",
    "        whole_url = partial_url + str(page)\n",
    "        print(whole_url)\n",
    "        try:\n",
    "            page = requests.get(whole_url, headers=headers, timeout=500)\n",
    "            soup = BeautifulSoup(page.content, \"html.parser\")\n",
    "\n",
    "            info = soup.find_all(\n",
    "                'span', attrs={\"style\": \"font-family:Arial,Helvetica,sans-serif\"})\n",
    "            # put data into a list\n",
    "            data = [i.text for i in info]\n",
    "            df = df.append({'date': data[1],\n",
    "                            'total_for_foreign': data[5],\n",
    "                            'total_cash': data[7],\n",
    "                            'grand_total': data[9],\n",
    "                            'exchange_rate': data[-3],\n",
    "                            'url':whole_url}, ignore_index=True)\n",
    "        except Exception:\n",
    "            print('No URL at that number')\n",
    "\n",
    "        time.sleep(1.2)\n",
    "    df.to_csv('124_394.csv',index=False)\n",
    "    return df"
   ]
  },
  {
   "cell_type": "code",
   "execution_count": 129,
   "metadata": {
    "ExecuteTime": {
     "end_time": "2019-09-12T02:09:38.420534Z",
     "start_time": "2019-09-12T02:09:38.265193Z"
    }
   },
   "outputs": [
    {
     "name": "stdout",
     "output_type": "stream",
     "text": [
      "124_394.csv       README.md         scraper124394.py\r\n",
      "CBI_Project.ipynb initial_df.csv\r\n"
     ]
    }
   ],
   "source": [
    "!ls"
   ]
  },
  {
   "cell_type": "code",
   "execution_count": 60,
   "metadata": {
    "ExecuteTime": {
     "end_time": "2019-09-12T01:21:05.166169Z",
     "start_time": "2019-09-12T01:21:05.155478Z"
    }
   },
   "outputs": [],
   "source": [
    "raw_data = pd.read_csv('initial_df.csv',index_col=False)"
   ]
  },
  {
   "cell_type": "code",
   "execution_count": 69,
   "metadata": {
    "ExecuteTime": {
     "end_time": "2019-09-12T01:22:37.970879Z",
     "start_time": "2019-09-12T01:22:37.962266Z"
    }
   },
   "outputs": [
    {
     "data": {
      "text/plain": [
       "4    سعر بيع المبالغ المحولة لحسابات المصارف في الخ...\n",
       "5    سعر بيع المبالغ المحولة لحسابات المصارف في الخ...\n",
       "Name: exchange_rate, dtype: object"
      ]
     },
     "execution_count": 69,
     "metadata": {},
     "output_type": "execute_result"
    }
   ],
   "source": [
    "raw_data.iloc[4:6,4]"
   ]
  },
  {
   "cell_type": "code",
   "execution_count": 130,
   "metadata": {
    "ExecuteTime": {
     "end_time": "2019-09-12T02:09:48.307710Z",
     "start_time": "2019-09-12T02:09:48.287103Z"
    }
   },
   "outputs": [
    {
     "data": {
      "text/html": [
       "<div>\n",
       "<style scoped>\n",
       "    .dataframe tbody tr th:only-of-type {\n",
       "        vertical-align: middle;\n",
       "    }\n",
       "\n",
       "    .dataframe tbody tr th {\n",
       "        vertical-align: top;\n",
       "    }\n",
       "\n",
       "    .dataframe thead th {\n",
       "        text-align: right;\n",
       "    }\n",
       "</style>\n",
       "<table border=\"1\" class=\"dataframe\">\n",
       "  <thead>\n",
       "    <tr style=\"text-align: right;\">\n",
       "      <th></th>\n",
       "      <th>date</th>\n",
       "      <th>total_for_foreign</th>\n",
       "      <th>total_cash</th>\n",
       "      <th>grand_total</th>\n",
       "      <th>exchange_rate</th>\n",
       "    </tr>\n",
       "  </thead>\n",
       "  <tbody>\n",
       "    <tr>\n",
       "      <th>250</th>\n",
       "      <td>تـاريخ البيع - ليوم الخميس 2018/9/6 والمنفذ يو...</td>\n",
       "      <td>168,404,815</td>\n",
       "      <td>31,100,000</td>\n",
       "      <td>اجمالي المبيعات الكلية</td>\n",
       "      <td>علماً أن :</td>\n",
       "    </tr>\n",
       "    <tr>\n",
       "      <th>251</th>\n",
       "      <td>تـاريخ البيع - ليوم الاحد 2018/9/9 والمنفذ يوم...</td>\n",
       "      <td>165,241,119</td>\n",
       "      <td>33,050,000\\r\\n</td>\n",
       "      <td>198,291,119</td>\n",
       "      <td>علماً أن :</td>\n",
       "    </tr>\n",
       "    <tr>\n",
       "      <th>252</th>\n",
       "      <td>تـاريخ البيع - ليوم الاثنين 2018/9/10 والمنفذ ...</td>\n",
       "      <td>169,998,910</td>\n",
       "      <td>37,350,000\\r\\n</td>\n",
       "      <td>207,348,910</td>\n",
       "      <td>علماً أن :</td>\n",
       "    </tr>\n",
       "    <tr>\n",
       "      <th>253</th>\n",
       "      <td>تـاريخ البيع - ليوم الثلاثاء 2018/9/11 والمنفذ...</td>\n",
       "      <td>161,015,027</td>\n",
       "      <td>34,350,000\\r\\n</td>\n",
       "      <td>195,365,027</td>\n",
       "      <td>علماً أن :</td>\n",
       "    </tr>\n",
       "    <tr>\n",
       "      <th>254</th>\n",
       "      <td>تـاريخ البيع - ليوم الاربعاء 2018/9/12 والمنفذ...</td>\n",
       "      <td>174,421,480</td>\n",
       "      <td>35,100,000\\r\\n</td>\n",
       "      <td>209,521,480</td>\n",
       "      <td>علماً أن :</td>\n",
       "    </tr>\n",
       "    <tr>\n",
       "      <th>255</th>\n",
       "      <td>تـاريخ البيع - ليوم الخميس 2018/9/13 والمنفذ ي...</td>\n",
       "      <td>156,902,584</td>\n",
       "      <td>30,800,000\\r\\n</td>\n",
       "      <td>187,702,584</td>\n",
       "      <td>علماً أن :</td>\n",
       "    </tr>\n",
       "    <tr>\n",
       "      <th>256</th>\n",
       "      <td>تـاريخ البيع - ليوم الأحد 2018/9/16 والمنفذ يو...</td>\n",
       "      <td>182,569,754</td>\n",
       "      <td>32,350,000\\r\\n</td>\n",
       "      <td>214,919,754</td>\n",
       "      <td>علماً أن :</td>\n",
       "    </tr>\n",
       "    <tr>\n",
       "      <th>257</th>\n",
       "      <td>تـاريخ البيع - ليوم الأثنين 2018/9/17 والمنفذ ...</td>\n",
       "      <td>147,381,019</td>\n",
       "      <td>38,000,000\\r\\n</td>\n",
       "      <td>185,381,019</td>\n",
       "      <td>علماً أن :</td>\n",
       "    </tr>\n",
       "    <tr>\n",
       "      <th>258</th>\n",
       "      <td>تـاريخ البيع - ليوم الثلاثاء 2018/9/18 والمنفذ...</td>\n",
       "      <td>104,937,400</td>\n",
       "      <td>32,250,000\\r\\n</td>\n",
       "      <td>137,187,400</td>\n",
       "      <td>علماً أن :</td>\n",
       "    </tr>\n",
       "    <tr>\n",
       "      <th>259</th>\n",
       "      <td>3789</td>\n",
       "      <td>الـمبلغ</td>\n",
       "      <td>190,058,455</td>\n",
       "      <td>35,900,000 \\r\\n</td>\n",
       "      <td>علماً أن :</td>\n",
       "    </tr>\n",
       "    <tr>\n",
       "      <th>260</th>\n",
       "      <td>3790</td>\n",
       "      <td>الـمبلغ</td>\n",
       "      <td>166,793,767</td>\n",
       "      <td>31,800,000 \\r\\n</td>\n",
       "      <td>علماً أن :</td>\n",
       "    </tr>\n",
       "    <tr>\n",
       "      <th>261</th>\n",
       "      <td>3791</td>\n",
       "      <td>الـمبلغ</td>\n",
       "      <td>175,348,374</td>\n",
       "      <td>32,900,000 \\r\\n</td>\n",
       "      <td>علماً أن :</td>\n",
       "    </tr>\n",
       "    <tr>\n",
       "      <th>262</th>\n",
       "      <td>3792</td>\n",
       "      <td>الـمبلغ</td>\n",
       "      <td>174,865,770</td>\n",
       "      <td>38,200,000 \\r\\n</td>\n",
       "      <td>علماً أن :</td>\n",
       "    </tr>\n",
       "    <tr>\n",
       "      <th>263</th>\n",
       "      <td>3793</td>\n",
       "      <td>الـمبلغ</td>\n",
       "      <td>167,674,850</td>\n",
       "      <td>34,450,000 \\r\\n</td>\n",
       "      <td>علماً أن :</td>\n",
       "    </tr>\n",
       "    <tr>\n",
       "      <th>264</th>\n",
       "      <td>3794</td>\n",
       "      <td>الـمبلغ</td>\n",
       "      <td>138,577,250</td>\n",
       "      <td>33,650,000\\r\\n</td>\n",
       "      <td>علماً أن :</td>\n",
       "    </tr>\n",
       "    <tr>\n",
       "      <th>265</th>\n",
       "      <td>3795</td>\n",
       "      <td>الـمبلغ</td>\n",
       "      <td>94,692,035</td>\n",
       "      <td>28,300,000\\r\\n</td>\n",
       "      <td>علماً أن :</td>\n",
       "    </tr>\n",
       "    <tr>\n",
       "      <th>266</th>\n",
       "      <td>3796</td>\n",
       "      <td>الـمبلغ</td>\n",
       "      <td>160,179,318</td>\n",
       "      <td>29,950,000\\r\\n</td>\n",
       "      <td>علماً أن :</td>\n",
       "    </tr>\n",
       "    <tr>\n",
       "      <th>267</th>\n",
       "      <td>3797</td>\n",
       "      <td>الـمبلغ</td>\n",
       "      <td>126,238,475</td>\n",
       "      <td>37,050,000\\r\\n</td>\n",
       "      <td>علماً أن :</td>\n",
       "    </tr>\n",
       "    <tr>\n",
       "      <th>268</th>\n",
       "      <td>3798</td>\n",
       "      <td>الـمبلغ</td>\n",
       "      <td>138,830,343</td>\n",
       "      <td>34,050,000\\r\\n</td>\n",
       "      <td>علماً أن :</td>\n",
       "    </tr>\n",
       "    <tr>\n",
       "      <th>269</th>\n",
       "      <td>3799</td>\n",
       "      <td>الـمبلغ</td>\n",
       "      <td>151,530,346</td>\n",
       "      <td>33,950,000\\r\\n</td>\n",
       "      <td>علماً أن :</td>\n",
       "    </tr>\n",
       "  </tbody>\n",
       "</table>\n",
       "</div>"
      ],
      "text/plain": [
       "                                                  date total_for_foreign  \\\n",
       "250  تـاريخ البيع - ليوم الخميس 2018/9/6 والمنفذ يو...       168,404,815   \n",
       "251  تـاريخ البيع - ليوم الاحد 2018/9/9 والمنفذ يوم...       165,241,119   \n",
       "252  تـاريخ البيع - ليوم الاثنين 2018/9/10 والمنفذ ...       169,998,910   \n",
       "253  تـاريخ البيع - ليوم الثلاثاء 2018/9/11 والمنفذ...       161,015,027   \n",
       "254  تـاريخ البيع - ليوم الاربعاء 2018/9/12 والمنفذ...       174,421,480   \n",
       "255  تـاريخ البيع - ليوم الخميس 2018/9/13 والمنفذ ي...       156,902,584   \n",
       "256  تـاريخ البيع - ليوم الأحد 2018/9/16 والمنفذ يو...       182,569,754   \n",
       "257  تـاريخ البيع - ليوم الأثنين 2018/9/17 والمنفذ ...       147,381,019   \n",
       "258  تـاريخ البيع - ليوم الثلاثاء 2018/9/18 والمنفذ...       104,937,400   \n",
       "259                                               3789           الـمبلغ   \n",
       "260                                               3790           الـمبلغ   \n",
       "261                                               3791           الـمبلغ   \n",
       "262                                               3792           الـمبلغ   \n",
       "263                                               3793           الـمبلغ   \n",
       "264                                               3794           الـمبلغ   \n",
       "265                                               3795           الـمبلغ   \n",
       "266                                               3796           الـمبلغ   \n",
       "267                                               3797           الـمبلغ   \n",
       "268                                               3798           الـمبلغ   \n",
       "269                                               3799           الـمبلغ   \n",
       "\n",
       "         total_cash             grand_total exchange_rate  \n",
       "250      31,100,000  اجمالي المبيعات الكلية    علماً أن :  \n",
       "251  33,050,000\\r\\n             198,291,119    علماً أن :  \n",
       "252  37,350,000\\r\\n             207,348,910    علماً أن :  \n",
       "253  34,350,000\\r\\n             195,365,027    علماً أن :  \n",
       "254  35,100,000\\r\\n             209,521,480    علماً أن :  \n",
       "255  30,800,000\\r\\n             187,702,584    علماً أن :  \n",
       "256  32,350,000\\r\\n             214,919,754    علماً أن :  \n",
       "257  38,000,000\\r\\n             185,381,019    علماً أن :  \n",
       "258  32,250,000\\r\\n             137,187,400    علماً أن :  \n",
       "259     190,058,455         35,900,000 \\r\\n    علماً أن :  \n",
       "260     166,793,767         31,800,000 \\r\\n    علماً أن :  \n",
       "261     175,348,374         32,900,000 \\r\\n    علماً أن :  \n",
       "262     174,865,770         38,200,000 \\r\\n    علماً أن :  \n",
       "263     167,674,850         34,450,000 \\r\\n    علماً أن :  \n",
       "264     138,577,250          33,650,000\\r\\n    علماً أن :  \n",
       "265      94,692,035          28,300,000\\r\\n    علماً أن :  \n",
       "266     160,179,318          29,950,000\\r\\n    علماً أن :  \n",
       "267     126,238,475          37,050,000\\r\\n    علماً أن :  \n",
       "268     138,830,343          34,050,000\\r\\n    علماً أن :  \n",
       "269     151,530,346          33,950,000\\r\\n    علماً أن :  "
      ]
     },
     "execution_count": 130,
     "metadata": {},
     "output_type": "execute_result"
    }
   ],
   "source": [
    "raw_data.iloc[250:270,:]"
   ]
  },
  {
   "cell_type": "markdown",
   "metadata": {},
   "source": [
    "#### Cleaning 124-394"
   ]
  },
  {
   "cell_type": "code",
   "execution_count": 3,
   "metadata": {
    "ExecuteTime": {
     "end_time": "2019-09-13T11:39:51.182662Z",
     "start_time": "2019-09-13T11:39:51.075395Z"
    }
   },
   "outputs": [],
   "source": [
    "raw_data1 = pd.read_csv('124_394.csv')"
   ]
  },
  {
   "cell_type": "code",
   "execution_count": 4,
   "metadata": {
    "ExecuteTime": {
     "end_time": "2019-09-13T11:39:52.445048Z",
     "start_time": "2019-09-13T11:39:52.416320Z"
    }
   },
   "outputs": [
    {
     "data": {
      "text/html": [
       "<div>\n",
       "<style scoped>\n",
       "    .dataframe tbody tr th:only-of-type {\n",
       "        vertical-align: middle;\n",
       "    }\n",
       "\n",
       "    .dataframe tbody tr th {\n",
       "        vertical-align: top;\n",
       "    }\n",
       "\n",
       "    .dataframe thead th {\n",
       "        text-align: right;\n",
       "    }\n",
       "</style>\n",
       "<table border=\"1\" class=\"dataframe\">\n",
       "  <thead>\n",
       "    <tr style=\"text-align: right;\">\n",
       "      <th></th>\n",
       "      <th>date</th>\n",
       "      <th>total_for_foreign</th>\n",
       "      <th>total_cash</th>\n",
       "      <th>grand_total</th>\n",
       "      <th>exchange_rate</th>\n",
       "      <th>url</th>\n",
       "    </tr>\n",
       "  </thead>\n",
       "  <tbody>\n",
       "    <tr>\n",
       "      <th>255</th>\n",
       "      <td>تـاريخ البيع - ليوم الخميس 2018/9/13 والمنفذ ي...</td>\n",
       "      <td>156,902,584</td>\n",
       "      <td>30,800,000\\r\\n</td>\n",
       "      <td>187,702,584</td>\n",
       "      <td>علماً أن :</td>\n",
       "      <td>https://cbi.iq/currency_auction/view/390</td>\n",
       "    </tr>\n",
       "    <tr>\n",
       "      <th>256</th>\n",
       "      <td>تـاريخ البيع - ليوم الأحد 2018/9/16 والمنفذ يو...</td>\n",
       "      <td>182,569,754</td>\n",
       "      <td>32,350,000\\r\\n</td>\n",
       "      <td>214,919,754</td>\n",
       "      <td>علماً أن :</td>\n",
       "      <td>https://cbi.iq/currency_auction/view/391</td>\n",
       "    </tr>\n",
       "    <tr>\n",
       "      <th>257</th>\n",
       "      <td>تـاريخ البيع - ليوم الأثنين 2018/9/17 والمنفذ ...</td>\n",
       "      <td>147,381,019</td>\n",
       "      <td>38,000,000\\r\\n</td>\n",
       "      <td>185,381,019</td>\n",
       "      <td>علماً أن :</td>\n",
       "      <td>https://cbi.iq/currency_auction/view/392</td>\n",
       "    </tr>\n",
       "    <tr>\n",
       "      <th>258</th>\n",
       "      <td>تـاريخ البيع - ليوم الثلاثاء 2018/9/18 والمنفذ...</td>\n",
       "      <td>104,937,400</td>\n",
       "      <td>32,250,000\\r\\n</td>\n",
       "      <td>137,187,400</td>\n",
       "      <td>علماً أن :</td>\n",
       "      <td>https://cbi.iq/currency_auction/view/393</td>\n",
       "    </tr>\n",
       "    <tr>\n",
       "      <th>259</th>\n",
       "      <td>3789</td>\n",
       "      <td>الـمبلغ</td>\n",
       "      <td>190,058,455</td>\n",
       "      <td>35,900,000 \\r\\n</td>\n",
       "      <td>علماً أن :</td>\n",
       "      <td>https://cbi.iq/currency_auction/view/394</td>\n",
       "    </tr>\n",
       "  </tbody>\n",
       "</table>\n",
       "</div>"
      ],
      "text/plain": [
       "                                                  date total_for_foreign  \\\n",
       "255  تـاريخ البيع - ليوم الخميس 2018/9/13 والمنفذ ي...       156,902,584   \n",
       "256  تـاريخ البيع - ليوم الأحد 2018/9/16 والمنفذ يو...       182,569,754   \n",
       "257  تـاريخ البيع - ليوم الأثنين 2018/9/17 والمنفذ ...       147,381,019   \n",
       "258  تـاريخ البيع - ليوم الثلاثاء 2018/9/18 والمنفذ...       104,937,400   \n",
       "259                                               3789           الـمبلغ   \n",
       "\n",
       "         total_cash      grand_total exchange_rate  \\\n",
       "255  30,800,000\\r\\n      187,702,584    علماً أن :   \n",
       "256  32,350,000\\r\\n      214,919,754    علماً أن :   \n",
       "257  38,000,000\\r\\n      185,381,019    علماً أن :   \n",
       "258  32,250,000\\r\\n      137,187,400    علماً أن :   \n",
       "259     190,058,455  35,900,000 \\r\\n    علماً أن :   \n",
       "\n",
       "                                          url  \n",
       "255  https://cbi.iq/currency_auction/view/390  \n",
       "256  https://cbi.iq/currency_auction/view/391  \n",
       "257  https://cbi.iq/currency_auction/view/392  \n",
       "258  https://cbi.iq/currency_auction/view/393  \n",
       "259  https://cbi.iq/currency_auction/view/394  "
      ]
     },
     "execution_count": 4,
     "metadata": {},
     "output_type": "execute_result"
    }
   ],
   "source": [
    "raw_data1.tail()"
   ]
  },
  {
   "cell_type": "code",
   "execution_count": 5,
   "metadata": {
    "ExecuteTime": {
     "end_time": "2019-09-13T11:40:04.209946Z",
     "start_time": "2019-09-13T11:40:04.204927Z"
    },
    "scrolled": false
   },
   "outputs": [],
   "source": [
    "# chop off last row\n",
    "raw_data1 = raw_data1.iloc[:259,]"
   ]
  },
  {
   "cell_type": "code",
   "execution_count": 6,
   "metadata": {
    "ExecuteTime": {
     "end_time": "2019-09-13T11:40:04.673587Z",
     "start_time": "2019-09-13T11:40:04.662227Z"
    }
   },
   "outputs": [
    {
     "data": {
      "text/html": [
       "<div>\n",
       "<style scoped>\n",
       "    .dataframe tbody tr th:only-of-type {\n",
       "        vertical-align: middle;\n",
       "    }\n",
       "\n",
       "    .dataframe tbody tr th {\n",
       "        vertical-align: top;\n",
       "    }\n",
       "\n",
       "    .dataframe thead th {\n",
       "        text-align: right;\n",
       "    }\n",
       "</style>\n",
       "<table border=\"1\" class=\"dataframe\">\n",
       "  <thead>\n",
       "    <tr style=\"text-align: right;\">\n",
       "      <th></th>\n",
       "      <th>date</th>\n",
       "      <th>total_for_foreign</th>\n",
       "      <th>total_cash</th>\n",
       "      <th>grand_total</th>\n",
       "      <th>exchange_rate</th>\n",
       "      <th>url</th>\n",
       "    </tr>\n",
       "  </thead>\n",
       "  <tbody>\n",
       "    <tr>\n",
       "      <th>254</th>\n",
       "      <td>تـاريخ البيع - ليوم الاربعاء 2018/9/12 والمنفذ...</td>\n",
       "      <td>174,421,480</td>\n",
       "      <td>35,100,000\\r\\n</td>\n",
       "      <td>209,521,480</td>\n",
       "      <td>علماً أن :</td>\n",
       "      <td>https://cbi.iq/currency_auction/view/389</td>\n",
       "    </tr>\n",
       "    <tr>\n",
       "      <th>255</th>\n",
       "      <td>تـاريخ البيع - ليوم الخميس 2018/9/13 والمنفذ ي...</td>\n",
       "      <td>156,902,584</td>\n",
       "      <td>30,800,000\\r\\n</td>\n",
       "      <td>187,702,584</td>\n",
       "      <td>علماً أن :</td>\n",
       "      <td>https://cbi.iq/currency_auction/view/390</td>\n",
       "    </tr>\n",
       "    <tr>\n",
       "      <th>256</th>\n",
       "      <td>تـاريخ البيع - ليوم الأحد 2018/9/16 والمنفذ يو...</td>\n",
       "      <td>182,569,754</td>\n",
       "      <td>32,350,000\\r\\n</td>\n",
       "      <td>214,919,754</td>\n",
       "      <td>علماً أن :</td>\n",
       "      <td>https://cbi.iq/currency_auction/view/391</td>\n",
       "    </tr>\n",
       "    <tr>\n",
       "      <th>257</th>\n",
       "      <td>تـاريخ البيع - ليوم الأثنين 2018/9/17 والمنفذ ...</td>\n",
       "      <td>147,381,019</td>\n",
       "      <td>38,000,000\\r\\n</td>\n",
       "      <td>185,381,019</td>\n",
       "      <td>علماً أن :</td>\n",
       "      <td>https://cbi.iq/currency_auction/view/392</td>\n",
       "    </tr>\n",
       "    <tr>\n",
       "      <th>258</th>\n",
       "      <td>تـاريخ البيع - ليوم الثلاثاء 2018/9/18 والمنفذ...</td>\n",
       "      <td>104,937,400</td>\n",
       "      <td>32,250,000\\r\\n</td>\n",
       "      <td>137,187,400</td>\n",
       "      <td>علماً أن :</td>\n",
       "      <td>https://cbi.iq/currency_auction/view/393</td>\n",
       "    </tr>\n",
       "  </tbody>\n",
       "</table>\n",
       "</div>"
      ],
      "text/plain": [
       "                                                  date total_for_foreign  \\\n",
       "254  تـاريخ البيع - ليوم الاربعاء 2018/9/12 والمنفذ...       174,421,480   \n",
       "255  تـاريخ البيع - ليوم الخميس 2018/9/13 والمنفذ ي...       156,902,584   \n",
       "256  تـاريخ البيع - ليوم الأحد 2018/9/16 والمنفذ يو...       182,569,754   \n",
       "257  تـاريخ البيع - ليوم الأثنين 2018/9/17 والمنفذ ...       147,381,019   \n",
       "258  تـاريخ البيع - ليوم الثلاثاء 2018/9/18 والمنفذ...       104,937,400   \n",
       "\n",
       "         total_cash   grand_total exchange_rate  \\\n",
       "254  35,100,000\\r\\n   209,521,480    علماً أن :   \n",
       "255  30,800,000\\r\\n   187,702,584    علماً أن :   \n",
       "256  32,350,000\\r\\n   214,919,754    علماً أن :   \n",
       "257  38,000,000\\r\\n   185,381,019    علماً أن :   \n",
       "258  32,250,000\\r\\n   137,187,400    علماً أن :   \n",
       "\n",
       "                                          url  \n",
       "254  https://cbi.iq/currency_auction/view/389  \n",
       "255  https://cbi.iq/currency_auction/view/390  \n",
       "256  https://cbi.iq/currency_auction/view/391  \n",
       "257  https://cbi.iq/currency_auction/view/392  \n",
       "258  https://cbi.iq/currency_auction/view/393  "
      ]
     },
     "execution_count": 6,
     "metadata": {},
     "output_type": "execute_result"
    }
   ],
   "source": [
    "raw_data1.tail()"
   ]
  },
  {
   "cell_type": "code",
   "execution_count": 7,
   "metadata": {
    "ExecuteTime": {
     "end_time": "2019-09-13T11:40:16.589937Z",
     "start_time": "2019-09-13T11:40:16.525643Z"
    }
   },
   "outputs": [
    {
     "data": {
      "text/html": [
       "<div>\n",
       "<style scoped>\n",
       "    .dataframe tbody tr th:only-of-type {\n",
       "        vertical-align: middle;\n",
       "    }\n",
       "\n",
       "    .dataframe tbody tr th {\n",
       "        vertical-align: top;\n",
       "    }\n",
       "\n",
       "    .dataframe thead th {\n",
       "        text-align: right;\n",
       "    }\n",
       "</style>\n",
       "<table border=\"1\" class=\"dataframe\">\n",
       "  <thead>\n",
       "    <tr style=\"text-align: right;\">\n",
       "      <th></th>\n",
       "      <th>date</th>\n",
       "      <th>total_for_foreign</th>\n",
       "      <th>total_cash</th>\n",
       "      <th>grand_total</th>\n",
       "      <th>exchange_rate</th>\n",
       "      <th>url</th>\n",
       "    </tr>\n",
       "  </thead>\n",
       "  <tbody>\n",
       "    <tr>\n",
       "      <th>254</th>\n",
       "      <td>تـاريخ البيع - ليوم الاربعاء 2018/9/12 والمنفذ...</td>\n",
       "      <td>174,421,480</td>\n",
       "      <td>35,100,000\\r\\n</td>\n",
       "      <td>209,521,480</td>\n",
       "      <td>علماً أن :</td>\n",
       "      <td>https://cbi.iq/currency_auction/view/389</td>\n",
       "    </tr>\n",
       "    <tr>\n",
       "      <th>255</th>\n",
       "      <td>تـاريخ البيع - ليوم الخميس 2018/9/13 والمنفذ ي...</td>\n",
       "      <td>156,902,584</td>\n",
       "      <td>30,800,000\\r\\n</td>\n",
       "      <td>187,702,584</td>\n",
       "      <td>علماً أن :</td>\n",
       "      <td>https://cbi.iq/currency_auction/view/390</td>\n",
       "    </tr>\n",
       "    <tr>\n",
       "      <th>256</th>\n",
       "      <td>تـاريخ البيع - ليوم الأحد 2018/9/16 والمنفذ يو...</td>\n",
       "      <td>182,569,754</td>\n",
       "      <td>32,350,000\\r\\n</td>\n",
       "      <td>214,919,754</td>\n",
       "      <td>علماً أن :</td>\n",
       "      <td>https://cbi.iq/currency_auction/view/391</td>\n",
       "    </tr>\n",
       "    <tr>\n",
       "      <th>257</th>\n",
       "      <td>تـاريخ البيع - ليوم الأثنين 2018/9/17 والمنفذ ...</td>\n",
       "      <td>147,381,019</td>\n",
       "      <td>38,000,000\\r\\n</td>\n",
       "      <td>185,381,019</td>\n",
       "      <td>علماً أن :</td>\n",
       "      <td>https://cbi.iq/currency_auction/view/392</td>\n",
       "    </tr>\n",
       "    <tr>\n",
       "      <th>258</th>\n",
       "      <td>تـاريخ البيع - ليوم الثلاثاء 2018/9/18 والمنفذ...</td>\n",
       "      <td>104,937,400</td>\n",
       "      <td>32,250,000\\r\\n</td>\n",
       "      <td>137,187,400</td>\n",
       "      <td>علماً أن :</td>\n",
       "      <td>https://cbi.iq/currency_auction/view/393</td>\n",
       "    </tr>\n",
       "  </tbody>\n",
       "</table>\n",
       "</div>"
      ],
      "text/plain": [
       "                                                  date total_for_foreign  \\\n",
       "254  تـاريخ البيع - ليوم الاربعاء 2018/9/12 والمنفذ...       174,421,480   \n",
       "255  تـاريخ البيع - ليوم الخميس 2018/9/13 والمنفذ ي...       156,902,584   \n",
       "256  تـاريخ البيع - ليوم الأحد 2018/9/16 والمنفذ يو...       182,569,754   \n",
       "257  تـاريخ البيع - ليوم الأثنين 2018/9/17 والمنفذ ...       147,381,019   \n",
       "258  تـاريخ البيع - ليوم الثلاثاء 2018/9/18 والمنفذ...       104,937,400   \n",
       "\n",
       "         total_cash   grand_total exchange_rate  \\\n",
       "254  35,100,000\\r\\n   209,521,480    علماً أن :   \n",
       "255  30,800,000\\r\\n   187,702,584    علماً أن :   \n",
       "256  32,350,000\\r\\n   214,919,754    علماً أن :   \n",
       "257  38,000,000\\r\\n   185,381,019    علماً أن :   \n",
       "258  32,250,000\\r\\n   137,187,400    علماً أن :   \n",
       "\n",
       "                                          url  \n",
       "254  https://cbi.iq/currency_auction/view/389  \n",
       "255  https://cbi.iq/currency_auction/view/390  \n",
       "256  https://cbi.iq/currency_auction/view/391  \n",
       "257  https://cbi.iq/currency_auction/view/392  \n",
       "258  https://cbi.iq/currency_auction/view/393  "
      ]
     },
     "execution_count": 7,
     "metadata": {},
     "output_type": "execute_result"
    }
   ],
   "source": [
    "# strip new lines\n",
    "raw_data1['total_for_foreign'] = raw_data1['total_for_foreign'].str.strip()\n",
    "raw_data1.tail()"
   ]
  },
  {
   "cell_type": "code",
   "execution_count": 8,
   "metadata": {
    "ExecuteTime": {
     "end_time": "2019-09-13T11:40:26.051859Z",
     "start_time": "2019-09-13T11:40:26.040071Z"
    }
   },
   "outputs": [
    {
     "data": {
      "text/html": [
       "<div>\n",
       "<style scoped>\n",
       "    .dataframe tbody tr th:only-of-type {\n",
       "        vertical-align: middle;\n",
       "    }\n",
       "\n",
       "    .dataframe tbody tr th {\n",
       "        vertical-align: top;\n",
       "    }\n",
       "\n",
       "    .dataframe thead th {\n",
       "        text-align: right;\n",
       "    }\n",
       "</style>\n",
       "<table border=\"1\" class=\"dataframe\">\n",
       "  <thead>\n",
       "    <tr style=\"text-align: right;\">\n",
       "      <th></th>\n",
       "      <th>date</th>\n",
       "      <th>total_for_foreign</th>\n",
       "      <th>total_cash</th>\n",
       "      <th>grand_total</th>\n",
       "      <th>exchange_rate</th>\n",
       "      <th>url</th>\n",
       "    </tr>\n",
       "  </thead>\n",
       "  <tbody>\n",
       "    <tr>\n",
       "      <th>254</th>\n",
       "      <td>تـاريخ البيع - ليوم الاربعاء 2018/9/12 والمنفذ...</td>\n",
       "      <td>174,421,480</td>\n",
       "      <td>35,100,000</td>\n",
       "      <td>209,521,480</td>\n",
       "      <td>علماً أن :</td>\n",
       "      <td>https://cbi.iq/currency_auction/view/389</td>\n",
       "    </tr>\n",
       "    <tr>\n",
       "      <th>255</th>\n",
       "      <td>تـاريخ البيع - ليوم الخميس 2018/9/13 والمنفذ ي...</td>\n",
       "      <td>156,902,584</td>\n",
       "      <td>30,800,000</td>\n",
       "      <td>187,702,584</td>\n",
       "      <td>علماً أن :</td>\n",
       "      <td>https://cbi.iq/currency_auction/view/390</td>\n",
       "    </tr>\n",
       "    <tr>\n",
       "      <th>256</th>\n",
       "      <td>تـاريخ البيع - ليوم الأحد 2018/9/16 والمنفذ يو...</td>\n",
       "      <td>182,569,754</td>\n",
       "      <td>32,350,000</td>\n",
       "      <td>214,919,754</td>\n",
       "      <td>علماً أن :</td>\n",
       "      <td>https://cbi.iq/currency_auction/view/391</td>\n",
       "    </tr>\n",
       "    <tr>\n",
       "      <th>257</th>\n",
       "      <td>تـاريخ البيع - ليوم الأثنين 2018/9/17 والمنفذ ...</td>\n",
       "      <td>147,381,019</td>\n",
       "      <td>38,000,000</td>\n",
       "      <td>185,381,019</td>\n",
       "      <td>علماً أن :</td>\n",
       "      <td>https://cbi.iq/currency_auction/view/392</td>\n",
       "    </tr>\n",
       "    <tr>\n",
       "      <th>258</th>\n",
       "      <td>تـاريخ البيع - ليوم الثلاثاء 2018/9/18 والمنفذ...</td>\n",
       "      <td>104,937,400</td>\n",
       "      <td>32,250,000</td>\n",
       "      <td>137,187,400</td>\n",
       "      <td>علماً أن :</td>\n",
       "      <td>https://cbi.iq/currency_auction/view/393</td>\n",
       "    </tr>\n",
       "  </tbody>\n",
       "</table>\n",
       "</div>"
      ],
      "text/plain": [
       "                                                  date total_for_foreign  \\\n",
       "254  تـاريخ البيع - ليوم الاربعاء 2018/9/12 والمنفذ...       174,421,480   \n",
       "255  تـاريخ البيع - ليوم الخميس 2018/9/13 والمنفذ ي...       156,902,584   \n",
       "256  تـاريخ البيع - ليوم الأحد 2018/9/16 والمنفذ يو...       182,569,754   \n",
       "257  تـاريخ البيع - ليوم الأثنين 2018/9/17 والمنفذ ...       147,381,019   \n",
       "258  تـاريخ البيع - ليوم الثلاثاء 2018/9/18 والمنفذ...       104,937,400   \n",
       "\n",
       "     total_cash   grand_total exchange_rate  \\\n",
       "254  35,100,000   209,521,480    علماً أن :   \n",
       "255  30,800,000   187,702,584    علماً أن :   \n",
       "256  32,350,000   214,919,754    علماً أن :   \n",
       "257  38,000,000   185,381,019    علماً أن :   \n",
       "258  32,250,000   137,187,400    علماً أن :   \n",
       "\n",
       "                                          url  \n",
       "254  https://cbi.iq/currency_auction/view/389  \n",
       "255  https://cbi.iq/currency_auction/view/390  \n",
       "256  https://cbi.iq/currency_auction/view/391  \n",
       "257  https://cbi.iq/currency_auction/view/392  \n",
       "258  https://cbi.iq/currency_auction/view/393  "
      ]
     },
     "execution_count": 8,
     "metadata": {},
     "output_type": "execute_result"
    }
   ],
   "source": [
    "raw_data1['total_cash'] = raw_data1['total_cash'].str.strip()\n",
    "raw_data1.tail()"
   ]
  },
  {
   "cell_type": "code",
   "execution_count": 9,
   "metadata": {
    "ExecuteTime": {
     "end_time": "2019-09-13T11:40:28.599535Z",
     "start_time": "2019-09-13T11:40:28.584067Z"
    }
   },
   "outputs": [
    {
     "data": {
      "text/html": [
       "<div>\n",
       "<style scoped>\n",
       "    .dataframe tbody tr th:only-of-type {\n",
       "        vertical-align: middle;\n",
       "    }\n",
       "\n",
       "    .dataframe tbody tr th {\n",
       "        vertical-align: top;\n",
       "    }\n",
       "\n",
       "    .dataframe thead th {\n",
       "        text-align: right;\n",
       "    }\n",
       "</style>\n",
       "<table border=\"1\" class=\"dataframe\">\n",
       "  <thead>\n",
       "    <tr style=\"text-align: right;\">\n",
       "      <th></th>\n",
       "      <th>date</th>\n",
       "      <th>total_for_foreign</th>\n",
       "      <th>total_cash</th>\n",
       "      <th>grand_total</th>\n",
       "      <th>exchange_rate</th>\n",
       "      <th>url</th>\n",
       "    </tr>\n",
       "  </thead>\n",
       "  <tbody>\n",
       "    <tr>\n",
       "      <th>254</th>\n",
       "      <td>تـاريخ البيع - ليوم الاربعاء 2018/9/12 والمنفذ...</td>\n",
       "      <td>174,421,480</td>\n",
       "      <td>35,100,000</td>\n",
       "      <td>209,521,480</td>\n",
       "      <td>علماً أن :</td>\n",
       "      <td>https://cbi.iq/currency_auction/view/389</td>\n",
       "    </tr>\n",
       "    <tr>\n",
       "      <th>255</th>\n",
       "      <td>تـاريخ البيع - ليوم الخميس 2018/9/13 والمنفذ ي...</td>\n",
       "      <td>156,902,584</td>\n",
       "      <td>30,800,000</td>\n",
       "      <td>187,702,584</td>\n",
       "      <td>علماً أن :</td>\n",
       "      <td>https://cbi.iq/currency_auction/view/390</td>\n",
       "    </tr>\n",
       "    <tr>\n",
       "      <th>256</th>\n",
       "      <td>تـاريخ البيع - ليوم الأحد 2018/9/16 والمنفذ يو...</td>\n",
       "      <td>182,569,754</td>\n",
       "      <td>32,350,000</td>\n",
       "      <td>214,919,754</td>\n",
       "      <td>علماً أن :</td>\n",
       "      <td>https://cbi.iq/currency_auction/view/391</td>\n",
       "    </tr>\n",
       "    <tr>\n",
       "      <th>257</th>\n",
       "      <td>تـاريخ البيع - ليوم الأثنين 2018/9/17 والمنفذ ...</td>\n",
       "      <td>147,381,019</td>\n",
       "      <td>38,000,000</td>\n",
       "      <td>185,381,019</td>\n",
       "      <td>علماً أن :</td>\n",
       "      <td>https://cbi.iq/currency_auction/view/392</td>\n",
       "    </tr>\n",
       "    <tr>\n",
       "      <th>258</th>\n",
       "      <td>تـاريخ البيع - ليوم الثلاثاء 2018/9/18 والمنفذ...</td>\n",
       "      <td>104,937,400</td>\n",
       "      <td>32,250,000</td>\n",
       "      <td>137,187,400</td>\n",
       "      <td>علماً أن :</td>\n",
       "      <td>https://cbi.iq/currency_auction/view/393</td>\n",
       "    </tr>\n",
       "  </tbody>\n",
       "</table>\n",
       "</div>"
      ],
      "text/plain": [
       "                                                  date total_for_foreign  \\\n",
       "254  تـاريخ البيع - ليوم الاربعاء 2018/9/12 والمنفذ...       174,421,480   \n",
       "255  تـاريخ البيع - ليوم الخميس 2018/9/13 والمنفذ ي...       156,902,584   \n",
       "256  تـاريخ البيع - ليوم الأحد 2018/9/16 والمنفذ يو...       182,569,754   \n",
       "257  تـاريخ البيع - ليوم الأثنين 2018/9/17 والمنفذ ...       147,381,019   \n",
       "258  تـاريخ البيع - ليوم الثلاثاء 2018/9/18 والمنفذ...       104,937,400   \n",
       "\n",
       "     total_cash  grand_total exchange_rate  \\\n",
       "254  35,100,000  209,521,480    علماً أن :   \n",
       "255  30,800,000  187,702,584    علماً أن :   \n",
       "256  32,350,000  214,919,754    علماً أن :   \n",
       "257  38,000,000  185,381,019    علماً أن :   \n",
       "258  32,250,000  137,187,400    علماً أن :   \n",
       "\n",
       "                                          url  \n",
       "254  https://cbi.iq/currency_auction/view/389  \n",
       "255  https://cbi.iq/currency_auction/view/390  \n",
       "256  https://cbi.iq/currency_auction/view/391  \n",
       "257  https://cbi.iq/currency_auction/view/392  \n",
       "258  https://cbi.iq/currency_auction/view/393  "
      ]
     },
     "execution_count": 9,
     "metadata": {},
     "output_type": "execute_result"
    }
   ],
   "source": [
    "raw_data1['grand_total'] = raw_data1['grand_total'].str.strip()\n",
    "raw_data1.tail()"
   ]
  },
  {
   "cell_type": "code",
   "execution_count": 10,
   "metadata": {
    "ExecuteTime": {
     "end_time": "2019-09-13T11:40:36.725955Z",
     "start_time": "2019-09-13T11:40:36.711923Z"
    }
   },
   "outputs": [],
   "source": [
    "# now to remove the commas and convert to int\n",
    "raw_data1['total_for_foreign'] = raw_data1.total_for_foreign.str.replace(',','')\n",
    "raw_data1['total_for_foreign'] = pd.to_numeric(raw_data1.total_for_foreign,errors='coerce')"
   ]
  },
  {
   "cell_type": "code",
   "execution_count": 11,
   "metadata": {
    "ExecuteTime": {
     "end_time": "2019-09-13T11:40:37.883661Z",
     "start_time": "2019-09-13T11:40:37.878937Z"
    }
   },
   "outputs": [],
   "source": [
    "raw_data1['total_cash'] = pd.to_numeric(raw_data1.total_cash.str.replace(',',''), errors='coerce')"
   ]
  },
  {
   "cell_type": "code",
   "execution_count": 12,
   "metadata": {
    "ExecuteTime": {
     "end_time": "2019-09-13T11:40:38.937450Z",
     "start_time": "2019-09-13T11:40:38.922827Z"
    }
   },
   "outputs": [
    {
     "name": "stdout",
     "output_type": "stream",
     "text": [
      "<class 'pandas.core.frame.DataFrame'>\n",
      "RangeIndex: 259 entries, 0 to 258\n",
      "Data columns (total 6 columns):\n",
      "date                 259 non-null object\n",
      "total_for_foreign    254 non-null float64\n",
      "total_cash           254 non-null float64\n",
      "grand_total          232 non-null float64\n",
      "exchange_rate        259 non-null object\n",
      "url                  259 non-null object\n",
      "dtypes: float64(3), object(3)\n",
      "memory usage: 12.2+ KB\n"
     ]
    }
   ],
   "source": [
    "raw_data1['grand_total'] = pd.to_numeric(raw_data1.grand_total.str.replace(',',''), errors='coerce')\n",
    "\n",
    "raw_data1.info()"
   ]
  },
  {
   "cell_type": "code",
   "execution_count": 13,
   "metadata": {
    "ExecuteTime": {
     "end_time": "2019-09-13T11:40:47.756543Z",
     "start_time": "2019-09-13T11:40:47.727917Z"
    }
   },
   "outputs": [
    {
     "data": {
      "text/html": [
       "<div>\n",
       "<style scoped>\n",
       "    .dataframe tbody tr th:only-of-type {\n",
       "        vertical-align: middle;\n",
       "    }\n",
       "\n",
       "    .dataframe tbody tr th {\n",
       "        vertical-align: top;\n",
       "    }\n",
       "\n",
       "    .dataframe thead th {\n",
       "        text-align: right;\n",
       "    }\n",
       "</style>\n",
       "<table border=\"1\" class=\"dataframe\">\n",
       "  <thead>\n",
       "    <tr style=\"text-align: right;\">\n",
       "      <th></th>\n",
       "      <th>date</th>\n",
       "      <th>total_for_foreign</th>\n",
       "      <th>total_cash</th>\n",
       "      <th>grand_total</th>\n",
       "      <th>exchange_rate</th>\n",
       "      <th>url</th>\n",
       "    </tr>\n",
       "  </thead>\n",
       "  <tbody>\n",
       "    <tr>\n",
       "      <th>254</th>\n",
       "      <td>تـاريخ البيع - ليوم الاربعاء 2018/9/12 والمنفذ...</td>\n",
       "      <td>174421480.0</td>\n",
       "      <td>35100000.0</td>\n",
       "      <td>209521480.0</td>\n",
       "      <td>علماً أن :</td>\n",
       "      <td>https://cbi.iq/currency_auction/view/389</td>\n",
       "    </tr>\n",
       "    <tr>\n",
       "      <th>255</th>\n",
       "      <td>تـاريخ البيع - ليوم الخميس 2018/9/13 والمنفذ ي...</td>\n",
       "      <td>156902584.0</td>\n",
       "      <td>30800000.0</td>\n",
       "      <td>187702584.0</td>\n",
       "      <td>علماً أن :</td>\n",
       "      <td>https://cbi.iq/currency_auction/view/390</td>\n",
       "    </tr>\n",
       "    <tr>\n",
       "      <th>256</th>\n",
       "      <td>تـاريخ البيع - ليوم الأحد 2018/9/16 والمنفذ يو...</td>\n",
       "      <td>182569754.0</td>\n",
       "      <td>32350000.0</td>\n",
       "      <td>214919754.0</td>\n",
       "      <td>علماً أن :</td>\n",
       "      <td>https://cbi.iq/currency_auction/view/391</td>\n",
       "    </tr>\n",
       "    <tr>\n",
       "      <th>257</th>\n",
       "      <td>تـاريخ البيع - ليوم الأثنين 2018/9/17 والمنفذ ...</td>\n",
       "      <td>147381019.0</td>\n",
       "      <td>38000000.0</td>\n",
       "      <td>185381019.0</td>\n",
       "      <td>علماً أن :</td>\n",
       "      <td>https://cbi.iq/currency_auction/view/392</td>\n",
       "    </tr>\n",
       "    <tr>\n",
       "      <th>258</th>\n",
       "      <td>تـاريخ البيع - ليوم الثلاثاء 2018/9/18 والمنفذ...</td>\n",
       "      <td>104937400.0</td>\n",
       "      <td>32250000.0</td>\n",
       "      <td>137187400.0</td>\n",
       "      <td>علماً أن :</td>\n",
       "      <td>https://cbi.iq/currency_auction/view/393</td>\n",
       "    </tr>\n",
       "  </tbody>\n",
       "</table>\n",
       "</div>"
      ],
      "text/plain": [
       "                                                  date  total_for_foreign  \\\n",
       "254  تـاريخ البيع - ليوم الاربعاء 2018/9/12 والمنفذ...        174421480.0   \n",
       "255  تـاريخ البيع - ليوم الخميس 2018/9/13 والمنفذ ي...        156902584.0   \n",
       "256  تـاريخ البيع - ليوم الأحد 2018/9/16 والمنفذ يو...        182569754.0   \n",
       "257  تـاريخ البيع - ليوم الأثنين 2018/9/17 والمنفذ ...        147381019.0   \n",
       "258  تـاريخ البيع - ليوم الثلاثاء 2018/9/18 والمنفذ...        104937400.0   \n",
       "\n",
       "     total_cash  grand_total exchange_rate  \\\n",
       "254  35100000.0  209521480.0    علماً أن :   \n",
       "255  30800000.0  187702584.0    علماً أن :   \n",
       "256  32350000.0  214919754.0    علماً أن :   \n",
       "257  38000000.0  185381019.0    علماً أن :   \n",
       "258  32250000.0  137187400.0    علماً أن :   \n",
       "\n",
       "                                          url  \n",
       "254  https://cbi.iq/currency_auction/view/389  \n",
       "255  https://cbi.iq/currency_auction/view/390  \n",
       "256  https://cbi.iq/currency_auction/view/391  \n",
       "257  https://cbi.iq/currency_auction/view/392  \n",
       "258  https://cbi.iq/currency_auction/view/393  "
      ]
     },
     "execution_count": 13,
     "metadata": {},
     "output_type": "execute_result"
    }
   ],
   "source": [
    "raw_data1.tail()"
   ]
  },
  {
   "cell_type": "code",
   "execution_count": 22,
   "metadata": {
    "ExecuteTime": {
     "end_time": "2019-09-13T11:46:52.933515Z",
     "start_time": "2019-09-13T11:46:52.889365Z"
    }
   },
   "outputs": [],
   "source": [
    "# output CSV with cleaned columns\n",
    "raw_data1.to_csv('range1_cleaned.csv',index=False)"
   ]
  },
  {
   "cell_type": "markdown",
   "metadata": {},
   "source": [
    "### Determining next range"
   ]
  },
  {
   "cell_type": "code",
   "execution_count": 25,
   "metadata": {
    "ExecuteTime": {
     "end_time": "2019-09-13T11:49:33.745623Z",
     "start_time": "2019-09-13T11:49:32.218819Z"
    }
   },
   "outputs": [
    {
     "name": "stdout",
     "output_type": "stream",
     "text": [
      "page 394\n",
      "https://cbi.iq/currency_auction/view/394\n"
     ]
    }
   ],
   "source": [
    "# Starts at 394, but doesn't go all the way to 643.\n",
    "# In fact, appears to change multiple times between 394 and 643\n",
    "\n",
    "for page in range(394, 395):\n",
    "    print('page {}'.format(page))\n",
    "    # piece together each unique URL\n",
    "    whole_url = partial_url + str(page)\n",
    "    print(whole_url)\n",
    "\n",
    "    page = requests.get(whole_url, headers=headers, timeout=500)\n",
    "    soup = BeautifulSoup(page.content, \"html.parser\")\n",
    "\n",
    "    info = soup.find_all(\n",
    "        'span', attrs={\"style\": \"font-family:Arial,Helvetica,sans-serif\"})\n",
    "\n",
    "    data = [i.text for i in info]\n",
    "\n",
    "    time.sleep(0.5)"
   ]
  },
  {
   "cell_type": "code",
   "execution_count": 27,
   "metadata": {
    "ExecuteTime": {
     "end_time": "2019-09-13T11:49:48.158789Z",
     "start_time": "2019-09-13T11:49:48.154348Z"
    }
   },
   "outputs": [
    {
     "name": "stdout",
     "output_type": "stream",
     "text": [
      "['إعلان رقم (', '3789', ')', 'تـاريخ البيع - ليوم الأربعاء 2018/9/19 والمنفذ يوم الثلاثاء 2018/9/18\\xa0 ', 'التفاصيل ', '    الـمبلغ', 'اجمالي البيع لأغراض تعزيز الارصدة في الخارج (حوالات،إعتمادات)', '190,058,455', 'اجمالي البيع النقدي', '35,900,000 \\r\\n', 'اجمالي المبيعات الكلية', ' 225,958,455', 'علماً أن :', 'سعر بيع المبالغ المحولة لحسابات المصارف في الخارج (1190)\\xa0دينار لكل دولار.', 'سعر البيع النقدي (1190)\\xa0دينارلكل دولار.']\n"
     ]
    }
   ],
   "source": [
    "print(data)"
   ]
  },
  {
   "cell_type": "code",
   "execution_count": 41,
   "metadata": {
    "ExecuteTime": {
     "end_time": "2019-09-13T11:52:13.097897Z",
     "start_time": "2019-09-13T11:52:13.091736Z"
    }
   },
   "outputs": [
    {
     "name": "stdout",
     "output_type": "stream",
     "text": [
      "تـاريخ البيع - ليوم الأربعاء 2018/9/19 والمنفذ يوم الثلاثاء 2018/9/18  \n",
      "190,058,455\n",
      "35,900,000 \r\n",
      "\n",
      " 225,958,455\n",
      "سعر البيع النقدي (1190) دينارلكل دولار.\n"
     ]
    }
   ],
   "source": [
    "# get date    \n",
    "print(data[3])\n",
    "# get total_for_foreign\n",
    "print(data[7])\n",
    "# # get total_cash\n",
    "print(data[9])\n",
    "# # get grand_total\n",
    "print(data[11])\n",
    "# # get exchange_rate\n",
    "print(data[14])"
   ]
  },
  {
   "cell_type": "code",
   "execution_count": 45,
   "metadata": {
    "ExecuteTime": {
     "end_time": "2019-09-13T12:03:10.543734Z",
     "start_time": "2019-09-13T12:02:53.762910Z"
    }
   },
   "outputs": [
    {
     "name": "stdout",
     "output_type": "stream",
     "text": [
      "page 494\n",
      "https://cbi.iq/currency_auction/view/494\n",
      "تـاريخ البيع - ليوم الأربعاء 2019/2/6 والمنفذ يوم الثلاثاء 2019/2/5  \n",
      "120,429,996\n",
      "25,440,000\n",
      "145,869,996\n",
      "سعر البيع النقدي (1190) دينارلكل دولار.\n",
      "page 495\n",
      "https://cbi.iq/currency_auction/view/495\n",
      "تـاريخ البيع - ليوم الخميس 2019/2/7 والمنفذ يوم الأربعاء 2019/2/6  \n",
      "115,199,380\n",
      "18,110,000\n",
      "133,309,380\n",
      "سعر البيع النقدي (1190) دينارلكل دولار.\n",
      "page 496\n",
      "https://cbi.iq/currency_auction/view/496\n",
      "تـاريخ البيع - ليوم الاحد 2019/2/10 والمنفذ يوم الخميس 2019/2/7  \n",
      "117,261,040\n",
      "19,690,000\n",
      "136,951,040\n",
      "سعر البيع النقدي (1190) دينارلكل دولار.\n",
      "page 497\n",
      "https://cbi.iq/currency_auction/view/497\n",
      "تـاريخ البيع - ليوم الأثنين 2019/2/11 والمنفذ يوم الأحد 2019/2/10  \n",
      "131,618,629\n",
      "26,750,000\n",
      "158,368,629\n",
      "سعر البيع النقدي (1190) دينارلكل دولار.\n",
      "page 498\n",
      "https://cbi.iq/currency_auction/view/498\n",
      "تـاريخ البيع - ليوم الثلاثاء 2019/2/12 والمنفذ يوم الأثنين 2019/2/11  \n",
      "122,956,661\n",
      "24,000,000\n",
      "146,956,661\n",
      "سعر البيع النقدي (1190) دينارلكل دولار.\n",
      "page 499\n",
      "https://cbi.iq/currency_auction/view/499\n",
      "تـاريخ البيع - ليوم الأربعاء 2019/2/13 والمنفذ يوم الثلاثاء 2019/2/12  \n",
      "150,661,615\n",
      "24,120,000\n",
      "174,781,615\n",
      "سعر البيع النقدي (1190) دينارلكل دولار.\n",
      "page 500\n",
      "https://cbi.iq/currency_auction/view/500\n",
      "تـاريخ البيع - ليوم الخميس 2019/2/14 والمنفذ يوم \n",
      "اجمالي البيع لأغراض تعزيز الارصدة في الخارج (حوالات،إعتمادات)\n",
      "اجمالي البيع النقدي\n",
      "اجمالي المبيعات الكلية\n",
      "سعر بيع المبالغ المحولة لحسابات المصارف في الخارج (1190) دينار لكل دولار.\n",
      "page 501\n",
      "https://cbi.iq/currency_auction/view/501\n",
      "تـاريخ البيع - ليوم الأحد 2019/2/17 والمنفذ يوم الخميس\n",
      "اجمالي البيع لأغراض تعزيز الارصدة في الخارج (حوالات،إعتمادات)\n",
      "اجمالي البيع النقدي\n",
      "اجمالي المبيعات الكلية\n",
      "سعر بيع المبالغ المحولة لحسابات المصارف في الخارج (1190) دينار لكل دولار.\n",
      "page 502\n",
      "https://cbi.iq/currency_auction/view/502\n",
      "تـاريخ البيع - ليوم الأثنين 2019/2/18 والمنفذ يوم الأحد 2019/2/17  \n",
      "157,742,129\n",
      "26,760,000\n",
      "184,502,129\n",
      "سعر البيع النقدي (1190) دينارلكل دولار.\n",
      "page 503\n",
      "https://cbi.iq/currency_auction/view/503\n",
      "تـاريخ البيع - ليوم الثلاثاء 2019/2/19 والمنفذ يوم الأثنين 2019/2/18  \n",
      "151,241,366\n",
      "23,230,000\n",
      "174,471,366\n",
      "سعر البيع النقدي (1190) دينارلكل دولار.\n"
     ]
    }
   ],
   "source": [
    "n = 494\n",
    "for page in range(n, n+10):\n",
    "    print('page {}'.format(page))\n",
    "    # piece together each unique URL\n",
    "    whole_url = partial_url + str(page)\n",
    "    print(whole_url)\n",
    "\n",
    "    page = requests.get(whole_url, headers=headers, timeout=500)\n",
    "    soup = BeautifulSoup(page.content, \"html.parser\")\n",
    "\n",
    "    info = soup.find_all(\n",
    "        'span', attrs={\"style\": \"font-family:Arial,Helvetica,sans-serif\"})\n",
    "\n",
    "    data = [i.text for i in info]\n",
    "\n",
    "    time.sleep(0.5)\n",
    "\n",
    "\n",
    "    # get date    \n",
    "    print(data[3])\n",
    "    # get total_for_foreign\n",
    "    print(data[7])\n",
    "    # # get total_cash\n",
    "    print(data[9])\n",
    "    # # get grand_total\n",
    "    print(data[11])\n",
    "    # # get exchange_rate\n",
    "    print(data[14])"
   ]
  },
  {
   "cell_type": "code",
   "execution_count": 48,
   "metadata": {
    "ExecuteTime": {
     "end_time": "2019-09-13T12:05:28.455995Z",
     "start_time": "2019-09-13T12:05:14.805768Z"
    }
   },
   "outputs": [
    {
     "name": "stdout",
     "output_type": "stream",
     "text": [
      "page 620\n",
      "https://cbi.iq/currency_auction/view/620\n",
      "تـاريخ البيع - ليوم الأثنين 2019/8/5 والمنفذ يوم الأحد 2019/8/4  \n",
      "199,459,242\n",
      "28,360,000\n",
      "227,819,242\n",
      "سعر البيع النقدي (1190) دينارلكل دولار.\n",
      "page 622\n",
      "https://cbi.iq/currency_auction/view/622\n",
      "تـاريخ البيع - ليوم الأربعاء 2019/8/7 والمنفذ يوم الثلاثاء 2019/8/6  \n",
      "204,386,646\n",
      "22,760,000\n",
      "227,146,646\n",
      "سعر البيع النقدي (1190) دينارلكل دولار.\n",
      "page 624\n",
      "https://cbi.iq/currency_auction/view/624\n",
      "تـاريخ البيع - ليوم الأحد 2019/8/18 والمنفذ يوم الخميس 2019/8/8  \n",
      "135,880,500\n",
      "19,290,000\n",
      "155,170,500\n",
      "سعر البيع النقدي (1190) دينارلكل دولار.\n",
      "page 626\n",
      "https://cbi.iq/currency_auction/view/626\n",
      "تـاريخ البيع - ليوم الثلاثاء 2019/8/20 والمنفذ يوم الأثنين 2019/8/19  \n",
      "143,473,309\n",
      "20,180,000\n",
      "163,653,309\n",
      "سعر البيع النقدي (1190) دينارلكل دولار.\n",
      "page 628\n",
      "https://cbi.iq/currency_auction/view/628\n",
      "تـاريخ البيع - ليوم الخميس 2019/8/22 والمنفذ يوم الأربعاء 2019/8/21  \n",
      "187,149,922\n",
      "24,470,000\n",
      "211,619,922\n",
      "سعر البيع النقدي (1190) دينارلكل دولار.\n",
      "page 630\n",
      "https://cbi.iq/currency_auction/view/630\n",
      "تـاريخ البيع - ليوم الأثنين 2019/8/26 والمنفذ يوم الأحد 2019/8/25  \n",
      "210,288,945\n",
      "26,420,000\n",
      "236,708,945\n",
      "سعر البيع النقدي (1190) دينارلكل دولار.\n",
      "page 632\n",
      "https://cbi.iq/currency_auction/view/632\n",
      "تـاريخ البيع - ليوم الأربعاء 2019/8/28 والمنفذ يوم الثلاثاء 2019/8/27  \n",
      "240,141,196\n",
      "24,950,000\n",
      "265,091,196\n",
      "سعر البيع النقدي (1190) دينارلكل دولار.\n",
      "page 634\n",
      "https://cbi.iq/currency_auction/view/634\n",
      "تـاريخ البيع - ليوم الأحد 2019/9/1 والمنفذ يوم الخميس 2019/8/29  \n",
      "204,228,628\n",
      "18,700,000\n",
      "222,928,628\n",
      "سعر البيع النقدي (1190) دينارلكل دولار.\n",
      "page 636\n",
      "https://cbi.iq/currency_auction/view/636\n",
      "تـاريخ البيع - ليوم الثلاثاء 2019/9/3 والمنفذ يوم الأثنين 2019/9/2  \n",
      "207,290,570\n",
      "20,220,000\n",
      "227,510,570\n",
      "سعر البيع النقدي (1190) دينارلكل دولار.\n",
      "page 638\n",
      "https://cbi.iq/currency_auction/view/638\n",
      "تـاريخ البيع - ليوم الخميس 2019/9/5 والمنفذ يوم الأربعاء 2019/9/4  \n",
      "210,967,957\n",
      "21,210,000\n",
      "232,177,957\n",
      "سعر البيع النقدي (1190) دينارلكل دولار.\n"
     ]
    }
   ],
   "source": [
    "n = 620\n",
    "for page in range(n, n+20,2):\n",
    "    print('page {}'.format(page))\n",
    "    # piece together each unique URL\n",
    "    whole_url = partial_url + str(page)\n",
    "    print(whole_url)\n",
    "\n",
    "    page = requests.get(whole_url, headers=headers, timeout=500)\n",
    "    soup = BeautifulSoup(page.content, \"html.parser\")\n",
    "\n",
    "    info = soup.find_all(\n",
    "        'span', attrs={\"style\": \"font-family:Arial,Helvetica,sans-serif\"})\n",
    "\n",
    "    data = [i.text for i in info]\n",
    "\n",
    "    time.sleep(0.5)\n",
    "\n",
    "\n",
    "    # get date    \n",
    "    print(data[3])\n",
    "    # get total_for_foreign\n",
    "    print(data[7])\n",
    "    # # get total_cash\n",
    "    print(data[9])\n",
    "    # # get grand_total\n",
    "    print(data[11])\n",
    "    # # get exchange_rate\n",
    "    print(data[14])"
   ]
  },
  {
   "cell_type": "markdown",
   "metadata": {},
   "source": [
    "Determination was that the range from 394 to 643 had a few gaps, but was otherwise standard"
   ]
  },
  {
   "cell_type": "code",
   "execution_count": 49,
   "metadata": {
    "ExecuteTime": {
     "end_time": "2019-09-14T01:08:08.482004Z",
     "start_time": "2019-09-14T01:08:08.154538Z"
    }
   },
   "outputs": [
    {
     "name": "stdout",
     "output_type": "stream",
     "text": [
      "124_394.csv        CBI_Project.ipynb  range1_cleaned.csv scraper_range2.py\r\n",
      "394_643.csv        README.md          scraper124394.py\r\n"
     ]
    }
   ],
   "source": [
    "!ls"
   ]
  },
  {
   "cell_type": "markdown",
   "metadata": {},
   "source": [
    "#### Cleaning 394-643"
   ]
  },
  {
   "cell_type": "code",
   "execution_count": 54,
   "metadata": {
    "ExecuteTime": {
     "end_time": "2019-09-14T01:09:23.399905Z",
     "start_time": "2019-09-14T01:09:23.387922Z"
    }
   },
   "outputs": [
    {
     "name": "stdout",
     "output_type": "stream",
     "text": [
      "<class 'pandas.core.frame.DataFrame'>\n",
      "RangeIndex: 248 entries, 0 to 247\n",
      "Data columns (total 6 columns):\n",
      "date                 248 non-null object\n",
      "total_for_foreign    248 non-null object\n",
      "total_cash           248 non-null object\n",
      "grand_total          248 non-null object\n",
      "exchange_rate        248 non-null object\n",
      "url                  248 non-null object\n",
      "dtypes: object(6)\n",
      "memory usage: 11.7+ KB\n"
     ]
    }
   ],
   "source": [
    "raw_data2 = pd.read_csv('394_643.csv')\n",
    "raw_data2.info()"
   ]
  },
  {
   "cell_type": "code",
   "execution_count": 59,
   "metadata": {
    "ExecuteTime": {
     "end_time": "2019-09-14T01:14:14.725397Z",
     "start_time": "2019-09-14T01:14:14.714510Z"
    }
   },
   "outputs": [],
   "source": [
    "raw_data2['total_for_foreign'] = raw_data2['total_for_foreign'].str.strip()\n",
    "raw_data2['total_cash'] = raw_data2['total_cash'].str.strip()\n",
    "raw_data2['grand_total'] = raw_data2['grand_total'].str.strip()"
   ]
  },
  {
   "cell_type": "code",
   "execution_count": 60,
   "metadata": {
    "ExecuteTime": {
     "end_time": "2019-09-14T01:14:20.125331Z",
     "start_time": "2019-09-14T01:14:20.113162Z"
    }
   },
   "outputs": [
    {
     "data": {
      "text/html": [
       "<div>\n",
       "<style scoped>\n",
       "    .dataframe tbody tr th:only-of-type {\n",
       "        vertical-align: middle;\n",
       "    }\n",
       "\n",
       "    .dataframe tbody tr th {\n",
       "        vertical-align: top;\n",
       "    }\n",
       "\n",
       "    .dataframe thead th {\n",
       "        text-align: right;\n",
       "    }\n",
       "</style>\n",
       "<table border=\"1\" class=\"dataframe\">\n",
       "  <thead>\n",
       "    <tr style=\"text-align: right;\">\n",
       "      <th></th>\n",
       "      <th>date</th>\n",
       "      <th>total_for_foreign</th>\n",
       "      <th>total_cash</th>\n",
       "      <th>grand_total</th>\n",
       "      <th>exchange_rate</th>\n",
       "      <th>url</th>\n",
       "    </tr>\n",
       "  </thead>\n",
       "  <tbody>\n",
       "    <tr>\n",
       "      <th>0</th>\n",
       "      <td>تـاريخ البيع - ليوم الأربعاء 2018/9/19 والمنفذ...</td>\n",
       "      <td>190,058,455</td>\n",
       "      <td>35,900,000</td>\n",
       "      <td>225,958,455</td>\n",
       "      <td>سعر البيع النقدي (1190) دينارلكل دولار.</td>\n",
       "      <td>https://cbi.iq/currency_auction/view/394</td>\n",
       "    </tr>\n",
       "    <tr>\n",
       "      <th>1</th>\n",
       "      <td>تـاريخ البيع - ليوم الخميس 2018/9/20 والمنفذ ي...</td>\n",
       "      <td>166,793,767</td>\n",
       "      <td>31,800,000</td>\n",
       "      <td>198,593,767</td>\n",
       "      <td>سعر البيع النقدي (1190) دينارلكل دولار.</td>\n",
       "      <td>https://cbi.iq/currency_auction/view/395</td>\n",
       "    </tr>\n",
       "    <tr>\n",
       "      <th>2</th>\n",
       "      <td>تـاريخ البيع - ليوم الأحد 2018/9/23 والمنفذ يو...</td>\n",
       "      <td>175,348,374</td>\n",
       "      <td>32,900,000</td>\n",
       "      <td></td>\n",
       "      <td>سعر بيع المبالغ المحولة لحسابات المصارف في الخ...</td>\n",
       "      <td>https://cbi.iq/currency_auction/view/396</td>\n",
       "    </tr>\n",
       "    <tr>\n",
       "      <th>3</th>\n",
       "      <td>تـاريخ البيع - ليوم الأثنين 2018/9/24 والمنفذ ...</td>\n",
       "      <td>174,865,770</td>\n",
       "      <td>38,200,000</td>\n",
       "      <td>213,065,770</td>\n",
       "      <td>سعر البيع النقدي (1190) دينارلكل دولار.</td>\n",
       "      <td>https://cbi.iq/currency_auction/view/397</td>\n",
       "    </tr>\n",
       "    <tr>\n",
       "      <th>4</th>\n",
       "      <td>تـاريخ البيع - ليوم الثلاثاء 2018/9/25 والمنفذ...</td>\n",
       "      <td>167,674,850</td>\n",
       "      <td>34,450,000</td>\n",
       "      <td>202,124,850</td>\n",
       "      <td>سعر البيع النقدي (1190) دينارلكل دولار.</td>\n",
       "      <td>https://cbi.iq/currency_auction/view/398</td>\n",
       "    </tr>\n",
       "  </tbody>\n",
       "</table>\n",
       "</div>"
      ],
      "text/plain": [
       "                                                date total_for_foreign  \\\n",
       "0  تـاريخ البيع - ليوم الأربعاء 2018/9/19 والمنفذ...       190,058,455   \n",
       "1  تـاريخ البيع - ليوم الخميس 2018/9/20 والمنفذ ي...       166,793,767   \n",
       "2  تـاريخ البيع - ليوم الأحد 2018/9/23 والمنفذ يو...       175,348,374   \n",
       "3  تـاريخ البيع - ليوم الأثنين 2018/9/24 والمنفذ ...       174,865,770   \n",
       "4  تـاريخ البيع - ليوم الثلاثاء 2018/9/25 والمنفذ...       167,674,850   \n",
       "\n",
       "   total_cash  grand_total                                      exchange_rate  \\\n",
       "0  35,900,000  225,958,455            سعر البيع النقدي (1190) دينارلكل دولار.   \n",
       "1  31,800,000  198,593,767            سعر البيع النقدي (1190) دينارلكل دولار.   \n",
       "2  32,900,000               سعر بيع المبالغ المحولة لحسابات المصارف في الخ...   \n",
       "3  38,200,000  213,065,770            سعر البيع النقدي (1190) دينارلكل دولار.   \n",
       "4  34,450,000  202,124,850            سعر البيع النقدي (1190) دينارلكل دولار.   \n",
       "\n",
       "                                        url  \n",
       "0  https://cbi.iq/currency_auction/view/394  \n",
       "1  https://cbi.iq/currency_auction/view/395  \n",
       "2  https://cbi.iq/currency_auction/view/396  \n",
       "3  https://cbi.iq/currency_auction/view/397  \n",
       "4  https://cbi.iq/currency_auction/view/398  "
      ]
     },
     "execution_count": 60,
     "metadata": {},
     "output_type": "execute_result"
    }
   ],
   "source": [
    "raw_data2.head()"
   ]
  },
  {
   "cell_type": "code",
   "execution_count": 61,
   "metadata": {
    "ExecuteTime": {
     "end_time": "2019-09-14T01:15:16.288983Z",
     "start_time": "2019-09-14T01:15:16.278152Z"
    }
   },
   "outputs": [],
   "source": [
    "# now remove commas and convert to float\n",
    "raw_data2['total_for_foreign'] = pd.to_numeric(raw_data2.total_for_foreign.str.replace(',',''), errors='coerce')"
   ]
  },
  {
   "cell_type": "code",
   "execution_count": 62,
   "metadata": {
    "ExecuteTime": {
     "end_time": "2019-09-14T01:15:36.086478Z",
     "start_time": "2019-09-14T01:15:36.078397Z"
    }
   },
   "outputs": [],
   "source": [
    "raw_data2['total_cash'] = pd.to_numeric(raw_data2.total_cash.str.replace(',',''), errors='coerce')\n",
    "raw_data2['grand_total'] = pd.to_numeric(raw_data2.grand_total.str.replace(',',''), errors='coerce')"
   ]
  },
  {
   "cell_type": "code",
   "execution_count": 63,
   "metadata": {
    "ExecuteTime": {
     "end_time": "2019-09-14T01:15:40.767887Z",
     "start_time": "2019-09-14T01:15:40.753831Z"
    }
   },
   "outputs": [
    {
     "data": {
      "text/html": [
       "<div>\n",
       "<style scoped>\n",
       "    .dataframe tbody tr th:only-of-type {\n",
       "        vertical-align: middle;\n",
       "    }\n",
       "\n",
       "    .dataframe tbody tr th {\n",
       "        vertical-align: top;\n",
       "    }\n",
       "\n",
       "    .dataframe thead th {\n",
       "        text-align: right;\n",
       "    }\n",
       "</style>\n",
       "<table border=\"1\" class=\"dataframe\">\n",
       "  <thead>\n",
       "    <tr style=\"text-align: right;\">\n",
       "      <th></th>\n",
       "      <th>date</th>\n",
       "      <th>total_for_foreign</th>\n",
       "      <th>total_cash</th>\n",
       "      <th>grand_total</th>\n",
       "      <th>exchange_rate</th>\n",
       "      <th>url</th>\n",
       "    </tr>\n",
       "  </thead>\n",
       "  <tbody>\n",
       "    <tr>\n",
       "      <th>0</th>\n",
       "      <td>تـاريخ البيع - ليوم الأربعاء 2018/9/19 والمنفذ...</td>\n",
       "      <td>190058455.0</td>\n",
       "      <td>35900000.0</td>\n",
       "      <td>225958455.0</td>\n",
       "      <td>سعر البيع النقدي (1190) دينارلكل دولار.</td>\n",
       "      <td>https://cbi.iq/currency_auction/view/394</td>\n",
       "    </tr>\n",
       "    <tr>\n",
       "      <th>1</th>\n",
       "      <td>تـاريخ البيع - ليوم الخميس 2018/9/20 والمنفذ ي...</td>\n",
       "      <td>166793767.0</td>\n",
       "      <td>31800000.0</td>\n",
       "      <td>198593767.0</td>\n",
       "      <td>سعر البيع النقدي (1190) دينارلكل دولار.</td>\n",
       "      <td>https://cbi.iq/currency_auction/view/395</td>\n",
       "    </tr>\n",
       "    <tr>\n",
       "      <th>2</th>\n",
       "      <td>تـاريخ البيع - ليوم الأحد 2018/9/23 والمنفذ يو...</td>\n",
       "      <td>175348374.0</td>\n",
       "      <td>32900000.0</td>\n",
       "      <td>NaN</td>\n",
       "      <td>سعر بيع المبالغ المحولة لحسابات المصارف في الخ...</td>\n",
       "      <td>https://cbi.iq/currency_auction/view/396</td>\n",
       "    </tr>\n",
       "    <tr>\n",
       "      <th>3</th>\n",
       "      <td>تـاريخ البيع - ليوم الأثنين 2018/9/24 والمنفذ ...</td>\n",
       "      <td>174865770.0</td>\n",
       "      <td>38200000.0</td>\n",
       "      <td>213065770.0</td>\n",
       "      <td>سعر البيع النقدي (1190) دينارلكل دولار.</td>\n",
       "      <td>https://cbi.iq/currency_auction/view/397</td>\n",
       "    </tr>\n",
       "    <tr>\n",
       "      <th>4</th>\n",
       "      <td>تـاريخ البيع - ليوم الثلاثاء 2018/9/25 والمنفذ...</td>\n",
       "      <td>167674850.0</td>\n",
       "      <td>34450000.0</td>\n",
       "      <td>202124850.0</td>\n",
       "      <td>سعر البيع النقدي (1190) دينارلكل دولار.</td>\n",
       "      <td>https://cbi.iq/currency_auction/view/398</td>\n",
       "    </tr>\n",
       "  </tbody>\n",
       "</table>\n",
       "</div>"
      ],
      "text/plain": [
       "                                                date  total_for_foreign  \\\n",
       "0  تـاريخ البيع - ليوم الأربعاء 2018/9/19 والمنفذ...        190058455.0   \n",
       "1  تـاريخ البيع - ليوم الخميس 2018/9/20 والمنفذ ي...        166793767.0   \n",
       "2  تـاريخ البيع - ليوم الأحد 2018/9/23 والمنفذ يو...        175348374.0   \n",
       "3  تـاريخ البيع - ليوم الأثنين 2018/9/24 والمنفذ ...        174865770.0   \n",
       "4  تـاريخ البيع - ليوم الثلاثاء 2018/9/25 والمنفذ...        167674850.0   \n",
       "\n",
       "   total_cash  grand_total                                      exchange_rate  \\\n",
       "0  35900000.0  225958455.0            سعر البيع النقدي (1190) دينارلكل دولار.   \n",
       "1  31800000.0  198593767.0            سعر البيع النقدي (1190) دينارلكل دولار.   \n",
       "2  32900000.0          NaN  سعر بيع المبالغ المحولة لحسابات المصارف في الخ...   \n",
       "3  38200000.0  213065770.0            سعر البيع النقدي (1190) دينارلكل دولار.   \n",
       "4  34450000.0  202124850.0            سعر البيع النقدي (1190) دينارلكل دولار.   \n",
       "\n",
       "                                        url  \n",
       "0  https://cbi.iq/currency_auction/view/394  \n",
       "1  https://cbi.iq/currency_auction/view/395  \n",
       "2  https://cbi.iq/currency_auction/view/396  \n",
       "3  https://cbi.iq/currency_auction/view/397  \n",
       "4  https://cbi.iq/currency_auction/view/398  "
      ]
     },
     "execution_count": 63,
     "metadata": {},
     "output_type": "execute_result"
    }
   ],
   "source": [
    "raw_data2.head()"
   ]
  },
  {
   "cell_type": "code",
   "execution_count": 64,
   "metadata": {
    "ExecuteTime": {
     "end_time": "2019-09-14T01:17:23.911322Z",
     "start_time": "2019-09-14T01:17:23.884217Z"
    }
   },
   "outputs": [],
   "source": [
    "# save to csv\n",
    "raw_data2.to_csv('range2_cleaned.csv',index=False)"
   ]
  },
  {
   "cell_type": "markdown",
   "metadata": {},
   "source": [
    "##### Combine both dfs"
   ]
  },
  {
   "cell_type": "code",
   "execution_count": 65,
   "metadata": {
    "ExecuteTime": {
     "end_time": "2019-09-14T01:18:12.231147Z",
     "start_time": "2019-09-14T01:18:12.215434Z"
    }
   },
   "outputs": [],
   "source": [
    "range1_df = pd.read_csv('range1_cleaned.csv')\n",
    "range2_df = pd.read_csv('range2_cleaned.csv')"
   ]
  },
  {
   "cell_type": "code",
   "execution_count": 66,
   "metadata": {
    "ExecuteTime": {
     "end_time": "2019-09-14T01:18:24.376064Z",
     "start_time": "2019-09-14T01:18:24.370639Z"
    }
   },
   "outputs": [
    {
     "name": "stdout",
     "output_type": "stream",
     "text": [
      "Index(['date', 'total_for_foreign', 'total_cash', 'grand_total',\n",
      "       'exchange_rate', 'url'],\n",
      "      dtype='object')\n",
      "Index(['date', 'total_for_foreign', 'total_cash', 'grand_total',\n",
      "       'exchange_rate', 'url'],\n",
      "      dtype='object')\n"
     ]
    }
   ],
   "source": [
    "print(range1_df.columns)\n",
    "print(range2_df.columns)"
   ]
  },
  {
   "cell_type": "code",
   "execution_count": 67,
   "metadata": {
    "ExecuteTime": {
     "end_time": "2019-09-14T01:18:40.213932Z",
     "start_time": "2019-09-14T01:18:40.201376Z"
    }
   },
   "outputs": [
    {
     "name": "stdout",
     "output_type": "stream",
     "text": [
      "<class 'pandas.core.frame.DataFrame'>\n",
      "RangeIndex: 259 entries, 0 to 258\n",
      "Data columns (total 6 columns):\n",
      "date                 259 non-null object\n",
      "total_for_foreign    254 non-null float64\n",
      "total_cash           254 non-null float64\n",
      "grand_total          232 non-null float64\n",
      "exchange_rate        259 non-null object\n",
      "url                  259 non-null object\n",
      "dtypes: float64(3), object(3)\n",
      "memory usage: 12.2+ KB\n",
      "None\n",
      "<class 'pandas.core.frame.DataFrame'>\n",
      "RangeIndex: 248 entries, 0 to 247\n",
      "Data columns (total 6 columns):\n",
      "date                 248 non-null object\n",
      "total_for_foreign    246 non-null float64\n",
      "total_cash           246 non-null float64\n",
      "grand_total          179 non-null float64\n",
      "exchange_rate        248 non-null object\n",
      "url                  248 non-null object\n",
      "dtypes: float64(3), object(3)\n",
      "memory usage: 11.7+ KB\n",
      "None\n"
     ]
    }
   ],
   "source": [
    "print(range1_df.info())\n",
    "print(range2_df.info())"
   ]
  },
  {
   "cell_type": "code",
   "execution_count": 73,
   "metadata": {
    "ExecuteTime": {
     "end_time": "2019-09-14T01:21:40.634032Z",
     "start_time": "2019-09-14T01:21:40.626635Z"
    }
   },
   "outputs": [],
   "source": [
    "combined_df = range1_df.append(range2_df,ignore_index=True)"
   ]
  },
  {
   "cell_type": "code",
   "execution_count": 74,
   "metadata": {
    "ExecuteTime": {
     "end_time": "2019-09-14T01:21:41.589626Z",
     "start_time": "2019-09-14T01:21:41.577706Z"
    }
   },
   "outputs": [
    {
     "data": {
      "text/html": [
       "<div>\n",
       "<style scoped>\n",
       "    .dataframe tbody tr th:only-of-type {\n",
       "        vertical-align: middle;\n",
       "    }\n",
       "\n",
       "    .dataframe tbody tr th {\n",
       "        vertical-align: top;\n",
       "    }\n",
       "\n",
       "    .dataframe thead th {\n",
       "        text-align: right;\n",
       "    }\n",
       "</style>\n",
       "<table border=\"1\" class=\"dataframe\">\n",
       "  <thead>\n",
       "    <tr style=\"text-align: right;\">\n",
       "      <th></th>\n",
       "      <th>date</th>\n",
       "      <th>total_for_foreign</th>\n",
       "      <th>total_cash</th>\n",
       "      <th>grand_total</th>\n",
       "      <th>exchange_rate</th>\n",
       "      <th>url</th>\n",
       "    </tr>\n",
       "  </thead>\n",
       "  <tbody>\n",
       "    <tr>\n",
       "      <th>502</th>\n",
       "      <td>تـاريخ البيع - ليوم الأحد 2019/9/8 والمنفذ يوم...</td>\n",
       "      <td>195326397.0</td>\n",
       "      <td>18210000.0</td>\n",
       "      <td>213536397.0</td>\n",
       "      <td>سعر البيع النقدي (1190) دينارلكل دولار.</td>\n",
       "      <td>https://cbi.iq/currency_auction/view/639</td>\n",
       "    </tr>\n",
       "    <tr>\n",
       "      <th>503</th>\n",
       "      <td>تـاريخ البيع - ليوم الأثنين 2019/9/9 والمنفذ ي...</td>\n",
       "      <td>225907675.0</td>\n",
       "      <td>32720000.0</td>\n",
       "      <td>258627675.0</td>\n",
       "      <td>سعر البيع النقدي (1190) دينارلكل دولار.</td>\n",
       "      <td>https://cbi.iq/currency_auction/view/640</td>\n",
       "    </tr>\n",
       "    <tr>\n",
       "      <th>504</th>\n",
       "      <td>تـاريخ البيع - ليوم الأربعاء 2019/9/11 والمنفذ...</td>\n",
       "      <td>221015860.0</td>\n",
       "      <td>30230000.0</td>\n",
       "      <td>251245860.0</td>\n",
       "      <td>سعر البيع النقدي (1190) دينارلكل دولار.</td>\n",
       "      <td>https://cbi.iq/currency_auction/view/641</td>\n",
       "    </tr>\n",
       "    <tr>\n",
       "      <th>505</th>\n",
       "      <td>تـاريخ البيع - ليوم الخميس 2019/9/12 والمنفذ ي...</td>\n",
       "      <td>231588396.0</td>\n",
       "      <td>26550000.0</td>\n",
       "      <td>258138396.0</td>\n",
       "      <td>سعر البيع النقدي (1190) دينارلكل دولار.</td>\n",
       "      <td>https://cbi.iq/currency_auction/view/642</td>\n",
       "    </tr>\n",
       "    <tr>\n",
       "      <th>506</th>\n",
       "      <td>تـاريخ البيع - ليوم الأحد 2019/9/15 والمنفذ يو...</td>\n",
       "      <td>224964314.0</td>\n",
       "      <td>20220000.0</td>\n",
       "      <td>245184314.0</td>\n",
       "      <td>سعر البيع النقدي (1190) دينارلكل دولار.</td>\n",
       "      <td>https://cbi.iq/currency_auction/view/643</td>\n",
       "    </tr>\n",
       "  </tbody>\n",
       "</table>\n",
       "</div>"
      ],
      "text/plain": [
       "                                                  date  total_for_foreign  \\\n",
       "502  تـاريخ البيع - ليوم الأحد 2019/9/8 والمنفذ يوم...        195326397.0   \n",
       "503  تـاريخ البيع - ليوم الأثنين 2019/9/9 والمنفذ ي...        225907675.0   \n",
       "504  تـاريخ البيع - ليوم الأربعاء 2019/9/11 والمنفذ...        221015860.0   \n",
       "505  تـاريخ البيع - ليوم الخميس 2019/9/12 والمنفذ ي...        231588396.0   \n",
       "506  تـاريخ البيع - ليوم الأحد 2019/9/15 والمنفذ يو...        224964314.0   \n",
       "\n",
       "     total_cash  grand_total                            exchange_rate  \\\n",
       "502  18210000.0  213536397.0  سعر البيع النقدي (1190) دينارلكل دولار.   \n",
       "503  32720000.0  258627675.0  سعر البيع النقدي (1190) دينارلكل دولار.   \n",
       "504  30230000.0  251245860.0  سعر البيع النقدي (1190) دينارلكل دولار.   \n",
       "505  26550000.0  258138396.0  سعر البيع النقدي (1190) دينارلكل دولار.   \n",
       "506  20220000.0  245184314.0  سعر البيع النقدي (1190) دينارلكل دولار.   \n",
       "\n",
       "                                          url  \n",
       "502  https://cbi.iq/currency_auction/view/639  \n",
       "503  https://cbi.iq/currency_auction/view/640  \n",
       "504  https://cbi.iq/currency_auction/view/641  \n",
       "505  https://cbi.iq/currency_auction/view/642  \n",
       "506  https://cbi.iq/currency_auction/view/643  "
      ]
     },
     "execution_count": 74,
     "metadata": {},
     "output_type": "execute_result"
    }
   ],
   "source": [
    "combined_df.tail()"
   ]
  },
  {
   "cell_type": "code",
   "execution_count": 77,
   "metadata": {
    "ExecuteTime": {
     "end_time": "2019-09-14T01:22:22.374410Z",
     "start_time": "2019-09-14T01:22:22.359465Z"
    }
   },
   "outputs": [
    {
     "data": {
      "text/html": [
       "<div>\n",
       "<style scoped>\n",
       "    .dataframe tbody tr th:only-of-type {\n",
       "        vertical-align: middle;\n",
       "    }\n",
       "\n",
       "    .dataframe tbody tr th {\n",
       "        vertical-align: top;\n",
       "    }\n",
       "\n",
       "    .dataframe thead th {\n",
       "        text-align: right;\n",
       "    }\n",
       "</style>\n",
       "<table border=\"1\" class=\"dataframe\">\n",
       "  <thead>\n",
       "    <tr style=\"text-align: right;\">\n",
       "      <th></th>\n",
       "      <th>date</th>\n",
       "      <th>total_for_foreign</th>\n",
       "      <th>total_cash</th>\n",
       "      <th>grand_total</th>\n",
       "      <th>exchange_rate</th>\n",
       "      <th>url</th>\n",
       "    </tr>\n",
       "  </thead>\n",
       "  <tbody>\n",
       "    <tr>\n",
       "      <th>0</th>\n",
       "      <td>تـاريخ البيع - الثلاثاء 19-9-2017 والمنفذ يوم ...</td>\n",
       "      <td>118812407.0</td>\n",
       "      <td>2160000.0</td>\n",
       "      <td>162772407.0</td>\n",
       "      <td>سعر بيع المبالغ المحولة لحسابات المصارف في الخ...</td>\n",
       "      <td>https://cbi.iq/currency_auction/view/124</td>\n",
       "    </tr>\n",
       "    <tr>\n",
       "      <th>1</th>\n",
       "      <td>تـاريخ البيع - الاربعاء 20-9-2017 والمنفذ يوم ...</td>\n",
       "      <td>128664984.0</td>\n",
       "      <td>810000.0</td>\n",
       "      <td>163974984.0</td>\n",
       "      <td>سعر بيع المبالغ المحولة لحسابات المصارف في الخ...</td>\n",
       "      <td>https://cbi.iq/currency_auction/view/125</td>\n",
       "    </tr>\n",
       "    <tr>\n",
       "      <th>2</th>\n",
       "      <td>تـاريخ البيع - الخميس 21-9-2017 والمنفذ يوم ال...</td>\n",
       "      <td>145291507.0</td>\n",
       "      <td>16950000.0</td>\n",
       "      <td>162241507.0</td>\n",
       "      <td>سعر بيع المبالغ المحولة لحسابات المصارف في الخ...</td>\n",
       "      <td>https://cbi.iq/currency_auction/view/126</td>\n",
       "    </tr>\n",
       "    <tr>\n",
       "      <th>3</th>\n",
       "      <td>تـاريخ البيع - الاحد 24-9-2017</td>\n",
       "      <td>111966241.0</td>\n",
       "      <td>41260000.0</td>\n",
       "      <td>153226241.0</td>\n",
       "      <td>سعر بيع المبالغ المحولة لحسابات المصارف في الخ...</td>\n",
       "      <td>https://cbi.iq/currency_auction/view/127</td>\n",
       "    </tr>\n",
       "    <tr>\n",
       "      <th>4</th>\n",
       "      <td>تـاريخ البيع - الاثنين 25-9-2017 والمنفذ يوم ا...</td>\n",
       "      <td>113115408.0</td>\n",
       "      <td>40020000.0</td>\n",
       "      <td>153135408.0</td>\n",
       "      <td>سعر بيع المبالغ المحولة لحسابات المصارف في الخ...</td>\n",
       "      <td>https://cbi.iq/currency_auction/view/128</td>\n",
       "    </tr>\n",
       "  </tbody>\n",
       "</table>\n",
       "</div>"
      ],
      "text/plain": [
       "                                                date  total_for_foreign  \\\n",
       "0  تـاريخ البيع - الثلاثاء 19-9-2017 والمنفذ يوم ...        118812407.0   \n",
       "1  تـاريخ البيع - الاربعاء 20-9-2017 والمنفذ يوم ...        128664984.0   \n",
       "2  تـاريخ البيع - الخميس 21-9-2017 والمنفذ يوم ال...        145291507.0   \n",
       "3                     تـاريخ البيع - الاحد 24-9-2017        111966241.0   \n",
       "4  تـاريخ البيع - الاثنين 25-9-2017 والمنفذ يوم ا...        113115408.0   \n",
       "\n",
       "   total_cash  grand_total                                      exchange_rate  \\\n",
       "0   2160000.0  162772407.0  سعر بيع المبالغ المحولة لحسابات المصارف في الخ...   \n",
       "1    810000.0  163974984.0  سعر بيع المبالغ المحولة لحسابات المصارف في الخ...   \n",
       "2  16950000.0  162241507.0  سعر بيع المبالغ المحولة لحسابات المصارف في الخ...   \n",
       "3  41260000.0  153226241.0  سعر بيع المبالغ المحولة لحسابات المصارف في الخ...   \n",
       "4  40020000.0  153135408.0  سعر بيع المبالغ المحولة لحسابات المصارف في الخ...   \n",
       "\n",
       "                                        url  \n",
       "0  https://cbi.iq/currency_auction/view/124  \n",
       "1  https://cbi.iq/currency_auction/view/125  \n",
       "2  https://cbi.iq/currency_auction/view/126  \n",
       "3  https://cbi.iq/currency_auction/view/127  \n",
       "4  https://cbi.iq/currency_auction/view/128  "
      ]
     },
     "execution_count": 77,
     "metadata": {},
     "output_type": "execute_result"
    }
   ],
   "source": [
    "combined_df.head()"
   ]
  },
  {
   "cell_type": "code",
   "execution_count": 78,
   "metadata": {
    "ExecuteTime": {
     "end_time": "2019-09-14T01:25:04.066040Z",
     "start_time": "2019-09-14T01:25:04.052557Z"
    }
   },
   "outputs": [],
   "source": [
    "combined_df.to_csv('combined_data.csv',index=False)"
   ]
  },
  {
   "cell_type": "code",
   "execution_count": 76,
   "metadata": {
    "ExecuteTime": {
     "end_time": "2019-09-14T01:21:49.067331Z",
     "start_time": "2019-09-14T01:21:48.729706Z"
    }
   },
   "outputs": [
    {
     "data": {
      "image/png": "[encoded data removed]",
      "text/plain": [
       "<Figure size 432x288 with 3 Axes>"
      ]
     },
     "metadata": {
      "needs_background": "light"
     },
     "output_type": "display_data"
    }
   ],
   "source": [
    "combined_df[['total_for_foreign','total_cash','grand_total']][::3].plot(subplots=True)\n",
    "plt.show()"
   ]
  },
  {
   "cell_type": "code",
   "execution_count": 96,
   "metadata": {
    "ExecuteTime": {
     "end_time": "2019-09-14T01:54:03.755075Z",
     "start_time": "2019-09-14T01:54:03.747407Z"
    }
   },
   "outputs": [
    {
     "data": {
      "text/plain": [
       "0     تـاريخ البيع - الثلاثاء 19-9-2017 والمنفذ يوم ...\n",
       "1     تـاريخ البيع - الاربعاء 20-9-2017 والمنفذ يوم ...\n",
       "2     تـاريخ البيع - الخميس 21-9-2017 والمنفذ يوم ال...\n",
       "3                        تـاريخ البيع - الاحد 24-9-2017\n",
       "4     تـاريخ البيع - الاثنين 25-9-2017 والمنفذ يوم ا...\n",
       "5     تـاريخ البيع - الثلاثاء 26-9-2017 والمنفذ يوم ...\n",
       "6     تـاريخ البيع - الاربعاء 27-9-2017 والمنفذ يوم ...\n",
       "7     تـاريخ البيع - الخميس 28-9-2017 والمنفذ يوم ال...\n",
       "8     تـاريخ البيع - الأحد 1-10-2017 والمنفذ يوم الخ...\n",
       "9                      تـاريخ البيع - الأثنين 2-10-2017\n",
       "10    تـاريخ البيع - الثلاثاء 3-10-2017 والمنفذ يوم ...\n",
       "11    تـاريخ البيع - الأربعاء 4-10-2017 والمنفذ يوم ...\n",
       "12    تـاريخ البيع - الخميس 5-10-2017 والمنفذ يوم ال...\n",
       "13    تـاريخ البيع - الاحد 8-10-2017 والمنفذ يوم الخ...\n",
       "14    تـاريخ البيع - الأثنين 9-10-2017 والمنفذ يوم ا...\n",
       "15    تـاريخ البيع - الثلاثاء 10-10-2017 والمنفذ يوم...\n",
       "16    تـاريخ البيع - الأربعاء 11-10-2017 والمنفذ يوم...\n",
       "17    تـاريخ البيع - الخميس 12-10-2017 والمنفذ يوم ا...\n",
       "18    تـاريخ البيع - الاحد 15-10-2017 والمنفذ يوم ال...\n",
       "19    تـاريخ البيع - الاثنين 16-10-2017 والمنفذ يوم ...\n",
       "20    تـاريخ البيع - الثلاثاء 17-10-2017 والمنفذ يوم...\n",
       "21    تـاريخ البيع - الاربعاء 18-10-2017 والمنفذ يوم...\n",
       "22    تـاريخ البيع - الخميس 19-10-2017 والمنفذ يوم ا...\n",
       "23    تـاريخ البيع - الأحد 22-10-2017 والمنفذ يوم ال...\n",
       "24    تـاريخ البيع - الاثنين 23-10-2017 والمنفذ يوم ...\n",
       "25                                      تـاريخ البيع - \n",
       "26                                      تـاريخ البيع - \n",
       "27                                      تـاريخ البيع - \n",
       "28                                      تـاريخ البيع - \n",
       "29                                      تـاريخ البيع - \n",
       "Name: date, dtype: object"
      ]
     },
     "execution_count": 96,
     "metadata": {},
     "output_type": "execute_result"
    }
   ],
   "source": [
    "combined_df.date[:30]"
   ]
  },
  {
   "cell_type": "code",
   "execution_count": 98,
   "metadata": {
    "ExecuteTime": {
     "end_time": "2019-09-14T01:58:04.221114Z",
     "start_time": "2019-09-14T01:58:04.179211Z"
    },
    "scrolled": false
   },
   "outputs": [
    {
     "data": {
      "text/plain": [
       "0    True\n",
       "1    True\n",
       "2    True\n",
       "3    True\n",
       "4    True\n",
       "5    True\n",
       "6    True\n",
       "7    True\n",
       "8    True\n",
       "9    True\n",
       "Name: date, dtype: bool"
      ]
     },
     "execution_count": 98,
     "metadata": {},
     "output_type": "execute_result"
    }
   ],
   "source": [
    "combined_df.date[:10].str.contains('....-.*-.*', regex=True)"
   ]
  },
  {
   "cell_type": "code",
   "execution_count": 101,
   "metadata": {
    "ExecuteTime": {
     "end_time": "2019-09-14T01:58:38.993675Z",
     "start_time": "2019-09-14T01:58:38.971696Z"
    }
   },
   "outputs": [
    {
     "data": {
      "text/html": [
       "<div>\n",
       "<style scoped>\n",
       "    .dataframe tbody tr th:only-of-type {\n",
       "        vertical-align: middle;\n",
       "    }\n",
       "\n",
       "    .dataframe tbody tr th {\n",
       "        vertical-align: top;\n",
       "    }\n",
       "\n",
       "    .dataframe thead th {\n",
       "        text-align: right;\n",
       "    }\n",
       "</style>\n",
       "<table border=\"1\" class=\"dataframe\">\n",
       "  <thead>\n",
       "    <tr style=\"text-align: right;\">\n",
       "      <th></th>\n",
       "      <th>0</th>\n",
       "    </tr>\n",
       "  </thead>\n",
       "  <tbody>\n",
       "    <tr>\n",
       "      <th>0</th>\n",
       "      <td>بيع - الثلاثاء 19-9-2017 والمنفذ يوم الاثنين 1...</td>\n",
       "    </tr>\n",
       "    <tr>\n",
       "      <th>1</th>\n",
       "      <td>بيع - الاربعاء 20-9-2017 والمنفذ يوم الثلاثاء ...</td>\n",
       "    </tr>\n",
       "    <tr>\n",
       "      <th>2</th>\n",
       "      <td>بيع - الخميس 21-9-2017 والمنفذ يوم الاربعاء 20...</td>\n",
       "    </tr>\n",
       "    <tr>\n",
       "      <th>3</th>\n",
       "      <td>بيع - الاحد 24-9-2017</td>\n",
       "    </tr>\n",
       "    <tr>\n",
       "      <th>4</th>\n",
       "      <td>بيع - الاثنين 25-9-2017 والمنفذ يوم الاحد 24-9...</td>\n",
       "    </tr>\n",
       "    <tr>\n",
       "      <th>5</th>\n",
       "      <td>بيع - الثلاثاء 26-9-2017 والمنفذ يوم الاثنين 2...</td>\n",
       "    </tr>\n",
       "    <tr>\n",
       "      <th>6</th>\n",
       "      <td>بيع - الاربعاء 27-9-2017 والمنفذ يوم الثلاثاء ...</td>\n",
       "    </tr>\n",
       "    <tr>\n",
       "      <th>7</th>\n",
       "      <td>بيع - الخميس 28-9-2017 والمنفذ يوم الاربعاء 27...</td>\n",
       "    </tr>\n",
       "    <tr>\n",
       "      <th>8</th>\n",
       "      <td>بيع - الأحد 1-10-2017 والمنفذ يوم الخميس 28-9-...</td>\n",
       "    </tr>\n",
       "    <tr>\n",
       "      <th>9</th>\n",
       "      <td>بيع - الأثنين 2-10-2017</td>\n",
       "    </tr>\n",
       "  </tbody>\n",
       "</table>\n",
       "</div>"
      ],
      "text/plain": [
       "                                                   0\n",
       "0  بيع - الثلاثاء 19-9-2017 والمنفذ يوم الاثنين 1...\n",
       "1  بيع - الاربعاء 20-9-2017 والمنفذ يوم الثلاثاء ...\n",
       "2  بيع - الخميس 21-9-2017 والمنفذ يوم الاربعاء 20...\n",
       "3                              بيع - الاحد 24-9-2017\n",
       "4  بيع - الاثنين 25-9-2017 والمنفذ يوم الاحد 24-9...\n",
       "5  بيع - الثلاثاء 26-9-2017 والمنفذ يوم الاثنين 2...\n",
       "6  بيع - الاربعاء 27-9-2017 والمنفذ يوم الثلاثاء ...\n",
       "7  بيع - الخميس 28-9-2017 والمنفذ يوم الاربعاء 27...\n",
       "8  بيع - الأحد 1-10-2017 والمنفذ يوم الخميس 28-9-...\n",
       "9                            بيع - الأثنين 2-10-2017"
      ]
     },
     "execution_count": 101,
     "metadata": {},
     "output_type": "execute_result"
    }
   ],
   "source": [
    "combined_df.date[:10].str.extract(pat='(....-.*-.*)')"
   ]
  },
  {
   "cell_type": "code",
   "execution_count": 135,
   "metadata": {
    "ExecuteTime": {
     "end_time": "2019-09-14T02:11:24.887708Z",
     "start_time": "2019-09-14T02:11:24.882965Z"
    }
   },
   "outputs": [],
   "source": [
    "import re\n",
    "r = re.compile(\"\\d{1,2}-\\d{1,2}-\\d{1,4}\")\n",
    "def match(x):\n",
    "    m = r.search(x)\n",
    "    if m:\n",
    "        return m.group()\n",
    "    return \"\""
   ]
  },
  {
   "cell_type": "code",
   "execution_count": 126,
   "metadata": {
    "ExecuteTime": {
     "end_time": "2019-09-14T02:07:38.469489Z",
     "start_time": "2019-09-14T02:07:38.462506Z"
    }
   },
   "outputs": [
    {
     "data": {
      "text/plain": [
       "'ء 19-9-2017 والمن'"
      ]
     },
     "execution_count": 126,
     "metadata": {},
     "output_type": "execute_result"
    }
   ],
   "source": [
    "s[22:39]"
   ]
  },
  {
   "cell_type": "code",
   "execution_count": 133,
   "metadata": {
    "ExecuteTime": {
     "end_time": "2019-09-14T02:11:09.067081Z",
     "start_time": "2019-09-14T02:11:09.061735Z"
    }
   },
   "outputs": [
    {
     "name": "stdout",
     "output_type": "stream",
     "text": [
      "<re.Match object; span=(24, 33), match='19-9-2017'>\n"
     ]
    }
   ],
   "source": [
    "# combined_df.date.str.extract(r\"(\\d{4}-\\d{1-2}-\\d{1-2})\")\n",
    "s = combined_df.date.loc[0]\n",
    "match = re.search('\\d{1,2}-\\d{1,2}-\\d{1,4}',s)\n",
    "print(match)"
   ]
  },
  {
   "cell_type": "code",
   "execution_count": 134,
   "metadata": {
    "ExecuteTime": {
     "end_time": "2019-09-14T02:11:09.501562Z",
     "start_time": "2019-09-14T02:11:09.494671Z"
    }
   },
   "outputs": [
    {
     "data": {
      "text/plain": [
       "'19-9-2017'"
      ]
     },
     "execution_count": 134,
     "metadata": {},
     "output_type": "execute_result"
    }
   ],
   "source": [
    "match.group()"
   ]
  },
  {
   "cell_type": "code",
   "execution_count": 143,
   "metadata": {
    "ExecuteTime": {
     "end_time": "2019-09-14T02:14:13.041938Z",
     "start_time": "2019-09-14T02:14:13.028757Z"
    }
   },
   "outputs": [
    {
     "data": {
      "text/html": [
       "<div>\n",
       "<style scoped>\n",
       "    .dataframe tbody tr th:only-of-type {\n",
       "        vertical-align: middle;\n",
       "    }\n",
       "\n",
       "    .dataframe tbody tr th {\n",
       "        vertical-align: top;\n",
       "    }\n",
       "\n",
       "    .dataframe thead th {\n",
       "        text-align: right;\n",
       "    }\n",
       "</style>\n",
       "<table border=\"1\" class=\"dataframe\">\n",
       "  <thead>\n",
       "    <tr style=\"text-align: right;\">\n",
       "      <th></th>\n",
       "      <th>0</th>\n",
       "    </tr>\n",
       "  </thead>\n",
       "  <tbody>\n",
       "    <tr>\n",
       "      <th>0</th>\n",
       "      <td>19-9-2017</td>\n",
       "    </tr>\n",
       "    <tr>\n",
       "      <th>1</th>\n",
       "      <td>20-9-2017</td>\n",
       "    </tr>\n",
       "    <tr>\n",
       "      <th>2</th>\n",
       "      <td>21-9-2017</td>\n",
       "    </tr>\n",
       "    <tr>\n",
       "      <th>3</th>\n",
       "      <td>24-9-2017</td>\n",
       "    </tr>\n",
       "    <tr>\n",
       "      <th>4</th>\n",
       "      <td>25-9-2017</td>\n",
       "    </tr>\n",
       "  </tbody>\n",
       "</table>\n",
       "</div>"
      ],
      "text/plain": [
       "           0\n",
       "0  19-9-2017\n",
       "1  20-9-2017\n",
       "2  21-9-2017\n",
       "3  24-9-2017\n",
       "4  25-9-2017"
      ]
     },
     "execution_count": 143,
     "metadata": {},
     "output_type": "execute_result"
    }
   ],
   "source": [
    "combined_df.date.str.extract('(\\d{1,2}-\\d{1,2}-\\d{1,4})',expand=True)[:5]"
   ]
  },
  {
   "cell_type": "code",
   "execution_count": 144,
   "metadata": {
    "ExecuteTime": {
     "end_time": "2019-09-14T02:14:38.507994Z",
     "start_time": "2019-09-14T02:14:38.501694Z"
    }
   },
   "outputs": [
    {
     "data": {
      "text/plain": [
       "502    تـاريخ البيع - ليوم الأحد 2019/9/8 والمنفذ يوم...\n",
       "503    تـاريخ البيع - ليوم الأثنين 2019/9/9 والمنفذ ي...\n",
       "504    تـاريخ البيع - ليوم الأربعاء 2019/9/11 والمنفذ...\n",
       "505    تـاريخ البيع - ليوم الخميس 2019/9/12 والمنفذ ي...\n",
       "506    تـاريخ البيع - ليوم الأحد 2019/9/15 والمنفذ يو...\n",
       "Name: date, dtype: object"
      ]
     },
     "execution_count": 144,
     "metadata": {},
     "output_type": "execute_result"
    }
   ],
   "source": [
    "combined_df.date.tail()"
   ]
  },
  {
   "cell_type": "code",
   "execution_count": 146,
   "metadata": {
    "ExecuteTime": {
     "end_time": "2019-09-14T02:14:55.969873Z",
     "start_time": "2019-09-14T02:14:55.965085Z"
    }
   },
   "outputs": [],
   "source": [
    "combined_df['date'] = combined_df.date.str.replace('/','-')"
   ]
  },
  {
   "cell_type": "code",
   "execution_count": 147,
   "metadata": {
    "ExecuteTime": {
     "end_time": "2019-09-14T02:14:59.843326Z",
     "start_time": "2019-09-14T02:14:59.835783Z"
    }
   },
   "outputs": [
    {
     "data": {
      "text/plain": [
       "502    تـاريخ البيع - ليوم الأحد 2019-9-8 والمنفذ يوم...\n",
       "503    تـاريخ البيع - ليوم الأثنين 2019-9-9 والمنفذ ي...\n",
       "504    تـاريخ البيع - ليوم الأربعاء 2019-9-11 والمنفذ...\n",
       "505    تـاريخ البيع - ليوم الخميس 2019-9-12 والمنفذ ي...\n",
       "506    تـاريخ البيع - ليوم الأحد 2019-9-15 والمنفذ يو...\n",
       "Name: date, dtype: object"
      ]
     },
     "execution_count": 147,
     "metadata": {},
     "output_type": "execute_result"
    }
   ],
   "source": [
    "combined_df.date.tail()"
   ]
  },
  {
   "cell_type": "code",
   "execution_count": 150,
   "metadata": {
    "ExecuteTime": {
     "end_time": "2019-09-14T02:15:59.137367Z",
     "start_time": "2019-09-14T02:15:59.130255Z"
    }
   },
   "outputs": [],
   "source": [
    "test = combined_df.date.str.extract('(\\d{1,4}-\\d{1,2}-\\d{1,4})',expand=True)[500:]"
   ]
  },
  {
   "cell_type": "code",
   "execution_count": 160,
   "metadata": {
    "ExecuteTime": {
     "end_time": "2019-09-14T02:23:20.725924Z",
     "start_time": "2019-09-14T02:23:20.667666Z"
    }
   },
   "outputs": [],
   "source": [
    "import plotly.graph_objects as go\n",
    "import plotly.express as px"
   ]
  },
  {
   "cell_type": "code",
   "execution_count": 162,
   "metadata": {
    "ExecuteTime": {
     "end_time": "2019-09-14T02:25:09.594591Z",
     "start_time": "2019-09-14T02:25:09.585440Z"
    }
   },
   "outputs": [],
   "source": [
    "graph_data_1 = combined_df.total_for_foreign"
   ]
  },
  {
   "cell_type": "code",
   "execution_count": 195,
   "metadata": {
    "ExecuteTime": {
     "end_time": "2019-09-14T02:55:07.398348Z",
     "start_time": "2019-09-14T02:55:07.208429Z"
    },
    "scrolled": false
   },
   "outputs": [
    {
     "data": {
      "application/vnd.plotly.v1+json": {
       "config": {
        "plotlyServerURL": "https://plot.ly"
       },
       "data": [
        {
         "mode": "lines",
         "name": "total for foreign",
         "type": "scatter",
         "x": [
          0,
          1,
          2,
          3,
          4,
          5,
          6,
          7,
          8,
          9,
          10,
          11,
          12,
          13,
          14,
          15,
          16,
          17,
          18,
          19,
          20,
          21,
          22,
          23,
          24,
          25,
          26,
          27,
          28,
          29,
          30,
          31,
          32,
          33,
          34,
          35,
          36,
          37,
          38,
          39,
          40,
          41,
          42,
          43,
          44,
          45,
          46,
          47,
          48,
          49,
          50,
          51,
          52,
          53,
          54,
          55,
          56,
          57,
          58,
          59,
          60,
          61,
          62,
          63,
          64,
          65,
          66,
          67,
          68,
          69,
          70,
          71,
          72,
          73,
          74,
          75,
          76,
          77,
          78,
          79,
          80,
          81,
          82,
          83,
          84,
          85,
          86,
          87,
          88,
          89,
          90,
          91,
          92,
          93,
          94,
          95,
          96,
          97,
          98,
          99,
          100,
          101,
          102,
          103,
          104,
          105,
          106,
          107,
          108,
          109,
          110,
          111,
          112,
          113,
          114,
          115,
          116,
          117,
          118,
          119,
          120,
          121,
          122,
          123,
          124,
          125,
          126,
          127,
          128,
          129,
          130,
          131,
          132,
          133,
          134,
          135,
          136,
          137,
          138,
          139,
          140,
          141,
          142,
          143,
          144,
          145,
          146,
          147,
          148,
          149,
          150,
          151,
          152,
          153,
          154,
          155,
          156,
          157,
          158,
          159,
          160,
          161,
          162,
          163,
          164,
          165,
          166,
          167,
          168,
          169,
          170,
          171,
          172,
          173,
          174,
          175,
          176,
          177,
          178,
          179,
          180,
          181,
          182,
          183,
          184,
          185,
          186,
          187,
          188,
          189,
          190,
          191,
          192,
          193,
          194,
          195,
          196,
          197,
          198,
          199,
          200,
          201,
          202,
          203,
          204,
          205,
          206,
          207,
          208,
          209,
          210,
          211,
          212,
          213,
          214,
          215,
          216,
          217,
          218,
          219,
          220,
          221,
          222,
          223,
          224,
          225,
          226,
          227,
          228,
          229,
          230,
          231,
          232,
          233,
          234,
          235,
          236,
          237,
          238,
          239,
          240,
          241,
          242,
          243,
          244,
          245,
          246,
          247,
          248,
          249,
          250,
          251,
          252,
          253,
          254,
          255,
          256,
          257,
          258,
          259,
          260,
          261,
          262,
          263,
          264,
          265,
          266,
          267,
          268,
          269,
          270,
          271,
          272,
          273,
          274,
          275,
          276,
          277,
          278,
          279,
          280,
          281,
          282,
          283,
          284,
          285,
          286,
          287,
          288,
          289,
          290,
          291,
          292,
          293,
          294,
          295,
          296,
          297,
          298,
          299,
          300,
          301,
          302,
          303,
          304,
          305,
          306,
          307,
          308,
          309,
          310,
          311,
          312,
          313,
          314,
          315,
          316,
          317,
          318,
          319,
          320,
          321,
          322,
          323,
          324,
          325,
          326,
          327,
          328,
          329,
          330,
          331,
          332,
          333,
          334,
          335,
          336,
          337,
          338,
          339,
          340,
          341,
          342,
          343,
          344,
          345,
          346,
          347,
          348,
          349,
          350,
          351,
          352,
          353,
          354,
          355,
          356,
          357,
          358,
          359,
          360,
          361,
          362,
          363,
          364,
          365,
          366,
          367,
          368,
          369,
          370,
          371,
          372,
          373,
          374,
          375,
          376,
          377,
          378,
          379,
          380,
          381,
          382,
          383,
          384,
          385,
          386,
          387,
          388,
          389,
          390,
          391,
          392,
          393,
          394,
          395,
          396,
          397,
          398,
          399,
          400,
          401,
          402,
          403,
          404,
          405,
          406,
          407,
          408,
          409,
          410,
          411,
          412,
          413,
          414,
          415,
          416,
          417,
          418,
          419,
          420,
          421,
          422,
          423,
          424,
          425,
          426,
          427,
          428,
          429,
          430,
          431,
          432,
          433,
          434,
          435,
          436,
          437,
          438,
          439,
          440,
          441,
          442,
          443,
          444,
          445,
          446,
          447,
          448,
          449,
          450,
          451,
          452,
          453,
          454,
          455,
          456,
          457,
          458,
          459,
          460,
          461,
          462,
          463,
          464,
          465,
          466,
          467,
          468,
          469,
          470,
          471,
          472,
          473,
          474,
          475,
          476,
          477,
          478,
          479,
          480,
          481,
          482,
          483,
          484,
          485,
          486,
          487,
          488,
          489,
          490,
          491,
          492,
          493,
          494,
          495,
          496,
          497,
          498,
          499,
          500,
          501,
          502,
          503,
          504,
          505,
          506
         ],
         "y": [
          118812407,
          128664984,
          145291507,
          111966241,
          113115408,
          116811866,
          124387862,
          137111937,
          134269945,
          108829531,
          107049529,
          128909402,
          139733938,
          126563357,
          123529405,
          120443492,
          126755026,
          138103890,
          104913095,
          100693364,
          101915018,
          105430000,
          128143091,
          98155000,
          99170820,
          96731645,
          105124993,
          122511908,
          98341000,
          97676863,
          107824501,
          112290970,
          122640939,
          122528444,
          101845918,
          114526451,
          130162929,
          134965686,
          125.236564,
          117.652579,
          119.606286,
          113714530,
          118148597,
          125114244,
          128685660,
          117774580,
          131453428,
          139804437,
          119974114,
          123527944,
          115733000,
          120290777,
          137404464,
          118883000,
          123045643,
          106274493,
          114931893,
          133065762,
          109930442,
          99003867,
          89276098,
          135154037,
          149964577,
          129843465,
          119570799,
          120314713,
          135919888,
          158662203,
          null,
          136991294,
          139135463,
          153901759,
          157662850,
          129030013,
          148000743,
          140826651,
          133443283,
          137168091,
          136601644,
          146986500,
          99269164,
          130616254,
          118158398,
          148206874,
          137148563,
          141995510,
          142586581,
          143658296,
          134177207,
          130396806,
          144890956,
          153352208,
          152095125,
          141655003,
          148677600,
          154939620,
          154469883,
          142945065,
          144799766,
          144157380,
          165611821,
          164807165,
          157987351,
          154002309,
          152188160,
          163422578,
          164540645,
          156193094,
          154182241,
          145157818,
          161344222,
          158454132,
          154103291,
          153728986,
          148648405,
          158301893,
          162318625,
          159389397,
          153991501,
          146584174,
          152141050,
          160349700,
          160457281,
          159984108,
          156565053,
          171995251,
          179880352,
          157230472,
          156151909,
          148802938,
          160866870,
          162669517,
          156795811,
          148427137,
          136783149,
          117376624,
          111755236,
          143457854,
          154028430,
          142110715,
          139774550,
          131978864,
          138056056,
          151348257,
          143395899,
          145822900,
          134063992,
          139346400,
          115279313,
          118565000,
          121045000,
          115677000,
          144620055,
          147631150,
          141088345,
          142926500,
          146460618,
          156477640,
          152546911,
          136212276,
          143567874,
          143967400,
          135931200,
          103360618,
          80111900,
          111344033,
          116802440,
          140597160,
          144767130,
          161795403,
          161681873,
          151591804,
          112796500,
          126191273,
          135171082,
          144476489,
          156073296,
          144562906,
          146509274,
          139489470,
          134916450,
          134144498,
          141052231,
          128771948,
          113601000,
          121015226,
          117043050,
          117527000,
          101209300,
          81301191,
          79968863,
          83258000,
          81866555,
          87486242,
          81555500,
          85446195,
          81838000,
          null,
          null,
          84836457,
          102564500,
          124917512,
          null,
          133537006,
          127142233,
          122863342,
          123873400,
          129603708,
          121225408,
          137104035,
          137452151,
          133967000,
          139088930,
          139837580,
          141068450,
          143509153,
          144096200,
          158105458,
          151536377,
          164687271,
          157397418,
          156388913,
          153444033,
          148455683,
          157813954,
          155410710,
          149895406,
          143689384,
          129150812,
          138758900,
          141766928,
          137225589,
          165328439,
          161572760,
          163963068,
          165435107,
          139778722,
          129387749,
          129724285,
          125617391,
          92751000,
          122356275,
          138624956,
          120693440,
          92750000,
          null,
          144596715,
          180173661,
          182286232,
          174846485,
          168404815,
          165241119,
          169998910,
          161015027,
          174421480,
          156902584,
          182569754,
          147381019,
          104937400,
          190058455,
          166793767,
          175348374,
          174865770,
          167674850,
          138577250,
          94692035,
          160179318,
          126238475,
          138830343,
          151530346,
          155554621,
          159337439,
          126051539,
          140642278,
          135205546,
          126152006,
          125367000,
          147243893,
          148394650,
          152253390,
          148049360,
          154967987,
          162919075,
          144357915,
          156030888,
          167110216,
          161345702,
          158429032,
          154496059,
          155786985,
          161077960,
          140016142,
          123251750,
          115421820,
          125725602,
          198250489,
          168578556,
          165908513,
          164746890,
          168157269,
          169403000,
          168940984,
          159960580,
          169943344,
          184877580,
          171011200,
          171372431,
          160425750,
          142781000,
          162502694,
          176956297,
          181126612,
          184300664,
          186075095,
          156592410,
          158841162,
          165095276,
          173016982,
          158821729,
          163204950,
          157155249,
          161214500,
          137366500,
          181594663,
          177773481,
          176696650,
          194026049,
          183741250,
          188487000,
          201449869,
          181656681,
          162462350,
          222068116,
          187631200,
          190458521,
          181255000,
          182216200,
          139128200,
          150163197,
          92134000,
          206480516,
          200046800,
          209859727,
          258032865,
          212203500,
          207154610,
          185266629,
          198419200,
          209593260,
          209317624,
          190194158,
          199013459,
          164198000,
          165918827,
          167281582,
          157637511,
          133121900,
          120429996,
          115199380,
          117261040,
          131618629,
          122956661,
          150661615,
          null,
          null,
          157742129,
          151241366,
          149749851,
          156211077,
          154994565,
          151974500,
          140714520,
          135400864,
          120861000,
          134102143,
          149085273,
          119795600,
          122687877,
          119487000,
          135347618,
          137052952,
          147990450,
          159681636,
          175852780,
          182454484,
          171445941,
          162598843,
          167671250,
          173410101,
          168740600,
          168740600,
          162079733,
          169335125,
          161936405,
          135939500,
          183302394,
          174007080,
          183623735,
          173480917,
          159479003,
          154746238,
          134792300,
          124793200,
          158562800,
          143376170,
          161337120,
          175418451,
          177521000,
          167850480,
          179895960,
          201702565,
          174676078,
          181758101,
          165130400,
          171098694,
          178691875,
          187936263,
          195303156,
          193946398,
          188159926,
          218870660,
          208805597,
          194029080,
          136686000,
          221136436,
          197637220,
          187276800,
          175175236,
          184383694,
          178158030,
          187001792,
          188519094,
          186989000,
          181092000,
          175713380,
          195745265,
          189628170,
          176215500,
          143769145,
          144158763,
          151971700,
          123095450,
          132940981,
          125717810,
          132687000,
          103628000,
          101656000,
          133164600,
          164628327,
          184021100,
          179738500,
          163229220,
          204193272,
          203488065,
          188096000,
          190008290,
          186000603,
          186742550,
          191437200,
          190125639,
          188499309,
          179098578,
          179676445,
          164124280,
          158538984,
          179284950,
          178591091,
          0,
          178040812,
          158585350,
          160226684,
          152433090,
          128780310,
          172816623,
          211895405,
          153270700,
          183131200,
          194093050,
          227378339,
          218850361,
          246632100,
          234558450,
          209603867,
          199459242,
          205993304,
          204386646,
          175187527,
          135880500,
          148322630,
          143473309,
          188403179,
          187149922,
          220692728,
          210288945,
          227502557,
          240141196,
          241277340,
          204228628,
          235146982,
          207290570,
          209379050,
          210967957,
          195326397,
          225907675,
          221015860,
          231588396,
          224964314
         ]
        },
        {
         "mode": "lines",
         "name": "foreign total rolling avg",
         "type": "scatter",
         "x": [
          0,
          1,
          2,
          3,
          4,
          5,
          6,
          7,
          8,
          9,
          10,
          11,
          12,
          13,
          14,
          15,
          16,
          17,
          18,
          19,
          20,
          21,
          22,
          23,
          24,
          25,
          26,
          27,
          28,
          29,
          30,
          31,
          32,
          33,
          34,
          35,
          36,
          37,
          38,
          39,
          40,
          41,
          42,
          43,
          44,
          45,
          46,
          47,
          48,
          49,
          50,
          51,
          52,
          53,
          54,
          55,
          56,
          57,
          58,
          59,
          60,
          61,
          62,
          63,
          64,
          65,
          66,
          67,
          68,
          69,
          70,
          71,
          72,
          73,
          74,
          75,
          76,
          77,
          78,
          79,
          80,
          81,
          82,
          83,
          84,
          85,
          86,
          87,
          88,
          89,
          90,
          91,
          92,
          93,
          94,
          95,
          96,
          97,
          98,
          99,
          100,
          101,
          102,
          103,
          104,
          105,
          106,
          107,
          108,
          109,
          110,
          111,
          112,
          113,
          114,
          115,
          116,
          117,
          118,
          119,
          120,
          121,
          122,
          123,
          124,
          125,
          126,
          127,
          128,
          129,
          130,
          131,
          132,
          133,
          134,
          135,
          136,
          137,
          138,
          139,
          140,
          141,
          142,
          143,
          144,
          145,
          146,
          147,
          148,
          149,
          150,
          151,
          152,
          153,
          154,
          155,
          156,
          157,
          158,
          159,
          160,
          161,
          162,
          163,
          164,
          165,
          166,
          167,
          168,
          169,
          170,
          171,
          172,
          173,
          174,
          175,
          176,
          177,
          178,
          179,
          180,
          181,
          182,
          183,
          184,
          185,
          186,
          187,
          188,
          189,
          190,
          191,
          192,
          193,
          194,
          195,
          196,
          197,
          198,
          199,
          200,
          201,
          202,
          203,
          204,
          205,
          206,
          207,
          208,
          209,
          210,
          211,
          212,
          213,
          214,
          215,
          216,
          217,
          218,
          219,
          220,
          221,
          222,
          223,
          224,
          225,
          226,
          227,
          228,
          229,
          230,
          231,
          232,
          233,
          234,
          235,
          236,
          237,
          238,
          239,
          240,
          241,
          242,
          243,
          244,
          245,
          246,
          247,
          248,
          249,
          250,
          251,
          252,
          253,
          254,
          255,
          256,
          257,
          258,
          259,
          260,
          261,
          262,
          263,
          264,
          265,
          266,
          267,
          268,
          269,
          270,
          271,
          272,
          273,
          274,
          275,
          276,
          277,
          278,
          279,
          280,
          281,
          282,
          283,
          284,
          285,
          286,
          287,
          288,
          289,
          290,
          291,
          292,
          293,
          294,
          295,
          296,
          297,
          298,
          299,
          300,
          301,
          302,
          303,
          304,
          305,
          306,
          307,
          308,
          309,
          310,
          311,
          312,
          313,
          314,
          315,
          316,
          317,
          318,
          319,
          320,
          321,
          322,
          323,
          324,
          325,
          326,
          327,
          328,
          329,
          330,
          331,
          332,
          333,
          334,
          335,
          336,
          337,
          338,
          339,
          340,
          341,
          342,
          343,
          344,
          345,
          346,
          347,
          348,
          349,
          350,
          351,
          352,
          353,
          354,
          355,
          356,
          357,
          358,
          359,
          360,
          361,
          362,
          363,
          364,
          365,
          366,
          367,
          368,
          369,
          370,
          371,
          372,
          373,
          374,
          375,
          376,
          377,
          378,
          379,
          380,
          381,
          382,
          383,
          384,
          385,
          386,
          387,
          388,
          389,
          390,
          391,
          392,
          393,
          394,
          395,
          396,
          397,
          398,
          399,
          400,
          401,
          402,
          403,
          404,
          405,
          406,
          407,
          408,
          409,
          410,
          411,
          412,
          413,
          414,
          415,
          416,
          417,
          418,
          419,
          420,
          421,
          422,
          423,
          424,
          425,
          426,
          427,
          428,
          429,
          430,
          431,
          432,
          433,
          434,
          435,
          436,
          437,
          438,
          439,
          440,
          441,
          442,
          443,
          444,
          445,
          446,
          447,
          448,
          449,
          450,
          451,
          452,
          453,
          454,
          455,
          456,
          457,
          458,
          459,
          460,
          461,
          462,
          463,
          464,
          465,
          466,
          467,
          468,
          469,
          470,
          471,
          472,
          473,
          474,
          475,
          476,
          477,
          478,
          479,
          480,
          481,
          482,
          483,
          484,
          485,
          486,
          487,
          488,
          489,
          490,
          491,
          492,
          493,
          494,
          495,
          496,
          497,
          498,
          499,
          500,
          501,
          502,
          503,
          504,
          505,
          506
         ],
         "y": [
          null,
          null,
          null,
          null,
          null,
          null,
          null,
          null,
          null,
          null,
          null,
          null,
          null,
          null,
          123961728.328125,
          123854953.125,
          123389233.28125,
          123690854.25,
          124556624.34375,
          124716781.953125,
          123870104.40625,
          122540851.109375,
          121297100.046875,
          119965535.75,
          118320388.84375,
          115571388.75,
          112859081.34375,
          110928564.28125,
          109533123.8125,
          108346749.28125,
          106770807.9375,
          105763998.8125,
          105554913.515625,
          106395344.53125,
          107181229.09375,
          107501426.140625,
          108374684.859375,
          109951724.203125,
          110161485.64432131,
          108395827.98633918,
          104347186.91595525,
          99757753.45494632,
          95474284.90018742,
          91481023.37667848,
          86967461.88441956,
          81602651.50153562,
          79976554.8456341,
          82289445.24746445,
          88393192.11472338,
          94787990.98198229,
          100890316.78674123,
          106751841.65400013,
          112772680.16188407,
          119079448.76351798,
          123200887.86884822,
          124613979.109375,
          124073691.984375,
          123529098.671875,
          122931584.09375,
          122076828.21875,
          120333835.3125,
          118827758.296875,
          117873661.265625,
          117811734.796875,
          117901075.9375,
          117642153.53125,
          117879981.1875,
          119382578.3125,
          null,
          null,
          null,
          null,
          null,
          null,
          null,
          null,
          null,
          null,
          null,
          null,
          null,
          null,
          null,
          137223036.40625,
          135897465.03125,
          134644559.625,
          133524759.78125,
          132461007.671875,
          132855095.078125,
          133220968.59375,
          134470824.96875,
          135685761.203125,
          137076342.46875,
          138386174.890625,
          139697664.84375,
          141237428.671875,
          142548827.390625,
          144059721.53125,
          145151494.609375,
          146019202.65625,
          146864569.046875,
          148077008.390625,
          149339740.421875,
          150411556.28125,
          151130647.15625,
          151973632.625,
          153126494.171875,
          154611082.9375,
          155705886.140625,
          156131915.765625,
          156464931.640625,
          156882152.734375,
          157364949.671875,
          157376323.09375,
          156830929.03125,
          156130426.921875,
          155735643,
          155870248.546875,
          155837516.71875,
          155549757.0625,
          155201413.46875,
          155107980.90625,
          155447378.28125,
          155780110.28125,
          155895811.71875,
          155986111.203125,
          156595810.25,
          157557325.796875,
          158612171.03125,
          159383149.453125,
          159976014.015625,
          160584553.484375,
          161286598.109375,
          161423424.484375,
          160482343.765625,
          158752198.265625,
          156265685.078125,
          153876073.109375,
          151373210.6875,
          148507157.46875,
          145371541.453125,
          142347172.953125,
          140016087.421875,
          138838525.03125,
          138849046.015625,
          138980037.78125,
          138905935.828125,
          139109872.734375,
          139197028.765625,
          139331597.4375,
          139180479.1875,
          137941190.78125,
          136226644.453125,
          134503398.1875,
          133201851.78125,
          131999436.859375,
          131666967.90625,
          132136475.578125,
          133363998.359375,
          135469748.21875,
          137539930.3125,
          139524612.40625,
          141318958.59375,
          142439148.8125,
          142035432.421875,
          140334118.421875,
          137582079.703125,
          134577691.109375,
          131608481.21875,
          128975079.96875,
          126824613.375,
          126045975.96875,
          126814734.15625,
          128520693.078125,
          131072169.390625,
          133615746.40625,
          136317243.890625,
          138470921.0625,
          139985172.109375,
          140556711.90625,
          140963179.046875,
          141261927.203125,
          141365558.28125,
          141163191.390625,
          140120536.03125,
          138979205.9375,
          137614537.953125,
          136095805.34375,
          133704774.296875,
          130363797.4375,
          125976500,
          121123430.578125,
          116438140.078125,
          111596891.703125,
          106661560.109375,
          101568129.53125,
          96698696.609375,
          null,
          null,
          null,
          null,
          null,
          null,
          null,
          null,
          null,
          null,
          null,
          null,
          null,
          null,
          null,
          null,
          null,
          null,
          null,
          null,
          134362674,
          136212796.890625,
          138536205.359375,
          140959016.8125,
          143375220.375,
          145716119.765625,
          147917036.109375,
          149974936.234375,
          151662583.6875,
          153104524.9375,
          153738369.96875,
          153644791.65625,
          153017129.8125,
          152013644.71875,
          150757399.875,
          149404228.953125,
          148189445.5,
          147220109.4375,
          146918642.28125,
          147224589.4375,
          147659581.3125,
          148088861.65625,
          148512234.125,
          147684170.28125,
          146147066.828125,
          143994248.15625,
          140802564.015625,
          136709995,
          null,
          null,
          null,
          null,
          null,
          null,
          null,
          null,
          null,
          null,
          null,
          null,
          null,
          null,
          null,
          165456775.546875,
          164704429.75,
          163493014.03125,
          162813525.546875,
          161442224.15625,
          159676805.296875,
          159766219.765625,
          158470676.171875,
          156788284.4375,
          154509777.46875,
          151922591.765625,
          149036817.359375,
          146642711.59375,
          145789843.75,
          143683605.75,
          142573203.859375,
          141689365.734375,
          141110708.46875,
          140721913.359375,
          140352702.03125,
          140522920.890625,
          140199006.40625,
          140698331,
          141483474,
          142958104.984375,
          144810123.09375,
          146976375.9375,
          149349811.453125,
          151480260.6875,
          153399667.5625,
          154857283.125,
          155962591.15625,
          156076601.90625,
          155072570.171875,
          153309614.1875,
          152072374.0625,
          150954443.28125,
          149981864.53125,
          149095380.234375,
          148716441.25,
          149570789.578125,
          152069006.03125,
          155658708.078125,
          158183900.71875,
          160743726.59375,
          163225133.078125,
          165752736.609375,
          167719830.046875,
          168549841.453125,
          168443017.640625,
          168066830.375,
          168307680.8125,
          168284844.6875,
          168417652.4375,
          168215998.28125,
          168110389.921875,
          168769410.875,
          169693315.859375,
          170068310.140625,
          169988539.890625,
          169493636.84375,
          168374913.640625,
          167186723.421875,
          166378815.84375,
          165420344.65625,
          164355082.53125,
          164123240.53125,
          164492304.1875,
          165775073.5625,
          168074967.375,
          171367300.109375,
          174005167,
          177137040.609375,
          180382271.75,
          183021692.765625,
          185301386.4375,
          186993540.25,
          187083240.34375,
          185988820.671875,
          184094462.921875,
          181264445.25,
          178457568.984375,
          176009579.1875,
          174800091.1875,
          174157136,
          175550869.546875,
          177985179.90625,
          183179076.984375,
          188665166.9375,
          194102119.765625,
          198928654.234375,
          201633356.34375,
          203119420.953125,
          202898263.796875,
          201847599.15625,
          198499014.375,
          193906927.96875,
          187781115.75,
          180790784.640625,
          173445250.203125,
          166340749.03125,
          159209273.125,
          152099126.59375,
          null,
          null,
          null,
          null,
          null,
          null,
          null,
          null,
          null,
          null,
          null,
          null,
          null,
          null,
          null,
          null,
          139171577.671875,
          136677680.65625,
          135183948.9375,
          134357697.15625,
          133960071.703125,
          135110483.140625,
          137527531.328125,
          141125819.25,
          145313021.765625,
          150042490.859375,
          154672283.390625,
          159043942.65625,
          162782155.765625,
          165336333.828125,
          166980080.640625,
          167533652.671875,
          167826404.578125,
          167560403.828125,
          167202730.96875,
          166777579.25,
          166526994.984375,
          166253449.34375,
          165704363.5625,
          165397669.078125,
          164460181.8125,
          163034758.78125,
          161028558.40625,
          158978564.546875,
          157251113.296875,
          155956367.1875,
          155790492.40625,
          157000487.390625,
          158848808.5,
          161775455.25,
          165109600.359375,
          168345975.296875,
          171318738.953125,
          174400589.1875,
          177018432.171875,
          178313376.21875,
          179567235.421875,
          180801260.6875,
          182658440.90625,
          184941404.609375,
          186549731.59375,
          188362970.921875,
          189971942.5625,
          191597891.84375,
          192810270.21875,
          192903906.015625,
          191836248.625,
          190300502.578125,
          190230990.421875,
          189109171.875,
          187692364.515625,
          186199091.1875,
          185230110.34375,
          184881933.28125,
          184982272.421875,
          184516902.828125,
          182548510.96875,
          180566527.484375,
          177936866.96875,
          174819566.15625,
          170286679.65625,
          164782142.4375,
          158173777.5625,
          151582904.90625,
          145513378.625,
          140188757.453125,
          136722295.65625,
          134655363.828125,
          134268726.765625,
          135889080.984375,
          140203928.40625,
          146527418.71875,
          153910875.484375,
          161430514.265625,
          168040712.421875,
          174102491.53125,
          179998411.40625,
          184531827.609375,
          187123844.5625,
          188233680.96875,
          188050897.0625,
          187105083.546875,
          186000222.375,
          184511848.5625,
          179632505.09375,
          174834965.78125,
          170097993.015625,
          165188673.28125,
          160501116.359375,
          155777667.953125,
          151069676.9375,
          147082786.28125,
          148461463.421875,
          150083091.890625,
          152580047.359375,
          156430149.953125,
          161500697.25,
          168877658.046875,
          177320402.5,
          185206961.765625,
          191420362.3125,
          197911445.921875,
          204008559.15625,
          208240946.34375,
          210139159.59375,
          208659853.15625,
          204792625.34375,
          200629942.0625,
          195553229.6875,
          190348975.4375,
          185076107.171875,
          181436142.6875,
          180721655.65625,
          182995671.4375,
          187642194.40625,
          193350350.046875,
          199565536.4375,
          205374268.109375,
          211101385.921875,
          215508328.890625,
          218063799.71875,
          218850267.578125,
          219114929.953125,
          218490116.21875
         ]
        }
       ],
       "layout": {
        "shapes": [
         {
          "line": {
           "color": "black",
           "width": 3
          },
          "name": "Snapback",
          "type": "line",
          "x0": 100,
          "x1": 100,
          "y0": -30000000,
          "y1": 300000000
         }
        ],
        "template": {
         "data": {
          "bar": [
           {
            "error_x": {
             "color": "#2a3f5f"
            },
            "error_y": {
             "color": "#2a3f5f"
            },
            "marker": {
             "line": {
              "color": "#E5ECF6",
              "width": 0.5
             }
            },
            "type": "bar"
           }
          ],
          "barpolar": [
           {
            "marker": {
             "line": {
              "color": "#E5ECF6",
              "width": 0.5
             }
            },
            "type": "barpolar"
           }
          ],
          "carpet": [
           {
            "aaxis": {
             "endlinecolor": "#2a3f5f",
             "gridcolor": "white",
             "linecolor": "white",
             "minorgridcolor": "white",
             "startlinecolor": "#2a3f5f"
            },
            "baxis": {
             "endlinecolor": "#2a3f5f",
             "gridcolor": "white",
             "linecolor": "white",
             "minorgridcolor": "white",
             "startlinecolor": "#2a3f5f"
            },
            "type": "carpet"
           }
          ],
          "choropleth": [
           {
            "colorbar": {
             "outlinewidth": 0,
             "ticks": ""
            },
            "type": "choropleth"
           }
          ],
          "contour": [
           {
            "colorbar": {
             "outlinewidth": 0,
             "ticks": ""
            },
            "colorscale": [
             [
              0,
              "#0d0887"
             ],
             [
              0.1111111111111111,
              "#46039f"
             ],
             [
              0.2222222222222222,
              "#7201a8"
             ],
             [
              0.3333333333333333,
              "#9c179e"
             ],
             [
              0.4444444444444444,
              "#bd3786"
             ],
             [
              0.5555555555555556,
              "#d8576b"
             ],
             [
              0.6666666666666666,
              "#ed7953"
             ],
             [
              0.7777777777777778,
              "#fb9f3a"
             ],
             [
              0.8888888888888888,
              "#fdca26"
             ],
             [
              1,
              "#f0f921"
             ]
            ],
            "type": "contour"
           }
          ],
          "contourcarpet": [
           {
            "colorbar": {
             "outlinewidth": 0,
             "ticks": ""
            },
            "type": "contourcarpet"
           }
          ],
          "heatmap": [
           {
            "colorbar": {
             "outlinewidth": 0,
             "ticks": ""
            },
            "colorscale": [
             [
              0,
              "#0d0887"
             ],
             [
              0.1111111111111111,
              "#46039f"
             ],
             [
              0.2222222222222222,
              "#7201a8"
             ],
             [
              0.3333333333333333,
              "#9c179e"
             ],
             [
              0.4444444444444444,
              "#bd3786"
             ],
             [
              0.5555555555555556,
              "#d8576b"
             ],
             [
              0.6666666666666666,
              "#ed7953"
             ],
             [
              0.7777777777777778,
              "#fb9f3a"
             ],
             [
              0.8888888888888888,
              "#fdca26"
             ],
             [
              1,
              "#f0f921"
             ]
            ],
            "type": "heatmap"
           }
          ],
          "heatmapgl": [
           {
            "colorbar": {
             "outlinewidth": 0,
             "ticks": ""
            },
            "colorscale": [
             [
              0,
              "#0d0887"
             ],
             [
              0.1111111111111111,
              "#46039f"
             ],
             [
              0.2222222222222222,
              "#7201a8"
             ],
             [
              0.3333333333333333,
              "#9c179e"
             ],
             [
              0.4444444444444444,
              "#bd3786"
             ],
             [
              0.5555555555555556,
              "#d8576b"
             ],
             [
              0.6666666666666666,
              "#ed7953"
             ],
             [
              0.7777777777777778,
              "#fb9f3a"
             ],
             [
              0.8888888888888888,
              "#fdca26"
             ],
             [
              1,
              "#f0f921"
             ]
            ],
            "type": "heatmapgl"
           }
          ],
          "histogram": [
           {
            "marker": {
             "colorbar": {
              "outlinewidth": 0,
              "ticks": ""
             }
            },
            "type": "histogram"
           }
          ],
          "histogram2d": [
           {
            "colorbar": {
             "outlinewidth": 0,
             "ticks": ""
            },
            "colorscale": [
             [
              0,
              "#0d0887"
             ],
             [
              0.1111111111111111,
              "#46039f"
             ],
             [
              0.2222222222222222,
              "#7201a8"
             ],
             [
              0.3333333333333333,
              "#9c179e"
             ],
             [
              0.4444444444444444,
              "#bd3786"
             ],
             [
              0.5555555555555556,
              "#d8576b"
             ],
             [
              0.6666666666666666,
              "#ed7953"
             ],
             [
              0.7777777777777778,
              "#fb9f3a"
             ],
             [
              0.8888888888888888,
              "#fdca26"
             ],
             [
              1,
              "#f0f921"
             ]
            ],
            "type": "histogram2d"
           }
          ],
          "histogram2dcontour": [
           {
            "colorbar": {
             "outlinewidth": 0,
             "ticks": ""
            },
            "colorscale": [
             [
              0,
              "#0d0887"
             ],
             [
              0.1111111111111111,
              "#46039f"
             ],
             [
              0.2222222222222222,
              "#7201a8"
             ],
             [
              0.3333333333333333,
              "#9c179e"
             ],
             [
              0.4444444444444444,
              "#bd3786"
             ],
             [
              0.5555555555555556,
              "#d8576b"
             ],
             [
              0.6666666666666666,
              "#ed7953"
             ],
             [
              0.7777777777777778,
              "#fb9f3a"
             ],
             [
              0.8888888888888888,
              "#fdca26"
             ],
             [
              1,
              "#f0f921"
             ]
            ],
            "type": "histogram2dcontour"
           }
          ],
          "mesh3d": [
           {
            "colorbar": {
             "outlinewidth": 0,
             "ticks": ""
            },
            "type": "mesh3d"
           }
          ],
          "parcoords": [
           {
            "line": {
             "colorbar": {
              "outlinewidth": 0,
              "ticks": ""
             }
            },
            "type": "parcoords"
           }
          ],
          "scatter": [
           {
            "marker": {
             "colorbar": {
              "outlinewidth": 0,
              "ticks": ""
             }
            },
            "type": "scatter"
           }
          ],
          "scatter3d": [
           {
            "line": {
             "colorbar": {
              "outlinewidth": 0,
              "ticks": ""
             }
            },
            "marker": {
             "colorbar": {
              "outlinewidth": 0,
              "ticks": ""
             }
            },
            "type": "scatter3d"
           }
          ],
          "scattercarpet": [
           {
            "marker": {
             "colorbar": {
              "outlinewidth": 0,
              "ticks": ""
             }
            },
            "type": "scattercarpet"
           }
          ],
          "scattergeo": [
           {
            "marker": {
             "colorbar": {
              "outlinewidth": 0,
              "ticks": ""
             }
            },
            "type": "scattergeo"
           }
          ],
          "scattergl": [
           {
            "marker": {
             "colorbar": {
              "outlinewidth": 0,
              "ticks": ""
             }
            },
            "type": "scattergl"
           }
          ],
          "scattermapbox": [
           {
            "marker": {
             "colorbar": {
              "outlinewidth": 0,
              "ticks": ""
             }
            },
            "type": "scattermapbox"
           }
          ],
          "scatterpolar": [
           {
            "marker": {
             "colorbar": {
              "outlinewidth": 0,
              "ticks": ""
             }
            },
            "type": "scatterpolar"
           }
          ],
          "scatterpolargl": [
           {
            "marker": {
             "colorbar": {
              "outlinewidth": 0,
              "ticks": ""
             }
            },
            "type": "scatterpolargl"
           }
          ],
          "scatterternary": [
           {
            "marker": {
             "colorbar": {
              "outlinewidth": 0,
              "ticks": ""
             }
            },
            "type": "scatterternary"
           }
          ],
          "surface": [
           {
            "colorbar": {
             "outlinewidth": 0,
             "ticks": ""
            },
            "colorscale": [
             [
              0,
              "#0d0887"
             ],
             [
              0.1111111111111111,
              "#46039f"
             ],
             [
              0.2222222222222222,
              "#7201a8"
             ],
             [
              0.3333333333333333,
              "#9c179e"
             ],
             [
              0.4444444444444444,
              "#bd3786"
             ],
             [
              0.5555555555555556,
              "#d8576b"
             ],
             [
              0.6666666666666666,
              "#ed7953"
             ],
             [
              0.7777777777777778,
              "#fb9f3a"
             ],
             [
              0.8888888888888888,
              "#fdca26"
             ],
             [
              1,
              "#f0f921"
             ]
            ],
            "type": "surface"
           }
          ],
          "table": [
           {
            "cells": {
             "fill": {
              "color": "#EBF0F8"
             },
             "line": {
              "color": "white"
             }
            },
            "header": {
             "fill": {
              "color": "#C8D4E3"
             },
             "line": {
              "color": "white"
             }
            },
            "type": "table"
           }
          ]
         },
         "layout": {
          "annotationdefaults": {
           "arrowcolor": "#2a3f5f",
           "arrowhead": 0,
           "arrowwidth": 1
          },
          "colorscale": {
           "diverging": [
            [
             0,
             "#8e0152"
            ],
            [
             0.1,
             "#c51b7d"
            ],
            [
             0.2,
             "#de77ae"
            ],
            [
             0.3,
             "#f1b6da"
            ],
            [
             0.4,
             "#fde0ef"
            ],
            [
             0.5,
             "#f7f7f7"
            ],
            [
             0.6,
             "#e6f5d0"
            ],
            [
             0.7,
             "#b8e186"
            ],
            [
             0.8,
             "#7fbc41"
            ],
            [
             0.9,
             "#4d9221"
            ],
            [
             1,
             "#276419"
            ]
           ],
           "sequential": [
            [
             0,
             "#0d0887"
            ],
            [
             0.1111111111111111,
             "#46039f"
            ],
            [
             0.2222222222222222,
             "#7201a8"
            ],
            [
             0.3333333333333333,
             "#9c179e"
            ],
            [
             0.4444444444444444,
             "#bd3786"
            ],
            [
             0.5555555555555556,
             "#d8576b"
            ],
            [
             0.6666666666666666,
             "#ed7953"
            ],
            [
             0.7777777777777778,
             "#fb9f3a"
            ],
            [
             0.8888888888888888,
             "#fdca26"
            ],
            [
             1,
             "#f0f921"
            ]
           ],
           "sequentialminus": [
            [
             0,
             "#0d0887"
            ],
            [
             0.1111111111111111,
             "#46039f"
            ],
            [
             0.2222222222222222,
             "#7201a8"
            ],
            [
             0.3333333333333333,
             "#9c179e"
            ],
            [
             0.4444444444444444,
             "#bd3786"
            ],
            [
             0.5555555555555556,
             "#d8576b"
            ],
            [
             0.6666666666666666,
             "#ed7953"
            ],
            [
             0.7777777777777778,
             "#fb9f3a"
            ],
            [
             0.8888888888888888,
             "#fdca26"
            ],
            [
             1,
             "#f0f921"
            ]
           ]
          },
          "colorway": [
           "#636efa",
           "#EF553B",
           "#00cc96",
           "#ab63fa",
           "#FFA15A",
           "#19d3f3",
           "#FF6692",
           "#B6E880",
           "#FF97FF",
           "#FECB52"
          ],
          "font": {
           "color": "#2a3f5f"
          },
          "geo": {
           "bgcolor": "white",
           "lakecolor": "white",
           "landcolor": "#E5ECF6",
           "showlakes": true,
           "showland": true,
           "subunitcolor": "white"
          },
          "hoverlabel": {
           "align": "left"
          },
          "hovermode": "closest",
          "mapbox": {
           "style": "light"
          },
          "paper_bgcolor": "white",
          "plot_bgcolor": "#E5ECF6",
          "polar": {
           "angularaxis": {
            "gridcolor": "white",
            "linecolor": "white",
            "ticks": ""
           },
           "bgcolor": "#E5ECF6",
           "radialaxis": {
            "gridcolor": "white",
            "linecolor": "white",
            "ticks": ""
           }
          },
          "scene": {
           "xaxis": {
            "backgroundcolor": "#E5ECF6",
            "gridcolor": "white",
            "gridwidth": 2,
            "linecolor": "white",
            "showbackground": true,
            "ticks": "",
            "zerolinecolor": "white"
           },
           "yaxis": {
            "backgroundcolor": "#E5ECF6",
            "gridcolor": "white",
            "gridwidth": 2,
            "linecolor": "white",
            "showbackground": true,
            "ticks": "",
            "zerolinecolor": "white"
           },
           "zaxis": {
            "backgroundcolor": "#E5ECF6",
            "gridcolor": "white",
            "gridwidth": 2,
            "linecolor": "white",
            "showbackground": true,
            "ticks": "",
            "zerolinecolor": "white"
           }
          },
          "shapedefaults": {
           "line": {
            "color": "#2a3f5f"
           }
          },
          "ternary": {
           "aaxis": {
            "gridcolor": "white",
            "linecolor": "white",
            "ticks": ""
           },
           "baxis": {
            "gridcolor": "white",
            "linecolor": "white",
            "ticks": ""
           },
           "bgcolor": "#E5ECF6",
           "caxis": {
            "gridcolor": "white",
            "linecolor": "white",
            "ticks": ""
           }
          },
          "title": {
           "x": 0.05
          },
          "xaxis": {
           "automargin": true,
           "gridcolor": "white",
           "linecolor": "white",
           "ticks": "",
           "zerolinecolor": "white",
           "zerolinewidth": 2
          },
          "yaxis": {
           "automargin": true,
           "gridcolor": "white",
           "linecolor": "white",
           "ticks": "",
           "zerolinecolor": "white",
           "zerolinewidth": 2
          }
         }
        },
        "xaxis": {
         "showticklabels": false
        }
       }
      },
      "text/html": [
       "<div>\n",
       "        \n",
       "        \n",
       "            <div id=\"f9602f3f-2df1-4f6e-a0f8-3a31d8b6df85\" class=\"plotly-graph-div\" style=\"height:525px; width:100%;\"></div>\n",
       "            <script type=\"text/javascript\">\n",
       "                require([\"plotly\"], function(Plotly) {\n",
       "                    window.PLOTLYENV=window.PLOTLYENV || {};\n",
       "                    \n",
       "                if (document.getElementById(\"f9602f3f-2df1-4f6e-a0f8-3a31d8b6df85\")) {\n",
       "                    Plotly.newPlot(\n",
       "                        'f9602f3f-2df1-4f6e-a0f8-3a31d8b6df85',\n",
       "                        [{\"mode\": \"lines\", \"name\": \"total for foreign\", \"type\": \"scatter\", \"x\": [0, 1, 2, 3, 4, 5, 6, 7, 8, 9, 10, 11, 12, 13, 14, 15, 16, 17, 18, 19, 20, 21, 22, 23, 24, 25, 26, 27, 28, 29, 30, 31, 32, 33, 34, 35, 36, 37, 38, 39, 40, 41, 42, 43, 44, 45, 46, 47, 48, 49, 50, 51, 52, 53, 54, 55, 56, 57, 58, 59, 60, 61, 62, 63, 64, 65, 66, 67, 68, 69, 70, 71, 72, 73, 74, 75, 76, 77, 78, 79, 80, 81, 82, 83, 84, 85, 86, 87, 88, 89, 90, 91, 92, 93, 94, 95, 96, 97, 98, 99, 100, 101, 102, 103, 104, 105, 106, 107, 108, 109, 110, 111, 112, 113, 114, 115, 116, 117, 118, 119, 120, 121, 122, 123, 124, 125, 126, 127, 128, 129, 130, 131, 132, 133, 134, 135, 136, 137, 138, 139, 140, 141, 142, 143, 144, 145, 146, 147, 148, 149, 150, 151, 152, 153, 154, 155, 156, 157, 158, 159, 160, 161, 162, 163, 164, 165, 166, 167, 168, 169, 170, 171, 172, 173, 174, 175, 176, 177, 178, 179, 180, 181, 182, 183, 184, 185, 186, 187, 188, 189, 190, 191, 192, 193, 194, 195, 196, 197, 198, 199, 200, 201, 202, 203, 204, 205, 206, 207, 208, 209, 210, 211, 212, 213, 214, 215, 216, 217, 218, 219, 220, 221, 222, 223, 224, 225, 226, 227, 228, 229, 230, 231, 232, 233, 234, 235, 236, 237, 238, 239, 240, 241, 242, 243, 244, 245, 246, 247, 248, 249, 250, 251, 252, 253, 254, 255, 256, 257, 258, 259, 260, 261, 262, 263, 264, 265, 266, 267, 268, 269, 270, 271, 272, 273, 274, 275, 276, 277, 278, 279, 280, 281, 282, 283, 284, 285, 286, 287, 288, 289, 290, 291, 292, 293, 294, 295, 296, 297, 298, 299, 300, 301, 302, 303, 304, 305, 306, 307, 308, 309, 310, 311, 312, 313, 314, 315, 316, 317, 318, 319, 320, 321, 322, 323, 324, 325, 326, 327, 328, 329, 330, 331, 332, 333, 334, 335, 336, 337, 338, 339, 340, 341, 342, 343, 344, 345, 346, 347, 348, 349, 350, 351, 352, 353, 354, 355, 356, 357, 358, 359, 360, 361, 362, 363, 364, 365, 366, 367, 368, 369, 370, 371, 372, 373, 374, 375, 376, 377, 378, 379, 380, 381, 382, 383, 384, 385, 386, 387, 388, 389, 390, 391, 392, 393, 394, 395, 396, 397, 398, 399, 400, 401, 402, 403, 404, 405, 406, 407, 408, 409, 410, 411, 412, 413, 414, 415, 416, 417, 418, 419, 420, 421, 422, 423, 424, 425, 426, 427, 428, 429, 430, 431, 432, 433, 434, 435, 436, 437, 438, 439, 440, 441, 442, 443, 444, 445, 446, 447, 448, 449, 450, 451, 452, 453, 454, 455, 456, 457, 458, 459, 460, 461, 462, 463, 464, 465, 466, 467, 468, 469, 470, 471, 472, 473, 474, 475, 476, 477, 478, 479, 480, 481, 482, 483, 484, 485, 486, 487, 488, 489, 490, 491, 492, 493, 494, 495, 496, 497, 498, 499, 500, 501, 502, 503, 504, 505, 506], \"y\": [118812407.0, 128664984.0, 145291507.0, 111966241.0, 113115408.0, 116811866.0, 124387862.0, 137111937.0, 134269945.0, 108829531.0, 107049529.0, 128909402.0, 139733938.0, 126563357.0, 123529405.0, 120443492.0, 126755026.0, 138103890.0, 104913095.0, 100693364.0, 101915018.0, 105430000.0, 128143091.0, 98155000.0, 99170820.0, 96731645.0, 105124993.0, 122511908.0, 98341000.0, 97676863.0, 107824501.0, 112290970.0, 122640939.0, 122528444.0, 101845918.0, 114526451.0, 130162929.0, 134965686.0, 125.236564, 117.652579, 119.606286, 113714530.0, 118148597.0, 125114244.0, 128685660.0, 117774580.0, 131453428.0, 139804437.0, 119974114.0, 123527944.0, 115733000.0, 120290777.0, 137404464.0, 118883000.0, 123045643.0, 106274493.0, 114931893.0, 133065762.0, 109930442.0, 99003867.0, 89276098.0, 135154037.0, 149964577.0, 129843465.0, 119570799.0, 120314713.0, 135919888.0, 158662203.0, null, 136991294.0, 139135463.0, 153901759.0, 157662850.0, 129030013.0, 148000743.0, 140826651.0, 133443283.0, 137168091.0, 136601644.0, 146986500.0, 99269164.0, 130616254.0, 118158398.0, 148206874.0, 137148563.0, 141995510.0, 142586581.0, 143658296.0, 134177207.0, 130396806.0, 144890956.0, 153352208.0, 152095125.0, 141655003.0, 148677600.0, 154939620.0, 154469883.0, 142945065.0, 144799766.0, 144157380.0, 165611821.0, 164807165.0, 157987351.0, 154002309.0, 152188160.0, 163422578.0, 164540645.0, 156193094.0, 154182241.0, 145157818.0, 161344222.0, 158454132.0, 154103291.0, 153728986.0, 148648405.0, 158301893.0, 162318625.0, 159389397.0, 153991501.0, 146584174.0, 152141050.0, 160349700.0, 160457281.0, 159984108.0, 156565053.0, 171995251.0, 179880352.0, 157230472.0, 156151909.0, 148802938.0, 160866870.0, 162669517.0, 156795811.0, 148427137.0, 136783149.0, 117376624.0, 111755236.0, 143457854.0, 154028430.0, 142110715.0, 139774550.0, 131978864.0, 138056056.0, 151348257.0, 143395899.0, 145822900.0, 134063992.0, 139346400.0, 115279313.0, 118565000.0, 121045000.0, 115677000.0, 144620055.0, 147631150.0, 141088345.0, 142926500.0, 146460618.0, 156477640.0, 152546911.0, 136212276.0, 143567874.0, 143967400.0, 135931200.0, 103360618.0, 80111900.0, 111344033.0, 116802440.0, 140597160.0, 144767130.0, 161795403.0, 161681873.0, 151591804.0, 112796500.0, 126191273.0, 135171082.0, 144476489.0, 156073296.0, 144562906.0, 146509274.0, 139489470.0, 134916450.0, 134144498.0, 141052231.0, 128771948.0, 113601000.0, 121015226.0, 117043050.0, 117527000.0, 101209300.0, 81301191.0, 79968863.0, 83258000.0, 81866555.0, 87486242.0, 81555500.0, 85446195.0, 81838000.0, null, null, 84836457.0, 102564500.0, 124917512.0, null, 133537006.0, 127142233.0, 122863342.0, 123873400.0, 129603708.0, 121225408.0, 137104035.0, 137452151.0, 133967000.0, 139088930.0, 139837580.0, 141068450.0, 143509153.0, 144096200.0, 158105458.0, 151536377.0, 164687271.0, 157397418.0, 156388913.0, 153444033.0, 148455683.0, 157813954.0, 155410710.0, 149895406.0, 143689384.0, 129150812.0, 138758900.0, 141766928.0, 137225589.0, 165328439.0, 161572760.0, 163963068.0, 165435107.0, 139778722.0, 129387749.0, 129724285.0, 125617391.0, 92751000.0, 122356275.0, 138624956.0, 120693440.0, 92750000.0, null, 144596715.0, 180173661.0, 182286232.0, 174846485.0, 168404815.0, 165241119.0, 169998910.0, 161015027.0, 174421480.0, 156902584.0, 182569754.0, 147381019.0, 104937400.0, 190058455.0, 166793767.0, 175348374.0, 174865770.0, 167674850.0, 138577250.0, 94692035.0, 160179318.0, 126238475.0, 138830343.0, 151530346.0, 155554621.0, 159337439.0, 126051539.0, 140642278.0, 135205546.0, 126152006.0, 125367000.0, 147243893.0, 148394650.0, 152253390.0, 148049360.0, 154967987.0, 162919075.0, 144357915.0, 156030888.0, 167110216.0, 161345702.0, 158429032.0, 154496059.0, 155786985.0, 161077960.0, 140016142.0, 123251750.0, 115421820.0, 125725602.0, 198250489.0, 168578556.0, 165908513.0, 164746890.0, 168157269.0, 169403000.0, 168940984.0, 159960580.0, 169943344.0, 184877580.0, 171011200.0, 171372431.0, 160425750.0, 142781000.0, 162502694.0, 176956297.0, 181126612.0, 184300664.0, 186075095.0, 156592410.0, 158841162.0, 165095276.0, 173016982.0, 158821729.0, 163204950.0, 157155249.0, 161214500.0, 137366500.0, 181594663.0, 177773481.0, 176696650.0, 194026049.0, 183741250.0, 188487000.0, 201449869.0, 181656681.0, 162462350.0, 222068116.0, 187631200.0, 190458521.0, 181255000.0, 182216200.0, 139128200.0, 150163197.0, 92134000.0, 206480516.0, 200046800.0, 209859727.0, 258032865.0, 212203500.0, 207154610.0, 185266629.0, 198419200.0, 209593260.0, 209317624.0, 190194158.0, 199013459.0, 164198000.0, 165918827.0, 167281582.0, 157637511.0, 133121900.0, 120429996.0, 115199380.0, 117261040.0, 131618629.0, 122956661.0, 150661615.0, null, null, 157742129.0, 151241366.0, 149749851.0, 156211077.0, 154994565.0, 151974500.0, 140714520.0, 135400864.0, 120861000.0, 134102143.0, 149085273.0, 119795600.0, 122687877.0, 119487000.0, 135347618.0, 137052952.0, 147990450.0, 159681636.0, 175852780.0, 182454484.0, 171445941.0, 162598843.0, 167671250.0, 173410101.0, 168740600.0, 168740600.0, 162079733.0, 169335125.0, 161936405.0, 135939500.0, 183302394.0, 174007080.0, 183623735.0, 173480917.0, 159479003.0, 154746238.0, 134792300.0, 124793200.0, 158562800.0, 143376170.0, 161337120.0, 175418451.0, 177521000.0, 167850480.0, 179895960.0, 201702565.0, 174676078.0, 181758101.0, 165130400.0, 171098694.0, 178691875.0, 187936263.0, 195303156.0, 193946398.0, 188159926.0, 218870660.0, 208805597.0, 194029080.0, 136686000.0, 221136436.0, 197637220.0, 187276800.0, 175175236.0, 184383694.0, 178158030.0, 187001792.0, 188519094.0, 186989000.0, 181092000.0, 175713380.0, 195745265.0, 189628170.0, 176215500.0, 143769145.0, 144158763.0, 151971700.0, 123095450.0, 132940981.0, 125717810.0, 132687000.0, 103628000.0, 101656000.0, 133164600.0, 164628327.0, 184021100.0, 179738500.0, 163229220.0, 204193272.0, 203488065.0, 188096000.0, 190008290.0, 186000603.0, 186742550.0, 191437200.0, 190125639.0, 188499309.0, 179098578.0, 179676445.0, 164124280.0, 158538984.0, 179284950.0, 178591091.0, 0.0, 178040812.0, 158585350.0, 160226684.0, 152433090.0, 128780310.0, 172816623.0, 211895405.0, 153270700.0, 183131200.0, 194093050.0, 227378339.0, 218850361.0, 246632100.0, 234558450.0, 209603867.0, 199459242.0, 205993304.0, 204386646.0, 175187527.0, 135880500.0, 148322630.0, 143473309.0, 188403179.0, 187149922.0, 220692728.0, 210288945.0, 227502557.0, 240141196.0, 241277340.0, 204228628.0, 235146982.0, 207290570.0, 209379050.0, 210967957.0, 195326397.0, 225907675.0, 221015860.0, 231588396.0, 224964314.0]}, {\"mode\": \"lines\", \"name\": \"foreign total rolling avg\", \"type\": \"scatter\", \"x\": [0, 1, 2, 3, 4, 5, 6, 7, 8, 9, 10, 11, 12, 13, 14, 15, 16, 17, 18, 19, 20, 21, 22, 23, 24, 25, 26, 27, 28, 29, 30, 31, 32, 33, 34, 35, 36, 37, 38, 39, 40, 41, 42, 43, 44, 45, 46, 47, 48, 49, 50, 51, 52, 53, 54, 55, 56, 57, 58, 59, 60, 61, 62, 63, 64, 65, 66, 67, 68, 69, 70, 71, 72, 73, 74, 75, 76, 77, 78, 79, 80, 81, 82, 83, 84, 85, 86, 87, 88, 89, 90, 91, 92, 93, 94, 95, 96, 97, 98, 99, 100, 101, 102, 103, 104, 105, 106, 107, 108, 109, 110, 111, 112, 113, 114, 115, 116, 117, 118, 119, 120, 121, 122, 123, 124, 125, 126, 127, 128, 129, 130, 131, 132, 133, 134, 135, 136, 137, 138, 139, 140, 141, 142, 143, 144, 145, 146, 147, 148, 149, 150, 151, 152, 153, 154, 155, 156, 157, 158, 159, 160, 161, 162, 163, 164, 165, 166, 167, 168, 169, 170, 171, 172, 173, 174, 175, 176, 177, 178, 179, 180, 181, 182, 183, 184, 185, 186, 187, 188, 189, 190, 191, 192, 193, 194, 195, 196, 197, 198, 199, 200, 201, 202, 203, 204, 205, 206, 207, 208, 209, 210, 211, 212, 213, 214, 215, 216, 217, 218, 219, 220, 221, 222, 223, 224, 225, 226, 227, 228, 229, 230, 231, 232, 233, 234, 235, 236, 237, 238, 239, 240, 241, 242, 243, 244, 245, 246, 247, 248, 249, 250, 251, 252, 253, 254, 255, 256, 257, 258, 259, 260, 261, 262, 263, 264, 265, 266, 267, 268, 269, 270, 271, 272, 273, 274, 275, 276, 277, 278, 279, 280, 281, 282, 283, 284, 285, 286, 287, 288, 289, 290, 291, 292, 293, 294, 295, 296, 297, 298, 299, 300, 301, 302, 303, 304, 305, 306, 307, 308, 309, 310, 311, 312, 313, 314, 315, 316, 317, 318, 319, 320, 321, 322, 323, 324, 325, 326, 327, 328, 329, 330, 331, 332, 333, 334, 335, 336, 337, 338, 339, 340, 341, 342, 343, 344, 345, 346, 347, 348, 349, 350, 351, 352, 353, 354, 355, 356, 357, 358, 359, 360, 361, 362, 363, 364, 365, 366, 367, 368, 369, 370, 371, 372, 373, 374, 375, 376, 377, 378, 379, 380, 381, 382, 383, 384, 385, 386, 387, 388, 389, 390, 391, 392, 393, 394, 395, 396, 397, 398, 399, 400, 401, 402, 403, 404, 405, 406, 407, 408, 409, 410, 411, 412, 413, 414, 415, 416, 417, 418, 419, 420, 421, 422, 423, 424, 425, 426, 427, 428, 429, 430, 431, 432, 433, 434, 435, 436, 437, 438, 439, 440, 441, 442, 443, 444, 445, 446, 447, 448, 449, 450, 451, 452, 453, 454, 455, 456, 457, 458, 459, 460, 461, 462, 463, 464, 465, 466, 467, 468, 469, 470, 471, 472, 473, 474, 475, 476, 477, 478, 479, 480, 481, 482, 483, 484, 485, 486, 487, 488, 489, 490, 491, 492, 493, 494, 495, 496, 497, 498, 499, 500, 501, 502, 503, 504, 505, 506], \"y\": [null, null, null, null, null, null, null, null, null, null, null, null, null, null, 123961728.328125, 123854953.125, 123389233.28125, 123690854.25, 124556624.34375, 124716781.953125, 123870104.40625, 122540851.109375, 121297100.046875, 119965535.75, 118320388.84375, 115571388.75, 112859081.34375, 110928564.28125, 109533123.8125, 108346749.28125, 106770807.9375, 105763998.8125, 105554913.515625, 106395344.53125, 107181229.09375, 107501426.140625, 108374684.859375, 109951724.203125, 110161485.64432131, 108395827.98633918, 104347186.91595525, 99757753.45494632, 95474284.90018742, 91481023.37667848, 86967461.88441956, 81602651.50153562, 79976554.8456341, 82289445.24746445, 88393192.11472338, 94787990.98198229, 100890316.78674123, 106751841.65400013, 112772680.16188407, 119079448.76351798, 123200887.86884822, 124613979.109375, 124073691.984375, 123529098.671875, 122931584.09375, 122076828.21875, 120333835.3125, 118827758.296875, 117873661.265625, 117811734.796875, 117901075.9375, 117642153.53125, 117879981.1875, 119382578.3125, null, null, null, null, null, null, null, null, null, null, null, null, null, null, null, 137223036.40625, 135897465.03125, 134644559.625, 133524759.78125, 132461007.671875, 132855095.078125, 133220968.59375, 134470824.96875, 135685761.203125, 137076342.46875, 138386174.890625, 139697664.84375, 141237428.671875, 142548827.390625, 144059721.53125, 145151494.609375, 146019202.65625, 146864569.046875, 148077008.390625, 149339740.421875, 150411556.28125, 151130647.15625, 151973632.625, 153126494.171875, 154611082.9375, 155705886.140625, 156131915.765625, 156464931.640625, 156882152.734375, 157364949.671875, 157376323.09375, 156830929.03125, 156130426.921875, 155735643.0, 155870248.546875, 155837516.71875, 155549757.0625, 155201413.46875, 155107980.90625, 155447378.28125, 155780110.28125, 155895811.71875, 155986111.203125, 156595810.25, 157557325.796875, 158612171.03125, 159383149.453125, 159976014.015625, 160584553.484375, 161286598.109375, 161423424.484375, 160482343.765625, 158752198.265625, 156265685.078125, 153876073.109375, 151373210.6875, 148507157.46875, 145371541.453125, 142347172.953125, 140016087.421875, 138838525.03125, 138849046.015625, 138980037.78125, 138905935.828125, 139109872.734375, 139197028.765625, 139331597.4375, 139180479.1875, 137941190.78125, 136226644.453125, 134503398.1875, 133201851.78125, 131999436.859375, 131666967.90625, 132136475.578125, 133363998.359375, 135469748.21875, 137539930.3125, 139524612.40625, 141318958.59375, 142439148.8125, 142035432.421875, 140334118.421875, 137582079.703125, 134577691.109375, 131608481.21875, 128975079.96875, 126824613.375, 126045975.96875, 126814734.15625, 128520693.078125, 131072169.390625, 133615746.40625, 136317243.890625, 138470921.0625, 139985172.109375, 140556711.90625, 140963179.046875, 141261927.203125, 141365558.28125, 141163191.390625, 140120536.03125, 138979205.9375, 137614537.953125, 136095805.34375, 133704774.296875, 130363797.4375, 125976500.0, 121123430.578125, 116438140.078125, 111596891.703125, 106661560.109375, 101568129.53125, 96698696.609375, null, null, null, null, null, null, null, null, null, null, null, null, null, null, null, null, null, null, null, null, 134362674.0, 136212796.890625, 138536205.359375, 140959016.8125, 143375220.375, 145716119.765625, 147917036.109375, 149974936.234375, 151662583.6875, 153104524.9375, 153738369.96875, 153644791.65625, 153017129.8125, 152013644.71875, 150757399.875, 149404228.953125, 148189445.5, 147220109.4375, 146918642.28125, 147224589.4375, 147659581.3125, 148088861.65625, 148512234.125, 147684170.28125, 146147066.828125, 143994248.15625, 140802564.015625, 136709995.0, null, null, null, null, null, null, null, null, null, null, null, null, null, null, null, 165456775.546875, 164704429.75, 163493014.03125, 162813525.546875, 161442224.15625, 159676805.296875, 159766219.765625, 158470676.171875, 156788284.4375, 154509777.46875, 151922591.765625, 149036817.359375, 146642711.59375, 145789843.75, 143683605.75, 142573203.859375, 141689365.734375, 141110708.46875, 140721913.359375, 140352702.03125, 140522920.890625, 140199006.40625, 140698331.0, 141483474.0, 142958104.984375, 144810123.09375, 146976375.9375, 149349811.453125, 151480260.6875, 153399667.5625, 154857283.125, 155962591.15625, 156076601.90625, 155072570.171875, 153309614.1875, 152072374.0625, 150954443.28125, 149981864.53125, 149095380.234375, 148716441.25, 149570789.578125, 152069006.03125, 155658708.078125, 158183900.71875, 160743726.59375, 163225133.078125, 165752736.609375, 167719830.046875, 168549841.453125, 168443017.640625, 168066830.375, 168307680.8125, 168284844.6875, 168417652.4375, 168215998.28125, 168110389.921875, 168769410.875, 169693315.859375, 170068310.140625, 169988539.890625, 169493636.84375, 168374913.640625, 167186723.421875, 166378815.84375, 165420344.65625, 164355082.53125, 164123240.53125, 164492304.1875, 165775073.5625, 168074967.375, 171367300.109375, 174005167.0, 177137040.609375, 180382271.75, 183021692.765625, 185301386.4375, 186993540.25, 187083240.34375, 185988820.671875, 184094462.921875, 181264445.25, 178457568.984375, 176009579.1875, 174800091.1875, 174157136.0, 175550869.546875, 177985179.90625, 183179076.984375, 188665166.9375, 194102119.765625, 198928654.234375, 201633356.34375, 203119420.953125, 202898263.796875, 201847599.15625, 198499014.375, 193906927.96875, 187781115.75, 180790784.640625, 173445250.203125, 166340749.03125, 159209273.125, 152099126.59375, null, null, null, null, null, null, null, null, null, null, null, null, null, null, null, null, 139171577.671875, 136677680.65625, 135183948.9375, 134357697.15625, 133960071.703125, 135110483.140625, 137527531.328125, 141125819.25, 145313021.765625, 150042490.859375, 154672283.390625, 159043942.65625, 162782155.765625, 165336333.828125, 166980080.640625, 167533652.671875, 167826404.578125, 167560403.828125, 167202730.96875, 166777579.25, 166526994.984375, 166253449.34375, 165704363.5625, 165397669.078125, 164460181.8125, 163034758.78125, 161028558.40625, 158978564.546875, 157251113.296875, 155956367.1875, 155790492.40625, 157000487.390625, 158848808.5, 161775455.25, 165109600.359375, 168345975.296875, 171318738.953125, 174400589.1875, 177018432.171875, 178313376.21875, 179567235.421875, 180801260.6875, 182658440.90625, 184941404.609375, 186549731.59375, 188362970.921875, 189971942.5625, 191597891.84375, 192810270.21875, 192903906.015625, 191836248.625, 190300502.578125, 190230990.421875, 189109171.875, 187692364.515625, 186199091.1875, 185230110.34375, 184881933.28125, 184982272.421875, 184516902.828125, 182548510.96875, 180566527.484375, 177936866.96875, 174819566.15625, 170286679.65625, 164782142.4375, 158173777.5625, 151582904.90625, 145513378.625, 140188757.453125, 136722295.65625, 134655363.828125, 134268726.765625, 135889080.984375, 140203928.40625, 146527418.71875, 153910875.484375, 161430514.265625, 168040712.421875, 174102491.53125, 179998411.40625, 184531827.609375, 187123844.5625, 188233680.96875, 188050897.0625, 187105083.546875, 186000222.375, 184511848.5625, 179632505.09375, 174834965.78125, 170097993.015625, 165188673.28125, 160501116.359375, 155777667.953125, 151069676.9375, 147082786.28125, 148461463.421875, 150083091.890625, 152580047.359375, 156430149.953125, 161500697.25, 168877658.046875, 177320402.5, 185206961.765625, 191420362.3125, 197911445.921875, 204008559.15625, 208240946.34375, 210139159.59375, 208659853.15625, 204792625.34375, 200629942.0625, 195553229.6875, 190348975.4375, 185076107.171875, 181436142.6875, 180721655.65625, 182995671.4375, 187642194.40625, 193350350.046875, 199565536.4375, 205374268.109375, 211101385.921875, 215508328.890625, 218063799.71875, 218850267.578125, 219114929.953125, 218490116.21875]}],\n",
       "                        {\"shapes\": [{\"line\": {\"color\": \"black\", \"width\": 3}, \"name\": \"Snapback\", \"type\": \"line\", \"x0\": 100, \"x1\": 100, \"y0\": -30000000, \"y1\": 300000000}], \"template\": {\"data\": {\"bar\": [{\"error_x\": {\"color\": \"#2a3f5f\"}, \"error_y\": {\"color\": \"#2a3f5f\"}, \"marker\": {\"line\": {\"color\": \"#E5ECF6\", \"width\": 0.5}}, \"type\": \"bar\"}], \"barpolar\": [{\"marker\": {\"line\": {\"color\": \"#E5ECF6\", \"width\": 0.5}}, \"type\": \"barpolar\"}], \"carpet\": [{\"aaxis\": {\"endlinecolor\": \"#2a3f5f\", \"gridcolor\": \"white\", \"linecolor\": \"white\", \"minorgridcolor\": \"white\", \"startlinecolor\": \"#2a3f5f\"}, \"baxis\": {\"endlinecolor\": \"#2a3f5f\", \"gridcolor\": \"white\", \"linecolor\": \"white\", \"minorgridcolor\": \"white\", \"startlinecolor\": \"#2a3f5f\"}, \"type\": \"carpet\"}], \"choropleth\": [{\"colorbar\": {\"outlinewidth\": 0, \"ticks\": \"\"}, \"type\": \"choropleth\"}], \"contour\": [{\"colorbar\": {\"outlinewidth\": 0, \"ticks\": \"\"}, \"colorscale\": [[0.0, \"#0d0887\"], [0.1111111111111111, \"#46039f\"], [0.2222222222222222, \"#7201a8\"], [0.3333333333333333, \"#9c179e\"], [0.4444444444444444, \"#bd3786\"], [0.5555555555555556, \"#d8576b\"], [0.6666666666666666, \"#ed7953\"], [0.7777777777777778, \"#fb9f3a\"], [0.8888888888888888, \"#fdca26\"], [1.0, \"#f0f921\"]], \"type\": \"contour\"}], \"contourcarpet\": [{\"colorbar\": {\"outlinewidth\": 0, \"ticks\": \"\"}, \"type\": \"contourcarpet\"}], \"heatmap\": [{\"colorbar\": {\"outlinewidth\": 0, \"ticks\": \"\"}, \"colorscale\": [[0.0, \"#0d0887\"], [0.1111111111111111, \"#46039f\"], [0.2222222222222222, \"#7201a8\"], [0.3333333333333333, \"#9c179e\"], [0.4444444444444444, \"#bd3786\"], [0.5555555555555556, \"#d8576b\"], [0.6666666666666666, \"#ed7953\"], [0.7777777777777778, \"#fb9f3a\"], [0.8888888888888888, \"#fdca26\"], [1.0, \"#f0f921\"]], \"type\": \"heatmap\"}], \"heatmapgl\": [{\"colorbar\": {\"outlinewidth\": 0, \"ticks\": \"\"}, \"colorscale\": [[0.0, \"#0d0887\"], [0.1111111111111111, \"#46039f\"], [0.2222222222222222, \"#7201a8\"], [0.3333333333333333, \"#9c179e\"], [0.4444444444444444, \"#bd3786\"], [0.5555555555555556, \"#d8576b\"], [0.6666666666666666, \"#ed7953\"], [0.7777777777777778, \"#fb9f3a\"], [0.8888888888888888, \"#fdca26\"], [1.0, \"#f0f921\"]], \"type\": \"heatmapgl\"}], \"histogram\": [{\"marker\": {\"colorbar\": {\"outlinewidth\": 0, \"ticks\": \"\"}}, \"type\": \"histogram\"}], \"histogram2d\": [{\"colorbar\": {\"outlinewidth\": 0, \"ticks\": \"\"}, \"colorscale\": [[0.0, \"#0d0887\"], [0.1111111111111111, \"#46039f\"], [0.2222222222222222, \"#7201a8\"], [0.3333333333333333, \"#9c179e\"], [0.4444444444444444, \"#bd3786\"], [0.5555555555555556, \"#d8576b\"], [0.6666666666666666, \"#ed7953\"], [0.7777777777777778, \"#fb9f3a\"], [0.8888888888888888, \"#fdca26\"], [1.0, \"#f0f921\"]], \"type\": \"histogram2d\"}], \"histogram2dcontour\": [{\"colorbar\": {\"outlinewidth\": 0, \"ticks\": \"\"}, \"colorscale\": [[0.0, \"#0d0887\"], [0.1111111111111111, \"#46039f\"], [0.2222222222222222, \"#7201a8\"], [0.3333333333333333, \"#9c179e\"], [0.4444444444444444, \"#bd3786\"], [0.5555555555555556, \"#d8576b\"], [0.6666666666666666, \"#ed7953\"], [0.7777777777777778, \"#fb9f3a\"], [0.8888888888888888, \"#fdca26\"], [1.0, \"#f0f921\"]], \"type\": \"histogram2dcontour\"}], \"mesh3d\": [{\"colorbar\": {\"outlinewidth\": 0, \"ticks\": \"\"}, \"type\": \"mesh3d\"}], \"parcoords\": [{\"line\": {\"colorbar\": {\"outlinewidth\": 0, \"ticks\": \"\"}}, \"type\": \"parcoords\"}], \"scatter\": [{\"marker\": {\"colorbar\": {\"outlinewidth\": 0, \"ticks\": \"\"}}, \"type\": \"scatter\"}], \"scatter3d\": [{\"line\": {\"colorbar\": {\"outlinewidth\": 0, \"ticks\": \"\"}}, \"marker\": {\"colorbar\": {\"outlinewidth\": 0, \"ticks\": \"\"}}, \"type\": \"scatter3d\"}], \"scattercarpet\": [{\"marker\": {\"colorbar\": {\"outlinewidth\": 0, \"ticks\": \"\"}}, \"type\": \"scattercarpet\"}], \"scattergeo\": [{\"marker\": {\"colorbar\": {\"outlinewidth\": 0, \"ticks\": \"\"}}, \"type\": \"scattergeo\"}], \"scattergl\": [{\"marker\": {\"colorbar\": {\"outlinewidth\": 0, \"ticks\": \"\"}}, \"type\": \"scattergl\"}], \"scattermapbox\": [{\"marker\": {\"colorbar\": {\"outlinewidth\": 0, \"ticks\": \"\"}}, \"type\": \"scattermapbox\"}], \"scatterpolar\": [{\"marker\": {\"colorbar\": {\"outlinewidth\": 0, \"ticks\": \"\"}}, \"type\": \"scatterpolar\"}], \"scatterpolargl\": [{\"marker\": {\"colorbar\": {\"outlinewidth\": 0, \"ticks\": \"\"}}, \"type\": \"scatterpolargl\"}], \"scatterternary\": [{\"marker\": {\"colorbar\": {\"outlinewidth\": 0, \"ticks\": \"\"}}, \"type\": \"scatterternary\"}], \"surface\": [{\"colorbar\": {\"outlinewidth\": 0, \"ticks\": \"\"}, \"colorscale\": [[0.0, \"#0d0887\"], [0.1111111111111111, \"#46039f\"], [0.2222222222222222, \"#7201a8\"], [0.3333333333333333, \"#9c179e\"], [0.4444444444444444, \"#bd3786\"], [0.5555555555555556, \"#d8576b\"], [0.6666666666666666, \"#ed7953\"], [0.7777777777777778, \"#fb9f3a\"], [0.8888888888888888, \"#fdca26\"], [1.0, \"#f0f921\"]], \"type\": \"surface\"}], \"table\": [{\"cells\": {\"fill\": {\"color\": \"#EBF0F8\"}, \"line\": {\"color\": \"white\"}}, \"header\": {\"fill\": {\"color\": \"#C8D4E3\"}, \"line\": {\"color\": \"white\"}}, \"type\": \"table\"}]}, \"layout\": {\"annotationdefaults\": {\"arrowcolor\": \"#2a3f5f\", \"arrowhead\": 0, \"arrowwidth\": 1}, \"colorscale\": {\"diverging\": [[0, \"#8e0152\"], [0.1, \"#c51b7d\"], [0.2, \"#de77ae\"], [0.3, \"#f1b6da\"], [0.4, \"#fde0ef\"], [0.5, \"#f7f7f7\"], [0.6, \"#e6f5d0\"], [0.7, \"#b8e186\"], [0.8, \"#7fbc41\"], [0.9, \"#4d9221\"], [1, \"#276419\"]], \"sequential\": [[0.0, \"#0d0887\"], [0.1111111111111111, \"#46039f\"], [0.2222222222222222, \"#7201a8\"], [0.3333333333333333, \"#9c179e\"], [0.4444444444444444, \"#bd3786\"], [0.5555555555555556, \"#d8576b\"], [0.6666666666666666, \"#ed7953\"], [0.7777777777777778, \"#fb9f3a\"], [0.8888888888888888, \"#fdca26\"], [1.0, \"#f0f921\"]], \"sequentialminus\": [[0.0, \"#0d0887\"], [0.1111111111111111, \"#46039f\"], [0.2222222222222222, \"#7201a8\"], [0.3333333333333333, \"#9c179e\"], [0.4444444444444444, \"#bd3786\"], [0.5555555555555556, \"#d8576b\"], [0.6666666666666666, \"#ed7953\"], [0.7777777777777778, \"#fb9f3a\"], [0.8888888888888888, \"#fdca26\"], [1.0, \"#f0f921\"]]}, \"colorway\": [\"#636efa\", \"#EF553B\", \"#00cc96\", \"#ab63fa\", \"#FFA15A\", \"#19d3f3\", \"#FF6692\", \"#B6E880\", \"#FF97FF\", \"#FECB52\"], \"font\": {\"color\": \"#2a3f5f\"}, \"geo\": {\"bgcolor\": \"white\", \"lakecolor\": \"white\", \"landcolor\": \"#E5ECF6\", \"showlakes\": true, \"showland\": true, \"subunitcolor\": \"white\"}, \"hoverlabel\": {\"align\": \"left\"}, \"hovermode\": \"closest\", \"mapbox\": {\"style\": \"light\"}, \"paper_bgcolor\": \"white\", \"plot_bgcolor\": \"#E5ECF6\", \"polar\": {\"angularaxis\": {\"gridcolor\": \"white\", \"linecolor\": \"white\", \"ticks\": \"\"}, \"bgcolor\": \"#E5ECF6\", \"radialaxis\": {\"gridcolor\": \"white\", \"linecolor\": \"white\", \"ticks\": \"\"}}, \"scene\": {\"xaxis\": {\"backgroundcolor\": \"#E5ECF6\", \"gridcolor\": \"white\", \"gridwidth\": 2, \"linecolor\": \"white\", \"showbackground\": true, \"ticks\": \"\", \"zerolinecolor\": \"white\"}, \"yaxis\": {\"backgroundcolor\": \"#E5ECF6\", \"gridcolor\": \"white\", \"gridwidth\": 2, \"linecolor\": \"white\", \"showbackground\": true, \"ticks\": \"\", \"zerolinecolor\": \"white\"}, \"zaxis\": {\"backgroundcolor\": \"#E5ECF6\", \"gridcolor\": \"white\", \"gridwidth\": 2, \"linecolor\": \"white\", \"showbackground\": true, \"ticks\": \"\", \"zerolinecolor\": \"white\"}}, \"shapedefaults\": {\"line\": {\"color\": \"#2a3f5f\"}}, \"ternary\": {\"aaxis\": {\"gridcolor\": \"white\", \"linecolor\": \"white\", \"ticks\": \"\"}, \"baxis\": {\"gridcolor\": \"white\", \"linecolor\": \"white\", \"ticks\": \"\"}, \"bgcolor\": \"#E5ECF6\", \"caxis\": {\"gridcolor\": \"white\", \"linecolor\": \"white\", \"ticks\": \"\"}}, \"title\": {\"x\": 0.05}, \"xaxis\": {\"automargin\": true, \"gridcolor\": \"white\", \"linecolor\": \"white\", \"ticks\": \"\", \"zerolinecolor\": \"white\", \"zerolinewidth\": 2}, \"yaxis\": {\"automargin\": true, \"gridcolor\": \"white\", \"linecolor\": \"white\", \"ticks\": \"\", \"zerolinecolor\": \"white\", \"zerolinewidth\": 2}}}, \"xaxis\": {\"showticklabels\": false}},\n",
       "                        {\"responsive\": true}\n",
       "                    ).then(function(){\n",
       "                            \n",
       "var gd = document.getElementById('f9602f3f-2df1-4f6e-a0f8-3a31d8b6df85');\n",
       "var x = new MutationObserver(function (mutations, observer) {{\n",
       "        var display = window.getComputedStyle(gd).display;\n",
       "        if (!display || display === 'none') {{\n",
       "            console.log([gd, 'removed!']);\n",
       "            Plotly.purge(gd);\n",
       "            observer.disconnect();\n",
       "        }}\n",
       "}});\n",
       "\n",
       "// Listen for the removal of the full notebook cells\n",
       "var notebookContainer = gd.closest('#notebook-container');\n",
       "if (notebookContainer) {{\n",
       "    x.observe(notebookContainer, {childList: true});\n",
       "}}\n",
       "\n",
       "// Listen for the clearing of the current output cell\n",
       "var outputEl = gd.closest('.output');\n",
       "if (outputEl) {{\n",
       "    x.observe(outputEl, {childList: true});\n",
       "}}\n",
       "\n",
       "                        })\n",
       "                };\n",
       "                });\n",
       "            </script>\n",
       "        </div>"
      ]
     },
     "metadata": {},
     "output_type": "display_data"
    }
   ],
   "source": [
    "fig = go.Figure()\n",
    "fig.add_trace(go.Scatter(x=combined_df.index,y=combined_df.total_for_foreign,\n",
    "                        mode='lines',\n",
    "                        name='total for foreign'))\n",
    "# fig.add_trace(go.Scatter(x=combined_df.index,y=combined_df.total_cash,\n",
    "#                         mode='lines',\n",
    "#                         name='total cash'))\n",
    "# fig.add_trace(go.Scatter(x=combined_df.index,y=combined_df.grand_total,\n",
    "#                         mode='lines',\n",
    "#                         name='grand total'))\n",
    "fig.add_trace(go.Scatter(x=combined_df.index,y=combined_df.total_for_foreign.rolling(15, win_type='triang').mean(),\n",
    "                        mode='lines',\n",
    "                        name='foreign total rolling avg'))\n",
    "\n",
    "fig.update_xaxes(showticklabels=False)\n",
    "fig.update_layout(\n",
    "    shapes=[\n",
    "        go.layout.Shape(\n",
    "            type='line',\n",
    "            x0=100,\n",
    "            y0=-30000000,\n",
    "            x1=100,\n",
    "            y1=300000000,\n",
    "            line=dict(\n",
    "                color=\"black\",\n",
    "                width=3\n",
    "            ),\n",
    "            name='Snapback'\n",
    "        )\n",
    "    ]\n",
    ")\n",
    "\n",
    "\n",
    "fig.show()"
   ]
  },
  {
   "cell_type": "code",
   "execution_count": null,
   "metadata": {},
   "outputs": [],
   "source": []
  }
 ],
 "metadata": {
  "kernelspec": {
   "display_name": "Python 3",
   "language": "python",
   "name": "python3"
  },
  "language_info": {
   "codemirror_mode": {
    "name": "ipython",
    "version": 3
   },
   "file_extension": ".py",
   "mimetype": "text/x-python",
   "name": "python",
   "nbconvert_exporter": "python",
   "pygments_lexer": "ipython3",
   "version": "3.7.1"
  },
  "toc": {
   "base_numbering": 1,
   "nav_menu": {},
   "number_sections": false,
   "sideBar": true,
   "skip_h1_title": false,
   "title_cell": "Table of Contents",
   "title_sidebar": "Contents",
   "toc_cell": false,
   "toc_position": {
    "height": "calc(100% - 180px)",
    "left": "10px",
    "top": "150px",
    "width": "209.797px"
   },
   "toc_section_display": true,
   "toc_window_display": true
  },
  "varInspector": {
   "cols": {
    "lenName": 16,
    "lenType": 16,
    "lenVar": 40
   },
   "kernels_config": {
    "python": {
     "delete_cmd_postfix": "",
     "delete_cmd_prefix": "del ",
     "library": "var_list.py",
     "varRefreshCmd": "print(var_dic_list())"
    },
    "r": {
     "delete_cmd_postfix": ") ",
     "delete_cmd_prefix": "rm(",
     "library": "var_list.r",
     "varRefreshCmd": "cat(var_dic_list()) "
    }
   },
   "types_to_exclude": [
    "module",
    "function",
    "builtin_function_or_method",
    "instance",
    "_Feature"
   ],
   "window_display": false
  }
 },
 "nbformat": 4,
 "nbformat_minor": 2
}
