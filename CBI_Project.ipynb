{
 "cells": [
  {
   "cell_type": "code",
   "execution_count": 1,
   "metadata": {
    "ExecuteTime": {
     "end_time": "2019-09-12T00:06:20.618251Z",
     "start_time": "2019-09-12T00:06:15.701418Z"
    }
   },
   "outputs": [],
   "source": [
    "import requests\n",
    "from bs4 import BeautifulSoup\n",
    "import time\n",
    "import os\n",
    "import numpy as np\n",
    "import pandas as pd"
   ]
  },
  {
   "cell_type": "code",
   "execution_count": 2,
   "metadata": {
    "ExecuteTime": {
     "end_time": "2019-09-12T00:06:21.389608Z",
     "start_time": "2019-09-12T00:06:21.382241Z"
    }
   },
   "outputs": [],
   "source": [
    "partial_url = 'https://cbi.iq/currency_auction/view/'\n",
    "ua1 = \"Mozilla/5.0 (Windows NT 10.0; Win64; x64) AppleWebKit/537.36 (KHTML, like Gecko) \" \\\n",
    "      \"Chrome/66.0.3359.139 Safari/537.36\"\n",
    "headers = {\"User-Agent\": ua1}"
   ]
  },
  {
   "cell_type": "code",
   "execution_count": 31,
   "metadata": {
    "ExecuteTime": {
     "end_time": "2019-09-12T00:39:28.331540Z",
     "start_time": "2019-09-12T00:39:26.184599Z"
    }
   },
   "outputs": [
    {
     "name": "stdout",
     "output_type": "stream",
     "text": [
      "https://cbi.iq/currency_auction/view/124\n",
      "https://cbi.iq/currency_auction/view/125\n"
     ]
    },
    {
     "data": {
      "text/html": [
       "<div>\n",
       "<style scoped>\n",
       "    .dataframe tbody tr th:only-of-type {\n",
       "        vertical-align: middle;\n",
       "    }\n",
       "\n",
       "    .dataframe tbody tr th {\n",
       "        vertical-align: top;\n",
       "    }\n",
       "\n",
       "    .dataframe thead th {\n",
       "        text-align: right;\n",
       "    }\n",
       "</style>\n",
       "<table border=\"1\" class=\"dataframe\">\n",
       "  <thead>\n",
       "    <tr style=\"text-align: right;\">\n",
       "      <th></th>\n",
       "      <th>date</th>\n",
       "      <th>total_for_foreign</th>\n",
       "      <th>total_cash</th>\n",
       "      <th>grand_total</th>\n",
       "      <th>exchange_rate</th>\n",
       "    </tr>\n",
       "  </thead>\n",
       "  <tbody>\n",
       "    <tr>\n",
       "      <th>0</th>\n",
       "      <td>تـاريخ البيع - الثلاثاء 19-9-2017 والمنفذ يوم ...</td>\n",
       "      <td>118,812,407</td>\n",
       "      <td>2,160,000</td>\n",
       "      <td>162,772,407</td>\n",
       "      <td>سعر بيع المبالغ المحولة لحسابات المصارف في الخ...</td>\n",
       "    </tr>\n",
       "    <tr>\n",
       "      <th>1</th>\n",
       "      <td>تـاريخ البيع - الاربعاء 20-9-2017 والمنفذ يوم ...</td>\n",
       "      <td>128,664,984</td>\n",
       "      <td>810,000</td>\n",
       "      <td>163,974,984</td>\n",
       "      <td>سعر بيع المبالغ المحولة لحسابات المصارف في الخ...</td>\n",
       "    </tr>\n",
       "  </tbody>\n",
       "</table>\n",
       "</div>"
      ],
      "text/plain": [
       "                                                date total_for_foreign  \\\n",
       "0  تـاريخ البيع - الثلاثاء 19-9-2017 والمنفذ يوم ...       118,812,407   \n",
       "1  تـاريخ البيع - الاربعاء 20-9-2017 والمنفذ يوم ...       128,664,984   \n",
       "\n",
       "  total_cash  grand_total                                      exchange_rate  \n",
       "0  2,160,000  162,772,407  سعر بيع المبالغ المحولة لحسابات المصارف في الخ...  \n",
       "1    810,000  163,974,984  سعر بيع المبالغ المحولة لحسابات المصارف في الخ...  "
      ]
     },
     "execution_count": 31,
     "metadata": {},
     "output_type": "execute_result"
    }
   ],
   "source": [
    "# establish df outside the for loop\n",
    "df = pd.DataFrame(columns=['date','total_for_foreign','total_cash','grand_total','exchange_rate'])\n",
    "\n",
    "for page in range(124, 126):\n",
    "    # piece together each unique URL\n",
    "    whole_url = partial_url + str(page)\n",
    "    print(whole_url)\n",
    "\n",
    "    page = requests.get(whole_url, headers=headers, timeout=500)\n",
    "    soup = BeautifulSoup(page.content, \"html.parser\")\n",
    "    \n",
    "    info = soup.find_all('span', attrs={\"style\":\"font-family:Arial,Helvetica,sans-serif\"})\n",
    "    # put data into a list\n",
    "    data = [i.text for i in info]\n",
    "#     print(data)\n",
    "\n",
    "    \n",
    "    df = df.append({'date':data[1], 'total_for_foreign':data[5],'total_cash':data[7],'grand_total':data[9],\n",
    "        'exchange_rate':data[-3]}, ignore_index=True)\n",
    "#     print(df.head())\n",
    "    \n",
    "df.head()"
   ]
  },
  {
   "cell_type": "code",
   "execution_count": 4,
   "metadata": {
    "ExecuteTime": {
     "end_time": "2019-09-12T00:06:23.883651Z",
     "start_time": "2019-09-12T00:06:23.877082Z"
    },
    "scrolled": false
   },
   "outputs": [],
   "source": [
    "# print(soup)\n",
    "# /html/body/div/div[5]/div/div[2]/div/div/div/table/tbody/tr[2]/td[2]/pre/span\n",
    "# <span style=\"font-family:Arial,Helvetica,sans-serif\">162,772,407</span>"
   ]
  },
  {
   "cell_type": "code",
   "execution_count": 5,
   "metadata": {
    "ExecuteTime": {
     "end_time": "2019-09-12T00:06:24.737918Z",
     "start_time": "2019-09-12T00:06:24.714364Z"
    },
    "scrolled": false
   },
   "outputs": [
    {
     "data": {
      "text/plain": [
       "[<span style=\"font-family:Arial,Helvetica,sans-serif\"><span style=\"font-size:16px\"><strong>إعلان رقم (3529)</strong></span></span>,\n",
       " <span style=\"font-family:Arial,Helvetica,sans-serif\"><span style=\"font-size:14px\"><strong>تـاريخ البيع</strong> - الثلاثاء 19-9-2017 والمنفذ يوم الاثنين 18-9-2017</span></span>,\n",
       " <span style=\"font-family:Arial,Helvetica,sans-serif\"><strong>التفاصيل</strong> </span>,\n",
       " <span style=\"font-family:Arial,Helvetica,sans-serif\"><strong>المبلغ</strong></span>,\n",
       " <span style=\"font-family:Arial,Helvetica,sans-serif\">اجمالي البيع لأغراض تعزيز الارصدة في الخارج (حوالات،إعتمادات)</span>,\n",
       " <span style=\"font-family:Arial,Helvetica,sans-serif\">118,812,407</span>,\n",
       " <span style=\"font-family:Arial,Helvetica,sans-serif\">اجمالي البيع النقدي</span>,\n",
       " <span style=\"font-family:Arial,Helvetica,sans-serif\">2,160,000</span>,\n",
       " <span style=\"font-family:Arial,Helvetica,sans-serif\">اجمالي المبيعات الكلية</span>,\n",
       " <span style=\"font-family:Arial,Helvetica,sans-serif\">162,772,407</span>,\n",
       " <span style=\"font-family:Arial,Helvetica,sans-serif\"><strong>علماً أن :</strong></span>,\n",
       " <span style=\"font-family:Arial,Helvetica,sans-serif\">سعر بيع المبالغ المحولة لحسابات المصارف في الخارج (1190) دينار لكل دولار.</span>,\n",
       " <span style=\"font-family:Arial,Helvetica,sans-serif\">سعر البيع النقدي (1190) دينارلكل دولار.</span>,\n",
       " <span style=\"font-family:Arial,Helvetica,sans-serif\">* <a href=\"https://cbi.iq/static/uploads/up/file-150588804310786.pdf\">جدول مبيعات البنك المركزي العراقي للعملة الاجنبية (المبالغ بالاف الدولارات) ليوم الثلاثاء 19-9-2017 والمنفذ يوم الاثنين 18-9-2017</a></span>]"
      ]
     },
     "execution_count": 5,
     "metadata": {},
     "output_type": "execute_result"
    }
   ],
   "source": [
    "# soup.find_all('span', attrs={\"style\":\"font-family:Arial,Helvetica,sans-serif\"})[0:]\n",
    "info = soup.find_all('span', attrs={\"style\":\"font-family:Arial,Helvetica,sans-serif\"})\n",
    "info"
   ]
  },
  {
   "cell_type": "code",
   "execution_count": 6,
   "metadata": {
    "ExecuteTime": {
     "end_time": "2019-09-12T00:06:25.561294Z",
     "start_time": "2019-09-12T00:06:25.549602Z"
    }
   },
   "outputs": [
    {
     "name": "stdout",
     "output_type": "stream",
     "text": [
      "تـاريخ البيع - الثلاثاء 19-9-2017 والمنفذ يوم الاثنين 18-9-2017\n",
      "118,812,407\n",
      "2,160,000\n",
      "162,772,407\n",
      "سعر بيع المبالغ المحولة لحسابات المصارف في الخارج (1190) دينار لكل دولار.\n"
     ]
    }
   ],
   "source": [
    "data = [i.text for i in info]\n",
    "print(data[1])\n",
    "print(data[5])\n",
    "print(data[7])\n",
    "print(data[9])\n",
    "print(data[-3])"
   ]
  },
  {
   "cell_type": "code",
   "execution_count": 18,
   "metadata": {
    "ExecuteTime": {
     "end_time": "2019-09-12T00:34:28.832348Z",
     "start_time": "2019-09-12T00:34:28.814994Z"
    }
   },
   "outputs": [
    {
     "data": {
      "text/html": [
       "<div>\n",
       "<style scoped>\n",
       "    .dataframe tbody tr th:only-of-type {\n",
       "        vertical-align: middle;\n",
       "    }\n",
       "\n",
       "    .dataframe tbody tr th {\n",
       "        vertical-align: top;\n",
       "    }\n",
       "\n",
       "    .dataframe thead th {\n",
       "        text-align: right;\n",
       "    }\n",
       "</style>\n",
       "<table border=\"1\" class=\"dataframe\">\n",
       "  <thead>\n",
       "    <tr style=\"text-align: right;\">\n",
       "      <th></th>\n",
       "      <th>date</th>\n",
       "      <th>total_for_foreign</th>\n",
       "      <th>total_cash</th>\n",
       "      <th>grand_total</th>\n",
       "      <th>exchange_rate</th>\n",
       "    </tr>\n",
       "  </thead>\n",
       "  <tbody>\n",
       "    <tr>\n",
       "      <th>0</th>\n",
       "      <td>0    1\n",
       "1    2\n",
       "dtype: int64</td>\n",
       "      <td>0    1\n",
       "1    2\n",
       "dtype: int64</td>\n",
       "      <td>0    1\n",
       "1    2\n",
       "dtype: int64</td>\n",
       "      <td>0    1\n",
       "1    2\n",
       "dtype: int64</td>\n",
       "      <td>0    1\n",
       "1    2\n",
       "dtype: int64</td>\n",
       "    </tr>\n",
       "  </tbody>\n",
       "</table>\n",
       "</div>"
      ],
      "text/plain": [
       "                         date           total_for_foreign  \\\n",
       "0  0    1\n",
       "1    2\n",
       "dtype: int64  0    1\n",
       "1    2\n",
       "dtype: int64   \n",
       "\n",
       "                   total_cash                 grand_total  \\\n",
       "0  0    1\n",
       "1    2\n",
       "dtype: int64  0    1\n",
       "1    2\n",
       "dtype: int64   \n",
       "\n",
       "                exchange_rate  \n",
       "0  0    1\n",
       "1    2\n",
       "dtype: int64  "
      ]
     },
     "execution_count": 18,
     "metadata": {},
     "output_type": "execute_result"
    }
   ],
   "source": [
    "# append the columns we want to a data frame\n",
    "df.append({\n",
    "    'date':pd.Series([1,2]),\n",
    "    'total_for_foreign':pd.Series([1,2]),\n",
    "    'total_cash':pd.Series([1,2]),\n",
    "    'grand_total':pd.Series([1,2]),\n",
    "    'exchange_rate':pd.Series([1,2])}, ignore_index=True)"
   ]
  },
  {
   "cell_type": "code",
   "execution_count": 19,
   "metadata": {
    "ExecuteTime": {
     "end_time": "2019-09-12T00:35:40.360436Z",
     "start_time": "2019-09-12T00:35:40.347808Z"
    }
   },
   "outputs": [],
   "source": [
    "df = df.append({\n",
    "    'date':data[1],\n",
    "    'total_for_foreign':data[5],\n",
    "    'total_cash':data[7],\n",
    "    'grand_total':data[9],\n",
    "    'exchange_rate':data[-3]}, ignore_index=True)"
   ]
  }
 ],
 "metadata": {
  "kernelspec": {
   "display_name": "Python 3",
   "language": "python",
   "name": "python3"
  },
  "language_info": {
   "codemirror_mode": {
    "name": "ipython",
    "version": 3
   },
   "file_extension": ".py",
   "mimetype": "text/x-python",
   "name": "python",
   "nbconvert_exporter": "python",
   "pygments_lexer": "ipython3",
   "version": "3.7.1"
  },
  "toc": {
   "base_numbering": 1,
   "nav_menu": {},
   "number_sections": true,
   "sideBar": true,
   "skip_h1_title": false,
   "title_cell": "Table of Contents",
   "title_sidebar": "Contents",
   "toc_cell": false,
   "toc_position": {},
   "toc_section_display": true,
   "toc_window_display": false
  },
  "varInspector": {
   "cols": {
    "lenName": 16,
    "lenType": 16,
    "lenVar": 40
   },
   "kernels_config": {
    "python": {
     "delete_cmd_postfix": "",
     "delete_cmd_prefix": "del ",
     "library": "var_list.py",
     "varRefreshCmd": "print(var_dic_list())"
    },
    "r": {
     "delete_cmd_postfix": ") ",
     "delete_cmd_prefix": "rm(",
     "library": "var_list.r",
     "varRefreshCmd": "cat(var_dic_list()) "
    }
   },
   "types_to_exclude": [
    "module",
    "function",
    "builtin_function_or_method",
    "instance",
    "_Feature"
   ],
   "window_display": false
  }
 },
 "nbformat": 4,
 "nbformat_minor": 2
}
