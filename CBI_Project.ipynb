{
 "cells": [
  {
   "cell_type": "code",
   "execution_count": 55,
   "metadata": {},
   "outputs": [],
   "source": [
    "import requests\n",
    "from bs4 import BeautifulSoup\n",
    "import time\n",
    "import os\n",
    "import numpy as np\n",
    "import pandas as pd"
   ]
  },
  {
   "cell_type": "code",
   "execution_count": 2,
   "metadata": {},
   "outputs": [],
   "source": [
    "partial_url = 'https://cbi.iq/currency_auction/view/'\n",
    "ua1 = \"Mozilla/5.0 (Windows NT 10.0; Win64; x64) AppleWebKit/537.36 (KHTML, like Gecko) \" \\\n",
    "      \"Chrome/66.0.3359.139 Safari/537.36\"\n",
    "headers = {\"User-Agent\": ua1}"
   ]
  },
  {
   "cell_type": "code",
   "execution_count": 6,
   "metadata": {},
   "outputs": [
    {
     "name": "stdout",
     "output_type": "stream",
     "text": [
      "https://cbi.iq/currency_auction/view/124\n"
     ]
    }
   ],
   "source": [
    "for page in range(124, 125):\n",
    "    whole_url = partial_url + str(page)\n",
    "    print(whole_url)\n",
    "\n",
    "    page = requests.get(whole_url, headers=headers, timeout=500)\n",
    "    soup = BeautifulSoup(page.content, \"html.parser\")\n",
    "    "
   ]
  },
  {
   "cell_type": "code",
   "execution_count": 8,
   "metadata": {
    "scrolled": false
   },
   "outputs": [],
   "source": [
    "# print(soup)\n",
    "# /html/body/div/div[5]/div/div[2]/div/div/div/table/tbody/tr[2]/td[2]/pre/span\n",
    "# <span style=\"font-family:Arial,Helvetica,sans-serif\">162,772,407</span>"
   ]
  },
  {
   "cell_type": "code",
   "execution_count": 52,
   "metadata": {
    "scrolled": false
   },
   "outputs": [
    {
     "data": {
      "text/plain": [
       "[<span style=\"font-family:Arial,Helvetica,sans-serif\"><span style=\"font-size:16px\"><strong>إعلان رقم (3529)</strong></span></span>,\n",
       " <span style=\"font-family:Arial,Helvetica,sans-serif\"><span style=\"font-size:14px\"><strong>تـاريخ البيع</strong> - الثلاثاء 19-9-2017 والمنفذ يوم الاثنين 18-9-2017</span></span>,\n",
       " <span style=\"font-family:Arial,Helvetica,sans-serif\"><strong>التفاصيل</strong> </span>,\n",
       " <span style=\"font-family:Arial,Helvetica,sans-serif\"><strong>المبلغ</strong></span>,\n",
       " <span style=\"font-family:Arial,Helvetica,sans-serif\">اجمالي البيع لأغراض تعزيز الارصدة في الخارج (حوالات،إعتمادات)</span>,\n",
       " <span style=\"font-family:Arial,Helvetica,sans-serif\">118,812,407</span>,\n",
       " <span style=\"font-family:Arial,Helvetica,sans-serif\">اجمالي البيع النقدي</span>,\n",
       " <span style=\"font-family:Arial,Helvetica,sans-serif\">2,160,000</span>,\n",
       " <span style=\"font-family:Arial,Helvetica,sans-serif\">اجمالي المبيعات الكلية</span>,\n",
       " <span style=\"font-family:Arial,Helvetica,sans-serif\">162,772,407</span>,\n",
       " <span style=\"font-family:Arial,Helvetica,sans-serif\"><strong>علماً أن :</strong></span>,\n",
       " <span style=\"font-family:Arial,Helvetica,sans-serif\">سعر بيع المبالغ المحولة لحسابات المصارف في الخارج (1190) دينار لكل دولار.</span>,\n",
       " <span style=\"font-family:Arial,Helvetica,sans-serif\">سعر البيع النقدي (1190) دينارلكل دولار.</span>,\n",
       " <span style=\"font-family:Arial,Helvetica,sans-serif\">* <a href=\"https://cbi.iq/static/uploads/up/file-150588804310786.pdf\">جدول مبيعات البنك المركزي العراقي للعملة الاجنبية (المبالغ بالاف الدولارات) ليوم الثلاثاء 19-9-2017 والمنفذ يوم الاثنين 18-9-2017</a></span>]"
      ]
     },
     "execution_count": 52,
     "metadata": {},
     "output_type": "execute_result"
    }
   ],
   "source": [
    "# soup.find_all('span', attrs={\"style\":\"font-family:Arial,Helvetica,sans-serif\"})[0:]\n",
    "info = soup.find_all('span', attrs={\"style\":\"font-family:Arial,Helvetica,sans-serif\"})\n",
    "info"
   ]
  },
  {
   "cell_type": "code",
   "execution_count": 74,
   "metadata": {},
   "outputs": [
    {
     "name": "stdout",
     "output_type": "stream",
     "text": [
      "تـاريخ البيع - الثلاثاء 19-9-2017 والمنفذ يوم الاثنين 18-9-2017\n",
      "118,812,407\n",
      "2,160,000\n",
      "162,772,407\n",
      "سعر بيع المبالغ المحولة لحسابات المصارف في الخارج (1190) دينار لكل دولار.\n"
     ]
    }
   ],
   "source": [
    "data = [i.text for i in info]\n",
    "print(data[1])\n",
    "print(data[5])\n",
    "print(data[7])\n",
    "print(data[9])\n",
    "print(data[-3])"
   ]
  },
  {
   "cell_type": "code",
   "execution_count": 60,
   "metadata": {},
   "outputs": [],
   "source": [
    "# append the columns we want to a data frame\n",
    "df = pd.DataFrame(columns=['date','total_for_foreign','total_cash','grand_total'])"
   ]
  },
  {
   "cell_type": "code",
   "execution_count": 62,
   "metadata": {},
   "outputs": [
    {
     "data": {
      "text/html": [
       "<div>\n",
       "<style scoped>\n",
       "    .dataframe tbody tr th:only-of-type {\n",
       "        vertical-align: middle;\n",
       "    }\n",
       "\n",
       "    .dataframe tbody tr th {\n",
       "        vertical-align: top;\n",
       "    }\n",
       "\n",
       "    .dataframe thead th {\n",
       "        text-align: right;\n",
       "    }\n",
       "</style>\n",
       "<table border=\"1\" class=\"dataframe\">\n",
       "  <thead>\n",
       "    <tr style=\"text-align: right;\">\n",
       "      <th></th>\n",
       "      <th>date</th>\n",
       "      <th>total_for_foreign</th>\n",
       "      <th>total_cash</th>\n",
       "      <th>grand_total</th>\n",
       "    </tr>\n",
       "  </thead>\n",
       "  <tbody>\n",
       "  </tbody>\n",
       "</table>\n",
       "</div>"
      ],
      "text/plain": [
       "Empty DataFrame\n",
       "Columns: [date, total_for_foreign, total_cash, grand_total]\n",
       "Index: []"
      ]
     },
     "execution_count": 62,
     "metadata": {},
     "output_type": "execute_result"
    }
   ],
   "source": [
    "df"
   ]
  },
  {
   "cell_type": "code",
   "execution_count": null,
   "metadata": {},
   "outputs": [],
   "source": []
  }
 ],
 "metadata": {
  "kernelspec": {
   "display_name": "Python 3",
   "language": "python",
   "name": "python3"
  },
  "language_info": {
   "codemirror_mode": {
    "name": "ipython",
    "version": 3
   },
   "file_extension": ".py",
   "mimetype": "text/x-python",
   "name": "python",
   "nbconvert_exporter": "python",
   "pygments_lexer": "ipython3",
   "version": "3.7.3"
  }
 },
 "nbformat": 4,
 "nbformat_minor": 2
}
