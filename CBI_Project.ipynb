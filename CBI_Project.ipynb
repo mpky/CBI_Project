{
 "cells": [
  {
   "cell_type": "code",
   "execution_count": 15,
   "metadata": {
    "ExecuteTime": {
     "end_time": "2019-09-13T11:43:30.643027Z",
     "start_time": "2019-09-13T11:43:30.634542Z"
    }
   },
   "outputs": [],
   "source": [
    "import requests\n",
    "from bs4 import BeautifulSoup\n",
    "import time\n",
    "import os\n",
    "import numpy as np\n",
    "import pandas as pd\n",
    "import matplotlib.pyplot as plt"
   ]
  },
  {
   "cell_type": "code",
   "execution_count": 2,
   "metadata": {
    "ExecuteTime": {
     "end_time": "2019-09-13T11:36:20.142150Z",
     "start_time": "2019-09-13T11:36:20.135867Z"
    }
   },
   "outputs": [],
   "source": [
    "partial_url = 'https://cbi.iq/currency_auction/view/'\n",
    "ua1 = \"Mozilla/5.0 (Windows NT 10.0; Win64; x64) AppleWebKit/537.36 (KHTML, like Gecko) \" \\\n",
    "      \"Chrome/66.0.3359.139 Safari/537.36\"\n",
    "headers = {\"User-Agent\": ua1}"
   ]
  },
  {
   "cell_type": "code",
   "execution_count": 134,
   "metadata": {
    "ExecuteTime": {
     "end_time": "2019-09-12T02:13:11.261569Z",
     "start_time": "2019-09-12T02:13:10.175903Z"
    }
   },
   "outputs": [
    {
     "data": {
      "text/plain": [
       "[<span style=\"font-family:Arial,Helvetica,sans-serif\"><span style=\"font-size:16px\"><strong>إعلان رقم (3529)</strong></span></span>,\n",
       " <span style=\"font-family:Arial,Helvetica,sans-serif\"><span style=\"font-size:14px\"><strong>تـاريخ البيع</strong> - الثلاثاء 19-9-2017 والمنفذ يوم الاثنين 18-9-2017</span></span>,\n",
       " <span style=\"font-family:Arial,Helvetica,sans-serif\"><strong>التفاصيل</strong> </span>,\n",
       " <span style=\"font-family:Arial,Helvetica,sans-serif\"><strong>المبلغ</strong></span>,\n",
       " <span style=\"font-family:Arial,Helvetica,sans-serif\">اجمالي البيع لأغراض تعزيز الارصدة في الخارج (حوالات،إعتمادات)</span>,\n",
       " <span style=\"font-family:Arial,Helvetica,sans-serif\">118,812,407</span>,\n",
       " <span style=\"font-family:Arial,Helvetica,sans-serif\">اجمالي البيع النقدي</span>,\n",
       " <span style=\"font-family:Arial,Helvetica,sans-serif\">2,160,000</span>,\n",
       " <span style=\"font-family:Arial,Helvetica,sans-serif\">اجمالي المبيعات الكلية</span>,\n",
       " <span style=\"font-family:Arial,Helvetica,sans-serif\">162,772,407</span>,\n",
       " <span style=\"font-family:Arial,Helvetica,sans-serif\"><strong>علماً أن :</strong></span>,\n",
       " <span style=\"font-family:Arial,Helvetica,sans-serif\">سعر بيع المبالغ المحولة لحسابات المصارف في الخارج (1190) دينار لكل دولار.</span>,\n",
       " <span style=\"font-family:Arial,Helvetica,sans-serif\">سعر البيع النقدي (1190) دينارلكل دولار.</span>,\n",
       " <span style=\"font-family:Arial,Helvetica,sans-serif\">* <a href=\"https://cbi.iq/static/uploads/up/file-150588804310786.pdf\">جدول مبيعات البنك المركزي العراقي للعملة الاجنبية (المبالغ بالاف الدولارات) ليوم الثلاثاء 19-9-2017 والمنفذ يوم الاثنين 18-9-2017</a></span>]"
      ]
     },
     "execution_count": 134,
     "metadata": {},
     "output_type": "execute_result"
    }
   ],
   "source": [
    "whole_url = partial_url + '124'\n",
    "\n",
    "page = requests.get(whole_url, headers=headers, timeout=500)\n",
    "soup = BeautifulSoup(page.content, \"html.parser\")\n",
    "\n",
    "# soup.find_all('span', attrs={\"style\":\"font-family:Arial,Helvetica,sans-serif\"})[0:]\n",
    "info = soup.find_all('span', attrs={\"style\":\"font-family:Arial,Helvetica,sans-serif\"})\n",
    "info"
   ]
  },
  {
   "cell_type": "code",
   "execution_count": 135,
   "metadata": {
    "ExecuteTime": {
     "end_time": "2019-09-12T02:13:45.316311Z",
     "start_time": "2019-09-12T02:13:45.308319Z"
    }
   },
   "outputs": [
    {
     "name": "stdout",
     "output_type": "stream",
     "text": [
      "تـاريخ البيع - الثلاثاء 19-9-2017 والمنفذ يوم الاثنين 18-9-2017\n",
      "118,812,407\n",
      "2,160,000\n",
      "162,772,407\n",
      "سعر بيع المبالغ المحولة لحسابات المصارف في الخارج (1190) دينار لكل دولار.\n"
     ]
    }
   ],
   "source": [
    "data = [i.text for i in info]\n",
    "print(data[1])\n",
    "print(data[5])\n",
    "print(data[7])\n",
    "print(data[9])\n",
    "print(data[-3])"
   ]
  },
  {
   "cell_type": "markdown",
   "metadata": {},
   "source": [
    "### URLs 124 - 394"
   ]
  },
  {
   "cell_type": "markdown",
   "metadata": {},
   "source": [
    "#### Function to scrape and save (run in separate .py file)"
   ]
  },
  {
   "cell_type": "code",
   "execution_count": 128,
   "metadata": {
    "ExecuteTime": {
     "end_time": "2019-09-12T02:09:32.545037Z",
     "start_time": "2019-09-12T02:09:32.535516Z"
    },
    "scrolled": false
   },
   "outputs": [],
   "source": [
    "# establish df outside the for loop\n",
    "\n",
    "def scraper_124_394():\n",
    "    df = pd.DataFrame(columns=['date', 'total_for_foreign',\n",
    "                               'total_cash', 'grand_total', 'exchange_rate'])\n",
    "    for page in range(124, 395):\n",
    "\n",
    "        # piece together each unique URL\n",
    "        whole_url = partial_url + str(page)\n",
    "        print(whole_url)\n",
    "        try:\n",
    "            page = requests.get(whole_url, headers=headers, timeout=500)\n",
    "            soup = BeautifulSoup(page.content, \"html.parser\")\n",
    "\n",
    "            info = soup.find_all(\n",
    "                'span', attrs={\"style\": \"font-family:Arial,Helvetica,sans-serif\"})\n",
    "            # put data into a list\n",
    "            data = [i.text for i in info]\n",
    "            df = df.append({'date': data[1],\n",
    "                            'total_for_foreign': data[5],\n",
    "                            'total_cash': data[7],\n",
    "                            'grand_total': data[9],\n",
    "                            'exchange_rate': data[-3],\n",
    "                            'url':whole_url}, ignore_index=True)\n",
    "        except Exception:\n",
    "            print('No URL at that number')\n",
    "\n",
    "        time.sleep(1.2)\n",
    "    df.to_csv('124_394.csv',index=False)\n",
    "    return df"
   ]
  },
  {
   "cell_type": "code",
   "execution_count": 129,
   "metadata": {
    "ExecuteTime": {
     "end_time": "2019-09-12T02:09:38.420534Z",
     "start_time": "2019-09-12T02:09:38.265193Z"
    }
   },
   "outputs": [
    {
     "name": "stdout",
     "output_type": "stream",
     "text": [
      "124_394.csv       README.md         scraper124394.py\r\n",
      "CBI_Project.ipynb initial_df.csv\r\n"
     ]
    }
   ],
   "source": [
    "!ls"
   ]
  },
  {
   "cell_type": "code",
   "execution_count": 60,
   "metadata": {
    "ExecuteTime": {
     "end_time": "2019-09-12T01:21:05.166169Z",
     "start_time": "2019-09-12T01:21:05.155478Z"
    }
   },
   "outputs": [],
   "source": [
    "raw_data = pd.read_csv('initial_df.csv',index_col=False)"
   ]
  },
  {
   "cell_type": "code",
   "execution_count": 69,
   "metadata": {
    "ExecuteTime": {
     "end_time": "2019-09-12T01:22:37.970879Z",
     "start_time": "2019-09-12T01:22:37.962266Z"
    }
   },
   "outputs": [
    {
     "data": {
      "text/plain": [
       "4    سعر بيع المبالغ المحولة لحسابات المصارف في الخ...\n",
       "5    سعر بيع المبالغ المحولة لحسابات المصارف في الخ...\n",
       "Name: exchange_rate, dtype: object"
      ]
     },
     "execution_count": 69,
     "metadata": {},
     "output_type": "execute_result"
    }
   ],
   "source": [
    "raw_data.iloc[4:6,4]"
   ]
  },
  {
   "cell_type": "code",
   "execution_count": 130,
   "metadata": {
    "ExecuteTime": {
     "end_time": "2019-09-12T02:09:48.307710Z",
     "start_time": "2019-09-12T02:09:48.287103Z"
    }
   },
   "outputs": [
    {
     "data": {
      "text/html": [
       "<div>\n",
       "<style scoped>\n",
       "    .dataframe tbody tr th:only-of-type {\n",
       "        vertical-align: middle;\n",
       "    }\n",
       "\n",
       "    .dataframe tbody tr th {\n",
       "        vertical-align: top;\n",
       "    }\n",
       "\n",
       "    .dataframe thead th {\n",
       "        text-align: right;\n",
       "    }\n",
       "</style>\n",
       "<table border=\"1\" class=\"dataframe\">\n",
       "  <thead>\n",
       "    <tr style=\"text-align: right;\">\n",
       "      <th></th>\n",
       "      <th>date</th>\n",
       "      <th>total_for_foreign</th>\n",
       "      <th>total_cash</th>\n",
       "      <th>grand_total</th>\n",
       "      <th>exchange_rate</th>\n",
       "    </tr>\n",
       "  </thead>\n",
       "  <tbody>\n",
       "    <tr>\n",
       "      <th>250</th>\n",
       "      <td>تـاريخ البيع - ليوم الخميس 2018/9/6 والمنفذ يو...</td>\n",
       "      <td>168,404,815</td>\n",
       "      <td>31,100,000</td>\n",
       "      <td>اجمالي المبيعات الكلية</td>\n",
       "      <td>علماً أن :</td>\n",
       "    </tr>\n",
       "    <tr>\n",
       "      <th>251</th>\n",
       "      <td>تـاريخ البيع - ليوم الاحد 2018/9/9 والمنفذ يوم...</td>\n",
       "      <td>165,241,119</td>\n",
       "      <td>33,050,000\\r\\n</td>\n",
       "      <td>198,291,119</td>\n",
       "      <td>علماً أن :</td>\n",
       "    </tr>\n",
       "    <tr>\n",
       "      <th>252</th>\n",
       "      <td>تـاريخ البيع - ليوم الاثنين 2018/9/10 والمنفذ ...</td>\n",
       "      <td>169,998,910</td>\n",
       "      <td>37,350,000\\r\\n</td>\n",
       "      <td>207,348,910</td>\n",
       "      <td>علماً أن :</td>\n",
       "    </tr>\n",
       "    <tr>\n",
       "      <th>253</th>\n",
       "      <td>تـاريخ البيع - ليوم الثلاثاء 2018/9/11 والمنفذ...</td>\n",
       "      <td>161,015,027</td>\n",
       "      <td>34,350,000\\r\\n</td>\n",
       "      <td>195,365,027</td>\n",
       "      <td>علماً أن :</td>\n",
       "    </tr>\n",
       "    <tr>\n",
       "      <th>254</th>\n",
       "      <td>تـاريخ البيع - ليوم الاربعاء 2018/9/12 والمنفذ...</td>\n",
       "      <td>174,421,480</td>\n",
       "      <td>35,100,000\\r\\n</td>\n",
       "      <td>209,521,480</td>\n",
       "      <td>علماً أن :</td>\n",
       "    </tr>\n",
       "    <tr>\n",
       "      <th>255</th>\n",
       "      <td>تـاريخ البيع - ليوم الخميس 2018/9/13 والمنفذ ي...</td>\n",
       "      <td>156,902,584</td>\n",
       "      <td>30,800,000\\r\\n</td>\n",
       "      <td>187,702,584</td>\n",
       "      <td>علماً أن :</td>\n",
       "    </tr>\n",
       "    <tr>\n",
       "      <th>256</th>\n",
       "      <td>تـاريخ البيع - ليوم الأحد 2018/9/16 والمنفذ يو...</td>\n",
       "      <td>182,569,754</td>\n",
       "      <td>32,350,000\\r\\n</td>\n",
       "      <td>214,919,754</td>\n",
       "      <td>علماً أن :</td>\n",
       "    </tr>\n",
       "    <tr>\n",
       "      <th>257</th>\n",
       "      <td>تـاريخ البيع - ليوم الأثنين 2018/9/17 والمنفذ ...</td>\n",
       "      <td>147,381,019</td>\n",
       "      <td>38,000,000\\r\\n</td>\n",
       "      <td>185,381,019</td>\n",
       "      <td>علماً أن :</td>\n",
       "    </tr>\n",
       "    <tr>\n",
       "      <th>258</th>\n",
       "      <td>تـاريخ البيع - ليوم الثلاثاء 2018/9/18 والمنفذ...</td>\n",
       "      <td>104,937,400</td>\n",
       "      <td>32,250,000\\r\\n</td>\n",
       "      <td>137,187,400</td>\n",
       "      <td>علماً أن :</td>\n",
       "    </tr>\n",
       "    <tr>\n",
       "      <th>259</th>\n",
       "      <td>3789</td>\n",
       "      <td>الـمبلغ</td>\n",
       "      <td>190,058,455</td>\n",
       "      <td>35,900,000 \\r\\n</td>\n",
       "      <td>علماً أن :</td>\n",
       "    </tr>\n",
       "    <tr>\n",
       "      <th>260</th>\n",
       "      <td>3790</td>\n",
       "      <td>الـمبلغ</td>\n",
       "      <td>166,793,767</td>\n",
       "      <td>31,800,000 \\r\\n</td>\n",
       "      <td>علماً أن :</td>\n",
       "    </tr>\n",
       "    <tr>\n",
       "      <th>261</th>\n",
       "      <td>3791</td>\n",
       "      <td>الـمبلغ</td>\n",
       "      <td>175,348,374</td>\n",
       "      <td>32,900,000 \\r\\n</td>\n",
       "      <td>علماً أن :</td>\n",
       "    </tr>\n",
       "    <tr>\n",
       "      <th>262</th>\n",
       "      <td>3792</td>\n",
       "      <td>الـمبلغ</td>\n",
       "      <td>174,865,770</td>\n",
       "      <td>38,200,000 \\r\\n</td>\n",
       "      <td>علماً أن :</td>\n",
       "    </tr>\n",
       "    <tr>\n",
       "      <th>263</th>\n",
       "      <td>3793</td>\n",
       "      <td>الـمبلغ</td>\n",
       "      <td>167,674,850</td>\n",
       "      <td>34,450,000 \\r\\n</td>\n",
       "      <td>علماً أن :</td>\n",
       "    </tr>\n",
       "    <tr>\n",
       "      <th>264</th>\n",
       "      <td>3794</td>\n",
       "      <td>الـمبلغ</td>\n",
       "      <td>138,577,250</td>\n",
       "      <td>33,650,000\\r\\n</td>\n",
       "      <td>علماً أن :</td>\n",
       "    </tr>\n",
       "    <tr>\n",
       "      <th>265</th>\n",
       "      <td>3795</td>\n",
       "      <td>الـمبلغ</td>\n",
       "      <td>94,692,035</td>\n",
       "      <td>28,300,000\\r\\n</td>\n",
       "      <td>علماً أن :</td>\n",
       "    </tr>\n",
       "    <tr>\n",
       "      <th>266</th>\n",
       "      <td>3796</td>\n",
       "      <td>الـمبلغ</td>\n",
       "      <td>160,179,318</td>\n",
       "      <td>29,950,000\\r\\n</td>\n",
       "      <td>علماً أن :</td>\n",
       "    </tr>\n",
       "    <tr>\n",
       "      <th>267</th>\n",
       "      <td>3797</td>\n",
       "      <td>الـمبلغ</td>\n",
       "      <td>126,238,475</td>\n",
       "      <td>37,050,000\\r\\n</td>\n",
       "      <td>علماً أن :</td>\n",
       "    </tr>\n",
       "    <tr>\n",
       "      <th>268</th>\n",
       "      <td>3798</td>\n",
       "      <td>الـمبلغ</td>\n",
       "      <td>138,830,343</td>\n",
       "      <td>34,050,000\\r\\n</td>\n",
       "      <td>علماً أن :</td>\n",
       "    </tr>\n",
       "    <tr>\n",
       "      <th>269</th>\n",
       "      <td>3799</td>\n",
       "      <td>الـمبلغ</td>\n",
       "      <td>151,530,346</td>\n",
       "      <td>33,950,000\\r\\n</td>\n",
       "      <td>علماً أن :</td>\n",
       "    </tr>\n",
       "  </tbody>\n",
       "</table>\n",
       "</div>"
      ],
      "text/plain": [
       "                                                  date total_for_foreign  \\\n",
       "250  تـاريخ البيع - ليوم الخميس 2018/9/6 والمنفذ يو...       168,404,815   \n",
       "251  تـاريخ البيع - ليوم الاحد 2018/9/9 والمنفذ يوم...       165,241,119   \n",
       "252  تـاريخ البيع - ليوم الاثنين 2018/9/10 والمنفذ ...       169,998,910   \n",
       "253  تـاريخ البيع - ليوم الثلاثاء 2018/9/11 والمنفذ...       161,015,027   \n",
       "254  تـاريخ البيع - ليوم الاربعاء 2018/9/12 والمنفذ...       174,421,480   \n",
       "255  تـاريخ البيع - ليوم الخميس 2018/9/13 والمنفذ ي...       156,902,584   \n",
       "256  تـاريخ البيع - ليوم الأحد 2018/9/16 والمنفذ يو...       182,569,754   \n",
       "257  تـاريخ البيع - ليوم الأثنين 2018/9/17 والمنفذ ...       147,381,019   \n",
       "258  تـاريخ البيع - ليوم الثلاثاء 2018/9/18 والمنفذ...       104,937,400   \n",
       "259                                               3789           الـمبلغ   \n",
       "260                                               3790           الـمبلغ   \n",
       "261                                               3791           الـمبلغ   \n",
       "262                                               3792           الـمبلغ   \n",
       "263                                               3793           الـمبلغ   \n",
       "264                                               3794           الـمبلغ   \n",
       "265                                               3795           الـمبلغ   \n",
       "266                                               3796           الـمبلغ   \n",
       "267                                               3797           الـمبلغ   \n",
       "268                                               3798           الـمبلغ   \n",
       "269                                               3799           الـمبلغ   \n",
       "\n",
       "         total_cash             grand_total exchange_rate  \n",
       "250      31,100,000  اجمالي المبيعات الكلية    علماً أن :  \n",
       "251  33,050,000\\r\\n             198,291,119    علماً أن :  \n",
       "252  37,350,000\\r\\n             207,348,910    علماً أن :  \n",
       "253  34,350,000\\r\\n             195,365,027    علماً أن :  \n",
       "254  35,100,000\\r\\n             209,521,480    علماً أن :  \n",
       "255  30,800,000\\r\\n             187,702,584    علماً أن :  \n",
       "256  32,350,000\\r\\n             214,919,754    علماً أن :  \n",
       "257  38,000,000\\r\\n             185,381,019    علماً أن :  \n",
       "258  32,250,000\\r\\n             137,187,400    علماً أن :  \n",
       "259     190,058,455         35,900,000 \\r\\n    علماً أن :  \n",
       "260     166,793,767         31,800,000 \\r\\n    علماً أن :  \n",
       "261     175,348,374         32,900,000 \\r\\n    علماً أن :  \n",
       "262     174,865,770         38,200,000 \\r\\n    علماً أن :  \n",
       "263     167,674,850         34,450,000 \\r\\n    علماً أن :  \n",
       "264     138,577,250          33,650,000\\r\\n    علماً أن :  \n",
       "265      94,692,035          28,300,000\\r\\n    علماً أن :  \n",
       "266     160,179,318          29,950,000\\r\\n    علماً أن :  \n",
       "267     126,238,475          37,050,000\\r\\n    علماً أن :  \n",
       "268     138,830,343          34,050,000\\r\\n    علماً أن :  \n",
       "269     151,530,346          33,950,000\\r\\n    علماً أن :  "
      ]
     },
     "execution_count": 130,
     "metadata": {},
     "output_type": "execute_result"
    }
   ],
   "source": [
    "raw_data.iloc[250:270,:]"
   ]
  },
  {
   "cell_type": "markdown",
   "metadata": {},
   "source": [
    "#### Cleaning 124-394"
   ]
  },
  {
   "cell_type": "code",
   "execution_count": 3,
   "metadata": {
    "ExecuteTime": {
     "end_time": "2019-09-13T11:39:51.182662Z",
     "start_time": "2019-09-13T11:39:51.075395Z"
    }
   },
   "outputs": [],
   "source": [
    "raw_data1 = pd.read_csv('124_394.csv')"
   ]
  },
  {
   "cell_type": "code",
   "execution_count": 4,
   "metadata": {
    "ExecuteTime": {
     "end_time": "2019-09-13T11:39:52.445048Z",
     "start_time": "2019-09-13T11:39:52.416320Z"
    }
   },
   "outputs": [
    {
     "data": {
      "text/html": [
       "<div>\n",
       "<style scoped>\n",
       "    .dataframe tbody tr th:only-of-type {\n",
       "        vertical-align: middle;\n",
       "    }\n",
       "\n",
       "    .dataframe tbody tr th {\n",
       "        vertical-align: top;\n",
       "    }\n",
       "\n",
       "    .dataframe thead th {\n",
       "        text-align: right;\n",
       "    }\n",
       "</style>\n",
       "<table border=\"1\" class=\"dataframe\">\n",
       "  <thead>\n",
       "    <tr style=\"text-align: right;\">\n",
       "      <th></th>\n",
       "      <th>date</th>\n",
       "      <th>total_for_foreign</th>\n",
       "      <th>total_cash</th>\n",
       "      <th>grand_total</th>\n",
       "      <th>exchange_rate</th>\n",
       "      <th>url</th>\n",
       "    </tr>\n",
       "  </thead>\n",
       "  <tbody>\n",
       "    <tr>\n",
       "      <th>255</th>\n",
       "      <td>تـاريخ البيع - ليوم الخميس 2018/9/13 والمنفذ ي...</td>\n",
       "      <td>156,902,584</td>\n",
       "      <td>30,800,000\\r\\n</td>\n",
       "      <td>187,702,584</td>\n",
       "      <td>علماً أن :</td>\n",
       "      <td>https://cbi.iq/currency_auction/view/390</td>\n",
       "    </tr>\n",
       "    <tr>\n",
       "      <th>256</th>\n",
       "      <td>تـاريخ البيع - ليوم الأحد 2018/9/16 والمنفذ يو...</td>\n",
       "      <td>182,569,754</td>\n",
       "      <td>32,350,000\\r\\n</td>\n",
       "      <td>214,919,754</td>\n",
       "      <td>علماً أن :</td>\n",
       "      <td>https://cbi.iq/currency_auction/view/391</td>\n",
       "    </tr>\n",
       "    <tr>\n",
       "      <th>257</th>\n",
       "      <td>تـاريخ البيع - ليوم الأثنين 2018/9/17 والمنفذ ...</td>\n",
       "      <td>147,381,019</td>\n",
       "      <td>38,000,000\\r\\n</td>\n",
       "      <td>185,381,019</td>\n",
       "      <td>علماً أن :</td>\n",
       "      <td>https://cbi.iq/currency_auction/view/392</td>\n",
       "    </tr>\n",
       "    <tr>\n",
       "      <th>258</th>\n",
       "      <td>تـاريخ البيع - ليوم الثلاثاء 2018/9/18 والمنفذ...</td>\n",
       "      <td>104,937,400</td>\n",
       "      <td>32,250,000\\r\\n</td>\n",
       "      <td>137,187,400</td>\n",
       "      <td>علماً أن :</td>\n",
       "      <td>https://cbi.iq/currency_auction/view/393</td>\n",
       "    </tr>\n",
       "    <tr>\n",
       "      <th>259</th>\n",
       "      <td>3789</td>\n",
       "      <td>الـمبلغ</td>\n",
       "      <td>190,058,455</td>\n",
       "      <td>35,900,000 \\r\\n</td>\n",
       "      <td>علماً أن :</td>\n",
       "      <td>https://cbi.iq/currency_auction/view/394</td>\n",
       "    </tr>\n",
       "  </tbody>\n",
       "</table>\n",
       "</div>"
      ],
      "text/plain": [
       "                                                  date total_for_foreign  \\\n",
       "255  تـاريخ البيع - ليوم الخميس 2018/9/13 والمنفذ ي...       156,902,584   \n",
       "256  تـاريخ البيع - ليوم الأحد 2018/9/16 والمنفذ يو...       182,569,754   \n",
       "257  تـاريخ البيع - ليوم الأثنين 2018/9/17 والمنفذ ...       147,381,019   \n",
       "258  تـاريخ البيع - ليوم الثلاثاء 2018/9/18 والمنفذ...       104,937,400   \n",
       "259                                               3789           الـمبلغ   \n",
       "\n",
       "         total_cash      grand_total exchange_rate  \\\n",
       "255  30,800,000\\r\\n      187,702,584    علماً أن :   \n",
       "256  32,350,000\\r\\n      214,919,754    علماً أن :   \n",
       "257  38,000,000\\r\\n      185,381,019    علماً أن :   \n",
       "258  32,250,000\\r\\n      137,187,400    علماً أن :   \n",
       "259     190,058,455  35,900,000 \\r\\n    علماً أن :   \n",
       "\n",
       "                                          url  \n",
       "255  https://cbi.iq/currency_auction/view/390  \n",
       "256  https://cbi.iq/currency_auction/view/391  \n",
       "257  https://cbi.iq/currency_auction/view/392  \n",
       "258  https://cbi.iq/currency_auction/view/393  \n",
       "259  https://cbi.iq/currency_auction/view/394  "
      ]
     },
     "execution_count": 4,
     "metadata": {},
     "output_type": "execute_result"
    }
   ],
   "source": [
    "raw_data1.tail()"
   ]
  },
  {
   "cell_type": "code",
   "execution_count": 5,
   "metadata": {
    "ExecuteTime": {
     "end_time": "2019-09-13T11:40:04.209946Z",
     "start_time": "2019-09-13T11:40:04.204927Z"
    },
    "scrolled": false
   },
   "outputs": [],
   "source": [
    "# chop off last row\n",
    "raw_data1 = raw_data1.iloc[:259,]"
   ]
  },
  {
   "cell_type": "code",
   "execution_count": 6,
   "metadata": {
    "ExecuteTime": {
     "end_time": "2019-09-13T11:40:04.673587Z",
     "start_time": "2019-09-13T11:40:04.662227Z"
    }
   },
   "outputs": [
    {
     "data": {
      "text/html": [
       "<div>\n",
       "<style scoped>\n",
       "    .dataframe tbody tr th:only-of-type {\n",
       "        vertical-align: middle;\n",
       "    }\n",
       "\n",
       "    .dataframe tbody tr th {\n",
       "        vertical-align: top;\n",
       "    }\n",
       "\n",
       "    .dataframe thead th {\n",
       "        text-align: right;\n",
       "    }\n",
       "</style>\n",
       "<table border=\"1\" class=\"dataframe\">\n",
       "  <thead>\n",
       "    <tr style=\"text-align: right;\">\n",
       "      <th></th>\n",
       "      <th>date</th>\n",
       "      <th>total_for_foreign</th>\n",
       "      <th>total_cash</th>\n",
       "      <th>grand_total</th>\n",
       "      <th>exchange_rate</th>\n",
       "      <th>url</th>\n",
       "    </tr>\n",
       "  </thead>\n",
       "  <tbody>\n",
       "    <tr>\n",
       "      <th>254</th>\n",
       "      <td>تـاريخ البيع - ليوم الاربعاء 2018/9/12 والمنفذ...</td>\n",
       "      <td>174,421,480</td>\n",
       "      <td>35,100,000\\r\\n</td>\n",
       "      <td>209,521,480</td>\n",
       "      <td>علماً أن :</td>\n",
       "      <td>https://cbi.iq/currency_auction/view/389</td>\n",
       "    </tr>\n",
       "    <tr>\n",
       "      <th>255</th>\n",
       "      <td>تـاريخ البيع - ليوم الخميس 2018/9/13 والمنفذ ي...</td>\n",
       "      <td>156,902,584</td>\n",
       "      <td>30,800,000\\r\\n</td>\n",
       "      <td>187,702,584</td>\n",
       "      <td>علماً أن :</td>\n",
       "      <td>https://cbi.iq/currency_auction/view/390</td>\n",
       "    </tr>\n",
       "    <tr>\n",
       "      <th>256</th>\n",
       "      <td>تـاريخ البيع - ليوم الأحد 2018/9/16 والمنفذ يو...</td>\n",
       "      <td>182,569,754</td>\n",
       "      <td>32,350,000\\r\\n</td>\n",
       "      <td>214,919,754</td>\n",
       "      <td>علماً أن :</td>\n",
       "      <td>https://cbi.iq/currency_auction/view/391</td>\n",
       "    </tr>\n",
       "    <tr>\n",
       "      <th>257</th>\n",
       "      <td>تـاريخ البيع - ليوم الأثنين 2018/9/17 والمنفذ ...</td>\n",
       "      <td>147,381,019</td>\n",
       "      <td>38,000,000\\r\\n</td>\n",
       "      <td>185,381,019</td>\n",
       "      <td>علماً أن :</td>\n",
       "      <td>https://cbi.iq/currency_auction/view/392</td>\n",
       "    </tr>\n",
       "    <tr>\n",
       "      <th>258</th>\n",
       "      <td>تـاريخ البيع - ليوم الثلاثاء 2018/9/18 والمنفذ...</td>\n",
       "      <td>104,937,400</td>\n",
       "      <td>32,250,000\\r\\n</td>\n",
       "      <td>137,187,400</td>\n",
       "      <td>علماً أن :</td>\n",
       "      <td>https://cbi.iq/currency_auction/view/393</td>\n",
       "    </tr>\n",
       "  </tbody>\n",
       "</table>\n",
       "</div>"
      ],
      "text/plain": [
       "                                                  date total_for_foreign  \\\n",
       "254  تـاريخ البيع - ليوم الاربعاء 2018/9/12 والمنفذ...       174,421,480   \n",
       "255  تـاريخ البيع - ليوم الخميس 2018/9/13 والمنفذ ي...       156,902,584   \n",
       "256  تـاريخ البيع - ليوم الأحد 2018/9/16 والمنفذ يو...       182,569,754   \n",
       "257  تـاريخ البيع - ليوم الأثنين 2018/9/17 والمنفذ ...       147,381,019   \n",
       "258  تـاريخ البيع - ليوم الثلاثاء 2018/9/18 والمنفذ...       104,937,400   \n",
       "\n",
       "         total_cash   grand_total exchange_rate  \\\n",
       "254  35,100,000\\r\\n   209,521,480    علماً أن :   \n",
       "255  30,800,000\\r\\n   187,702,584    علماً أن :   \n",
       "256  32,350,000\\r\\n   214,919,754    علماً أن :   \n",
       "257  38,000,000\\r\\n   185,381,019    علماً أن :   \n",
       "258  32,250,000\\r\\n   137,187,400    علماً أن :   \n",
       "\n",
       "                                          url  \n",
       "254  https://cbi.iq/currency_auction/view/389  \n",
       "255  https://cbi.iq/currency_auction/view/390  \n",
       "256  https://cbi.iq/currency_auction/view/391  \n",
       "257  https://cbi.iq/currency_auction/view/392  \n",
       "258  https://cbi.iq/currency_auction/view/393  "
      ]
     },
     "execution_count": 6,
     "metadata": {},
     "output_type": "execute_result"
    }
   ],
   "source": [
    "raw_data1.tail()"
   ]
  },
  {
   "cell_type": "code",
   "execution_count": 7,
   "metadata": {
    "ExecuteTime": {
     "end_time": "2019-09-13T11:40:16.589937Z",
     "start_time": "2019-09-13T11:40:16.525643Z"
    }
   },
   "outputs": [
    {
     "data": {
      "text/html": [
       "<div>\n",
       "<style scoped>\n",
       "    .dataframe tbody tr th:only-of-type {\n",
       "        vertical-align: middle;\n",
       "    }\n",
       "\n",
       "    .dataframe tbody tr th {\n",
       "        vertical-align: top;\n",
       "    }\n",
       "\n",
       "    .dataframe thead th {\n",
       "        text-align: right;\n",
       "    }\n",
       "</style>\n",
       "<table border=\"1\" class=\"dataframe\">\n",
       "  <thead>\n",
       "    <tr style=\"text-align: right;\">\n",
       "      <th></th>\n",
       "      <th>date</th>\n",
       "      <th>total_for_foreign</th>\n",
       "      <th>total_cash</th>\n",
       "      <th>grand_total</th>\n",
       "      <th>exchange_rate</th>\n",
       "      <th>url</th>\n",
       "    </tr>\n",
       "  </thead>\n",
       "  <tbody>\n",
       "    <tr>\n",
       "      <th>254</th>\n",
       "      <td>تـاريخ البيع - ليوم الاربعاء 2018/9/12 والمنفذ...</td>\n",
       "      <td>174,421,480</td>\n",
       "      <td>35,100,000\\r\\n</td>\n",
       "      <td>209,521,480</td>\n",
       "      <td>علماً أن :</td>\n",
       "      <td>https://cbi.iq/currency_auction/view/389</td>\n",
       "    </tr>\n",
       "    <tr>\n",
       "      <th>255</th>\n",
       "      <td>تـاريخ البيع - ليوم الخميس 2018/9/13 والمنفذ ي...</td>\n",
       "      <td>156,902,584</td>\n",
       "      <td>30,800,000\\r\\n</td>\n",
       "      <td>187,702,584</td>\n",
       "      <td>علماً أن :</td>\n",
       "      <td>https://cbi.iq/currency_auction/view/390</td>\n",
       "    </tr>\n",
       "    <tr>\n",
       "      <th>256</th>\n",
       "      <td>تـاريخ البيع - ليوم الأحد 2018/9/16 والمنفذ يو...</td>\n",
       "      <td>182,569,754</td>\n",
       "      <td>32,350,000\\r\\n</td>\n",
       "      <td>214,919,754</td>\n",
       "      <td>علماً أن :</td>\n",
       "      <td>https://cbi.iq/currency_auction/view/391</td>\n",
       "    </tr>\n",
       "    <tr>\n",
       "      <th>257</th>\n",
       "      <td>تـاريخ البيع - ليوم الأثنين 2018/9/17 والمنفذ ...</td>\n",
       "      <td>147,381,019</td>\n",
       "      <td>38,000,000\\r\\n</td>\n",
       "      <td>185,381,019</td>\n",
       "      <td>علماً أن :</td>\n",
       "      <td>https://cbi.iq/currency_auction/view/392</td>\n",
       "    </tr>\n",
       "    <tr>\n",
       "      <th>258</th>\n",
       "      <td>تـاريخ البيع - ليوم الثلاثاء 2018/9/18 والمنفذ...</td>\n",
       "      <td>104,937,400</td>\n",
       "      <td>32,250,000\\r\\n</td>\n",
       "      <td>137,187,400</td>\n",
       "      <td>علماً أن :</td>\n",
       "      <td>https://cbi.iq/currency_auction/view/393</td>\n",
       "    </tr>\n",
       "  </tbody>\n",
       "</table>\n",
       "</div>"
      ],
      "text/plain": [
       "                                                  date total_for_foreign  \\\n",
       "254  تـاريخ البيع - ليوم الاربعاء 2018/9/12 والمنفذ...       174,421,480   \n",
       "255  تـاريخ البيع - ليوم الخميس 2018/9/13 والمنفذ ي...       156,902,584   \n",
       "256  تـاريخ البيع - ليوم الأحد 2018/9/16 والمنفذ يو...       182,569,754   \n",
       "257  تـاريخ البيع - ليوم الأثنين 2018/9/17 والمنفذ ...       147,381,019   \n",
       "258  تـاريخ البيع - ليوم الثلاثاء 2018/9/18 والمنفذ...       104,937,400   \n",
       "\n",
       "         total_cash   grand_total exchange_rate  \\\n",
       "254  35,100,000\\r\\n   209,521,480    علماً أن :   \n",
       "255  30,800,000\\r\\n   187,702,584    علماً أن :   \n",
       "256  32,350,000\\r\\n   214,919,754    علماً أن :   \n",
       "257  38,000,000\\r\\n   185,381,019    علماً أن :   \n",
       "258  32,250,000\\r\\n   137,187,400    علماً أن :   \n",
       "\n",
       "                                          url  \n",
       "254  https://cbi.iq/currency_auction/view/389  \n",
       "255  https://cbi.iq/currency_auction/view/390  \n",
       "256  https://cbi.iq/currency_auction/view/391  \n",
       "257  https://cbi.iq/currency_auction/view/392  \n",
       "258  https://cbi.iq/currency_auction/view/393  "
      ]
     },
     "execution_count": 7,
     "metadata": {},
     "output_type": "execute_result"
    }
   ],
   "source": [
    "# strip new lines\n",
    "raw_data1['total_for_foreign'] = raw_data1['total_for_foreign'].str.strip()\n",
    "raw_data1.tail()"
   ]
  },
  {
   "cell_type": "code",
   "execution_count": 8,
   "metadata": {
    "ExecuteTime": {
     "end_time": "2019-09-13T11:40:26.051859Z",
     "start_time": "2019-09-13T11:40:26.040071Z"
    }
   },
   "outputs": [
    {
     "data": {
      "text/html": [
       "<div>\n",
       "<style scoped>\n",
       "    .dataframe tbody tr th:only-of-type {\n",
       "        vertical-align: middle;\n",
       "    }\n",
       "\n",
       "    .dataframe tbody tr th {\n",
       "        vertical-align: top;\n",
       "    }\n",
       "\n",
       "    .dataframe thead th {\n",
       "        text-align: right;\n",
       "    }\n",
       "</style>\n",
       "<table border=\"1\" class=\"dataframe\">\n",
       "  <thead>\n",
       "    <tr style=\"text-align: right;\">\n",
       "      <th></th>\n",
       "      <th>date</th>\n",
       "      <th>total_for_foreign</th>\n",
       "      <th>total_cash</th>\n",
       "      <th>grand_total</th>\n",
       "      <th>exchange_rate</th>\n",
       "      <th>url</th>\n",
       "    </tr>\n",
       "  </thead>\n",
       "  <tbody>\n",
       "    <tr>\n",
       "      <th>254</th>\n",
       "      <td>تـاريخ البيع - ليوم الاربعاء 2018/9/12 والمنفذ...</td>\n",
       "      <td>174,421,480</td>\n",
       "      <td>35,100,000</td>\n",
       "      <td>209,521,480</td>\n",
       "      <td>علماً أن :</td>\n",
       "      <td>https://cbi.iq/currency_auction/view/389</td>\n",
       "    </tr>\n",
       "    <tr>\n",
       "      <th>255</th>\n",
       "      <td>تـاريخ البيع - ليوم الخميس 2018/9/13 والمنفذ ي...</td>\n",
       "      <td>156,902,584</td>\n",
       "      <td>30,800,000</td>\n",
       "      <td>187,702,584</td>\n",
       "      <td>علماً أن :</td>\n",
       "      <td>https://cbi.iq/currency_auction/view/390</td>\n",
       "    </tr>\n",
       "    <tr>\n",
       "      <th>256</th>\n",
       "      <td>تـاريخ البيع - ليوم الأحد 2018/9/16 والمنفذ يو...</td>\n",
       "      <td>182,569,754</td>\n",
       "      <td>32,350,000</td>\n",
       "      <td>214,919,754</td>\n",
       "      <td>علماً أن :</td>\n",
       "      <td>https://cbi.iq/currency_auction/view/391</td>\n",
       "    </tr>\n",
       "    <tr>\n",
       "      <th>257</th>\n",
       "      <td>تـاريخ البيع - ليوم الأثنين 2018/9/17 والمنفذ ...</td>\n",
       "      <td>147,381,019</td>\n",
       "      <td>38,000,000</td>\n",
       "      <td>185,381,019</td>\n",
       "      <td>علماً أن :</td>\n",
       "      <td>https://cbi.iq/currency_auction/view/392</td>\n",
       "    </tr>\n",
       "    <tr>\n",
       "      <th>258</th>\n",
       "      <td>تـاريخ البيع - ليوم الثلاثاء 2018/9/18 والمنفذ...</td>\n",
       "      <td>104,937,400</td>\n",
       "      <td>32,250,000</td>\n",
       "      <td>137,187,400</td>\n",
       "      <td>علماً أن :</td>\n",
       "      <td>https://cbi.iq/currency_auction/view/393</td>\n",
       "    </tr>\n",
       "  </tbody>\n",
       "</table>\n",
       "</div>"
      ],
      "text/plain": [
       "                                                  date total_for_foreign  \\\n",
       "254  تـاريخ البيع - ليوم الاربعاء 2018/9/12 والمنفذ...       174,421,480   \n",
       "255  تـاريخ البيع - ليوم الخميس 2018/9/13 والمنفذ ي...       156,902,584   \n",
       "256  تـاريخ البيع - ليوم الأحد 2018/9/16 والمنفذ يو...       182,569,754   \n",
       "257  تـاريخ البيع - ليوم الأثنين 2018/9/17 والمنفذ ...       147,381,019   \n",
       "258  تـاريخ البيع - ليوم الثلاثاء 2018/9/18 والمنفذ...       104,937,400   \n",
       "\n",
       "     total_cash   grand_total exchange_rate  \\\n",
       "254  35,100,000   209,521,480    علماً أن :   \n",
       "255  30,800,000   187,702,584    علماً أن :   \n",
       "256  32,350,000   214,919,754    علماً أن :   \n",
       "257  38,000,000   185,381,019    علماً أن :   \n",
       "258  32,250,000   137,187,400    علماً أن :   \n",
       "\n",
       "                                          url  \n",
       "254  https://cbi.iq/currency_auction/view/389  \n",
       "255  https://cbi.iq/currency_auction/view/390  \n",
       "256  https://cbi.iq/currency_auction/view/391  \n",
       "257  https://cbi.iq/currency_auction/view/392  \n",
       "258  https://cbi.iq/currency_auction/view/393  "
      ]
     },
     "execution_count": 8,
     "metadata": {},
     "output_type": "execute_result"
    }
   ],
   "source": [
    "raw_data1['total_cash'] = raw_data1['total_cash'].str.strip()\n",
    "raw_data1.tail()"
   ]
  },
  {
   "cell_type": "code",
   "execution_count": 9,
   "metadata": {
    "ExecuteTime": {
     "end_time": "2019-09-13T11:40:28.599535Z",
     "start_time": "2019-09-13T11:40:28.584067Z"
    }
   },
   "outputs": [
    {
     "data": {
      "text/html": [
       "<div>\n",
       "<style scoped>\n",
       "    .dataframe tbody tr th:only-of-type {\n",
       "        vertical-align: middle;\n",
       "    }\n",
       "\n",
       "    .dataframe tbody tr th {\n",
       "        vertical-align: top;\n",
       "    }\n",
       "\n",
       "    .dataframe thead th {\n",
       "        text-align: right;\n",
       "    }\n",
       "</style>\n",
       "<table border=\"1\" class=\"dataframe\">\n",
       "  <thead>\n",
       "    <tr style=\"text-align: right;\">\n",
       "      <th></th>\n",
       "      <th>date</th>\n",
       "      <th>total_for_foreign</th>\n",
       "      <th>total_cash</th>\n",
       "      <th>grand_total</th>\n",
       "      <th>exchange_rate</th>\n",
       "      <th>url</th>\n",
       "    </tr>\n",
       "  </thead>\n",
       "  <tbody>\n",
       "    <tr>\n",
       "      <th>254</th>\n",
       "      <td>تـاريخ البيع - ليوم الاربعاء 2018/9/12 والمنفذ...</td>\n",
       "      <td>174,421,480</td>\n",
       "      <td>35,100,000</td>\n",
       "      <td>209,521,480</td>\n",
       "      <td>علماً أن :</td>\n",
       "      <td>https://cbi.iq/currency_auction/view/389</td>\n",
       "    </tr>\n",
       "    <tr>\n",
       "      <th>255</th>\n",
       "      <td>تـاريخ البيع - ليوم الخميس 2018/9/13 والمنفذ ي...</td>\n",
       "      <td>156,902,584</td>\n",
       "      <td>30,800,000</td>\n",
       "      <td>187,702,584</td>\n",
       "      <td>علماً أن :</td>\n",
       "      <td>https://cbi.iq/currency_auction/view/390</td>\n",
       "    </tr>\n",
       "    <tr>\n",
       "      <th>256</th>\n",
       "      <td>تـاريخ البيع - ليوم الأحد 2018/9/16 والمنفذ يو...</td>\n",
       "      <td>182,569,754</td>\n",
       "      <td>32,350,000</td>\n",
       "      <td>214,919,754</td>\n",
       "      <td>علماً أن :</td>\n",
       "      <td>https://cbi.iq/currency_auction/view/391</td>\n",
       "    </tr>\n",
       "    <tr>\n",
       "      <th>257</th>\n",
       "      <td>تـاريخ البيع - ليوم الأثنين 2018/9/17 والمنفذ ...</td>\n",
       "      <td>147,381,019</td>\n",
       "      <td>38,000,000</td>\n",
       "      <td>185,381,019</td>\n",
       "      <td>علماً أن :</td>\n",
       "      <td>https://cbi.iq/currency_auction/view/392</td>\n",
       "    </tr>\n",
       "    <tr>\n",
       "      <th>258</th>\n",
       "      <td>تـاريخ البيع - ليوم الثلاثاء 2018/9/18 والمنفذ...</td>\n",
       "      <td>104,937,400</td>\n",
       "      <td>32,250,000</td>\n",
       "      <td>137,187,400</td>\n",
       "      <td>علماً أن :</td>\n",
       "      <td>https://cbi.iq/currency_auction/view/393</td>\n",
       "    </tr>\n",
       "  </tbody>\n",
       "</table>\n",
       "</div>"
      ],
      "text/plain": [
       "                                                  date total_for_foreign  \\\n",
       "254  تـاريخ البيع - ليوم الاربعاء 2018/9/12 والمنفذ...       174,421,480   \n",
       "255  تـاريخ البيع - ليوم الخميس 2018/9/13 والمنفذ ي...       156,902,584   \n",
       "256  تـاريخ البيع - ليوم الأحد 2018/9/16 والمنفذ يو...       182,569,754   \n",
       "257  تـاريخ البيع - ليوم الأثنين 2018/9/17 والمنفذ ...       147,381,019   \n",
       "258  تـاريخ البيع - ليوم الثلاثاء 2018/9/18 والمنفذ...       104,937,400   \n",
       "\n",
       "     total_cash  grand_total exchange_rate  \\\n",
       "254  35,100,000  209,521,480    علماً أن :   \n",
       "255  30,800,000  187,702,584    علماً أن :   \n",
       "256  32,350,000  214,919,754    علماً أن :   \n",
       "257  38,000,000  185,381,019    علماً أن :   \n",
       "258  32,250,000  137,187,400    علماً أن :   \n",
       "\n",
       "                                          url  \n",
       "254  https://cbi.iq/currency_auction/view/389  \n",
       "255  https://cbi.iq/currency_auction/view/390  \n",
       "256  https://cbi.iq/currency_auction/view/391  \n",
       "257  https://cbi.iq/currency_auction/view/392  \n",
       "258  https://cbi.iq/currency_auction/view/393  "
      ]
     },
     "execution_count": 9,
     "metadata": {},
     "output_type": "execute_result"
    }
   ],
   "source": [
    "raw_data1['grand_total'] = raw_data1['grand_total'].str.strip()\n",
    "raw_data1.tail()"
   ]
  },
  {
   "cell_type": "code",
   "execution_count": 10,
   "metadata": {
    "ExecuteTime": {
     "end_time": "2019-09-13T11:40:36.725955Z",
     "start_time": "2019-09-13T11:40:36.711923Z"
    }
   },
   "outputs": [],
   "source": [
    "# now to remove the commas and convert to int\n",
    "raw_data1['total_for_foreign'] = raw_data1.total_for_foreign.str.replace(',','')\n",
    "raw_data1['total_for_foreign'] = pd.to_numeric(raw_data1.total_for_foreign,errors='coerce')"
   ]
  },
  {
   "cell_type": "code",
   "execution_count": 11,
   "metadata": {
    "ExecuteTime": {
     "end_time": "2019-09-13T11:40:37.883661Z",
     "start_time": "2019-09-13T11:40:37.878937Z"
    }
   },
   "outputs": [],
   "source": [
    "raw_data1['total_cash'] = pd.to_numeric(raw_data1.total_cash.str.replace(',',''), errors='coerce')"
   ]
  },
  {
   "cell_type": "code",
   "execution_count": 12,
   "metadata": {
    "ExecuteTime": {
     "end_time": "2019-09-13T11:40:38.937450Z",
     "start_time": "2019-09-13T11:40:38.922827Z"
    }
   },
   "outputs": [
    {
     "name": "stdout",
     "output_type": "stream",
     "text": [
      "<class 'pandas.core.frame.DataFrame'>\n",
      "RangeIndex: 259 entries, 0 to 258\n",
      "Data columns (total 6 columns):\n",
      "date                 259 non-null object\n",
      "total_for_foreign    254 non-null float64\n",
      "total_cash           254 non-null float64\n",
      "grand_total          232 non-null float64\n",
      "exchange_rate        259 non-null object\n",
      "url                  259 non-null object\n",
      "dtypes: float64(3), object(3)\n",
      "memory usage: 12.2+ KB\n"
     ]
    }
   ],
   "source": [
    "raw_data1['grand_total'] = pd.to_numeric(raw_data1.grand_total.str.replace(',',''), errors='coerce')\n",
    "\n",
    "raw_data1.info()"
   ]
  },
  {
   "cell_type": "code",
   "execution_count": 13,
   "metadata": {
    "ExecuteTime": {
     "end_time": "2019-09-13T11:40:47.756543Z",
     "start_time": "2019-09-13T11:40:47.727917Z"
    }
   },
   "outputs": [
    {
     "data": {
      "text/html": [
       "<div>\n",
       "<style scoped>\n",
       "    .dataframe tbody tr th:only-of-type {\n",
       "        vertical-align: middle;\n",
       "    }\n",
       "\n",
       "    .dataframe tbody tr th {\n",
       "        vertical-align: top;\n",
       "    }\n",
       "\n",
       "    .dataframe thead th {\n",
       "        text-align: right;\n",
       "    }\n",
       "</style>\n",
       "<table border=\"1\" class=\"dataframe\">\n",
       "  <thead>\n",
       "    <tr style=\"text-align: right;\">\n",
       "      <th></th>\n",
       "      <th>date</th>\n",
       "      <th>total_for_foreign</th>\n",
       "      <th>total_cash</th>\n",
       "      <th>grand_total</th>\n",
       "      <th>exchange_rate</th>\n",
       "      <th>url</th>\n",
       "    </tr>\n",
       "  </thead>\n",
       "  <tbody>\n",
       "    <tr>\n",
       "      <th>254</th>\n",
       "      <td>تـاريخ البيع - ليوم الاربعاء 2018/9/12 والمنفذ...</td>\n",
       "      <td>174421480.0</td>\n",
       "      <td>35100000.0</td>\n",
       "      <td>209521480.0</td>\n",
       "      <td>علماً أن :</td>\n",
       "      <td>https://cbi.iq/currency_auction/view/389</td>\n",
       "    </tr>\n",
       "    <tr>\n",
       "      <th>255</th>\n",
       "      <td>تـاريخ البيع - ليوم الخميس 2018/9/13 والمنفذ ي...</td>\n",
       "      <td>156902584.0</td>\n",
       "      <td>30800000.0</td>\n",
       "      <td>187702584.0</td>\n",
       "      <td>علماً أن :</td>\n",
       "      <td>https://cbi.iq/currency_auction/view/390</td>\n",
       "    </tr>\n",
       "    <tr>\n",
       "      <th>256</th>\n",
       "      <td>تـاريخ البيع - ليوم الأحد 2018/9/16 والمنفذ يو...</td>\n",
       "      <td>182569754.0</td>\n",
       "      <td>32350000.0</td>\n",
       "      <td>214919754.0</td>\n",
       "      <td>علماً أن :</td>\n",
       "      <td>https://cbi.iq/currency_auction/view/391</td>\n",
       "    </tr>\n",
       "    <tr>\n",
       "      <th>257</th>\n",
       "      <td>تـاريخ البيع - ليوم الأثنين 2018/9/17 والمنفذ ...</td>\n",
       "      <td>147381019.0</td>\n",
       "      <td>38000000.0</td>\n",
       "      <td>185381019.0</td>\n",
       "      <td>علماً أن :</td>\n",
       "      <td>https://cbi.iq/currency_auction/view/392</td>\n",
       "    </tr>\n",
       "    <tr>\n",
       "      <th>258</th>\n",
       "      <td>تـاريخ البيع - ليوم الثلاثاء 2018/9/18 والمنفذ...</td>\n",
       "      <td>104937400.0</td>\n",
       "      <td>32250000.0</td>\n",
       "      <td>137187400.0</td>\n",
       "      <td>علماً أن :</td>\n",
       "      <td>https://cbi.iq/currency_auction/view/393</td>\n",
       "    </tr>\n",
       "  </tbody>\n",
       "</table>\n",
       "</div>"
      ],
      "text/plain": [
       "                                                  date  total_for_foreign  \\\n",
       "254  تـاريخ البيع - ليوم الاربعاء 2018/9/12 والمنفذ...        174421480.0   \n",
       "255  تـاريخ البيع - ليوم الخميس 2018/9/13 والمنفذ ي...        156902584.0   \n",
       "256  تـاريخ البيع - ليوم الأحد 2018/9/16 والمنفذ يو...        182569754.0   \n",
       "257  تـاريخ البيع - ليوم الأثنين 2018/9/17 والمنفذ ...        147381019.0   \n",
       "258  تـاريخ البيع - ليوم الثلاثاء 2018/9/18 والمنفذ...        104937400.0   \n",
       "\n",
       "     total_cash  grand_total exchange_rate  \\\n",
       "254  35100000.0  209521480.0    علماً أن :   \n",
       "255  30800000.0  187702584.0    علماً أن :   \n",
       "256  32350000.0  214919754.0    علماً أن :   \n",
       "257  38000000.0  185381019.0    علماً أن :   \n",
       "258  32250000.0  137187400.0    علماً أن :   \n",
       "\n",
       "                                          url  \n",
       "254  https://cbi.iq/currency_auction/view/389  \n",
       "255  https://cbi.iq/currency_auction/view/390  \n",
       "256  https://cbi.iq/currency_auction/view/391  \n",
       "257  https://cbi.iq/currency_auction/view/392  \n",
       "258  https://cbi.iq/currency_auction/view/393  "
      ]
     },
     "execution_count": 13,
     "metadata": {},
     "output_type": "execute_result"
    }
   ],
   "source": [
    "raw_data1.tail()"
   ]
  },
  {
   "cell_type": "code",
   "execution_count": 22,
   "metadata": {
    "ExecuteTime": {
     "end_time": "2019-09-13T11:46:52.933515Z",
     "start_time": "2019-09-13T11:46:52.889365Z"
    }
   },
   "outputs": [],
   "source": [
    "# output CSV with cleaned columns\n",
    "raw_data1.to_csv('range1_cleaned.csv',index=False)"
   ]
  },
  {
   "cell_type": "markdown",
   "metadata": {},
   "source": [
    "### Determining next range"
   ]
  },
  {
   "cell_type": "code",
   "execution_count": 25,
   "metadata": {
    "ExecuteTime": {
     "end_time": "2019-09-13T11:49:33.745623Z",
     "start_time": "2019-09-13T11:49:32.218819Z"
    }
   },
   "outputs": [
    {
     "name": "stdout",
     "output_type": "stream",
     "text": [
      "page 394\n",
      "https://cbi.iq/currency_auction/view/394\n"
     ]
    }
   ],
   "source": [
    "# Starts at 394, but doesn't go all the way to 643.\n",
    "# In fact, appears to change multiple times between 394 and 643\n",
    "\n",
    "for page in range(394, 395):\n",
    "    print('page {}'.format(page))\n",
    "    # piece together each unique URL\n",
    "    whole_url = partial_url + str(page)\n",
    "    print(whole_url)\n",
    "\n",
    "    page = requests.get(whole_url, headers=headers, timeout=500)\n",
    "    soup = BeautifulSoup(page.content, \"html.parser\")\n",
    "\n",
    "    info = soup.find_all(\n",
    "        'span', attrs={\"style\": \"font-family:Arial,Helvetica,sans-serif\"})\n",
    "\n",
    "    data = [i.text for i in info]\n",
    "\n",
    "    time.sleep(0.5)"
   ]
  },
  {
   "cell_type": "code",
   "execution_count": 27,
   "metadata": {
    "ExecuteTime": {
     "end_time": "2019-09-13T11:49:48.158789Z",
     "start_time": "2019-09-13T11:49:48.154348Z"
    }
   },
   "outputs": [
    {
     "name": "stdout",
     "output_type": "stream",
     "text": [
      "['إعلان رقم (', '3789', ')', 'تـاريخ البيع - ليوم الأربعاء 2018/9/19 والمنفذ يوم الثلاثاء 2018/9/18\\xa0 ', 'التفاصيل ', '    الـمبلغ', 'اجمالي البيع لأغراض تعزيز الارصدة في الخارج (حوالات،إعتمادات)', '190,058,455', 'اجمالي البيع النقدي', '35,900,000 \\r\\n', 'اجمالي المبيعات الكلية', ' 225,958,455', 'علماً أن :', 'سعر بيع المبالغ المحولة لحسابات المصارف في الخارج (1190)\\xa0دينار لكل دولار.', 'سعر البيع النقدي (1190)\\xa0دينارلكل دولار.']\n"
     ]
    }
   ],
   "source": [
    "print(data)"
   ]
  },
  {
   "cell_type": "code",
   "execution_count": 41,
   "metadata": {
    "ExecuteTime": {
     "end_time": "2019-09-13T11:52:13.097897Z",
     "start_time": "2019-09-13T11:52:13.091736Z"
    }
   },
   "outputs": [
    {
     "name": "stdout",
     "output_type": "stream",
     "text": [
      "تـاريخ البيع - ليوم الأربعاء 2018/9/19 والمنفذ يوم الثلاثاء 2018/9/18  \n",
      "190,058,455\n",
      "35,900,000 \r\n",
      "\n",
      " 225,958,455\n",
      "سعر البيع النقدي (1190) دينارلكل دولار.\n"
     ]
    }
   ],
   "source": [
    "# get date    \n",
    "print(data[3])\n",
    "# get total_for_foreign\n",
    "print(data[7])\n",
    "# # get total_cash\n",
    "print(data[9])\n",
    "# # get grand_total\n",
    "print(data[11])\n",
    "# # get exchange_rate\n",
    "print(data[14])"
   ]
  },
  {
   "cell_type": "code",
   "execution_count": 45,
   "metadata": {
    "ExecuteTime": {
     "end_time": "2019-09-13T12:03:10.543734Z",
     "start_time": "2019-09-13T12:02:53.762910Z"
    }
   },
   "outputs": [
    {
     "name": "stdout",
     "output_type": "stream",
     "text": [
      "page 494\n",
      "https://cbi.iq/currency_auction/view/494\n",
      "تـاريخ البيع - ليوم الأربعاء 2019/2/6 والمنفذ يوم الثلاثاء 2019/2/5  \n",
      "120,429,996\n",
      "25,440,000\n",
      "145,869,996\n",
      "سعر البيع النقدي (1190) دينارلكل دولار.\n",
      "page 495\n",
      "https://cbi.iq/currency_auction/view/495\n",
      "تـاريخ البيع - ليوم الخميس 2019/2/7 والمنفذ يوم الأربعاء 2019/2/6  \n",
      "115,199,380\n",
      "18,110,000\n",
      "133,309,380\n",
      "سعر البيع النقدي (1190) دينارلكل دولار.\n",
      "page 496\n",
      "https://cbi.iq/currency_auction/view/496\n",
      "تـاريخ البيع - ليوم الاحد 2019/2/10 والمنفذ يوم الخميس 2019/2/7  \n",
      "117,261,040\n",
      "19,690,000\n",
      "136,951,040\n",
      "سعر البيع النقدي (1190) دينارلكل دولار.\n",
      "page 497\n",
      "https://cbi.iq/currency_auction/view/497\n",
      "تـاريخ البيع - ليوم الأثنين 2019/2/11 والمنفذ يوم الأحد 2019/2/10  \n",
      "131,618,629\n",
      "26,750,000\n",
      "158,368,629\n",
      "سعر البيع النقدي (1190) دينارلكل دولار.\n",
      "page 498\n",
      "https://cbi.iq/currency_auction/view/498\n",
      "تـاريخ البيع - ليوم الثلاثاء 2019/2/12 والمنفذ يوم الأثنين 2019/2/11  \n",
      "122,956,661\n",
      "24,000,000\n",
      "146,956,661\n",
      "سعر البيع النقدي (1190) دينارلكل دولار.\n",
      "page 499\n",
      "https://cbi.iq/currency_auction/view/499\n",
      "تـاريخ البيع - ليوم الأربعاء 2019/2/13 والمنفذ يوم الثلاثاء 2019/2/12  \n",
      "150,661,615\n",
      "24,120,000\n",
      "174,781,615\n",
      "سعر البيع النقدي (1190) دينارلكل دولار.\n",
      "page 500\n",
      "https://cbi.iq/currency_auction/view/500\n",
      "تـاريخ البيع - ليوم الخميس 2019/2/14 والمنفذ يوم \n",
      "اجمالي البيع لأغراض تعزيز الارصدة في الخارج (حوالات،إعتمادات)\n",
      "اجمالي البيع النقدي\n",
      "اجمالي المبيعات الكلية\n",
      "سعر بيع المبالغ المحولة لحسابات المصارف في الخارج (1190) دينار لكل دولار.\n",
      "page 501\n",
      "https://cbi.iq/currency_auction/view/501\n",
      "تـاريخ البيع - ليوم الأحد 2019/2/17 والمنفذ يوم الخميس\n",
      "اجمالي البيع لأغراض تعزيز الارصدة في الخارج (حوالات،إعتمادات)\n",
      "اجمالي البيع النقدي\n",
      "اجمالي المبيعات الكلية\n",
      "سعر بيع المبالغ المحولة لحسابات المصارف في الخارج (1190) دينار لكل دولار.\n",
      "page 502\n",
      "https://cbi.iq/currency_auction/view/502\n",
      "تـاريخ البيع - ليوم الأثنين 2019/2/18 والمنفذ يوم الأحد 2019/2/17  \n",
      "157,742,129\n",
      "26,760,000\n",
      "184,502,129\n",
      "سعر البيع النقدي (1190) دينارلكل دولار.\n",
      "page 503\n",
      "https://cbi.iq/currency_auction/view/503\n",
      "تـاريخ البيع - ليوم الثلاثاء 2019/2/19 والمنفذ يوم الأثنين 2019/2/18  \n",
      "151,241,366\n",
      "23,230,000\n",
      "174,471,366\n",
      "سعر البيع النقدي (1190) دينارلكل دولار.\n"
     ]
    }
   ],
   "source": [
    "n = 494\n",
    "for page in range(n, n+10):\n",
    "    print('page {}'.format(page))\n",
    "    # piece together each unique URL\n",
    "    whole_url = partial_url + str(page)\n",
    "    print(whole_url)\n",
    "\n",
    "    page = requests.get(whole_url, headers=headers, timeout=500)\n",
    "    soup = BeautifulSoup(page.content, \"html.parser\")\n",
    "\n",
    "    info = soup.find_all(\n",
    "        'span', attrs={\"style\": \"font-family:Arial,Helvetica,sans-serif\"})\n",
    "\n",
    "    data = [i.text for i in info]\n",
    "\n",
    "    time.sleep(0.5)\n",
    "\n",
    "\n",
    "    # get date    \n",
    "    print(data[3])\n",
    "    # get total_for_foreign\n",
    "    print(data[7])\n",
    "    # # get total_cash\n",
    "    print(data[9])\n",
    "    # # get grand_total\n",
    "    print(data[11])\n",
    "    # # get exchange_rate\n",
    "    print(data[14])"
   ]
  },
  {
   "cell_type": "code",
   "execution_count": 48,
   "metadata": {
    "ExecuteTime": {
     "end_time": "2019-09-13T12:05:28.455995Z",
     "start_time": "2019-09-13T12:05:14.805768Z"
    }
   },
   "outputs": [
    {
     "name": "stdout",
     "output_type": "stream",
     "text": [
      "page 620\n",
      "https://cbi.iq/currency_auction/view/620\n",
      "تـاريخ البيع - ليوم الأثنين 2019/8/5 والمنفذ يوم الأحد 2019/8/4  \n",
      "199,459,242\n",
      "28,360,000\n",
      "227,819,242\n",
      "سعر البيع النقدي (1190) دينارلكل دولار.\n",
      "page 622\n",
      "https://cbi.iq/currency_auction/view/622\n",
      "تـاريخ البيع - ليوم الأربعاء 2019/8/7 والمنفذ يوم الثلاثاء 2019/8/6  \n",
      "204,386,646\n",
      "22,760,000\n",
      "227,146,646\n",
      "سعر البيع النقدي (1190) دينارلكل دولار.\n",
      "page 624\n",
      "https://cbi.iq/currency_auction/view/624\n",
      "تـاريخ البيع - ليوم الأحد 2019/8/18 والمنفذ يوم الخميس 2019/8/8  \n",
      "135,880,500\n",
      "19,290,000\n",
      "155,170,500\n",
      "سعر البيع النقدي (1190) دينارلكل دولار.\n",
      "page 626\n",
      "https://cbi.iq/currency_auction/view/626\n",
      "تـاريخ البيع - ليوم الثلاثاء 2019/8/20 والمنفذ يوم الأثنين 2019/8/19  \n",
      "143,473,309\n",
      "20,180,000\n",
      "163,653,309\n",
      "سعر البيع النقدي (1190) دينارلكل دولار.\n",
      "page 628\n",
      "https://cbi.iq/currency_auction/view/628\n",
      "تـاريخ البيع - ليوم الخميس 2019/8/22 والمنفذ يوم الأربعاء 2019/8/21  \n",
      "187,149,922\n",
      "24,470,000\n",
      "211,619,922\n",
      "سعر البيع النقدي (1190) دينارلكل دولار.\n",
      "page 630\n",
      "https://cbi.iq/currency_auction/view/630\n",
      "تـاريخ البيع - ليوم الأثنين 2019/8/26 والمنفذ يوم الأحد 2019/8/25  \n",
      "210,288,945\n",
      "26,420,000\n",
      "236,708,945\n",
      "سعر البيع النقدي (1190) دينارلكل دولار.\n",
      "page 632\n",
      "https://cbi.iq/currency_auction/view/632\n",
      "تـاريخ البيع - ليوم الأربعاء 2019/8/28 والمنفذ يوم الثلاثاء 2019/8/27  \n",
      "240,141,196\n",
      "24,950,000\n",
      "265,091,196\n",
      "سعر البيع النقدي (1190) دينارلكل دولار.\n",
      "page 634\n",
      "https://cbi.iq/currency_auction/view/634\n",
      "تـاريخ البيع - ليوم الأحد 2019/9/1 والمنفذ يوم الخميس 2019/8/29  \n",
      "204,228,628\n",
      "18,700,000\n",
      "222,928,628\n",
      "سعر البيع النقدي (1190) دينارلكل دولار.\n",
      "page 636\n",
      "https://cbi.iq/currency_auction/view/636\n",
      "تـاريخ البيع - ليوم الثلاثاء 2019/9/3 والمنفذ يوم الأثنين 2019/9/2  \n",
      "207,290,570\n",
      "20,220,000\n",
      "227,510,570\n",
      "سعر البيع النقدي (1190) دينارلكل دولار.\n",
      "page 638\n",
      "https://cbi.iq/currency_auction/view/638\n",
      "تـاريخ البيع - ليوم الخميس 2019/9/5 والمنفذ يوم الأربعاء 2019/9/4  \n",
      "210,967,957\n",
      "21,210,000\n",
      "232,177,957\n",
      "سعر البيع النقدي (1190) دينارلكل دولار.\n"
     ]
    }
   ],
   "source": [
    "n = 620\n",
    "for page in range(n, n+20,2):\n",
    "    print('page {}'.format(page))\n",
    "    # piece together each unique URL\n",
    "    whole_url = partial_url + str(page)\n",
    "    print(whole_url)\n",
    "\n",
    "    page = requests.get(whole_url, headers=headers, timeout=500)\n",
    "    soup = BeautifulSoup(page.content, \"html.parser\")\n",
    "\n",
    "    info = soup.find_all(\n",
    "        'span', attrs={\"style\": \"font-family:Arial,Helvetica,sans-serif\"})\n",
    "\n",
    "    data = [i.text for i in info]\n",
    "\n",
    "    time.sleep(0.5)\n",
    "\n",
    "\n",
    "    # get date    \n",
    "    print(data[3])\n",
    "    # get total_for_foreign\n",
    "    print(data[7])\n",
    "    # # get total_cash\n",
    "    print(data[9])\n",
    "    # # get grand_total\n",
    "    print(data[11])\n",
    "    # # get exchange_rate\n",
    "    print(data[14])"
   ]
  },
  {
   "cell_type": "markdown",
   "metadata": {},
   "source": [
    "Determination was that the range from 394 to 643 had a few gaps, but was otherwise standard"
   ]
  },
  {
   "cell_type": "code",
   "execution_count": 49,
   "metadata": {
    "ExecuteTime": {
     "end_time": "2019-09-14T01:08:08.482004Z",
     "start_time": "2019-09-14T01:08:08.154538Z"
    }
   },
   "outputs": [
    {
     "name": "stdout",
     "output_type": "stream",
     "text": [
      "124_394.csv        CBI_Project.ipynb  range1_cleaned.csv scraper_range2.py\r\n",
      "394_643.csv        README.md          scraper124394.py\r\n"
     ]
    }
   ],
   "source": [
    "!ls"
   ]
  },
  {
   "cell_type": "markdown",
   "metadata": {},
   "source": [
    "#### Cleaning 394-643"
   ]
  },
  {
   "cell_type": "code",
   "execution_count": 54,
   "metadata": {
    "ExecuteTime": {
     "end_time": "2019-09-14T01:09:23.399905Z",
     "start_time": "2019-09-14T01:09:23.387922Z"
    }
   },
   "outputs": [
    {
     "name": "stdout",
     "output_type": "stream",
     "text": [
      "<class 'pandas.core.frame.DataFrame'>\n",
      "RangeIndex: 248 entries, 0 to 247\n",
      "Data columns (total 6 columns):\n",
      "date                 248 non-null object\n",
      "total_for_foreign    248 non-null object\n",
      "total_cash           248 non-null object\n",
      "grand_total          248 non-null object\n",
      "exchange_rate        248 non-null object\n",
      "url                  248 non-null object\n",
      "dtypes: object(6)\n",
      "memory usage: 11.7+ KB\n"
     ]
    }
   ],
   "source": [
    "raw_data2 = pd.read_csv('394_643.csv')\n",
    "raw_data2.info()"
   ]
  },
  {
   "cell_type": "code",
   "execution_count": 59,
   "metadata": {
    "ExecuteTime": {
     "end_time": "2019-09-14T01:14:14.725397Z",
     "start_time": "2019-09-14T01:14:14.714510Z"
    }
   },
   "outputs": [],
   "source": [
    "raw_data2['total_for_foreign'] = raw_data2['total_for_foreign'].str.strip()\n",
    "raw_data2['total_cash'] = raw_data2['total_cash'].str.strip()\n",
    "raw_data2['grand_total'] = raw_data2['grand_total'].str.strip()"
   ]
  },
  {
   "cell_type": "code",
   "execution_count": 60,
   "metadata": {
    "ExecuteTime": {
     "end_time": "2019-09-14T01:14:20.125331Z",
     "start_time": "2019-09-14T01:14:20.113162Z"
    }
   },
   "outputs": [
    {
     "data": {
      "text/html": [
       "<div>\n",
       "<style scoped>\n",
       "    .dataframe tbody tr th:only-of-type {\n",
       "        vertical-align: middle;\n",
       "    }\n",
       "\n",
       "    .dataframe tbody tr th {\n",
       "        vertical-align: top;\n",
       "    }\n",
       "\n",
       "    .dataframe thead th {\n",
       "        text-align: right;\n",
       "    }\n",
       "</style>\n",
       "<table border=\"1\" class=\"dataframe\">\n",
       "  <thead>\n",
       "    <tr style=\"text-align: right;\">\n",
       "      <th></th>\n",
       "      <th>date</th>\n",
       "      <th>total_for_foreign</th>\n",
       "      <th>total_cash</th>\n",
       "      <th>grand_total</th>\n",
       "      <th>exchange_rate</th>\n",
       "      <th>url</th>\n",
       "    </tr>\n",
       "  </thead>\n",
       "  <tbody>\n",
       "    <tr>\n",
       "      <th>0</th>\n",
       "      <td>تـاريخ البيع - ليوم الأربعاء 2018/9/19 والمنفذ...</td>\n",
       "      <td>190,058,455</td>\n",
       "      <td>35,900,000</td>\n",
       "      <td>225,958,455</td>\n",
       "      <td>سعر البيع النقدي (1190) دينارلكل دولار.</td>\n",
       "      <td>https://cbi.iq/currency_auction/view/394</td>\n",
       "    </tr>\n",
       "    <tr>\n",
       "      <th>1</th>\n",
       "      <td>تـاريخ البيع - ليوم الخميس 2018/9/20 والمنفذ ي...</td>\n",
       "      <td>166,793,767</td>\n",
       "      <td>31,800,000</td>\n",
       "      <td>198,593,767</td>\n",
       "      <td>سعر البيع النقدي (1190) دينارلكل دولار.</td>\n",
       "      <td>https://cbi.iq/currency_auction/view/395</td>\n",
       "    </tr>\n",
       "    <tr>\n",
       "      <th>2</th>\n",
       "      <td>تـاريخ البيع - ليوم الأحد 2018/9/23 والمنفذ يو...</td>\n",
       "      <td>175,348,374</td>\n",
       "      <td>32,900,000</td>\n",
       "      <td></td>\n",
       "      <td>سعر بيع المبالغ المحولة لحسابات المصارف في الخ...</td>\n",
       "      <td>https://cbi.iq/currency_auction/view/396</td>\n",
       "    </tr>\n",
       "    <tr>\n",
       "      <th>3</th>\n",
       "      <td>تـاريخ البيع - ليوم الأثنين 2018/9/24 والمنفذ ...</td>\n",
       "      <td>174,865,770</td>\n",
       "      <td>38,200,000</td>\n",
       "      <td>213,065,770</td>\n",
       "      <td>سعر البيع النقدي (1190) دينارلكل دولار.</td>\n",
       "      <td>https://cbi.iq/currency_auction/view/397</td>\n",
       "    </tr>\n",
       "    <tr>\n",
       "      <th>4</th>\n",
       "      <td>تـاريخ البيع - ليوم الثلاثاء 2018/9/25 والمنفذ...</td>\n",
       "      <td>167,674,850</td>\n",
       "      <td>34,450,000</td>\n",
       "      <td>202,124,850</td>\n",
       "      <td>سعر البيع النقدي (1190) دينارلكل دولار.</td>\n",
       "      <td>https://cbi.iq/currency_auction/view/398</td>\n",
       "    </tr>\n",
       "  </tbody>\n",
       "</table>\n",
       "</div>"
      ],
      "text/plain": [
       "                                                date total_for_foreign  \\\n",
       "0  تـاريخ البيع - ليوم الأربعاء 2018/9/19 والمنفذ...       190,058,455   \n",
       "1  تـاريخ البيع - ليوم الخميس 2018/9/20 والمنفذ ي...       166,793,767   \n",
       "2  تـاريخ البيع - ليوم الأحد 2018/9/23 والمنفذ يو...       175,348,374   \n",
       "3  تـاريخ البيع - ليوم الأثنين 2018/9/24 والمنفذ ...       174,865,770   \n",
       "4  تـاريخ البيع - ليوم الثلاثاء 2018/9/25 والمنفذ...       167,674,850   \n",
       "\n",
       "   total_cash  grand_total                                      exchange_rate  \\\n",
       "0  35,900,000  225,958,455            سعر البيع النقدي (1190) دينارلكل دولار.   \n",
       "1  31,800,000  198,593,767            سعر البيع النقدي (1190) دينارلكل دولار.   \n",
       "2  32,900,000               سعر بيع المبالغ المحولة لحسابات المصارف في الخ...   \n",
       "3  38,200,000  213,065,770            سعر البيع النقدي (1190) دينارلكل دولار.   \n",
       "4  34,450,000  202,124,850            سعر البيع النقدي (1190) دينارلكل دولار.   \n",
       "\n",
       "                                        url  \n",
       "0  https://cbi.iq/currency_auction/view/394  \n",
       "1  https://cbi.iq/currency_auction/view/395  \n",
       "2  https://cbi.iq/currency_auction/view/396  \n",
       "3  https://cbi.iq/currency_auction/view/397  \n",
       "4  https://cbi.iq/currency_auction/view/398  "
      ]
     },
     "execution_count": 60,
     "metadata": {},
     "output_type": "execute_result"
    }
   ],
   "source": [
    "raw_data2.head()"
   ]
  },
  {
   "cell_type": "code",
   "execution_count": 61,
   "metadata": {
    "ExecuteTime": {
     "end_time": "2019-09-14T01:15:16.288983Z",
     "start_time": "2019-09-14T01:15:16.278152Z"
    }
   },
   "outputs": [],
   "source": [
    "# now remove commas and convert to float\n",
    "raw_data2['total_for_foreign'] = pd.to_numeric(raw_data2.total_for_foreign.str.replace(',',''), errors='coerce')"
   ]
  },
  {
   "cell_type": "code",
   "execution_count": 62,
   "metadata": {
    "ExecuteTime": {
     "end_time": "2019-09-14T01:15:36.086478Z",
     "start_time": "2019-09-14T01:15:36.078397Z"
    }
   },
   "outputs": [],
   "source": [
    "raw_data2['total_cash'] = pd.to_numeric(raw_data2.total_cash.str.replace(',',''), errors='coerce')\n",
    "raw_data2['grand_total'] = pd.to_numeric(raw_data2.grand_total.str.replace(',',''), errors='coerce')"
   ]
  },
  {
   "cell_type": "code",
   "execution_count": 63,
   "metadata": {
    "ExecuteTime": {
     "end_time": "2019-09-14T01:15:40.767887Z",
     "start_time": "2019-09-14T01:15:40.753831Z"
    }
   },
   "outputs": [
    {
     "data": {
      "text/html": [
       "<div>\n",
       "<style scoped>\n",
       "    .dataframe tbody tr th:only-of-type {\n",
       "        vertical-align: middle;\n",
       "    }\n",
       "\n",
       "    .dataframe tbody tr th {\n",
       "        vertical-align: top;\n",
       "    }\n",
       "\n",
       "    .dataframe thead th {\n",
       "        text-align: right;\n",
       "    }\n",
       "</style>\n",
       "<table border=\"1\" class=\"dataframe\">\n",
       "  <thead>\n",
       "    <tr style=\"text-align: right;\">\n",
       "      <th></th>\n",
       "      <th>date</th>\n",
       "      <th>total_for_foreign</th>\n",
       "      <th>total_cash</th>\n",
       "      <th>grand_total</th>\n",
       "      <th>exchange_rate</th>\n",
       "      <th>url</th>\n",
       "    </tr>\n",
       "  </thead>\n",
       "  <tbody>\n",
       "    <tr>\n",
       "      <th>0</th>\n",
       "      <td>تـاريخ البيع - ليوم الأربعاء 2018/9/19 والمنفذ...</td>\n",
       "      <td>190058455.0</td>\n",
       "      <td>35900000.0</td>\n",
       "      <td>225958455.0</td>\n",
       "      <td>سعر البيع النقدي (1190) دينارلكل دولار.</td>\n",
       "      <td>https://cbi.iq/currency_auction/view/394</td>\n",
       "    </tr>\n",
       "    <tr>\n",
       "      <th>1</th>\n",
       "      <td>تـاريخ البيع - ليوم الخميس 2018/9/20 والمنفذ ي...</td>\n",
       "      <td>166793767.0</td>\n",
       "      <td>31800000.0</td>\n",
       "      <td>198593767.0</td>\n",
       "      <td>سعر البيع النقدي (1190) دينارلكل دولار.</td>\n",
       "      <td>https://cbi.iq/currency_auction/view/395</td>\n",
       "    </tr>\n",
       "    <tr>\n",
       "      <th>2</th>\n",
       "      <td>تـاريخ البيع - ليوم الأحد 2018/9/23 والمنفذ يو...</td>\n",
       "      <td>175348374.0</td>\n",
       "      <td>32900000.0</td>\n",
       "      <td>NaN</td>\n",
       "      <td>سعر بيع المبالغ المحولة لحسابات المصارف في الخ...</td>\n",
       "      <td>https://cbi.iq/currency_auction/view/396</td>\n",
       "    </tr>\n",
       "    <tr>\n",
       "      <th>3</th>\n",
       "      <td>تـاريخ البيع - ليوم الأثنين 2018/9/24 والمنفذ ...</td>\n",
       "      <td>174865770.0</td>\n",
       "      <td>38200000.0</td>\n",
       "      <td>213065770.0</td>\n",
       "      <td>سعر البيع النقدي (1190) دينارلكل دولار.</td>\n",
       "      <td>https://cbi.iq/currency_auction/view/397</td>\n",
       "    </tr>\n",
       "    <tr>\n",
       "      <th>4</th>\n",
       "      <td>تـاريخ البيع - ليوم الثلاثاء 2018/9/25 والمنفذ...</td>\n",
       "      <td>167674850.0</td>\n",
       "      <td>34450000.0</td>\n",
       "      <td>202124850.0</td>\n",
       "      <td>سعر البيع النقدي (1190) دينارلكل دولار.</td>\n",
       "      <td>https://cbi.iq/currency_auction/view/398</td>\n",
       "    </tr>\n",
       "  </tbody>\n",
       "</table>\n",
       "</div>"
      ],
      "text/plain": [
       "                                                date  total_for_foreign  \\\n",
       "0  تـاريخ البيع - ليوم الأربعاء 2018/9/19 والمنفذ...        190058455.0   \n",
       "1  تـاريخ البيع - ليوم الخميس 2018/9/20 والمنفذ ي...        166793767.0   \n",
       "2  تـاريخ البيع - ليوم الأحد 2018/9/23 والمنفذ يو...        175348374.0   \n",
       "3  تـاريخ البيع - ليوم الأثنين 2018/9/24 والمنفذ ...        174865770.0   \n",
       "4  تـاريخ البيع - ليوم الثلاثاء 2018/9/25 والمنفذ...        167674850.0   \n",
       "\n",
       "   total_cash  grand_total                                      exchange_rate  \\\n",
       "0  35900000.0  225958455.0            سعر البيع النقدي (1190) دينارلكل دولار.   \n",
       "1  31800000.0  198593767.0            سعر البيع النقدي (1190) دينارلكل دولار.   \n",
       "2  32900000.0          NaN  سعر بيع المبالغ المحولة لحسابات المصارف في الخ...   \n",
       "3  38200000.0  213065770.0            سعر البيع النقدي (1190) دينارلكل دولار.   \n",
       "4  34450000.0  202124850.0            سعر البيع النقدي (1190) دينارلكل دولار.   \n",
       "\n",
       "                                        url  \n",
       "0  https://cbi.iq/currency_auction/view/394  \n",
       "1  https://cbi.iq/currency_auction/view/395  \n",
       "2  https://cbi.iq/currency_auction/view/396  \n",
       "3  https://cbi.iq/currency_auction/view/397  \n",
       "4  https://cbi.iq/currency_auction/view/398  "
      ]
     },
     "execution_count": 63,
     "metadata": {},
     "output_type": "execute_result"
    }
   ],
   "source": [
    "raw_data2.head()"
   ]
  },
  {
   "cell_type": "code",
   "execution_count": 64,
   "metadata": {
    "ExecuteTime": {
     "end_time": "2019-09-14T01:17:23.911322Z",
     "start_time": "2019-09-14T01:17:23.884217Z"
    }
   },
   "outputs": [],
   "source": [
    "# save to csv\n",
    "raw_data2.to_csv('range2_cleaned.csv',index=False)"
   ]
  },
  {
   "cell_type": "markdown",
   "metadata": {},
   "source": [
    "##### Combine both dfs"
   ]
  },
  {
   "cell_type": "code",
   "execution_count": 65,
   "metadata": {
    "ExecuteTime": {
     "end_time": "2019-09-14T01:18:12.231147Z",
     "start_time": "2019-09-14T01:18:12.215434Z"
    }
   },
   "outputs": [],
   "source": [
    "range1_df = pd.read_csv('range1_cleaned.csv')\n",
    "range2_df = pd.read_csv('range2_cleaned.csv')"
   ]
  },
  {
   "cell_type": "code",
   "execution_count": 66,
   "metadata": {
    "ExecuteTime": {
     "end_time": "2019-09-14T01:18:24.376064Z",
     "start_time": "2019-09-14T01:18:24.370639Z"
    }
   },
   "outputs": [
    {
     "name": "stdout",
     "output_type": "stream",
     "text": [
      "Index(['date', 'total_for_foreign', 'total_cash', 'grand_total',\n",
      "       'exchange_rate', 'url'],\n",
      "      dtype='object')\n",
      "Index(['date', 'total_for_foreign', 'total_cash', 'grand_total',\n",
      "       'exchange_rate', 'url'],\n",
      "      dtype='object')\n"
     ]
    }
   ],
   "source": [
    "print(range1_df.columns)\n",
    "print(range2_df.columns)"
   ]
  },
  {
   "cell_type": "code",
   "execution_count": 67,
   "metadata": {
    "ExecuteTime": {
     "end_time": "2019-09-14T01:18:40.213932Z",
     "start_time": "2019-09-14T01:18:40.201376Z"
    }
   },
   "outputs": [
    {
     "name": "stdout",
     "output_type": "stream",
     "text": [
      "<class 'pandas.core.frame.DataFrame'>\n",
      "RangeIndex: 259 entries, 0 to 258\n",
      "Data columns (total 6 columns):\n",
      "date                 259 non-null object\n",
      "total_for_foreign    254 non-null float64\n",
      "total_cash           254 non-null float64\n",
      "grand_total          232 non-null float64\n",
      "exchange_rate        259 non-null object\n",
      "url                  259 non-null object\n",
      "dtypes: float64(3), object(3)\n",
      "memory usage: 12.2+ KB\n",
      "None\n",
      "<class 'pandas.core.frame.DataFrame'>\n",
      "RangeIndex: 248 entries, 0 to 247\n",
      "Data columns (total 6 columns):\n",
      "date                 248 non-null object\n",
      "total_for_foreign    246 non-null float64\n",
      "total_cash           246 non-null float64\n",
      "grand_total          179 non-null float64\n",
      "exchange_rate        248 non-null object\n",
      "url                  248 non-null object\n",
      "dtypes: float64(3), object(3)\n",
      "memory usage: 11.7+ KB\n",
      "None\n"
     ]
    }
   ],
   "source": [
    "print(range1_df.info())\n",
    "print(range2_df.info())"
   ]
  },
  {
   "cell_type": "code",
   "execution_count": 73,
   "metadata": {
    "ExecuteTime": {
     "end_time": "2019-09-14T01:21:40.634032Z",
     "start_time": "2019-09-14T01:21:40.626635Z"
    }
   },
   "outputs": [],
   "source": [
    "combined_df = range1_df.append(range2_df,ignore_index=True)"
   ]
  },
  {
   "cell_type": "code",
   "execution_count": 74,
   "metadata": {
    "ExecuteTime": {
     "end_time": "2019-09-14T01:21:41.589626Z",
     "start_time": "2019-09-14T01:21:41.577706Z"
    }
   },
   "outputs": [
    {
     "data": {
      "text/html": [
       "<div>\n",
       "<style scoped>\n",
       "    .dataframe tbody tr th:only-of-type {\n",
       "        vertical-align: middle;\n",
       "    }\n",
       "\n",
       "    .dataframe tbody tr th {\n",
       "        vertical-align: top;\n",
       "    }\n",
       "\n",
       "    .dataframe thead th {\n",
       "        text-align: right;\n",
       "    }\n",
       "</style>\n",
       "<table border=\"1\" class=\"dataframe\">\n",
       "  <thead>\n",
       "    <tr style=\"text-align: right;\">\n",
       "      <th></th>\n",
       "      <th>date</th>\n",
       "      <th>total_for_foreign</th>\n",
       "      <th>total_cash</th>\n",
       "      <th>grand_total</th>\n",
       "      <th>exchange_rate</th>\n",
       "      <th>url</th>\n",
       "    </tr>\n",
       "  </thead>\n",
       "  <tbody>\n",
       "    <tr>\n",
       "      <th>502</th>\n",
       "      <td>تـاريخ البيع - ليوم الأحد 2019/9/8 والمنفذ يوم...</td>\n",
       "      <td>195326397.0</td>\n",
       "      <td>18210000.0</td>\n",
       "      <td>213536397.0</td>\n",
       "      <td>سعر البيع النقدي (1190) دينارلكل دولار.</td>\n",
       "      <td>https://cbi.iq/currency_auction/view/639</td>\n",
       "    </tr>\n",
       "    <tr>\n",
       "      <th>503</th>\n",
       "      <td>تـاريخ البيع - ليوم الأثنين 2019/9/9 والمنفذ ي...</td>\n",
       "      <td>225907675.0</td>\n",
       "      <td>32720000.0</td>\n",
       "      <td>258627675.0</td>\n",
       "      <td>سعر البيع النقدي (1190) دينارلكل دولار.</td>\n",
       "      <td>https://cbi.iq/currency_auction/view/640</td>\n",
       "    </tr>\n",
       "    <tr>\n",
       "      <th>504</th>\n",
       "      <td>تـاريخ البيع - ليوم الأربعاء 2019/9/11 والمنفذ...</td>\n",
       "      <td>221015860.0</td>\n",
       "      <td>30230000.0</td>\n",
       "      <td>251245860.0</td>\n",
       "      <td>سعر البيع النقدي (1190) دينارلكل دولار.</td>\n",
       "      <td>https://cbi.iq/currency_auction/view/641</td>\n",
       "    </tr>\n",
       "    <tr>\n",
       "      <th>505</th>\n",
       "      <td>تـاريخ البيع - ليوم الخميس 2019/9/12 والمنفذ ي...</td>\n",
       "      <td>231588396.0</td>\n",
       "      <td>26550000.0</td>\n",
       "      <td>258138396.0</td>\n",
       "      <td>سعر البيع النقدي (1190) دينارلكل دولار.</td>\n",
       "      <td>https://cbi.iq/currency_auction/view/642</td>\n",
       "    </tr>\n",
       "    <tr>\n",
       "      <th>506</th>\n",
       "      <td>تـاريخ البيع - ليوم الأحد 2019/9/15 والمنفذ يو...</td>\n",
       "      <td>224964314.0</td>\n",
       "      <td>20220000.0</td>\n",
       "      <td>245184314.0</td>\n",
       "      <td>سعر البيع النقدي (1190) دينارلكل دولار.</td>\n",
       "      <td>https://cbi.iq/currency_auction/view/643</td>\n",
       "    </tr>\n",
       "  </tbody>\n",
       "</table>\n",
       "</div>"
      ],
      "text/plain": [
       "                                                  date  total_for_foreign  \\\n",
       "502  تـاريخ البيع - ليوم الأحد 2019/9/8 والمنفذ يوم...        195326397.0   \n",
       "503  تـاريخ البيع - ليوم الأثنين 2019/9/9 والمنفذ ي...        225907675.0   \n",
       "504  تـاريخ البيع - ليوم الأربعاء 2019/9/11 والمنفذ...        221015860.0   \n",
       "505  تـاريخ البيع - ليوم الخميس 2019/9/12 والمنفذ ي...        231588396.0   \n",
       "506  تـاريخ البيع - ليوم الأحد 2019/9/15 والمنفذ يو...        224964314.0   \n",
       "\n",
       "     total_cash  grand_total                            exchange_rate  \\\n",
       "502  18210000.0  213536397.0  سعر البيع النقدي (1190) دينارلكل دولار.   \n",
       "503  32720000.0  258627675.0  سعر البيع النقدي (1190) دينارلكل دولار.   \n",
       "504  30230000.0  251245860.0  سعر البيع النقدي (1190) دينارلكل دولار.   \n",
       "505  26550000.0  258138396.0  سعر البيع النقدي (1190) دينارلكل دولار.   \n",
       "506  20220000.0  245184314.0  سعر البيع النقدي (1190) دينارلكل دولار.   \n",
       "\n",
       "                                          url  \n",
       "502  https://cbi.iq/currency_auction/view/639  \n",
       "503  https://cbi.iq/currency_auction/view/640  \n",
       "504  https://cbi.iq/currency_auction/view/641  \n",
       "505  https://cbi.iq/currency_auction/view/642  \n",
       "506  https://cbi.iq/currency_auction/view/643  "
      ]
     },
     "execution_count": 74,
     "metadata": {},
     "output_type": "execute_result"
    }
   ],
   "source": [
    "combined_df.tail()"
   ]
  },
  {
   "cell_type": "code",
   "execution_count": 77,
   "metadata": {
    "ExecuteTime": {
     "end_time": "2019-09-14T01:22:22.374410Z",
     "start_time": "2019-09-14T01:22:22.359465Z"
    }
   },
   "outputs": [
    {
     "data": {
      "text/html": [
       "<div>\n",
       "<style scoped>\n",
       "    .dataframe tbody tr th:only-of-type {\n",
       "        vertical-align: middle;\n",
       "    }\n",
       "\n",
       "    .dataframe tbody tr th {\n",
       "        vertical-align: top;\n",
       "    }\n",
       "\n",
       "    .dataframe thead th {\n",
       "        text-align: right;\n",
       "    }\n",
       "</style>\n",
       "<table border=\"1\" class=\"dataframe\">\n",
       "  <thead>\n",
       "    <tr style=\"text-align: right;\">\n",
       "      <th></th>\n",
       "      <th>date</th>\n",
       "      <th>total_for_foreign</th>\n",
       "      <th>total_cash</th>\n",
       "      <th>grand_total</th>\n",
       "      <th>exchange_rate</th>\n",
       "      <th>url</th>\n",
       "    </tr>\n",
       "  </thead>\n",
       "  <tbody>\n",
       "    <tr>\n",
       "      <th>0</th>\n",
       "      <td>تـاريخ البيع - الثلاثاء 19-9-2017 والمنفذ يوم ...</td>\n",
       "      <td>118812407.0</td>\n",
       "      <td>2160000.0</td>\n",
       "      <td>162772407.0</td>\n",
       "      <td>سعر بيع المبالغ المحولة لحسابات المصارف في الخ...</td>\n",
       "      <td>https://cbi.iq/currency_auction/view/124</td>\n",
       "    </tr>\n",
       "    <tr>\n",
       "      <th>1</th>\n",
       "      <td>تـاريخ البيع - الاربعاء 20-9-2017 والمنفذ يوم ...</td>\n",
       "      <td>128664984.0</td>\n",
       "      <td>810000.0</td>\n",
       "      <td>163974984.0</td>\n",
       "      <td>سعر بيع المبالغ المحولة لحسابات المصارف في الخ...</td>\n",
       "      <td>https://cbi.iq/currency_auction/view/125</td>\n",
       "    </tr>\n",
       "    <tr>\n",
       "      <th>2</th>\n",
       "      <td>تـاريخ البيع - الخميس 21-9-2017 والمنفذ يوم ال...</td>\n",
       "      <td>145291507.0</td>\n",
       "      <td>16950000.0</td>\n",
       "      <td>162241507.0</td>\n",
       "      <td>سعر بيع المبالغ المحولة لحسابات المصارف في الخ...</td>\n",
       "      <td>https://cbi.iq/currency_auction/view/126</td>\n",
       "    </tr>\n",
       "    <tr>\n",
       "      <th>3</th>\n",
       "      <td>تـاريخ البيع - الاحد 24-9-2017</td>\n",
       "      <td>111966241.0</td>\n",
       "      <td>41260000.0</td>\n",
       "      <td>153226241.0</td>\n",
       "      <td>سعر بيع المبالغ المحولة لحسابات المصارف في الخ...</td>\n",
       "      <td>https://cbi.iq/currency_auction/view/127</td>\n",
       "    </tr>\n",
       "    <tr>\n",
       "      <th>4</th>\n",
       "      <td>تـاريخ البيع - الاثنين 25-9-2017 والمنفذ يوم ا...</td>\n",
       "      <td>113115408.0</td>\n",
       "      <td>40020000.0</td>\n",
       "      <td>153135408.0</td>\n",
       "      <td>سعر بيع المبالغ المحولة لحسابات المصارف في الخ...</td>\n",
       "      <td>https://cbi.iq/currency_auction/view/128</td>\n",
       "    </tr>\n",
       "  </tbody>\n",
       "</table>\n",
       "</div>"
      ],
      "text/plain": [
       "                                                date  total_for_foreign  \\\n",
       "0  تـاريخ البيع - الثلاثاء 19-9-2017 والمنفذ يوم ...        118812407.0   \n",
       "1  تـاريخ البيع - الاربعاء 20-9-2017 والمنفذ يوم ...        128664984.0   \n",
       "2  تـاريخ البيع - الخميس 21-9-2017 والمنفذ يوم ال...        145291507.0   \n",
       "3                     تـاريخ البيع - الاحد 24-9-2017        111966241.0   \n",
       "4  تـاريخ البيع - الاثنين 25-9-2017 والمنفذ يوم ا...        113115408.0   \n",
       "\n",
       "   total_cash  grand_total                                      exchange_rate  \\\n",
       "0   2160000.0  162772407.0  سعر بيع المبالغ المحولة لحسابات المصارف في الخ...   \n",
       "1    810000.0  163974984.0  سعر بيع المبالغ المحولة لحسابات المصارف في الخ...   \n",
       "2  16950000.0  162241507.0  سعر بيع المبالغ المحولة لحسابات المصارف في الخ...   \n",
       "3  41260000.0  153226241.0  سعر بيع المبالغ المحولة لحسابات المصارف في الخ...   \n",
       "4  40020000.0  153135408.0  سعر بيع المبالغ المحولة لحسابات المصارف في الخ...   \n",
       "\n",
       "                                        url  \n",
       "0  https://cbi.iq/currency_auction/view/124  \n",
       "1  https://cbi.iq/currency_auction/view/125  \n",
       "2  https://cbi.iq/currency_auction/view/126  \n",
       "3  https://cbi.iq/currency_auction/view/127  \n",
       "4  https://cbi.iq/currency_auction/view/128  "
      ]
     },
     "execution_count": 77,
     "metadata": {},
     "output_type": "execute_result"
    }
   ],
   "source": [
    "combined_df.head()"
   ]
  },
  {
   "cell_type": "code",
   "execution_count": 78,
   "metadata": {
    "ExecuteTime": {
     "end_time": "2019-09-14T01:25:04.066040Z",
     "start_time": "2019-09-14T01:25:04.052557Z"
    }
   },
   "outputs": [],
   "source": [
    "combined_df.to_csv('combined_data.csv',index=False)"
   ]
  },
  {
   "cell_type": "code",
   "execution_count": 76,
   "metadata": {
    "ExecuteTime": {
     "end_time": "2019-09-14T01:21:49.067331Z",
     "start_time": "2019-09-14T01:21:48.729706Z"
    }
   },
   "outputs": [
    {
     "data": {
      "image/png": "[encoded data removed]",
      "text/plain": [
       "<Figure size 432x288 with 3 Axes>"
      ]
     },
     "metadata": {
      "needs_background": "light"
     },
     "output_type": "display_data"
    }
   ],
   "source": [
    "combined_df[['total_for_foreign','total_cash','grand_total']][::3].plot(subplots=True)\n",
    "plt.show()"
   ]
  },
  {
   "cell_type": "code",
   "execution_count": 227,
   "metadata": {
    "ExecuteTime": {
     "end_time": "2019-09-14T14:21:04.233898Z",
     "start_time": "2019-09-14T14:21:04.222531Z"
    }
   },
   "outputs": [
    {
     "data": {
      "text/html": [
       "<div>\n",
       "<style scoped>\n",
       "    .dataframe tbody tr th:only-of-type {\n",
       "        vertical-align: middle;\n",
       "    }\n",
       "\n",
       "    .dataframe tbody tr th {\n",
       "        vertical-align: top;\n",
       "    }\n",
       "\n",
       "    .dataframe thead th {\n",
       "        text-align: right;\n",
       "    }\n",
       "</style>\n",
       "<table border=\"1\" class=\"dataframe\">\n",
       "  <thead>\n",
       "    <tr style=\"text-align: right;\">\n",
       "      <th></th>\n",
       "      <th>date</th>\n",
       "      <th>total_for_foreign</th>\n",
       "      <th>total_cash</th>\n",
       "      <th>grand_total</th>\n",
       "      <th>exchange_rate</th>\n",
       "      <th>url</th>\n",
       "    </tr>\n",
       "  </thead>\n",
       "  <tbody>\n",
       "  </tbody>\n",
       "</table>\n",
       "</div>"
      ],
      "text/plain": [
       "Empty DataFrame\n",
       "Columns: [date, total_for_foreign, total_cash, grand_total, exchange_rate, url]\n",
       "Index: []"
      ]
     },
     "execution_count": 227,
     "metadata": {},
     "output_type": "execute_result"
    }
   ],
   "source": [
    "# announcement date is 08 May 2018\n",
    "announcement_date = combined_df.date.str.contains('2018-5-8', regex=True)\n",
    "combined_df[announcement_date]"
   ]
  },
  {
   "cell_type": "code",
   "execution_count": 218,
   "metadata": {
    "ExecuteTime": {
     "end_time": "2019-09-14T14:17:02.673543Z",
     "start_time": "2019-09-14T14:17:02.660164Z"
    },
    "scrolled": false
   },
   "outputs": [
    {
     "data": {
      "text/html": [
       "<div>\n",
       "<style scoped>\n",
       "    .dataframe tbody tr th:only-of-type {\n",
       "        vertical-align: middle;\n",
       "    }\n",
       "\n",
       "    .dataframe tbody tr th {\n",
       "        vertical-align: top;\n",
       "    }\n",
       "\n",
       "    .dataframe thead th {\n",
       "        text-align: right;\n",
       "    }\n",
       "</style>\n",
       "<table border=\"1\" class=\"dataframe\">\n",
       "  <thead>\n",
       "    <tr style=\"text-align: right;\">\n",
       "      <th></th>\n",
       "      <th>date</th>\n",
       "      <th>total_for_foreign</th>\n",
       "      <th>total_cash</th>\n",
       "      <th>grand_total</th>\n",
       "      <th>exchange_rate</th>\n",
       "      <th>url</th>\n",
       "    </tr>\n",
       "  </thead>\n",
       "  <tbody>\n",
       "    <tr>\n",
       "      <th>219</th>\n",
       "      <td>تـاريخ البيع - ليوم الاربعاء 2018-7-25 والمنفذ...</td>\n",
       "      <td>164687271.0</td>\n",
       "      <td>41280000.0</td>\n",
       "      <td>NaN</td>\n",
       "      <td>علماً أن :</td>\n",
       "      <td>https://cbi.iq/currency_auction/view/353</td>\n",
       "    </tr>\n",
       "    <tr>\n",
       "      <th>220</th>\n",
       "      <td>تـاريخ البيع - ليوم الخميس 2018-7-26 والمنفذ ي...</td>\n",
       "      <td>157397418.0</td>\n",
       "      <td>38520000.0</td>\n",
       "      <td>NaN</td>\n",
       "      <td>علماً أن :</td>\n",
       "      <td>https://cbi.iq/currency_auction/view/354</td>\n",
       "    </tr>\n",
       "    <tr>\n",
       "      <th>221</th>\n",
       "      <td>تـاريخ البيع - ليوم الأحد 2018-7-29 والمنفذ يو...</td>\n",
       "      <td>156388913.0</td>\n",
       "      <td>36670000.0</td>\n",
       "      <td>193058913.0</td>\n",
       "      <td>علماً أن :</td>\n",
       "      <td>https://cbi.iq/currency_auction/view/355</td>\n",
       "    </tr>\n",
       "    <tr>\n",
       "      <th>222</th>\n",
       "      <td>تـاريخ البيع - ليوم الأثنين 2018-7-30 والمنفذ ...</td>\n",
       "      <td>153444033.0</td>\n",
       "      <td>38850000.0</td>\n",
       "      <td>NaN</td>\n",
       "      <td>علماً أن :</td>\n",
       "      <td>https://cbi.iq/currency_auction/view/356</td>\n",
       "    </tr>\n",
       "    <tr>\n",
       "      <th>223</th>\n",
       "      <td>تـاريخ البيع - ليوم الثلاثاء 2018-7-31 والمنفذ...</td>\n",
       "      <td>148455683.0</td>\n",
       "      <td>38580000.0</td>\n",
       "      <td>NaN</td>\n",
       "      <td>علماً أن :</td>\n",
       "      <td>https://cbi.iq/currency_auction/view/357</td>\n",
       "    </tr>\n",
       "    <tr>\n",
       "      <th>224</th>\n",
       "      <td>تـاريخ البيع - ليوم الأربعاء 2018-8-1 والمنفذ ...</td>\n",
       "      <td>157813954.0</td>\n",
       "      <td>35890000.0</td>\n",
       "      <td>NaN</td>\n",
       "      <td>علماً أن :</td>\n",
       "      <td>https://cbi.iq/currency_auction/view/359</td>\n",
       "    </tr>\n",
       "    <tr>\n",
       "      <th>225</th>\n",
       "      <td>تـاريخ البيع - ليوم الخميس 2018-8-2 والمنفذ يو...</td>\n",
       "      <td>155410710.0</td>\n",
       "      <td>32700000.0</td>\n",
       "      <td>NaN</td>\n",
       "      <td>علماً أن :</td>\n",
       "      <td>https://cbi.iq/currency_auction/view/360</td>\n",
       "    </tr>\n",
       "    <tr>\n",
       "      <th>226</th>\n",
       "      <td>تـاريخ البيع - ليوم الاحد 2018-8-5 والمنفذ يوم...</td>\n",
       "      <td>149895406.0</td>\n",
       "      <td>34800000.0</td>\n",
       "      <td>NaN</td>\n",
       "      <td>علماً أن :</td>\n",
       "      <td>https://cbi.iq/currency_auction/view/361</td>\n",
       "    </tr>\n",
       "    <tr>\n",
       "      <th>227</th>\n",
       "      <td>تـاريخ البيع - ليوم الأثنين 2018-8-6 والمنفذ ي...</td>\n",
       "      <td>143689384.0</td>\n",
       "      <td>36650000.0</td>\n",
       "      <td>NaN</td>\n",
       "      <td>علماً أن :</td>\n",
       "      <td>https://cbi.iq/currency_auction/view/362</td>\n",
       "    </tr>\n",
       "    <tr>\n",
       "      <th>228</th>\n",
       "      <td>تـاريخ البيع - ليوم الثلاثاء 2018-8-7 والمنفذ ...</td>\n",
       "      <td>129150812.0</td>\n",
       "      <td>36380000.0</td>\n",
       "      <td>165530812.0</td>\n",
       "      <td>علماً أن :</td>\n",
       "      <td>https://cbi.iq/currency_auction/view/363</td>\n",
       "    </tr>\n",
       "    <tr>\n",
       "      <th>229</th>\n",
       "      <td>تـاريخ البيع - ليوم الاربعاء 2018-8-8 والمنفذ ...</td>\n",
       "      <td>138758900.0</td>\n",
       "      <td>35890000.0</td>\n",
       "      <td>174648900.0</td>\n",
       "      <td>علماً أن :</td>\n",
       "      <td>https://cbi.iq/currency_auction/view/364</td>\n",
       "    </tr>\n",
       "  </tbody>\n",
       "</table>\n",
       "</div>"
      ],
      "text/plain": [
       "                                                  date  total_for_foreign  \\\n",
       "219  تـاريخ البيع - ليوم الاربعاء 2018-7-25 والمنفذ...        164687271.0   \n",
       "220  تـاريخ البيع - ليوم الخميس 2018-7-26 والمنفذ ي...        157397418.0   \n",
       "221  تـاريخ البيع - ليوم الأحد 2018-7-29 والمنفذ يو...        156388913.0   \n",
       "222  تـاريخ البيع - ليوم الأثنين 2018-7-30 والمنفذ ...        153444033.0   \n",
       "223  تـاريخ البيع - ليوم الثلاثاء 2018-7-31 والمنفذ...        148455683.0   \n",
       "224  تـاريخ البيع - ليوم الأربعاء 2018-8-1 والمنفذ ...        157813954.0   \n",
       "225  تـاريخ البيع - ليوم الخميس 2018-8-2 والمنفذ يو...        155410710.0   \n",
       "226  تـاريخ البيع - ليوم الاحد 2018-8-5 والمنفذ يوم...        149895406.0   \n",
       "227  تـاريخ البيع - ليوم الأثنين 2018-8-6 والمنفذ ي...        143689384.0   \n",
       "228  تـاريخ البيع - ليوم الثلاثاء 2018-8-7 والمنفذ ...        129150812.0   \n",
       "229  تـاريخ البيع - ليوم الاربعاء 2018-8-8 والمنفذ ...        138758900.0   \n",
       "\n",
       "     total_cash  grand_total exchange_rate  \\\n",
       "219  41280000.0          NaN    علماً أن :   \n",
       "220  38520000.0          NaN    علماً أن :   \n",
       "221  36670000.0  193058913.0    علماً أن :   \n",
       "222  38850000.0          NaN    علماً أن :   \n",
       "223  38580000.0          NaN    علماً أن :   \n",
       "224  35890000.0          NaN    علماً أن :   \n",
       "225  32700000.0          NaN    علماً أن :   \n",
       "226  34800000.0          NaN    علماً أن :   \n",
       "227  36650000.0          NaN    علماً أن :   \n",
       "228  36380000.0  165530812.0    علماً أن :   \n",
       "229  35890000.0  174648900.0    علماً أن :   \n",
       "\n",
       "                                          url  \n",
       "219  https://cbi.iq/currency_auction/view/353  \n",
       "220  https://cbi.iq/currency_auction/view/354  \n",
       "221  https://cbi.iq/currency_auction/view/355  \n",
       "222  https://cbi.iq/currency_auction/view/356  \n",
       "223  https://cbi.iq/currency_auction/view/357  \n",
       "224  https://cbi.iq/currency_auction/view/359  \n",
       "225  https://cbi.iq/currency_auction/view/360  \n",
       "226  https://cbi.iq/currency_auction/view/361  \n",
       "227  https://cbi.iq/currency_auction/view/362  \n",
       "228  https://cbi.iq/currency_auction/view/363  \n",
       "229  https://cbi.iq/currency_auction/view/364  "
      ]
     },
     "execution_count": 218,
     "metadata": {},
     "output_type": "execute_result"
    }
   ],
   "source": [
    "# have to find it manually\n",
    "combined_df[219:230]"
   ]
  },
  {
   "cell_type": "code",
   "execution_count": 221,
   "metadata": {
    "ExecuteTime": {
     "end_time": "2019-09-14T14:18:09.005079Z",
     "start_time": "2019-09-14T14:18:08.998681Z"
    },
    "scrolled": false
   },
   "outputs": [],
   "source": [
    "# first sanctions came into effect 06 Aug 2018\n",
    "first_snap_date = combined_df.date.str.contains('2018-8-6', regex=True)"
   ]
  },
  {
   "cell_type": "code",
   "execution_count": 222,
   "metadata": {
    "ExecuteTime": {
     "end_time": "2019-09-14T14:18:09.808372Z",
     "start_time": "2019-09-14T14:18:09.798507Z"
    },
    "scrolled": true
   },
   "outputs": [
    {
     "data": {
      "text/html": [
       "<div>\n",
       "<style scoped>\n",
       "    .dataframe tbody tr th:only-of-type {\n",
       "        vertical-align: middle;\n",
       "    }\n",
       "\n",
       "    .dataframe tbody tr th {\n",
       "        vertical-align: top;\n",
       "    }\n",
       "\n",
       "    .dataframe thead th {\n",
       "        text-align: right;\n",
       "    }\n",
       "</style>\n",
       "<table border=\"1\" class=\"dataframe\">\n",
       "  <thead>\n",
       "    <tr style=\"text-align: right;\">\n",
       "      <th></th>\n",
       "      <th>date</th>\n",
       "      <th>total_for_foreign</th>\n",
       "      <th>total_cash</th>\n",
       "      <th>grand_total</th>\n",
       "      <th>exchange_rate</th>\n",
       "      <th>url</th>\n",
       "    </tr>\n",
       "  </thead>\n",
       "  <tbody>\n",
       "    <tr>\n",
       "      <th>227</th>\n",
       "      <td>تـاريخ البيع - ليوم الأثنين 2018-8-6 والمنفذ ي...</td>\n",
       "      <td>143689384.0</td>\n",
       "      <td>36650000.0</td>\n",
       "      <td>NaN</td>\n",
       "      <td>علماً أن :</td>\n",
       "      <td>https://cbi.iq/currency_auction/view/362</td>\n",
       "    </tr>\n",
       "    <tr>\n",
       "      <th>228</th>\n",
       "      <td>تـاريخ البيع - ليوم الثلاثاء 2018-8-7 والمنفذ ...</td>\n",
       "      <td>129150812.0</td>\n",
       "      <td>36380000.0</td>\n",
       "      <td>165530812.0</td>\n",
       "      <td>علماً أن :</td>\n",
       "      <td>https://cbi.iq/currency_auction/view/363</td>\n",
       "    </tr>\n",
       "  </tbody>\n",
       "</table>\n",
       "</div>"
      ],
      "text/plain": [
       "                                                  date  total_for_foreign  \\\n",
       "227  تـاريخ البيع - ليوم الأثنين 2018-8-6 والمنفذ ي...        143689384.0   \n",
       "228  تـاريخ البيع - ليوم الثلاثاء 2018-8-7 والمنفذ ...        129150812.0   \n",
       "\n",
       "     total_cash  grand_total exchange_rate  \\\n",
       "227  36650000.0          NaN    علماً أن :   \n",
       "228  36380000.0  165530812.0    علماً أن :   \n",
       "\n",
       "                                          url  \n",
       "227  https://cbi.iq/currency_auction/view/362  \n",
       "228  https://cbi.iq/currency_auction/view/363  "
      ]
     },
     "execution_count": 222,
     "metadata": {},
     "output_type": "execute_result"
    }
   ],
   "source": [
    "combined_df[first_snap_date]\n",
    "# marker at 227"
   ]
  },
  {
   "cell_type": "code",
   "execution_count": 223,
   "metadata": {
    "ExecuteTime": {
     "end_time": "2019-09-14T14:19:50.017005Z",
     "start_time": "2019-09-14T14:19:50.010104Z"
    }
   },
   "outputs": [],
   "source": [
    "# full re-implementation 04 Nov 2018\n",
    "second_snap_date = combined_df.date.str.contains('2018-11-4',regex=True)"
   ]
  },
  {
   "cell_type": "code",
   "execution_count": 224,
   "metadata": {
    "ExecuteTime": {
     "end_time": "2019-09-14T14:19:56.197226Z",
     "start_time": "2019-09-14T14:19:56.178549Z"
    }
   },
   "outputs": [
    {
     "data": {
      "text/html": [
       "<div>\n",
       "<style scoped>\n",
       "    .dataframe tbody tr th:only-of-type {\n",
       "        vertical-align: middle;\n",
       "    }\n",
       "\n",
       "    .dataframe tbody tr th {\n",
       "        vertical-align: top;\n",
       "    }\n",
       "\n",
       "    .dataframe thead th {\n",
       "        text-align: right;\n",
       "    }\n",
       "</style>\n",
       "<table border=\"1\" class=\"dataframe\">\n",
       "  <thead>\n",
       "    <tr style=\"text-align: right;\">\n",
       "      <th></th>\n",
       "      <th>date</th>\n",
       "      <th>total_for_foreign</th>\n",
       "      <th>total_cash</th>\n",
       "      <th>grand_total</th>\n",
       "      <th>exchange_rate</th>\n",
       "      <th>url</th>\n",
       "    </tr>\n",
       "  </thead>\n",
       "  <tbody>\n",
       "    <tr>\n",
       "      <th>291</th>\n",
       "      <td>تـاريخ البيع - ليوم الأحد 2018-11-4 والمنفذ يو...</td>\n",
       "      <td>140016142.0</td>\n",
       "      <td>25090000.0</td>\n",
       "      <td>NaN</td>\n",
       "      <td>سعر بيع المبالغ المحولة لحسابات المصارف في الخ...</td>\n",
       "      <td>https://cbi.iq/currency_auction/view/427</td>\n",
       "    </tr>\n",
       "    <tr>\n",
       "      <th>292</th>\n",
       "      <td>تـاريخ البيع - ليوم الأثنين 2018-11-5 والمنفذ ...</td>\n",
       "      <td>123251750.0</td>\n",
       "      <td>27930000.0</td>\n",
       "      <td>NaN</td>\n",
       "      <td>سعر بيع المبالغ المحولة لحسابات المصارف في الخ...</td>\n",
       "      <td>https://cbi.iq/currency_auction/view/428</td>\n",
       "    </tr>\n",
       "  </tbody>\n",
       "</table>\n",
       "</div>"
      ],
      "text/plain": [
       "                                                  date  total_for_foreign  \\\n",
       "291  تـاريخ البيع - ليوم الأحد 2018-11-4 والمنفذ يو...        140016142.0   \n",
       "292  تـاريخ البيع - ليوم الأثنين 2018-11-5 والمنفذ ...        123251750.0   \n",
       "\n",
       "     total_cash  grand_total  \\\n",
       "291  25090000.0          NaN   \n",
       "292  27930000.0          NaN   \n",
       "\n",
       "                                         exchange_rate  \\\n",
       "291  سعر بيع المبالغ المحولة لحسابات المصارف في الخ...   \n",
       "292  سعر بيع المبالغ المحولة لحسابات المصارف في الخ...   \n",
       "\n",
       "                                          url  \n",
       "291  https://cbi.iq/currency_auction/view/427  \n",
       "292  https://cbi.iq/currency_auction/view/428  "
      ]
     },
     "execution_count": 224,
     "metadata": {},
     "output_type": "execute_result"
    }
   ],
   "source": [
    "combined_df[second_snap_date]\n",
    "# marker at 291"
   ]
  },
  {
   "cell_type": "code",
   "execution_count": 144,
   "metadata": {
    "ExecuteTime": {
     "end_time": "2019-09-14T02:14:38.507994Z",
     "start_time": "2019-09-14T02:14:38.501694Z"
    }
   },
   "outputs": [
    {
     "data": {
      "text/plain": [
       "502    تـاريخ البيع - ليوم الأحد 2019/9/8 والمنفذ يوم...\n",
       "503    تـاريخ البيع - ليوم الأثنين 2019/9/9 والمنفذ ي...\n",
       "504    تـاريخ البيع - ليوم الأربعاء 2019/9/11 والمنفذ...\n",
       "505    تـاريخ البيع - ليوم الخميس 2019/9/12 والمنفذ ي...\n",
       "506    تـاريخ البيع - ليوم الأحد 2019/9/15 والمنفذ يو...\n",
       "Name: date, dtype: object"
      ]
     },
     "execution_count": 144,
     "metadata": {},
     "output_type": "execute_result"
    }
   ],
   "source": [
    "combined_df.date.tail()"
   ]
  },
  {
   "cell_type": "code",
   "execution_count": 146,
   "metadata": {
    "ExecuteTime": {
     "end_time": "2019-09-14T02:14:55.969873Z",
     "start_time": "2019-09-14T02:14:55.965085Z"
    }
   },
   "outputs": [],
   "source": [
    "combined_df['date'] = combined_df.date.str.replace('/','-')"
   ]
  },
  {
   "cell_type": "code",
   "execution_count": 147,
   "metadata": {
    "ExecuteTime": {
     "end_time": "2019-09-14T02:14:59.843326Z",
     "start_time": "2019-09-14T02:14:59.835783Z"
    }
   },
   "outputs": [
    {
     "data": {
      "text/plain": [
       "502    تـاريخ البيع - ليوم الأحد 2019-9-8 والمنفذ يوم...\n",
       "503    تـاريخ البيع - ليوم الأثنين 2019-9-9 والمنفذ ي...\n",
       "504    تـاريخ البيع - ليوم الأربعاء 2019-9-11 والمنفذ...\n",
       "505    تـاريخ البيع - ليوم الخميس 2019-9-12 والمنفذ ي...\n",
       "506    تـاريخ البيع - ليوم الأحد 2019-9-15 والمنفذ يو...\n",
       "Name: date, dtype: object"
      ]
     },
     "execution_count": 147,
     "metadata": {},
     "output_type": "execute_result"
    }
   ],
   "source": [
    "combined_df.date.tail()"
   ]
  },
  {
   "cell_type": "code",
   "execution_count": 150,
   "metadata": {
    "ExecuteTime": {
     "end_time": "2019-09-14T02:15:59.137367Z",
     "start_time": "2019-09-14T02:15:59.130255Z"
    }
   },
   "outputs": [],
   "source": [
    "test = combined_df.date.str.extract('(\\d{1,4}-\\d{1,2}-\\d{1,4})',expand=True)[500:]"
   ]
  },
  {
   "cell_type": "code",
   "execution_count": 349,
   "metadata": {
    "ExecuteTime": {
     "end_time": "2019-09-14T15:55:54.068109Z",
     "start_time": "2019-09-14T15:55:54.062525Z"
    }
   },
   "outputs": [],
   "source": [
    "import plotly.graph_objects as go\n",
    "import plotly.express as px\n",
    "import chart_studio\n",
    "import chart_studio.plotly as py"
   ]
  },
  {
   "cell_type": "code",
   "execution_count": 350,
   "metadata": {
    "ExecuteTime": {
     "end_time": "2019-09-14T15:57:14.422717Z",
     "start_time": "2019-09-14T15:57:14.407982Z"
    }
   },
   "outputs": [],
   "source": [
    "chart_studio.tools.set_credentials_file(username='mpokornyus', api_key='CIW0m7W0BziyMrhcyniZ')"
   ]
  },
  {
   "cell_type": "code",
   "execution_count": 162,
   "metadata": {
    "ExecuteTime": {
     "end_time": "2019-09-14T02:25:09.594591Z",
     "start_time": "2019-09-14T02:25:09.585440Z"
    }
   },
   "outputs": [],
   "source": [
    "graph_data_1 = combined_df.total_for_foreign"
   ]
  },
  {
   "cell_type": "code",
   "execution_count": 359,
   "metadata": {
    "ExecuteTime": {
     "end_time": "2019-09-14T16:15:34.768255Z",
     "start_time": "2019-09-14T16:15:28.749608Z"
    },
    "scrolled": true
   },
   "outputs": [
    {
     "data": {
      "text/html": [
       "\n",
       "        <iframe\n",
       "            width=\"1200px\"\n",
       "            height=\"600px\"\n",
       "            src=\"https://plot.ly/~mpokornyus/6.embed\"\n",
       "            frameborder=\"0\"\n",
       "            allowfullscreen\n",
       "        ></iframe>\n",
       "        "
      ],
      "text/plain": [
       "<IPython.lib.display.IFrame at 0x12771eba8>"
      ]
     },
     "execution_count": 359,
     "metadata": {},
     "output_type": "execute_result"
    }
   ],
   "source": [
    "fig = go.Figure()\n",
    "fig.add_trace(go.Scatter(x=combined_df.index,y=combined_df.total_for_foreign,\n",
    "                        mode='lines',\n",
    "                        name='Total for Covering Foreign Accounts'))\n",
    "fig.add_trace(go.Scatter(x=combined_df.index,y=combined_df.total_for_foreign.rolling(15, win_type='triang').mean(),\n",
    "                        mode='lines',\n",
    "                        name='15-session Rolling Average'))\n",
    "\n",
    "# Add lines for each bit of sanctions news\n",
    "fig.update_layout(\n",
    "    shapes=[\n",
    "        # JCPOA withdrawal announcement\n",
    "        go.layout.Shape(\n",
    "            type='line',\n",
    "            x0=164,\n",
    "            y0=-30000000,\n",
    "            x1=164,\n",
    "            y1=300000000,\n",
    "            line=dict(\n",
    "                color=\"gray\",\n",
    "                width=3,\n",
    "            ),\n",
    "            layer='below',\n",
    "            opacity=.3\n",
    "        ),\n",
    "        # line for 06 Aug 2018 first wave\n",
    "        go.layout.Shape(\n",
    "            type='line',\n",
    "            x0=227,\n",
    "            y0=-30000000,\n",
    "            x1=227,\n",
    "            y1=300000000,\n",
    "            line=dict(\n",
    "                color='gray',\n",
    "                width=3,\n",
    "            ),\n",
    "            layer='below',\n",
    "            opacity=.3\n",
    "        ),\n",
    "        # Line for full implementation snapback\n",
    "        go.layout.Shape(\n",
    "            type='line',\n",
    "            x0=291,\n",
    "            y0=-30000000,\n",
    "            x1=291,\n",
    "            y1=300000000,\n",
    "            line=dict(\n",
    "                color='gray',\n",
    "                width=3\n",
    "            ),\n",
    "            layer='below',\n",
    "            opacity=.3\n",
    "        )\n",
    "    ]\n",
    ")\n",
    "annotations=[\n",
    "        dict(x=227,\n",
    "            y=200000000,\n",
    "            text='6 Aug 2018 Snapback',\n",
    "            xanchor='right',\n",
    "            font=dict(family='Arial',\n",
    "                     size=14,\n",
    "                     color='gray')),\n",
    "        dict(x=164,\n",
    "            y=30000000,\n",
    "            text='8 May 2018 Announcement',\n",
    "            xanchor='right',\n",
    "            font=dict(family='Arial',\n",
    "                     size=14,\n",
    "                     color='gray')),\n",
    "        dict(x=291,\n",
    "            y=30000000,\n",
    "            text='4 Nov 2018 Snapback',\n",
    "            font=dict(family='Arial',\n",
    "                     size=14,\n",
    "                     color='gray'),\n",
    "            align='left',\n",
    "            )\n",
    "    ]\n",
    "fig.update_layout(annotations=annotations)\n",
    "fig.update_xaxes(\n",
    "    ticktext=[\"1 Jan 2018\",\"1 Jan 2019\"],\n",
    "    tickvals=[76,334]\n",
    ")\n",
    "fig.update_layout(\n",
    "    autosize=False,\n",
    "    width=1200,\n",
    "    height=600,\n",
    "    yaxis=dict(\n",
    "        showgrid=False,\n",
    "        showline=False\n",
    "))\n",
    "fig.update_yaxes(title_text='Amount Auctioned')\n",
    "fig.update_layout(\n",
    "    title=go.layout.Title(\n",
    "        text='Total for Covering Foreign Accounts Since September 2017',\n",
    "        x=.15\n",
    "    )\n",
    ")\n",
    "\n",
    "\n",
    "# fig.show()\n",
    "py.iplot(fig, filename='CBI Plot 1')"
   ]
  },
  {
   "cell_type": "code",
   "execution_count": 336,
   "metadata": {
    "ExecuteTime": {
     "end_time": "2019-09-14T15:27:15.333390Z",
     "start_time": "2019-09-14T15:27:15.085933Z"
    }
   },
   "outputs": [
    {
     "data": {
      "application/vnd.plotly.v1+json": {
       "config": {
        "plotlyServerURL": "https://plot.ly"
       },
       "data": [
        {
         "mode": "lines",
         "name": "grand total",
         "type": "scatter",
         "x": [
          0,
          1,
          2,
          3,
          4,
          5,
          6,
          7,
          8,
          9,
          10,
          11,
          12,
          13,
          14,
          15,
          16,
          17,
          18,
          19,
          20,
          21,
          22,
          23,
          24,
          25,
          26,
          27,
          28,
          29,
          30,
          31,
          32,
          33,
          34,
          35,
          36,
          37,
          38,
          39,
          40,
          41,
          42,
          43,
          44,
          45,
          46,
          47,
          48,
          49,
          50,
          51,
          52,
          53,
          54,
          55,
          56,
          57,
          58,
          59,
          60,
          61,
          62,
          63,
          64,
          65,
          66,
          67,
          68,
          69,
          70,
          71,
          72,
          73,
          74,
          75,
          76,
          77,
          78,
          79,
          80,
          81,
          82,
          83,
          84,
          85,
          86,
          87,
          88,
          89,
          90,
          91,
          92,
          93,
          94,
          95,
          96,
          97,
          98,
          99,
          100,
          101,
          102,
          103,
          104,
          105,
          106,
          107,
          108,
          109,
          110,
          111,
          112,
          113,
          114,
          115,
          116,
          117,
          118,
          119,
          120,
          121,
          122,
          123,
          124,
          125,
          126,
          127,
          128,
          129,
          130,
          131,
          132,
          133,
          134,
          135,
          136,
          137,
          138,
          139,
          140,
          141,
          142,
          143,
          144,
          145,
          146,
          147,
          148,
          149,
          150,
          151,
          152,
          153,
          154,
          155,
          156,
          157,
          158,
          159,
          160,
          161,
          162,
          163,
          164,
          165,
          166,
          167,
          168,
          169,
          170,
          171,
          172,
          173,
          174,
          175,
          176,
          177,
          178,
          179,
          180,
          181,
          182,
          183,
          184,
          185,
          186,
          187,
          188,
          189,
          190,
          191,
          192,
          193,
          194,
          195,
          196,
          197,
          198,
          199,
          200,
          201,
          202,
          203,
          204,
          205,
          206,
          207,
          208,
          209,
          210,
          211,
          212,
          213,
          214,
          215,
          216,
          217,
          218,
          219,
          220,
          221,
          222,
          223,
          224,
          225,
          226,
          227,
          228,
          229,
          230,
          231,
          232,
          233,
          234,
          235,
          236,
          237,
          238,
          239,
          240,
          241,
          242,
          243,
          244,
          245,
          246,
          247,
          248,
          249,
          250,
          251,
          252,
          253,
          254,
          255,
          256,
          257,
          258,
          259,
          260,
          261,
          262,
          263,
          264,
          265,
          266,
          267,
          268,
          269,
          270,
          271,
          272,
          273,
          274,
          275,
          276,
          277,
          278,
          279,
          280,
          281,
          282,
          283,
          284,
          285,
          286,
          287,
          288,
          289,
          290,
          291,
          292,
          293,
          294,
          295,
          296,
          297,
          298,
          299,
          300,
          301,
          302,
          303,
          304,
          305,
          306,
          307,
          308,
          309,
          310,
          311,
          312,
          313,
          314,
          315,
          316,
          317,
          318,
          319,
          320,
          321,
          322,
          323,
          324,
          325,
          326,
          327,
          328,
          329,
          330,
          331,
          332,
          333,
          334,
          335,
          336,
          337,
          338,
          339,
          340,
          341,
          342,
          343,
          344,
          345,
          346,
          347,
          348,
          349,
          350,
          351,
          352,
          353,
          354,
          355,
          356,
          357,
          358,
          359,
          360,
          361,
          362,
          363,
          364,
          365,
          366,
          367,
          368,
          369,
          370,
          371,
          372,
          373,
          374,
          375,
          376,
          377,
          378,
          379,
          380,
          381,
          382,
          383,
          384,
          385,
          386,
          387,
          388,
          389,
          390,
          391,
          392,
          393,
          394,
          395,
          396,
          397,
          398,
          399,
          400,
          401,
          402,
          403,
          404,
          405,
          406,
          407,
          408,
          409,
          410,
          411,
          412,
          413,
          414,
          415,
          416,
          417,
          418,
          419,
          420,
          421,
          422,
          423,
          424,
          425,
          426,
          427,
          428,
          429,
          430,
          431,
          432,
          433,
          434,
          435,
          436,
          437,
          438,
          439,
          440,
          441,
          442,
          443,
          444,
          445,
          446,
          447,
          448,
          449,
          450,
          451,
          452,
          453,
          454,
          455,
          456,
          457,
          458,
          459,
          460,
          461,
          462,
          463,
          464,
          465,
          466,
          467,
          468,
          469,
          470,
          471,
          472,
          473,
          474,
          475,
          476,
          477,
          478,
          479,
          480,
          481,
          482,
          483,
          484,
          485,
          486,
          487,
          488,
          489,
          490,
          491,
          492,
          493,
          494,
          495,
          496,
          497,
          498,
          499,
          500,
          501,
          502,
          503,
          504,
          505,
          506
         ],
         "y": [
          162772407,
          163974984,
          162241507,
          153226241,
          153135408,
          159571866,
          158797862,
          151491937,
          159949945,
          149579531,
          149779529,
          159819402,
          157683938,
          158513357,
          159409405,
          159003492,
          159825026,
          160223890,
          144933095,
          140673364,
          141635018,
          141540000,
          145463091,
          138505000,
          140690820,
          138551645,
          137164993,
          140231908,
          139321000,
          137196863,
          149944501,
          145200970,
          140060939,
          164548444,
          139895918,
          160416451,
          160802929,
          150615686,
          170426564,
          161772579,
          161856286,
          141154530,
          132098597,
          165964244,
          167335660,
          160964580,
          161173428,
          158954437,
          161154114,
          161647944,
          161423000,
          151930777,
          152324464,
          160833000,
          162365643,
          151694493,
          146811893,
          147045762,
          151710442,
          137823867,
          134836098,
          161094037,
          169364577,
          157523465,
          160590799,
          160634713,
          178329888,
          179182203,
          null,
          174111294,
          184625463,
          184411759,
          174712850,
          180580013,
          179720743,
          184926651,
          170863283,
          161778091,
          160341644,
          169796500,
          160499164,
          170266254,
          160578398,
          187186874,
          182168563,
          172515510,
          158836581,
          185938296,
          173457207,
          176416806,
          172710956,
          170172208,
          189975125,
          185185003,
          189667600,
          189989620,
          169919883,
          185195065,
          184979766,
          189977380,
          192571821,
          183287165,
          200067351,
          194322309,
          193497960,
          193912578,
          182320645,
          198173094,
          194932241,
          190127818,
          189834222,
          175734132,
          194883291,
          194248986,
          192498405,
          188221893,
          180368625,
          195199397,
          199681501,
          191034174,
          181121050,
          178439700,
          201537281,
          199804108,
          199935053,
          201715251,
          199330352,
          200110472,
          200041909,
          199992938,
          168576870,
          190019517,
          199645811,
          187417137,
          186543149,
          126286624,
          142965236,
          179697854,
          197018430,
          185900715,
          167024550,
          154898864,
          181006056,
          195798257,
          196825899,
          167042900,
          143733992,
          185896400,
          186539313,
          148375000,
          136965000,
          121787000,
          185400055,
          186511150,
          189478345,
          171046500,
          161440618,
          197457640,
          210966911,
          151992276,
          174367874,
          164447400,
          172241200,
          145880618,
          100281900,
          146124033,
          140202440,
          173767160,
          177567130,
          223175403,
          203211873,
          175331804,
          150486500,
          173231273,
          190721082,
          178086489,
          203383296,
          190522906,
          200909274,
          173399470,
          166616450,
          175824498,
          186872231,
          176151948,
          155311000,
          156275226,
          158763050,
          160717000,
          146379300,
          124961191,
          117738863,
          124418000,
          123406555,
          131446242,
          126255500,
          127026195,
          119488000,
          null,
          null,
          131826457,
          146964500,
          168367512,
          null,
          178537006,
          172272233,
          165183342,
          163353400,
          170603708,
          164225408,
          178104035,
          176132151,
          147567000,
          180688930,
          182357580,
          182468450,
          181989153,
          184056200,
          null,
          null,
          null,
          null,
          193058913,
          null,
          null,
          null,
          null,
          null,
          null,
          165530812,
          174648900,
          174136928,
          170375589,
          null,
          null,
          null,
          null,
          null,
          null,
          null,
          null,
          null,
          null,
          175024956,
          152843440,
          129750000,
          null,
          null,
          219673661,
          216286232,
          210196485,
          null,
          198291119,
          207348910,
          195365027,
          209521480,
          187702584,
          214919754,
          185381019,
          137187400,
          225958455,
          198593767,
          null,
          213065770,
          202124850,
          172227250,
          122992035,
          190129318,
          163288475,
          172880343,
          185480346,
          188354621,
          null,
          null,
          172352278,
          166075546,
          150782006,
          null,
          null,
          null,
          null,
          172649360,
          181437987,
          null,
          172547915,
          null,
          188820216,
          null,
          null,
          180686059,
          null,
          null,
          null,
          null,
          null,
          null,
          null,
          null,
          null,
          null,
          null,
          null,
          null,
          190600580,
          null,
          213957580,
          null,
          null,
          null,
          165131000,
          null,
          199316297,
          null,
          null,
          null,
          183232410,
          null,
          null,
          null,
          183111729,
          null,
          null,
          null,
          160956500,
          null,
          null,
          null,
          null,
          210251250,
          null,
          null,
          null,
          null,
          null,
          null,
          null,
          null,
          206466200,
          161138200,
          175003197,
          null,
          null,
          null,
          null,
          null,
          null,
          null,
          null,
          null,
          null,
          null,
          null,
          null,
          null,
          null,
          null,
          null,
          155101900,
          145869996,
          133309380,
          136951040,
          158368629,
          146956661,
          174781615,
          null,
          null,
          184502129,
          174471366,
          174349851,
          176081077,
          175944565,
          178664500,
          163804520,
          160210864,
          140381000,
          153862143,
          177115273,
          141895600,
          148417877,
          138577000,
          154277618,
          166132952,
          171140450,
          184211636,
          196222780,
          202914484,
          199055941,
          186868843,
          192971250,
          191170101,
          190390600,
          190250600,
          188429733,
          192635125,
          190176405,
          152229500,
          204182394,
          200767080,
          207333735,
          198920917,
          179579003,
          173806238,
          164012300,
          144283200,
          186602800,
          164826170,
          181527120,
          203728451,
          199131000,
          197220480,
          198315960,
          222022565,
          203276078,
          202718101,
          193950400,
          189778694,
          197261875,
          218126263,
          217263156,
          221206398,
          206149926,
          237930660,
          237735597,
          218789080,
          156516000,
          242146436,
          217467220,
          212566800,
          199945236,
          212273694,
          197268030,
          205091792,
          217739094,
          209159000,
          209962000,
          193693380,
          215295265,
          218018170,
          198105500,
          169909145,
          164798763,
          175411700,
          158485450,
          159830981,
          157417810,
          150527000,
          126268000,
          115906000,
          153074600,
          193408327,
          205481100,
          206748500,
          182309220,
          224453272,
          232408065,
          209536000,
          214938290,
          205500603,
          206602550,
          221037200,
          211405639,
          214339309,
          195678578,
          198816445,
          188514280,
          182758984,
          206314950,
          198581091,
          13140000,
          213570812,
          180395350,
          185906684,
          172353090,
          144230310,
          206196623,
          231745405,
          177290700,
          204221200,
          214353050,
          254388339,
          241290361,
          269552100,
          255558450,
          229143867,
          227819242,
          226103304,
          227146646,
          196727527,
          155170500,
          174522630,
          163653309,
          209243179,
          211619922,
          237432728,
          236708945,
          247352557,
          265091196,
          265517340,
          222928628,
          264536982,
          227510570,
          232509050,
          232177957,
          213536397,
          258627675,
          251245860,
          258138396,
          245184314
         ]
        },
        {
         "mode": "lines",
         "name": "grand total rolling avg",
         "type": "scatter",
         "x": [
          0,
          1,
          2,
          3,
          4,
          5,
          6,
          7,
          8,
          9,
          10,
          11,
          12,
          13,
          14,
          15,
          16,
          17,
          18,
          19,
          20,
          21,
          22,
          23,
          24,
          25,
          26,
          27,
          28,
          29,
          30,
          31,
          32,
          33,
          34,
          35,
          36,
          37,
          38,
          39,
          40,
          41,
          42,
          43,
          44,
          45,
          46,
          47,
          48,
          49,
          50,
          51,
          52,
          53,
          54,
          55,
          56,
          57,
          58,
          59,
          60,
          61,
          62,
          63,
          64,
          65,
          66,
          67,
          68,
          69,
          70,
          71,
          72,
          73,
          74,
          75,
          76,
          77,
          78,
          79,
          80,
          81,
          82,
          83,
          84,
          85,
          86,
          87,
          88,
          89,
          90,
          91,
          92,
          93,
          94,
          95,
          96,
          97,
          98,
          99,
          100,
          101,
          102,
          103,
          104,
          105,
          106,
          107,
          108,
          109,
          110,
          111,
          112,
          113,
          114,
          115,
          116,
          117,
          118,
          119,
          120,
          121,
          122,
          123,
          124,
          125,
          126,
          127,
          128,
          129,
          130,
          131,
          132,
          133,
          134,
          135,
          136,
          137,
          138,
          139,
          140,
          141,
          142,
          143,
          144,
          145,
          146,
          147,
          148,
          149,
          150,
          151,
          152,
          153,
          154,
          155,
          156,
          157,
          158,
          159,
          160,
          161,
          162,
          163,
          164,
          165,
          166,
          167,
          168,
          169,
          170,
          171,
          172,
          173,
          174,
          175,
          176,
          177,
          178,
          179,
          180,
          181,
          182,
          183,
          184,
          185,
          186,
          187,
          188,
          189,
          190,
          191,
          192,
          193,
          194,
          195,
          196,
          197,
          198,
          199,
          200,
          201,
          202,
          203,
          204,
          205,
          206,
          207,
          208,
          209,
          210,
          211,
          212,
          213,
          214,
          215,
          216,
          217,
          218,
          219,
          220,
          221,
          222,
          223,
          224,
          225,
          226,
          227,
          228,
          229,
          230,
          231,
          232,
          233,
          234,
          235,
          236,
          237,
          238,
          239,
          240,
          241,
          242,
          243,
          244,
          245,
          246,
          247,
          248,
          249,
          250,
          251,
          252,
          253,
          254,
          255,
          256,
          257,
          258,
          259,
          260,
          261,
          262,
          263,
          264,
          265,
          266,
          267,
          268,
          269,
          270,
          271,
          272,
          273,
          274,
          275,
          276,
          277,
          278,
          279,
          280,
          281,
          282,
          283,
          284,
          285,
          286,
          287,
          288,
          289,
          290,
          291,
          292,
          293,
          294,
          295,
          296,
          297,
          298,
          299,
          300,
          301,
          302,
          303,
          304,
          305,
          306,
          307,
          308,
          309,
          310,
          311,
          312,
          313,
          314,
          315,
          316,
          317,
          318,
          319,
          320,
          321,
          322,
          323,
          324,
          325,
          326,
          327,
          328,
          329,
          330,
          331,
          332,
          333,
          334,
          335,
          336,
          337,
          338,
          339,
          340,
          341,
          342,
          343,
          344,
          345,
          346,
          347,
          348,
          349,
          350,
          351,
          352,
          353,
          354,
          355,
          356,
          357,
          358,
          359,
          360,
          361,
          362,
          363,
          364,
          365,
          366,
          367,
          368,
          369,
          370,
          371,
          372,
          373,
          374,
          375,
          376,
          377,
          378,
          379,
          380,
          381,
          382,
          383,
          384,
          385,
          386,
          387,
          388,
          389,
          390,
          391,
          392,
          393,
          394,
          395,
          396,
          397,
          398,
          399,
          400,
          401,
          402,
          403,
          404,
          405,
          406,
          407,
          408,
          409,
          410,
          411,
          412,
          413,
          414,
          415,
          416,
          417,
          418,
          419,
          420,
          421,
          422,
          423,
          424,
          425,
          426,
          427,
          428,
          429,
          430,
          431,
          432,
          433,
          434,
          435,
          436,
          437,
          438,
          439,
          440,
          441,
          442,
          443,
          444,
          445,
          446,
          447,
          448,
          449,
          450,
          451,
          452,
          453,
          454,
          455,
          456,
          457,
          458,
          459,
          460,
          461,
          462,
          463,
          464,
          465,
          466,
          467,
          468,
          469,
          470,
          471,
          472,
          473,
          474,
          475,
          476,
          477,
          478,
          479,
          480,
          481,
          482,
          483,
          484,
          485,
          486,
          487,
          488,
          489,
          490,
          491,
          492,
          493,
          494,
          495,
          496,
          497,
          498,
          499,
          500,
          501,
          502,
          503,
          504,
          505,
          506
         ],
         "y": [
          null,
          null,
          null,
          null,
          null,
          null,
          null,
          null,
          null,
          null,
          null,
          null,
          null,
          null,
          156121415.828125,
          155942140.625,
          155805014.53125,
          156059135.5,
          156432249.34375,
          156403188.203125,
          156052291.90625,
          155452726.109375,
          154625693.796875,
          153361004.5,
          151799295.09375,
          149732638.75,
          147620331.34375,
          145800283.03125,
          144194842.5625,
          142786749.28125,
          141666589.1875,
          140971342.5625,
          140565226.015625,
          140903938.28125,
          141406697.84375,
          142231738.640625,
          143428591.109375,
          144902974.203125,
          146627367.5,
          148506067.65625,
          150735162,
          152192526.453125,
          153485387.0625,
          154549548.453125,
          155380128.625,
          156162741.15625,
          156480741.203125,
          156495776.390625,
          156159287.84375,
          156508538.796875,
          157437816.6875,
          158061137.390625,
          158347834.234375,
          158470773.671875,
          158756921.71875,
          158973666.609375,
          158977285.734375,
          158432536.171875,
          157277834.09375,
          156121984.46875,
          154927429.0625,
          153739008.296875,
          152641317.515625,
          151748141.046875,
          151294357.1875,
          151281059.78125,
          151835449.9375,
          153256484.5625,
          null,
          null,
          null,
          null,
          null,
          null,
          null,
          null,
          null,
          null,
          null,
          null,
          null,
          null,
          null,
          172541942.65625,
          171271058.78125,
          170360653.375,
          169806166.03125,
          169732257.671875,
          170082907.578125,
          170690812.34375,
          171787387.46875,
          172582792.453125,
          173323529.96875,
          174094456.140625,
          175370633.59375,
          176457897.421875,
          177287421.140625,
          178158002.78125,
          179030713.359375,
          180478733.90625,
          181845350.296875,
          182984352.140625,
          183804115.421875,
          184628275.03125,
          185876112.78125,
          187123001.375,
          188136641.046875,
          188968882.9375,
          189797433.015625,
          190762522.015625,
          191405222.265625,
          191689783.984375,
          191627584.046875,
          191434429.34375,
          191441850.90625,
          191165726.921875,
          190625164.875,
          190056961.046875,
          189802513.59375,
          190077569.5625,
          190115944.71875,
          189902043.40625,
          189670347.03125,
          189775110.28125,
          190413155.46875,
          191073767.453125,
          191575029,
          191979044.546875,
          192893733.53125,
          194392211.953125,
          195234451.515625,
          195742834.734375,
          195940973.109375,
          195813893.234375,
          195492500.015625,
          193875792.015625,
          191071622.578125,
          187613573.109375,
          185114929.4375,
          182704813.71875,
          179789510.203125,
          176589516.703125,
          173502806.171875,
          172655712.53125,
          173542014.765625,
          174547694.03125,
          174276404.578125,
          174069403.984375,
          174677028.765625,
          175690816.1875,
          176102979.1875,
          174272597.03125,
          171422113.203125,
          169073554.4375,
          168272320.53125,
          167239124.359375,
          165508842.90625,
          164647413.078125,
          165630404.609375,
          168241779.46875,
          170859305.3125,
          172827893.65625,
          173812396.09375,
          174635711.3125,
          174895588.671875,
          173586462.171875,
          170015360.953125,
          166312534.859375,
          162832074.96875,
          160613986.21875,
          159149144.625,
          158537694.71875,
          159666296.65625,
          162020536.828125,
          166269825.640625,
          170246371.40625,
          174576306.390625,
          177478421.0625,
          179860640.859375,
          181752493.15625,
          183111929.046875,
          184088333.453125,
          184215245.78125,
          184244441.390625,
          183119129.78125,
          181968893.4375,
          180196100.453125,
          178255336.59375,
          175746336.796875,
          172402078.6875,
          168037750,
          162895305.578125,
          158005483.828125,
          153262829.203125,
          148670778.859375,
          143750473.28125,
          138726196.609375,
          null,
          null,
          null,
          null,
          null,
          null,
          null,
          null,
          null,
          null,
          null,
          null,
          null,
          null,
          null,
          null,
          null,
          null,
          null,
          null,
          null,
          null,
          null,
          null,
          null,
          null,
          null,
          null,
          null,
          null,
          null,
          null,
          null,
          null,
          null,
          null,
          null,
          null,
          null,
          null,
          null,
          null,
          null,
          null,
          null,
          null,
          null,
          null,
          null,
          null,
          null,
          null,
          null,
          null,
          null,
          null,
          null,
          null,
          null,
          null,
          null,
          null,
          null,
          null,
          null,
          null,
          null,
          null,
          null,
          null,
          null,
          null,
          null,
          null,
          null,
          null,
          null,
          null,
          null,
          null,
          null,
          null,
          null,
          null,
          null,
          null,
          null,
          null,
          null,
          null,
          null,
          null,
          null,
          null,
          null,
          null,
          null,
          null,
          null,
          null,
          null,
          null,
          null,
          null,
          null,
          null,
          null,
          null,
          null,
          null,
          null,
          null,
          null,
          null,
          null,
          null,
          null,
          null,
          null,
          null,
          null,
          null,
          null,
          null,
          null,
          null,
          null,
          null,
          null,
          null,
          null,
          null,
          null,
          null,
          null,
          null,
          null,
          null,
          null,
          null,
          null,
          null,
          null,
          null,
          null,
          null,
          null,
          null,
          null,
          null,
          null,
          null,
          null,
          null,
          null,
          null,
          null,
          null,
          null,
          null,
          null,
          null,
          null,
          null,
          null,
          null,
          null,
          null,
          null,
          null,
          null,
          null,
          null,
          null,
          null,
          null,
          null,
          null,
          null,
          null,
          null,
          null,
          162133296.421875,
          159518149.40625,
          158073011.4375,
          157424103.40625,
          157030540.453125,
          158124545.640625,
          160439875.078125,
          164136131.75,
          168585834.265625,
          173334209.609375,
          177902752.140625,
          182091442.65625,
          185859812.015625,
          188514146.328125,
          190238518.140625,
          190667090.171875,
          190666248.328125,
          190424153.828125,
          190146012.21875,
          189908985.5,
          189655432.484375,
          189268293.09375,
          188611082.3125,
          188370950.328125,
          187680963.0625,
          186279446.28125,
          184209964.65625,
          182080127.046875,
          180394082.046875,
          179368085.9375,
          179286898.65625,
          180544549.890625,
          182337402.25,
          185283892.75,
          188827725.359375,
          192078475.296875,
          194994520.203125,
          197871370.4375,
          200508275.921875,
          201917751.21875,
          203111610.421875,
          204263604.4375,
          205905628.40625,
          208218904.609375,
          209924731.59375,
          211679220.921875,
          213140848.8125,
          214480235.59375,
          215677770.21875,
          215924218.515625,
          214854217.375,
          213116908.828125,
          212972865.421875,
          211938078.125,
          210782833.265625,
          209467684.9375,
          208489329.09375,
          208001620.78125,
          208159303.671875,
          207981277.828125,
          206019448.46875,
          204045746.234375,
          201384991.96875,
          198490034.90625,
          194450898.40625,
          189267454.9375,
          182948465.0625,
          176335404.90625,
          170366347.375,
          165205788.703125,
          161583858.15625,
          159224113.828125,
          158157633.015625,
          159300799.734375,
          163224865.90625,
          169455699.96875,
          176836344.234375,
          184124733.015625,
          190696337.421875,
          196758116.53125,
          202885598.90625,
          207699952.609375,
          210281969.5625,
          211233524.71875,
          210805584.5625,
          209833364.796875,
          208839128.625,
          207270754.8125,
          202149848.84375,
          197174965.78125,
          192535180.515625,
          187861173.28125,
          183347522.609375,
          178587199.203125,
          173829520.6875,
          169940911.28125,
          171715057.171875,
          173355123.140625,
          175764578.609375,
          179445774.953125,
          184456634.75,
          192027658.046875,
          200371808.75,
          208157118.015625,
          214167081.0625,
          220665039.671875,
          226832309.15625,
          231028602.59375,
          232802128.34375,
          231132665.65625,
          227255906.59375,
          223108848.3125,
          217919167.1875,
          212564600.4375,
          207159544.671875,
          203446455.1875,
          202796499.40625,
          205053171.4375,
          209672038.15625,
          215465818.796875,
          221761005.1875,
          227802236.859375,
          233623260.921875,
          238124891.390625,
          240808018.46875,
          241846361.328125,
          242508679.953125,
          242004647.46875
         ]
        }
       ],
       "layout": {
        "annotations": [
         {
          "font": {
           "color": "gray",
           "family": "Arial",
           "size": 14
          },
          "text": "6 Aug 2018 Snapback",
          "x": 227,
          "xanchor": "right",
          "y": 200000000
         },
         {
          "font": {
           "color": "gray",
           "family": "Arial",
           "size": 14
          },
          "text": "8 May 2018 Announcement",
          "x": 164,
          "xanchor": "right",
          "y": 30000000
         },
         {
          "align": "left",
          "font": {
           "color": "gray",
           "family": "Arial",
           "size": 14
          },
          "text": "4 Nov 2018 Snapback",
          "x": 291,
          "y": 30000000
         }
        ],
        "autosize": false,
        "height": 600,
        "shapes": [
         {
          "layer": "below",
          "line": {
           "color": "gray",
           "width": 3
          },
          "opacity": 0.3,
          "type": "line",
          "x0": 164,
          "x1": 164,
          "y0": -30000000,
          "y1": 300000000
         },
         {
          "layer": "below",
          "line": {
           "color": "gray",
           "width": 3
          },
          "opacity": 0.3,
          "type": "line",
          "x0": 227,
          "x1": 227,
          "y0": -30000000,
          "y1": 300000000
         },
         {
          "layer": "below",
          "line": {
           "color": "gray",
           "width": 3
          },
          "opacity": 0.3,
          "type": "line",
          "x0": 291,
          "x1": 291,
          "y0": -30000000,
          "y1": 300000000
         }
        ],
        "template": {
         "data": {
          "bar": [
           {
            "error_x": {
             "color": "#2a3f5f"
            },
            "error_y": {
             "color": "#2a3f5f"
            },
            "marker": {
             "line": {
              "color": "#E5ECF6",
              "width": 0.5
             }
            },
            "type": "bar"
           }
          ],
          "barpolar": [
           {
            "marker": {
             "line": {
              "color": "#E5ECF6",
              "width": 0.5
             }
            },
            "type": "barpolar"
           }
          ],
          "carpet": [
           {
            "aaxis": {
             "endlinecolor": "#2a3f5f",
             "gridcolor": "white",
             "linecolor": "white",
             "minorgridcolor": "white",
             "startlinecolor": "#2a3f5f"
            },
            "baxis": {
             "endlinecolor": "#2a3f5f",
             "gridcolor": "white",
             "linecolor": "white",
             "minorgridcolor": "white",
             "startlinecolor": "#2a3f5f"
            },
            "type": "carpet"
           }
          ],
          "choropleth": [
           {
            "colorbar": {
             "outlinewidth": 0,
             "ticks": ""
            },
            "type": "choropleth"
           }
          ],
          "contour": [
           {
            "colorbar": {
             "outlinewidth": 0,
             "ticks": ""
            },
            "colorscale": [
             [
              0,
              "#0d0887"
             ],
             [
              0.1111111111111111,
              "#46039f"
             ],
             [
              0.2222222222222222,
              "#7201a8"
             ],
             [
              0.3333333333333333,
              "#9c179e"
             ],
             [
              0.4444444444444444,
              "#bd3786"
             ],
             [
              0.5555555555555556,
              "#d8576b"
             ],
             [
              0.6666666666666666,
              "#ed7953"
             ],
             [
              0.7777777777777778,
              "#fb9f3a"
             ],
             [
              0.8888888888888888,
              "#fdca26"
             ],
             [
              1,
              "#f0f921"
             ]
            ],
            "type": "contour"
           }
          ],
          "contourcarpet": [
           {
            "colorbar": {
             "outlinewidth": 0,
             "ticks": ""
            },
            "type": "contourcarpet"
           }
          ],
          "heatmap": [
           {
            "colorbar": {
             "outlinewidth": 0,
             "ticks": ""
            },
            "colorscale": [
             [
              0,
              "#0d0887"
             ],
             [
              0.1111111111111111,
              "#46039f"
             ],
             [
              0.2222222222222222,
              "#7201a8"
             ],
             [
              0.3333333333333333,
              "#9c179e"
             ],
             [
              0.4444444444444444,
              "#bd3786"
             ],
             [
              0.5555555555555556,
              "#d8576b"
             ],
             [
              0.6666666666666666,
              "#ed7953"
             ],
             [
              0.7777777777777778,
              "#fb9f3a"
             ],
             [
              0.8888888888888888,
              "#fdca26"
             ],
             [
              1,
              "#f0f921"
             ]
            ],
            "type": "heatmap"
           }
          ],
          "heatmapgl": [
           {
            "colorbar": {
             "outlinewidth": 0,
             "ticks": ""
            },
            "colorscale": [
             [
              0,
              "#0d0887"
             ],
             [
              0.1111111111111111,
              "#46039f"
             ],
             [
              0.2222222222222222,
              "#7201a8"
             ],
             [
              0.3333333333333333,
              "#9c179e"
             ],
             [
              0.4444444444444444,
              "#bd3786"
             ],
             [
              0.5555555555555556,
              "#d8576b"
             ],
             [
              0.6666666666666666,
              "#ed7953"
             ],
             [
              0.7777777777777778,
              "#fb9f3a"
             ],
             [
              0.8888888888888888,
              "#fdca26"
             ],
             [
              1,
              "#f0f921"
             ]
            ],
            "type": "heatmapgl"
           }
          ],
          "histogram": [
           {
            "marker": {
             "colorbar": {
              "outlinewidth": 0,
              "ticks": ""
             }
            },
            "type": "histogram"
           }
          ],
          "histogram2d": [
           {
            "colorbar": {
             "outlinewidth": 0,
             "ticks": ""
            },
            "colorscale": [
             [
              0,
              "#0d0887"
             ],
             [
              0.1111111111111111,
              "#46039f"
             ],
             [
              0.2222222222222222,
              "#7201a8"
             ],
             [
              0.3333333333333333,
              "#9c179e"
             ],
             [
              0.4444444444444444,
              "#bd3786"
             ],
             [
              0.5555555555555556,
              "#d8576b"
             ],
             [
              0.6666666666666666,
              "#ed7953"
             ],
             [
              0.7777777777777778,
              "#fb9f3a"
             ],
             [
              0.8888888888888888,
              "#fdca26"
             ],
             [
              1,
              "#f0f921"
             ]
            ],
            "type": "histogram2d"
           }
          ],
          "histogram2dcontour": [
           {
            "colorbar": {
             "outlinewidth": 0,
             "ticks": ""
            },
            "colorscale": [
             [
              0,
              "#0d0887"
             ],
             [
              0.1111111111111111,
              "#46039f"
             ],
             [
              0.2222222222222222,
              "#7201a8"
             ],
             [
              0.3333333333333333,
              "#9c179e"
             ],
             [
              0.4444444444444444,
              "#bd3786"
             ],
             [
              0.5555555555555556,
              "#d8576b"
             ],
             [
              0.6666666666666666,
              "#ed7953"
             ],
             [
              0.7777777777777778,
              "#fb9f3a"
             ],
             [
              0.8888888888888888,
              "#fdca26"
             ],
             [
              1,
              "#f0f921"
             ]
            ],
            "type": "histogram2dcontour"
           }
          ],
          "mesh3d": [
           {
            "colorbar": {
             "outlinewidth": 0,
             "ticks": ""
            },
            "type": "mesh3d"
           }
          ],
          "parcoords": [
           {
            "line": {
             "colorbar": {
              "outlinewidth": 0,
              "ticks": ""
             }
            },
            "type": "parcoords"
           }
          ],
          "scatter": [
           {
            "marker": {
             "colorbar": {
              "outlinewidth": 0,
              "ticks": ""
             }
            },
            "type": "scatter"
           }
          ],
          "scatter3d": [
           {
            "line": {
             "colorbar": {
              "outlinewidth": 0,
              "ticks": ""
             }
            },
            "marker": {
             "colorbar": {
              "outlinewidth": 0,
              "ticks": ""
             }
            },
            "type": "scatter3d"
           }
          ],
          "scattercarpet": [
           {
            "marker": {
             "colorbar": {
              "outlinewidth": 0,
              "ticks": ""
             }
            },
            "type": "scattercarpet"
           }
          ],
          "scattergeo": [
           {
            "marker": {
             "colorbar": {
              "outlinewidth": 0,
              "ticks": ""
             }
            },
            "type": "scattergeo"
           }
          ],
          "scattergl": [
           {
            "marker": {
             "colorbar": {
              "outlinewidth": 0,
              "ticks": ""
             }
            },
            "type": "scattergl"
           }
          ],
          "scattermapbox": [
           {
            "marker": {
             "colorbar": {
              "outlinewidth": 0,
              "ticks": ""
             }
            },
            "type": "scattermapbox"
           }
          ],
          "scatterpolar": [
           {
            "marker": {
             "colorbar": {
              "outlinewidth": 0,
              "ticks": ""
             }
            },
            "type": "scatterpolar"
           }
          ],
          "scatterpolargl": [
           {
            "marker": {
             "colorbar": {
              "outlinewidth": 0,
              "ticks": ""
             }
            },
            "type": "scatterpolargl"
           }
          ],
          "scatterternary": [
           {
            "marker": {
             "colorbar": {
              "outlinewidth": 0,
              "ticks": ""
             }
            },
            "type": "scatterternary"
           }
          ],
          "surface": [
           {
            "colorbar": {
             "outlinewidth": 0,
             "ticks": ""
            },
            "colorscale": [
             [
              0,
              "#0d0887"
             ],
             [
              0.1111111111111111,
              "#46039f"
             ],
             [
              0.2222222222222222,
              "#7201a8"
             ],
             [
              0.3333333333333333,
              "#9c179e"
             ],
             [
              0.4444444444444444,
              "#bd3786"
             ],
             [
              0.5555555555555556,
              "#d8576b"
             ],
             [
              0.6666666666666666,
              "#ed7953"
             ],
             [
              0.7777777777777778,
              "#fb9f3a"
             ],
             [
              0.8888888888888888,
              "#fdca26"
             ],
             [
              1,
              "#f0f921"
             ]
            ],
            "type": "surface"
           }
          ],
          "table": [
           {
            "cells": {
             "fill": {
              "color": "#EBF0F8"
             },
             "line": {
              "color": "white"
             }
            },
            "header": {
             "fill": {
              "color": "#C8D4E3"
             },
             "line": {
              "color": "white"
             }
            },
            "type": "table"
           }
          ]
         },
         "layout": {
          "annotationdefaults": {
           "arrowcolor": "#2a3f5f",
           "arrowhead": 0,
           "arrowwidth": 1
          },
          "colorscale": {
           "diverging": [
            [
             0,
             "#8e0152"
            ],
            [
             0.1,
             "#c51b7d"
            ],
            [
             0.2,
             "#de77ae"
            ],
            [
             0.3,
             "#f1b6da"
            ],
            [
             0.4,
             "#fde0ef"
            ],
            [
             0.5,
             "#f7f7f7"
            ],
            [
             0.6,
             "#e6f5d0"
            ],
            [
             0.7,
             "#b8e186"
            ],
            [
             0.8,
             "#7fbc41"
            ],
            [
             0.9,
             "#4d9221"
            ],
            [
             1,
             "#276419"
            ]
           ],
           "sequential": [
            [
             0,
             "#0d0887"
            ],
            [
             0.1111111111111111,
             "#46039f"
            ],
            [
             0.2222222222222222,
             "#7201a8"
            ],
            [
             0.3333333333333333,
             "#9c179e"
            ],
            [
             0.4444444444444444,
             "#bd3786"
            ],
            [
             0.5555555555555556,
             "#d8576b"
            ],
            [
             0.6666666666666666,
             "#ed7953"
            ],
            [
             0.7777777777777778,
             "#fb9f3a"
            ],
            [
             0.8888888888888888,
             "#fdca26"
            ],
            [
             1,
             "#f0f921"
            ]
           ],
           "sequentialminus": [
            [
             0,
             "#0d0887"
            ],
            [
             0.1111111111111111,
             "#46039f"
            ],
            [
             0.2222222222222222,
             "#7201a8"
            ],
            [
             0.3333333333333333,
             "#9c179e"
            ],
            [
             0.4444444444444444,
             "#bd3786"
            ],
            [
             0.5555555555555556,
             "#d8576b"
            ],
            [
             0.6666666666666666,
             "#ed7953"
            ],
            [
             0.7777777777777778,
             "#fb9f3a"
            ],
            [
             0.8888888888888888,
             "#fdca26"
            ],
            [
             1,
             "#f0f921"
            ]
           ]
          },
          "colorway": [
           "#636efa",
           "#EF553B",
           "#00cc96",
           "#ab63fa",
           "#FFA15A",
           "#19d3f3",
           "#FF6692",
           "#B6E880",
           "#FF97FF",
           "#FECB52"
          ],
          "font": {
           "color": "#2a3f5f"
          },
          "geo": {
           "bgcolor": "white",
           "lakecolor": "white",
           "landcolor": "#E5ECF6",
           "showlakes": true,
           "showland": true,
           "subunitcolor": "white"
          },
          "hoverlabel": {
           "align": "left"
          },
          "hovermode": "closest",
          "mapbox": {
           "style": "light"
          },
          "paper_bgcolor": "white",
          "plot_bgcolor": "#E5ECF6",
          "polar": {
           "angularaxis": {
            "gridcolor": "white",
            "linecolor": "white",
            "ticks": ""
           },
           "bgcolor": "#E5ECF6",
           "radialaxis": {
            "gridcolor": "white",
            "linecolor": "white",
            "ticks": ""
           }
          },
          "scene": {
           "xaxis": {
            "backgroundcolor": "#E5ECF6",
            "gridcolor": "white",
            "gridwidth": 2,
            "linecolor": "white",
            "showbackground": true,
            "ticks": "",
            "zerolinecolor": "white"
           },
           "yaxis": {
            "backgroundcolor": "#E5ECF6",
            "gridcolor": "white",
            "gridwidth": 2,
            "linecolor": "white",
            "showbackground": true,
            "ticks": "",
            "zerolinecolor": "white"
           },
           "zaxis": {
            "backgroundcolor": "#E5ECF6",
            "gridcolor": "white",
            "gridwidth": 2,
            "linecolor": "white",
            "showbackground": true,
            "ticks": "",
            "zerolinecolor": "white"
           }
          },
          "shapedefaults": {
           "line": {
            "color": "#2a3f5f"
           }
          },
          "ternary": {
           "aaxis": {
            "gridcolor": "white",
            "linecolor": "white",
            "ticks": ""
           },
           "baxis": {
            "gridcolor": "white",
            "linecolor": "white",
            "ticks": ""
           },
           "bgcolor": "#E5ECF6",
           "caxis": {
            "gridcolor": "white",
            "linecolor": "white",
            "ticks": ""
           }
          },
          "title": {
           "x": 0.05
          },
          "xaxis": {
           "automargin": true,
           "gridcolor": "white",
           "linecolor": "white",
           "ticks": "",
           "zerolinecolor": "white",
           "zerolinewidth": 2
          },
          "yaxis": {
           "automargin": true,
           "gridcolor": "white",
           "linecolor": "white",
           "ticks": "",
           "zerolinecolor": "white",
           "zerolinewidth": 2
          }
         }
        },
        "width": 1200,
        "xaxis": {
         "ticktext": [
          "1 Jan 2018",
          "1 Jan 2019"
         ],
         "tickvals": [
          76,
          334
         ]
        },
        "yaxis": {
         "showgrid": false,
         "showline": false
        }
       }
      },
      "text/html": [
       "<div>\n",
       "        \n",
       "        \n",
       "            <div id=\"a0f1f0f0-315f-4826-ac11-e8d5a7629fb7\" class=\"plotly-graph-div\" style=\"height:600px; width:1200px;\"></div>\n",
       "            <script type=\"text/javascript\">\n",
       "                require([\"plotly\"], function(Plotly) {\n",
       "                    window.PLOTLYENV=window.PLOTLYENV || {};\n",
       "                    \n",
       "                if (document.getElementById(\"a0f1f0f0-315f-4826-ac11-e8d5a7629fb7\")) {\n",
       "                    Plotly.newPlot(\n",
       "                        'a0f1f0f0-315f-4826-ac11-e8d5a7629fb7',\n",
       "                        [{\"mode\": \"lines\", \"name\": \"grand total\", \"type\": \"scatter\", \"x\": [0, 1, 2, 3, 4, 5, 6, 7, 8, 9, 10, 11, 12, 13, 14, 15, 16, 17, 18, 19, 20, 21, 22, 23, 24, 25, 26, 27, 28, 29, 30, 31, 32, 33, 34, 35, 36, 37, 38, 39, 40, 41, 42, 43, 44, 45, 46, 47, 48, 49, 50, 51, 52, 53, 54, 55, 56, 57, 58, 59, 60, 61, 62, 63, 64, 65, 66, 67, 68, 69, 70, 71, 72, 73, 74, 75, 76, 77, 78, 79, 80, 81, 82, 83, 84, 85, 86, 87, 88, 89, 90, 91, 92, 93, 94, 95, 96, 97, 98, 99, 100, 101, 102, 103, 104, 105, 106, 107, 108, 109, 110, 111, 112, 113, 114, 115, 116, 117, 118, 119, 120, 121, 122, 123, 124, 125, 126, 127, 128, 129, 130, 131, 132, 133, 134, 135, 136, 137, 138, 139, 140, 141, 142, 143, 144, 145, 146, 147, 148, 149, 150, 151, 152, 153, 154, 155, 156, 157, 158, 159, 160, 161, 162, 163, 164, 165, 166, 167, 168, 169, 170, 171, 172, 173, 174, 175, 176, 177, 178, 179, 180, 181, 182, 183, 184, 185, 186, 187, 188, 189, 190, 191, 192, 193, 194, 195, 196, 197, 198, 199, 200, 201, 202, 203, 204, 205, 206, 207, 208, 209, 210, 211, 212, 213, 214, 215, 216, 217, 218, 219, 220, 221, 222, 223, 224, 225, 226, 227, 228, 229, 230, 231, 232, 233, 234, 235, 236, 237, 238, 239, 240, 241, 242, 243, 244, 245, 246, 247, 248, 249, 250, 251, 252, 253, 254, 255, 256, 257, 258, 259, 260, 261, 262, 263, 264, 265, 266, 267, 268, 269, 270, 271, 272, 273, 274, 275, 276, 277, 278, 279, 280, 281, 282, 283, 284, 285, 286, 287, 288, 289, 290, 291, 292, 293, 294, 295, 296, 297, 298, 299, 300, 301, 302, 303, 304, 305, 306, 307, 308, 309, 310, 311, 312, 313, 314, 315, 316, 317, 318, 319, 320, 321, 322, 323, 324, 325, 326, 327, 328, 329, 330, 331, 332, 333, 334, 335, 336, 337, 338, 339, 340, 341, 342, 343, 344, 345, 346, 347, 348, 349, 350, 351, 352, 353, 354, 355, 356, 357, 358, 359, 360, 361, 362, 363, 364, 365, 366, 367, 368, 369, 370, 371, 372, 373, 374, 375, 376, 377, 378, 379, 380, 381, 382, 383, 384, 385, 386, 387, 388, 389, 390, 391, 392, 393, 394, 395, 396, 397, 398, 399, 400, 401, 402, 403, 404, 405, 406, 407, 408, 409, 410, 411, 412, 413, 414, 415, 416, 417, 418, 419, 420, 421, 422, 423, 424, 425, 426, 427, 428, 429, 430, 431, 432, 433, 434, 435, 436, 437, 438, 439, 440, 441, 442, 443, 444, 445, 446, 447, 448, 449, 450, 451, 452, 453, 454, 455, 456, 457, 458, 459, 460, 461, 462, 463, 464, 465, 466, 467, 468, 469, 470, 471, 472, 473, 474, 475, 476, 477, 478, 479, 480, 481, 482, 483, 484, 485, 486, 487, 488, 489, 490, 491, 492, 493, 494, 495, 496, 497, 498, 499, 500, 501, 502, 503, 504, 505, 506], \"y\": [162772407.0, 163974984.0, 162241507.0, 153226241.0, 153135408.0, 159571866.0, 158797862.0, 151491937.0, 159949945.0, 149579531.0, 149779529.0, 159819402.0, 157683938.0, 158513357.0, 159409405.0, 159003492.0, 159825026.0, 160223890.0, 144933095.0, 140673364.0, 141635018.0, 141540000.0, 145463091.0, 138505000.0, 140690820.0, 138551645.0, 137164993.0, 140231908.0, 139321000.0, 137196863.0, 149944501.0, 145200970.0, 140060939.0, 164548444.0, 139895918.0, 160416451.0, 160802929.0, 150615686.0, 170426564.0, 161772579.0, 161856286.0, 141154530.0, 132098597.0, 165964244.0, 167335660.0, 160964580.0, 161173428.0, 158954437.0, 161154114.0, 161647944.0, 161423000.0, 151930777.0, 152324464.0, 160833000.0, 162365643.0, 151694493.0, 146811893.0, 147045762.0, 151710442.0, 137823867.0, 134836098.0, 161094037.0, 169364577.0, 157523465.0, 160590799.0, 160634713.0, 178329888.0, 179182203.0, null, 174111294.0, 184625463.0, 184411759.0, 174712850.0, 180580013.0, 179720743.0, 184926651.0, 170863283.0, 161778091.0, 160341644.0, 169796500.0, 160499164.0, 170266254.0, 160578398.0, 187186874.0, 182168563.0, 172515510.0, 158836581.0, 185938296.0, 173457207.0, 176416806.0, 172710956.0, 170172208.0, 189975125.0, 185185003.0, 189667600.0, 189989620.0, 169919883.0, 185195065.0, 184979766.0, 189977380.0, 192571821.0, 183287165.0, 200067351.0, 194322309.0, 193497960.0, 193912578.0, 182320645.0, 198173094.0, 194932241.0, 190127818.0, 189834222.0, 175734132.0, 194883291.0, 194248986.0, 192498405.0, 188221893.0, 180368625.0, 195199397.0, 199681501.0, 191034174.0, 181121050.0, 178439700.0, 201537281.0, 199804108.0, 199935053.0, 201715251.0, 199330352.0, 200110472.0, 200041909.0, 199992938.0, 168576870.0, 190019517.0, 199645811.0, 187417137.0, 186543149.0, 126286624.0, 142965236.0, 179697854.0, 197018430.0, 185900715.0, 167024550.0, 154898864.0, 181006056.0, 195798257.0, 196825899.0, 167042900.0, 143733992.0, 185896400.0, 186539313.0, 148375000.0, 136965000.0, 121787000.0, 185400055.0, 186511150.0, 189478345.0, 171046500.0, 161440618.0, 197457640.0, 210966911.0, 151992276.0, 174367874.0, 164447400.0, 172241200.0, 145880618.0, 100281900.0, 146124033.0, 140202440.0, 173767160.0, 177567130.0, 223175403.0, 203211873.0, 175331804.0, 150486500.0, 173231273.0, 190721082.0, 178086489.0, 203383296.0, 190522906.0, 200909274.0, 173399470.0, 166616450.0, 175824498.0, 186872231.0, 176151948.0, 155311000.0, 156275226.0, 158763050.0, 160717000.0, 146379300.0, 124961191.0, 117738863.0, 124418000.0, 123406555.0, 131446242.0, 126255500.0, 127026195.0, 119488000.0, null, null, 131826457.0, 146964500.0, 168367512.0, null, 178537006.0, 172272233.0, 165183342.0, 163353400.0, 170603708.0, 164225408.0, 178104035.0, 176132151.0, 147567000.0, 180688930.0, 182357580.0, 182468450.0, 181989153.0, 184056200.0, null, null, null, null, 193058913.0, null, null, null, null, null, null, 165530812.0, 174648900.0, 174136928.0, 170375589.0, null, null, null, null, null, null, null, null, null, null, 175024956.0, 152843440.0, 129750000.0, null, null, 219673661.0, 216286232.0, 210196485.0, null, 198291119.0, 207348910.0, 195365027.0, 209521480.0, 187702584.0, 214919754.0, 185381019.0, 137187400.0, 225958455.0, 198593767.0, null, 213065770.0, 202124850.0, 172227250.0, 122992035.0, 190129318.0, 163288475.0, 172880343.0, 185480346.0, 188354621.0, null, null, 172352278.0, 166075546.0, 150782006.0, null, null, null, null, 172649360.0, 181437987.0, null, 172547915.0, null, 188820216.0, null, null, 180686059.0, null, null, null, null, null, null, null, null, null, null, null, null, null, 190600580.0, null, 213957580.0, null, null, null, 165131000.0, null, 199316297.0, null, null, null, 183232410.0, null, null, null, 183111729.0, null, null, null, 160956500.0, null, null, null, null, 210251250.0, null, null, null, null, null, null, null, null, 206466200.0, 161138200.0, 175003197.0, null, null, null, null, null, null, null, null, null, null, null, null, null, null, null, null, null, 155101900.0, 145869996.0, 133309380.0, 136951040.0, 158368629.0, 146956661.0, 174781615.0, null, null, 184502129.0, 174471366.0, 174349851.0, 176081077.0, 175944565.0, 178664500.0, 163804520.0, 160210864.0, 140381000.0, 153862143.0, 177115273.0, 141895600.0, 148417877.0, 138577000.0, 154277618.0, 166132952.0, 171140450.0, 184211636.0, 196222780.0, 202914484.0, 199055941.0, 186868843.0, 192971250.0, 191170101.0, 190390600.0, 190250600.0, 188429733.0, 192635125.0, 190176405.0, 152229500.0, 204182394.0, 200767080.0, 207333735.0, 198920917.0, 179579003.0, 173806238.0, 164012300.0, 144283200.0, 186602800.0, 164826170.0, 181527120.0, 203728451.0, 199131000.0, 197220480.0, 198315960.0, 222022565.0, 203276078.0, 202718101.0, 193950400.0, 189778694.0, 197261875.0, 218126263.0, 217263156.0, 221206398.0, 206149926.0, 237930660.0, 237735597.0, 218789080.0, 156516000.0, 242146436.0, 217467220.0, 212566800.0, 199945236.0, 212273694.0, 197268030.0, 205091792.0, 217739094.0, 209159000.0, 209962000.0, 193693380.0, 215295265.0, 218018170.0, 198105500.0, 169909145.0, 164798763.0, 175411700.0, 158485450.0, 159830981.0, 157417810.0, 150527000.0, 126268000.0, 115906000.0, 153074600.0, 193408327.0, 205481100.0, 206748500.0, 182309220.0, 224453272.0, 232408065.0, 209536000.0, 214938290.0, 205500603.0, 206602550.0, 221037200.0, 211405639.0, 214339309.0, 195678578.0, 198816445.0, 188514280.0, 182758984.0, 206314950.0, 198581091.0, 13140000.0, 213570812.0, 180395350.0, 185906684.0, 172353090.0, 144230310.0, 206196623.0, 231745405.0, 177290700.0, 204221200.0, 214353050.0, 254388339.0, 241290361.0, 269552100.0, 255558450.0, 229143867.0, 227819242.0, 226103304.0, 227146646.0, 196727527.0, 155170500.0, 174522630.0, 163653309.0, 209243179.0, 211619922.0, 237432728.0, 236708945.0, 247352557.0, 265091196.0, 265517340.0, 222928628.0, 264536982.0, 227510570.0, 232509050.0, 232177957.0, 213536397.0, 258627675.0, 251245860.0, 258138396.0, 245184314.0]}, {\"mode\": \"lines\", \"name\": \"grand total rolling avg\", \"type\": \"scatter\", \"x\": [0, 1, 2, 3, 4, 5, 6, 7, 8, 9, 10, 11, 12, 13, 14, 15, 16, 17, 18, 19, 20, 21, 22, 23, 24, 25, 26, 27, 28, 29, 30, 31, 32, 33, 34, 35, 36, 37, 38, 39, 40, 41, 42, 43, 44, 45, 46, 47, 48, 49, 50, 51, 52, 53, 54, 55, 56, 57, 58, 59, 60, 61, 62, 63, 64, 65, 66, 67, 68, 69, 70, 71, 72, 73, 74, 75, 76, 77, 78, 79, 80, 81, 82, 83, 84, 85, 86, 87, 88, 89, 90, 91, 92, 93, 94, 95, 96, 97, 98, 99, 100, 101, 102, 103, 104, 105, 106, 107, 108, 109, 110, 111, 112, 113, 114, 115, 116, 117, 118, 119, 120, 121, 122, 123, 124, 125, 126, 127, 128, 129, 130, 131, 132, 133, 134, 135, 136, 137, 138, 139, 140, 141, 142, 143, 144, 145, 146, 147, 148, 149, 150, 151, 152, 153, 154, 155, 156, 157, 158, 159, 160, 161, 162, 163, 164, 165, 166, 167, 168, 169, 170, 171, 172, 173, 174, 175, 176, 177, 178, 179, 180, 181, 182, 183, 184, 185, 186, 187, 188, 189, 190, 191, 192, 193, 194, 195, 196, 197, 198, 199, 200, 201, 202, 203, 204, 205, 206, 207, 208, 209, 210, 211, 212, 213, 214, 215, 216, 217, 218, 219, 220, 221, 222, 223, 224, 225, 226, 227, 228, 229, 230, 231, 232, 233, 234, 235, 236, 237, 238, 239, 240, 241, 242, 243, 244, 245, 246, 247, 248, 249, 250, 251, 252, 253, 254, 255, 256, 257, 258, 259, 260, 261, 262, 263, 264, 265, 266, 267, 268, 269, 270, 271, 272, 273, 274, 275, 276, 277, 278, 279, 280, 281, 282, 283, 284, 285, 286, 287, 288, 289, 290, 291, 292, 293, 294, 295, 296, 297, 298, 299, 300, 301, 302, 303, 304, 305, 306, 307, 308, 309, 310, 311, 312, 313, 314, 315, 316, 317, 318, 319, 320, 321, 322, 323, 324, 325, 326, 327, 328, 329, 330, 331, 332, 333, 334, 335, 336, 337, 338, 339, 340, 341, 342, 343, 344, 345, 346, 347, 348, 349, 350, 351, 352, 353, 354, 355, 356, 357, 358, 359, 360, 361, 362, 363, 364, 365, 366, 367, 368, 369, 370, 371, 372, 373, 374, 375, 376, 377, 378, 379, 380, 381, 382, 383, 384, 385, 386, 387, 388, 389, 390, 391, 392, 393, 394, 395, 396, 397, 398, 399, 400, 401, 402, 403, 404, 405, 406, 407, 408, 409, 410, 411, 412, 413, 414, 415, 416, 417, 418, 419, 420, 421, 422, 423, 424, 425, 426, 427, 428, 429, 430, 431, 432, 433, 434, 435, 436, 437, 438, 439, 440, 441, 442, 443, 444, 445, 446, 447, 448, 449, 450, 451, 452, 453, 454, 455, 456, 457, 458, 459, 460, 461, 462, 463, 464, 465, 466, 467, 468, 469, 470, 471, 472, 473, 474, 475, 476, 477, 478, 479, 480, 481, 482, 483, 484, 485, 486, 487, 488, 489, 490, 491, 492, 493, 494, 495, 496, 497, 498, 499, 500, 501, 502, 503, 504, 505, 506], \"y\": [null, null, null, null, null, null, null, null, null, null, null, null, null, null, 156121415.828125, 155942140.625, 155805014.53125, 156059135.5, 156432249.34375, 156403188.203125, 156052291.90625, 155452726.109375, 154625693.796875, 153361004.5, 151799295.09375, 149732638.75, 147620331.34375, 145800283.03125, 144194842.5625, 142786749.28125, 141666589.1875, 140971342.5625, 140565226.015625, 140903938.28125, 141406697.84375, 142231738.640625, 143428591.109375, 144902974.203125, 146627367.5, 148506067.65625, 150735162.0, 152192526.453125, 153485387.0625, 154549548.453125, 155380128.625, 156162741.15625, 156480741.203125, 156495776.390625, 156159287.84375, 156508538.796875, 157437816.6875, 158061137.390625, 158347834.234375, 158470773.671875, 158756921.71875, 158973666.609375, 158977285.734375, 158432536.171875, 157277834.09375, 156121984.46875, 154927429.0625, 153739008.296875, 152641317.515625, 151748141.046875, 151294357.1875, 151281059.78125, 151835449.9375, 153256484.5625, null, null, null, null, null, null, null, null, null, null, null, null, null, null, null, 172541942.65625, 171271058.78125, 170360653.375, 169806166.03125, 169732257.671875, 170082907.578125, 170690812.34375, 171787387.46875, 172582792.453125, 173323529.96875, 174094456.140625, 175370633.59375, 176457897.421875, 177287421.140625, 178158002.78125, 179030713.359375, 180478733.90625, 181845350.296875, 182984352.140625, 183804115.421875, 184628275.03125, 185876112.78125, 187123001.375, 188136641.046875, 188968882.9375, 189797433.015625, 190762522.015625, 191405222.265625, 191689783.984375, 191627584.046875, 191434429.34375, 191441850.90625, 191165726.921875, 190625164.875, 190056961.046875, 189802513.59375, 190077569.5625, 190115944.71875, 189902043.40625, 189670347.03125, 189775110.28125, 190413155.46875, 191073767.453125, 191575029.0, 191979044.546875, 192893733.53125, 194392211.953125, 195234451.515625, 195742834.734375, 195940973.109375, 195813893.234375, 195492500.015625, 193875792.015625, 191071622.578125, 187613573.109375, 185114929.4375, 182704813.71875, 179789510.203125, 176589516.703125, 173502806.171875, 172655712.53125, 173542014.765625, 174547694.03125, 174276404.578125, 174069403.984375, 174677028.765625, 175690816.1875, 176102979.1875, 174272597.03125, 171422113.203125, 169073554.4375, 168272320.53125, 167239124.359375, 165508842.90625, 164647413.078125, 165630404.609375, 168241779.46875, 170859305.3125, 172827893.65625, 173812396.09375, 174635711.3125, 174895588.671875, 173586462.171875, 170015360.953125, 166312534.859375, 162832074.96875, 160613986.21875, 159149144.625, 158537694.71875, 159666296.65625, 162020536.828125, 166269825.640625, 170246371.40625, 174576306.390625, 177478421.0625, 179860640.859375, 181752493.15625, 183111929.046875, 184088333.453125, 184215245.78125, 184244441.390625, 183119129.78125, 181968893.4375, 180196100.453125, 178255336.59375, 175746336.796875, 172402078.6875, 168037750.0, 162895305.578125, 158005483.828125, 153262829.203125, 148670778.859375, 143750473.28125, 138726196.609375, null, null, null, null, null, null, null, null, null, null, null, null, null, null, null, null, null, null, null, null, null, null, null, null, null, null, null, null, null, null, null, null, null, null, null, null, null, null, null, null, null, null, null, null, null, null, null, null, null, null, null, null, null, null, null, null, null, null, null, null, null, null, null, null, null, null, null, null, null, null, null, null, null, null, null, null, null, null, null, null, null, null, null, null, null, null, null, null, null, null, null, null, null, null, null, null, null, null, null, null, null, null, null, null, null, null, null, null, null, null, null, null, null, null, null, null, null, null, null, null, null, null, null, null, null, null, null, null, null, null, null, null, null, null, null, null, null, null, null, null, null, null, null, null, null, null, null, null, null, null, null, null, null, null, null, null, null, null, null, null, null, null, null, null, null, null, null, null, null, null, null, null, null, null, null, null, null, null, null, null, null, null, 162133296.421875, 159518149.40625, 158073011.4375, 157424103.40625, 157030540.453125, 158124545.640625, 160439875.078125, 164136131.75, 168585834.265625, 173334209.609375, 177902752.140625, 182091442.65625, 185859812.015625, 188514146.328125, 190238518.140625, 190667090.171875, 190666248.328125, 190424153.828125, 190146012.21875, 189908985.5, 189655432.484375, 189268293.09375, 188611082.3125, 188370950.328125, 187680963.0625, 186279446.28125, 184209964.65625, 182080127.046875, 180394082.046875, 179368085.9375, 179286898.65625, 180544549.890625, 182337402.25, 185283892.75, 188827725.359375, 192078475.296875, 194994520.203125, 197871370.4375, 200508275.921875, 201917751.21875, 203111610.421875, 204263604.4375, 205905628.40625, 208218904.609375, 209924731.59375, 211679220.921875, 213140848.8125, 214480235.59375, 215677770.21875, 215924218.515625, 214854217.375, 213116908.828125, 212972865.421875, 211938078.125, 210782833.265625, 209467684.9375, 208489329.09375, 208001620.78125, 208159303.671875, 207981277.828125, 206019448.46875, 204045746.234375, 201384991.96875, 198490034.90625, 194450898.40625, 189267454.9375, 182948465.0625, 176335404.90625, 170366347.375, 165205788.703125, 161583858.15625, 159224113.828125, 158157633.015625, 159300799.734375, 163224865.90625, 169455699.96875, 176836344.234375, 184124733.015625, 190696337.421875, 196758116.53125, 202885598.90625, 207699952.609375, 210281969.5625, 211233524.71875, 210805584.5625, 209833364.796875, 208839128.625, 207270754.8125, 202149848.84375, 197174965.78125, 192535180.515625, 187861173.28125, 183347522.609375, 178587199.203125, 173829520.6875, 169940911.28125, 171715057.171875, 173355123.140625, 175764578.609375, 179445774.953125, 184456634.75, 192027658.046875, 200371808.75, 208157118.015625, 214167081.0625, 220665039.671875, 226832309.15625, 231028602.59375, 232802128.34375, 231132665.65625, 227255906.59375, 223108848.3125, 217919167.1875, 212564600.4375, 207159544.671875, 203446455.1875, 202796499.40625, 205053171.4375, 209672038.15625, 215465818.796875, 221761005.1875, 227802236.859375, 233623260.921875, 238124891.390625, 240808018.46875, 241846361.328125, 242508679.953125, 242004647.46875]}],\n",
       "                        {\"annotations\": [{\"font\": {\"color\": \"gray\", \"family\": \"Arial\", \"size\": 14}, \"text\": \"6 Aug 2018 Snapback\", \"x\": 227, \"xanchor\": \"right\", \"y\": 200000000}, {\"font\": {\"color\": \"gray\", \"family\": \"Arial\", \"size\": 14}, \"text\": \"8 May 2018 Announcement\", \"x\": 164, \"xanchor\": \"right\", \"y\": 30000000}, {\"align\": \"left\", \"font\": {\"color\": \"gray\", \"family\": \"Arial\", \"size\": 14}, \"text\": \"4 Nov 2018 Snapback\", \"x\": 291, \"y\": 30000000}], \"autosize\": false, \"height\": 600, \"shapes\": [{\"layer\": \"below\", \"line\": {\"color\": \"gray\", \"width\": 3}, \"opacity\": 0.3, \"type\": \"line\", \"x0\": 164, \"x1\": 164, \"y0\": -30000000, \"y1\": 300000000}, {\"layer\": \"below\", \"line\": {\"color\": \"gray\", \"width\": 3}, \"opacity\": 0.3, \"type\": \"line\", \"x0\": 227, \"x1\": 227, \"y0\": -30000000, \"y1\": 300000000}, {\"layer\": \"below\", \"line\": {\"color\": \"gray\", \"width\": 3}, \"opacity\": 0.3, \"type\": \"line\", \"x0\": 291, \"x1\": 291, \"y0\": -30000000, \"y1\": 300000000}], \"template\": {\"data\": {\"bar\": [{\"error_x\": {\"color\": \"#2a3f5f\"}, \"error_y\": {\"color\": \"#2a3f5f\"}, \"marker\": {\"line\": {\"color\": \"#E5ECF6\", \"width\": 0.5}}, \"type\": \"bar\"}], \"barpolar\": [{\"marker\": {\"line\": {\"color\": \"#E5ECF6\", \"width\": 0.5}}, \"type\": \"barpolar\"}], \"carpet\": [{\"aaxis\": {\"endlinecolor\": \"#2a3f5f\", \"gridcolor\": \"white\", \"linecolor\": \"white\", \"minorgridcolor\": \"white\", \"startlinecolor\": \"#2a3f5f\"}, \"baxis\": {\"endlinecolor\": \"#2a3f5f\", \"gridcolor\": \"white\", \"linecolor\": \"white\", \"minorgridcolor\": \"white\", \"startlinecolor\": \"#2a3f5f\"}, \"type\": \"carpet\"}], \"choropleth\": [{\"colorbar\": {\"outlinewidth\": 0, \"ticks\": \"\"}, \"type\": \"choropleth\"}], \"contour\": [{\"colorbar\": {\"outlinewidth\": 0, \"ticks\": \"\"}, \"colorscale\": [[0.0, \"#0d0887\"], [0.1111111111111111, \"#46039f\"], [0.2222222222222222, \"#7201a8\"], [0.3333333333333333, \"#9c179e\"], [0.4444444444444444, \"#bd3786\"], [0.5555555555555556, \"#d8576b\"], [0.6666666666666666, \"#ed7953\"], [0.7777777777777778, \"#fb9f3a\"], [0.8888888888888888, \"#fdca26\"], [1.0, \"#f0f921\"]], \"type\": \"contour\"}], \"contourcarpet\": [{\"colorbar\": {\"outlinewidth\": 0, \"ticks\": \"\"}, \"type\": \"contourcarpet\"}], \"heatmap\": [{\"colorbar\": {\"outlinewidth\": 0, \"ticks\": \"\"}, \"colorscale\": [[0.0, \"#0d0887\"], [0.1111111111111111, \"#46039f\"], [0.2222222222222222, \"#7201a8\"], [0.3333333333333333, \"#9c179e\"], [0.4444444444444444, \"#bd3786\"], [0.5555555555555556, \"#d8576b\"], [0.6666666666666666, \"#ed7953\"], [0.7777777777777778, \"#fb9f3a\"], [0.8888888888888888, \"#fdca26\"], [1.0, \"#f0f921\"]], \"type\": \"heatmap\"}], \"heatmapgl\": [{\"colorbar\": {\"outlinewidth\": 0, \"ticks\": \"\"}, \"colorscale\": [[0.0, \"#0d0887\"], [0.1111111111111111, \"#46039f\"], [0.2222222222222222, \"#7201a8\"], [0.3333333333333333, \"#9c179e\"], [0.4444444444444444, \"#bd3786\"], [0.5555555555555556, \"#d8576b\"], [0.6666666666666666, \"#ed7953\"], [0.7777777777777778, \"#fb9f3a\"], [0.8888888888888888, \"#fdca26\"], [1.0, \"#f0f921\"]], \"type\": \"heatmapgl\"}], \"histogram\": [{\"marker\": {\"colorbar\": {\"outlinewidth\": 0, \"ticks\": \"\"}}, \"type\": \"histogram\"}], \"histogram2d\": [{\"colorbar\": {\"outlinewidth\": 0, \"ticks\": \"\"}, \"colorscale\": [[0.0, \"#0d0887\"], [0.1111111111111111, \"#46039f\"], [0.2222222222222222, \"#7201a8\"], [0.3333333333333333, \"#9c179e\"], [0.4444444444444444, \"#bd3786\"], [0.5555555555555556, \"#d8576b\"], [0.6666666666666666, \"#ed7953\"], [0.7777777777777778, \"#fb9f3a\"], [0.8888888888888888, \"#fdca26\"], [1.0, \"#f0f921\"]], \"type\": \"histogram2d\"}], \"histogram2dcontour\": [{\"colorbar\": {\"outlinewidth\": 0, \"ticks\": \"\"}, \"colorscale\": [[0.0, \"#0d0887\"], [0.1111111111111111, \"#46039f\"], [0.2222222222222222, \"#7201a8\"], [0.3333333333333333, \"#9c179e\"], [0.4444444444444444, \"#bd3786\"], [0.5555555555555556, \"#d8576b\"], [0.6666666666666666, \"#ed7953\"], [0.7777777777777778, \"#fb9f3a\"], [0.8888888888888888, \"#fdca26\"], [1.0, \"#f0f921\"]], \"type\": \"histogram2dcontour\"}], \"mesh3d\": [{\"colorbar\": {\"outlinewidth\": 0, \"ticks\": \"\"}, \"type\": \"mesh3d\"}], \"parcoords\": [{\"line\": {\"colorbar\": {\"outlinewidth\": 0, \"ticks\": \"\"}}, \"type\": \"parcoords\"}], \"scatter\": [{\"marker\": {\"colorbar\": {\"outlinewidth\": 0, \"ticks\": \"\"}}, \"type\": \"scatter\"}], \"scatter3d\": [{\"line\": {\"colorbar\": {\"outlinewidth\": 0, \"ticks\": \"\"}}, \"marker\": {\"colorbar\": {\"outlinewidth\": 0, \"ticks\": \"\"}}, \"type\": \"scatter3d\"}], \"scattercarpet\": [{\"marker\": {\"colorbar\": {\"outlinewidth\": 0, \"ticks\": \"\"}}, \"type\": \"scattercarpet\"}], \"scattergeo\": [{\"marker\": {\"colorbar\": {\"outlinewidth\": 0, \"ticks\": \"\"}}, \"type\": \"scattergeo\"}], \"scattergl\": [{\"marker\": {\"colorbar\": {\"outlinewidth\": 0, \"ticks\": \"\"}}, \"type\": \"scattergl\"}], \"scattermapbox\": [{\"marker\": {\"colorbar\": {\"outlinewidth\": 0, \"ticks\": \"\"}}, \"type\": \"scattermapbox\"}], \"scatterpolar\": [{\"marker\": {\"colorbar\": {\"outlinewidth\": 0, \"ticks\": \"\"}}, \"type\": \"scatterpolar\"}], \"scatterpolargl\": [{\"marker\": {\"colorbar\": {\"outlinewidth\": 0, \"ticks\": \"\"}}, \"type\": \"scatterpolargl\"}], \"scatterternary\": [{\"marker\": {\"colorbar\": {\"outlinewidth\": 0, \"ticks\": \"\"}}, \"type\": \"scatterternary\"}], \"surface\": [{\"colorbar\": {\"outlinewidth\": 0, \"ticks\": \"\"}, \"colorscale\": [[0.0, \"#0d0887\"], [0.1111111111111111, \"#46039f\"], [0.2222222222222222, \"#7201a8\"], [0.3333333333333333, \"#9c179e\"], [0.4444444444444444, \"#bd3786\"], [0.5555555555555556, \"#d8576b\"], [0.6666666666666666, \"#ed7953\"], [0.7777777777777778, \"#fb9f3a\"], [0.8888888888888888, \"#fdca26\"], [1.0, \"#f0f921\"]], \"type\": \"surface\"}], \"table\": [{\"cells\": {\"fill\": {\"color\": \"#EBF0F8\"}, \"line\": {\"color\": \"white\"}}, \"header\": {\"fill\": {\"color\": \"#C8D4E3\"}, \"line\": {\"color\": \"white\"}}, \"type\": \"table\"}]}, \"layout\": {\"annotationdefaults\": {\"arrowcolor\": \"#2a3f5f\", \"arrowhead\": 0, \"arrowwidth\": 1}, \"colorscale\": {\"diverging\": [[0, \"#8e0152\"], [0.1, \"#c51b7d\"], [0.2, \"#de77ae\"], [0.3, \"#f1b6da\"], [0.4, \"#fde0ef\"], [0.5, \"#f7f7f7\"], [0.6, \"#e6f5d0\"], [0.7, \"#b8e186\"], [0.8, \"#7fbc41\"], [0.9, \"#4d9221\"], [1, \"#276419\"]], \"sequential\": [[0.0, \"#0d0887\"], [0.1111111111111111, \"#46039f\"], [0.2222222222222222, \"#7201a8\"], [0.3333333333333333, \"#9c179e\"], [0.4444444444444444, \"#bd3786\"], [0.5555555555555556, \"#d8576b\"], [0.6666666666666666, \"#ed7953\"], [0.7777777777777778, \"#fb9f3a\"], [0.8888888888888888, \"#fdca26\"], [1.0, \"#f0f921\"]], \"sequentialminus\": [[0.0, \"#0d0887\"], [0.1111111111111111, \"#46039f\"], [0.2222222222222222, \"#7201a8\"], [0.3333333333333333, \"#9c179e\"], [0.4444444444444444, \"#bd3786\"], [0.5555555555555556, \"#d8576b\"], [0.6666666666666666, \"#ed7953\"], [0.7777777777777778, \"#fb9f3a\"], [0.8888888888888888, \"#fdca26\"], [1.0, \"#f0f921\"]]}, \"colorway\": [\"#636efa\", \"#EF553B\", \"#00cc96\", \"#ab63fa\", \"#FFA15A\", \"#19d3f3\", \"#FF6692\", \"#B6E880\", \"#FF97FF\", \"#FECB52\"], \"font\": {\"color\": \"#2a3f5f\"}, \"geo\": {\"bgcolor\": \"white\", \"lakecolor\": \"white\", \"landcolor\": \"#E5ECF6\", \"showlakes\": true, \"showland\": true, \"subunitcolor\": \"white\"}, \"hoverlabel\": {\"align\": \"left\"}, \"hovermode\": \"closest\", \"mapbox\": {\"style\": \"light\"}, \"paper_bgcolor\": \"white\", \"plot_bgcolor\": \"#E5ECF6\", \"polar\": {\"angularaxis\": {\"gridcolor\": \"white\", \"linecolor\": \"white\", \"ticks\": \"\"}, \"bgcolor\": \"#E5ECF6\", \"radialaxis\": {\"gridcolor\": \"white\", \"linecolor\": \"white\", \"ticks\": \"\"}}, \"scene\": {\"xaxis\": {\"backgroundcolor\": \"#E5ECF6\", \"gridcolor\": \"white\", \"gridwidth\": 2, \"linecolor\": \"white\", \"showbackground\": true, \"ticks\": \"\", \"zerolinecolor\": \"white\"}, \"yaxis\": {\"backgroundcolor\": \"#E5ECF6\", \"gridcolor\": \"white\", \"gridwidth\": 2, \"linecolor\": \"white\", \"showbackground\": true, \"ticks\": \"\", \"zerolinecolor\": \"white\"}, \"zaxis\": {\"backgroundcolor\": \"#E5ECF6\", \"gridcolor\": \"white\", \"gridwidth\": 2, \"linecolor\": \"white\", \"showbackground\": true, \"ticks\": \"\", \"zerolinecolor\": \"white\"}}, \"shapedefaults\": {\"line\": {\"color\": \"#2a3f5f\"}}, \"ternary\": {\"aaxis\": {\"gridcolor\": \"white\", \"linecolor\": \"white\", \"ticks\": \"\"}, \"baxis\": {\"gridcolor\": \"white\", \"linecolor\": \"white\", \"ticks\": \"\"}, \"bgcolor\": \"#E5ECF6\", \"caxis\": {\"gridcolor\": \"white\", \"linecolor\": \"white\", \"ticks\": \"\"}}, \"title\": {\"x\": 0.05}, \"xaxis\": {\"automargin\": true, \"gridcolor\": \"white\", \"linecolor\": \"white\", \"ticks\": \"\", \"zerolinecolor\": \"white\", \"zerolinewidth\": 2}, \"yaxis\": {\"automargin\": true, \"gridcolor\": \"white\", \"linecolor\": \"white\", \"ticks\": \"\", \"zerolinecolor\": \"white\", \"zerolinewidth\": 2}}}, \"width\": 1200, \"xaxis\": {\"ticktext\": [\"1 Jan 2018\", \"1 Jan 2019\"], \"tickvals\": [76, 334]}, \"yaxis\": {\"showgrid\": false, \"showline\": false}},\n",
       "                        {\"responsive\": true}\n",
       "                    ).then(function(){\n",
       "                            \n",
       "var gd = document.getElementById('a0f1f0f0-315f-4826-ac11-e8d5a7629fb7');\n",
       "var x = new MutationObserver(function (mutations, observer) {{\n",
       "        var display = window.getComputedStyle(gd).display;\n",
       "        if (!display || display === 'none') {{\n",
       "            console.log([gd, 'removed!']);\n",
       "            Plotly.purge(gd);\n",
       "            observer.disconnect();\n",
       "        }}\n",
       "}});\n",
       "\n",
       "// Listen for the removal of the full notebook cells\n",
       "var notebookContainer = gd.closest('#notebook-container');\n",
       "if (notebookContainer) {{\n",
       "    x.observe(notebookContainer, {childList: true});\n",
       "}}\n",
       "\n",
       "// Listen for the clearing of the current output cell\n",
       "var outputEl = gd.closest('.output');\n",
       "if (outputEl) {{\n",
       "    x.observe(outputEl, {childList: true});\n",
       "}}\n",
       "\n",
       "                        })\n",
       "                };\n",
       "                });\n",
       "            </script>\n",
       "        </div>"
      ]
     },
     "metadata": {},
     "output_type": "display_data"
    }
   ],
   "source": [
    "fig = go.Figure()\n",
    "# fig.add_trace(go.Scatter(x=combined_df.index,y=combined_df.total_for_foreign,\n",
    "#                         mode='lines',\n",
    "#                         name='total for foreign'))\n",
    "# fig.add_trace(go.Scatter(x=combined_df.index,y=combined_df.total_cash,\n",
    "#                         mode='lines',\n",
    "#                         name='total cash'))\n",
    "fig.add_trace(go.Scatter(x=combined_df.index,y=combined_df.grand_total,\n",
    "                        mode='lines',\n",
    "                        name='grand total'))\n",
    "fig.add_trace(go.Scatter(x=combined_df.index,y=combined_df.grand_total.rolling(15, win_type='triang').mean(),\n",
    "                        mode='lines',\n",
    "                        name='grand total rolling avg'))\n",
    "\n",
    "# fig.update_xaxes(showticklabels=False)\n",
    "# line for May 8 2018 announcement of sanctions to be snapped back\n",
    "fig.update_layout(\n",
    "    shapes=[\n",
    "        go.layout.Shape(\n",
    "            type='line',\n",
    "            x0=164,\n",
    "            y0=-30000000,\n",
    "            x1=164,\n",
    "            y1=300000000,\n",
    "            line=dict(\n",
    "                color=\"gray\",\n",
    "                width=3,\n",
    "            ),\n",
    "            layer='below',\n",
    "            opacity=.3\n",
    "#             name='Announcement',\n",
    "#             templateitemname='Announcement',\n",
    "#             visible=True\n",
    "        ),\n",
    "        # line for 06 Aug 2018 first wave\n",
    "        go.layout.Shape(\n",
    "            type='line',\n",
    "            x0=227,\n",
    "            y0=-30000000,\n",
    "            x1=227,\n",
    "            y1=300000000,\n",
    "            line=dict(\n",
    "                color='gray',\n",
    "                width=3,\n",
    "            ),\n",
    "            layer='below',\n",
    "            opacity=.3\n",
    "        ),\n",
    "        go.layout.Shape(\n",
    "            type='line',\n",
    "            x0=291,\n",
    "            y0=-30000000,\n",
    "            x1=291,\n",
    "            y1=300000000,\n",
    "            line=dict(\n",
    "                color='gray',\n",
    "                width=3\n",
    "            ),\n",
    "            layer='below',\n",
    "            opacity=.3\n",
    "        )\n",
    "    ]\n",
    ")\n",
    "annotations=[\n",
    "        dict(x=227,\n",
    "            y=200000000,\n",
    "            text='6 Aug 2018 Snapback',\n",
    "            xanchor='right',\n",
    "            font=dict(family='Arial',\n",
    "                     size=14,\n",
    "                     color='gray')),\n",
    "        dict(x=164,\n",
    "            y=30000000,\n",
    "            text='8 May 2018 Announcement',\n",
    "            xanchor='right',\n",
    "            font=dict(family='Arial',\n",
    "                     size=14,\n",
    "                     color='gray')),\n",
    "        dict(x=291,\n",
    "            y=30000000,\n",
    "            text='4 Nov 2018 Snapback',\n",
    "            font=dict(family='Arial',\n",
    "                     size=14,\n",
    "                     color='gray'),\n",
    "            align='left',\n",
    "            )\n",
    "    ]\n",
    "fig.update_layout(annotations=annotations)\n",
    "fig.update_xaxes(\n",
    "    ticktext=[\"1 Jan 2018\",\"1 Jan 2019\"],\n",
    "    tickvals=[76,334]\n",
    ")\n",
    "fig.update_layout(\n",
    "    autosize=False,\n",
    "    width=1200,\n",
    "    height=600,\n",
    "    yaxis=dict(\n",
    "        showgrid=False,\n",
    "        showline=False\n",
    "#     ),\n",
    "#     plot_bgcolor='rgb(248, 248, 255)'\n",
    "))\n",
    "\n",
    "\n",
    "fig.show()"
   ]
  },
  {
   "cell_type": "code",
   "execution_count": null,
   "metadata": {},
   "outputs": [],
   "source": []
  }
 ],
 "metadata": {
  "kernelspec": {
   "display_name": "Python 3",
   "language": "python",
   "name": "python3"
  },
  "language_info": {
   "codemirror_mode": {
    "name": "ipython",
    "version": 3
   },
   "file_extension": ".py",
   "mimetype": "text/x-python",
   "name": "python",
   "nbconvert_exporter": "python",
   "pygments_lexer": "ipython3",
   "version": "3.7.1"
  },
  "toc": {
   "base_numbering": 1,
   "nav_menu": {},
   "number_sections": false,
   "sideBar": true,
   "skip_h1_title": false,
   "title_cell": "Table of Contents",
   "title_sidebar": "Contents",
   "toc_cell": false,
   "toc_position": {
    "height": "calc(100% - 180px)",
    "left": "10px",
    "top": "150px",
    "width": "209.797px"
   },
   "toc_section_display": true,
   "toc_window_display": true
  },
  "varInspector": {
   "cols": {
    "lenName": 16,
    "lenType": 16,
    "lenVar": 40
   },
   "kernels_config": {
    "python": {
     "delete_cmd_postfix": "",
     "delete_cmd_prefix": "del ",
     "library": "var_list.py",
     "varRefreshCmd": "print(var_dic_list())"
    },
    "r": {
     "delete_cmd_postfix": ") ",
     "delete_cmd_prefix": "rm(",
     "library": "var_list.r",
     "varRefreshCmd": "cat(var_dic_list()) "
    }
   },
   "types_to_exclude": [
    "module",
    "function",
    "builtin_function_or_method",
    "instance",
    "_Feature"
   ],
   "window_display": false
  }
 },
 "nbformat": 4,
 "nbformat_minor": 2
}
