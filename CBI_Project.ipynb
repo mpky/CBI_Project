{
 "cells": [
  {
   "cell_type": "code",
   "execution_count": 1,
   "metadata": {
    "ExecuteTime": {
     "end_time": "2019-09-12T00:06:20.618251Z",
     "start_time": "2019-09-12T00:06:15.701418Z"
    }
   },
   "outputs": [],
   "source": [
    "import requests\n",
    "from bs4 import BeautifulSoup\n",
    "import time\n",
    "import os\n",
    "import numpy as np\n",
    "import pandas as pd"
   ]
  },
  {
   "cell_type": "code",
   "execution_count": 2,
   "metadata": {
    "ExecuteTime": {
     "end_time": "2019-09-12T00:06:21.389608Z",
     "start_time": "2019-09-12T00:06:21.382241Z"
    }
   },
   "outputs": [],
   "source": [
    "partial_url = 'https://cbi.iq/currency_auction/view/'\n",
    "ua1 = \"Mozilla/5.0 (Windows NT 10.0; Win64; x64) AppleWebKit/537.36 (KHTML, like Gecko) \" \\\n",
    "      \"Chrome/66.0.3359.139 Safari/537.36\"\n",
    "headers = {\"User-Agent\": ua1}"
   ]
  },
  {
   "cell_type": "code",
   "execution_count": 134,
   "metadata": {
    "ExecuteTime": {
     "end_time": "2019-09-12T02:13:11.261569Z",
     "start_time": "2019-09-12T02:13:10.175903Z"
    }
   },
   "outputs": [
    {
     "data": {
      "text/plain": [
       "[<span style=\"font-family:Arial,Helvetica,sans-serif\"><span style=\"font-size:16px\"><strong>إعلان رقم (3529)</strong></span></span>,\n",
       " <span style=\"font-family:Arial,Helvetica,sans-serif\"><span style=\"font-size:14px\"><strong>تـاريخ البيع</strong> - الثلاثاء 19-9-2017 والمنفذ يوم الاثنين 18-9-2017</span></span>,\n",
       " <span style=\"font-family:Arial,Helvetica,sans-serif\"><strong>التفاصيل</strong> </span>,\n",
       " <span style=\"font-family:Arial,Helvetica,sans-serif\"><strong>المبلغ</strong></span>,\n",
       " <span style=\"font-family:Arial,Helvetica,sans-serif\">اجمالي البيع لأغراض تعزيز الارصدة في الخارج (حوالات،إعتمادات)</span>,\n",
       " <span style=\"font-family:Arial,Helvetica,sans-serif\">118,812,407</span>,\n",
       " <span style=\"font-family:Arial,Helvetica,sans-serif\">اجمالي البيع النقدي</span>,\n",
       " <span style=\"font-family:Arial,Helvetica,sans-serif\">2,160,000</span>,\n",
       " <span style=\"font-family:Arial,Helvetica,sans-serif\">اجمالي المبيعات الكلية</span>,\n",
       " <span style=\"font-family:Arial,Helvetica,sans-serif\">162,772,407</span>,\n",
       " <span style=\"font-family:Arial,Helvetica,sans-serif\"><strong>علماً أن :</strong></span>,\n",
       " <span style=\"font-family:Arial,Helvetica,sans-serif\">سعر بيع المبالغ المحولة لحسابات المصارف في الخارج (1190) دينار لكل دولار.</span>,\n",
       " <span style=\"font-family:Arial,Helvetica,sans-serif\">سعر البيع النقدي (1190) دينارلكل دولار.</span>,\n",
       " <span style=\"font-family:Arial,Helvetica,sans-serif\">* <a href=\"https://cbi.iq/static/uploads/up/file-150588804310786.pdf\">جدول مبيعات البنك المركزي العراقي للعملة الاجنبية (المبالغ بالاف الدولارات) ليوم الثلاثاء 19-9-2017 والمنفذ يوم الاثنين 18-9-2017</a></span>]"
      ]
     },
     "execution_count": 134,
     "metadata": {},
     "output_type": "execute_result"
    }
   ],
   "source": [
    "whole_url = partial_url + '124'\n",
    "\n",
    "page = requests.get(whole_url, headers=headers, timeout=500)\n",
    "soup = BeautifulSoup(page.content, \"html.parser\")\n",
    "\n",
    "# soup.find_all('span', attrs={\"style\":\"font-family:Arial,Helvetica,sans-serif\"})[0:]\n",
    "info = soup.find_all('span', attrs={\"style\":\"font-family:Arial,Helvetica,sans-serif\"})\n",
    "info"
   ]
  },
  {
   "cell_type": "code",
   "execution_count": 135,
   "metadata": {
    "ExecuteTime": {
     "end_time": "2019-09-12T02:13:45.316311Z",
     "start_time": "2019-09-12T02:13:45.308319Z"
    }
   },
   "outputs": [
    {
     "name": "stdout",
     "output_type": "stream",
     "text": [
      "تـاريخ البيع - الثلاثاء 19-9-2017 والمنفذ يوم الاثنين 18-9-2017\n",
      "118,812,407\n",
      "2,160,000\n",
      "162,772,407\n",
      "سعر بيع المبالغ المحولة لحسابات المصارف في الخارج (1190) دينار لكل دولار.\n"
     ]
    }
   ],
   "source": [
    "data = [i.text for i in info]\n",
    "print(data[1])\n",
    "print(data[5])\n",
    "print(data[7])\n",
    "print(data[9])\n",
    "print(data[-3])"
   ]
  },
  {
   "cell_type": "markdown",
   "metadata": {},
   "source": [
    "### Function for URLs 124 - 394"
   ]
  },
  {
   "cell_type": "code",
   "execution_count": 128,
   "metadata": {
    "ExecuteTime": {
     "end_time": "2019-09-12T02:09:32.545037Z",
     "start_time": "2019-09-12T02:09:32.535516Z"
    },
    "scrolled": false
   },
   "outputs": [],
   "source": [
    "# establish df outside the for loop\n",
    "\n",
    "def scraper_124_394():\n",
    "    df = pd.DataFrame(columns=['date', 'total_for_foreign',\n",
    "                               'total_cash', 'grand_total', 'exchange_rate'])\n",
    "    for page in range(124, 395):\n",
    "\n",
    "        # piece together each unique URL\n",
    "        whole_url = partial_url + str(page)\n",
    "        print(whole_url)\n",
    "        try:\n",
    "            page = requests.get(whole_url, headers=headers, timeout=500)\n",
    "            soup = BeautifulSoup(page.content, \"html.parser\")\n",
    "\n",
    "            info = soup.find_all(\n",
    "                'span', attrs={\"style\": \"font-family:Arial,Helvetica,sans-serif\"})\n",
    "            # put data into a list\n",
    "            data = [i.text for i in info]\n",
    "            df = df.append({'date': data[1],\n",
    "                            'total_for_foreign': data[5],\n",
    "                            'total_cash': data[7],\n",
    "                            'grand_total': data[9],\n",
    "                            'exchange_rate': data[-3],\n",
    "                            'url':whole_url}, ignore_index=True)\n",
    "        except Exception:\n",
    "            print('No URL at that number')\n",
    "\n",
    "        time.sleep(1.2)\n",
    "    df.to_csv('124_394.csv',index=False)\n",
    "    return df"
   ]
  },
  {
   "cell_type": "code",
   "execution_count": 129,
   "metadata": {
    "ExecuteTime": {
     "end_time": "2019-09-12T02:09:38.420534Z",
     "start_time": "2019-09-12T02:09:38.265193Z"
    }
   },
   "outputs": [
    {
     "name": "stdout",
     "output_type": "stream",
     "text": [
      "124_394.csv       README.md         scraper124394.py\r\n",
      "CBI_Project.ipynb initial_df.csv\r\n"
     ]
    }
   ],
   "source": [
    "!ls"
   ]
  },
  {
   "cell_type": "code",
   "execution_count": 60,
   "metadata": {
    "ExecuteTime": {
     "end_time": "2019-09-12T01:21:05.166169Z",
     "start_time": "2019-09-12T01:21:05.155478Z"
    }
   },
   "outputs": [],
   "source": [
    "raw_data = pd.read_csv('initial_df.csv',index_col=False)"
   ]
  },
  {
   "cell_type": "code",
   "execution_count": 69,
   "metadata": {
    "ExecuteTime": {
     "end_time": "2019-09-12T01:22:37.970879Z",
     "start_time": "2019-09-12T01:22:37.962266Z"
    }
   },
   "outputs": [
    {
     "data": {
      "text/plain": [
       "4    سعر بيع المبالغ المحولة لحسابات المصارف في الخ...\n",
       "5    سعر بيع المبالغ المحولة لحسابات المصارف في الخ...\n",
       "Name: exchange_rate, dtype: object"
      ]
     },
     "execution_count": 69,
     "metadata": {},
     "output_type": "execute_result"
    }
   ],
   "source": [
    "raw_data.iloc[4:6,4]"
   ]
  },
  {
   "cell_type": "code",
   "execution_count": 130,
   "metadata": {
    "ExecuteTime": {
     "end_time": "2019-09-12T02:09:48.307710Z",
     "start_time": "2019-09-12T02:09:48.287103Z"
    }
   },
   "outputs": [
    {
     "data": {
      "text/html": [
       "<div>\n",
       "<style scoped>\n",
       "    .dataframe tbody tr th:only-of-type {\n",
       "        vertical-align: middle;\n",
       "    }\n",
       "\n",
       "    .dataframe tbody tr th {\n",
       "        vertical-align: top;\n",
       "    }\n",
       "\n",
       "    .dataframe thead th {\n",
       "        text-align: right;\n",
       "    }\n",
       "</style>\n",
       "<table border=\"1\" class=\"dataframe\">\n",
       "  <thead>\n",
       "    <tr style=\"text-align: right;\">\n",
       "      <th></th>\n",
       "      <th>date</th>\n",
       "      <th>total_for_foreign</th>\n",
       "      <th>total_cash</th>\n",
       "      <th>grand_total</th>\n",
       "      <th>exchange_rate</th>\n",
       "    </tr>\n",
       "  </thead>\n",
       "  <tbody>\n",
       "    <tr>\n",
       "      <th>250</th>\n",
       "      <td>تـاريخ البيع - ليوم الخميس 2018/9/6 والمنفذ يو...</td>\n",
       "      <td>168,404,815</td>\n",
       "      <td>31,100,000</td>\n",
       "      <td>اجمالي المبيعات الكلية</td>\n",
       "      <td>علماً أن :</td>\n",
       "    </tr>\n",
       "    <tr>\n",
       "      <th>251</th>\n",
       "      <td>تـاريخ البيع - ليوم الاحد 2018/9/9 والمنفذ يوم...</td>\n",
       "      <td>165,241,119</td>\n",
       "      <td>33,050,000\\r\\n</td>\n",
       "      <td>198,291,119</td>\n",
       "      <td>علماً أن :</td>\n",
       "    </tr>\n",
       "    <tr>\n",
       "      <th>252</th>\n",
       "      <td>تـاريخ البيع - ليوم الاثنين 2018/9/10 والمنفذ ...</td>\n",
       "      <td>169,998,910</td>\n",
       "      <td>37,350,000\\r\\n</td>\n",
       "      <td>207,348,910</td>\n",
       "      <td>علماً أن :</td>\n",
       "    </tr>\n",
       "    <tr>\n",
       "      <th>253</th>\n",
       "      <td>تـاريخ البيع - ليوم الثلاثاء 2018/9/11 والمنفذ...</td>\n",
       "      <td>161,015,027</td>\n",
       "      <td>34,350,000\\r\\n</td>\n",
       "      <td>195,365,027</td>\n",
       "      <td>علماً أن :</td>\n",
       "    </tr>\n",
       "    <tr>\n",
       "      <th>254</th>\n",
       "      <td>تـاريخ البيع - ليوم الاربعاء 2018/9/12 والمنفذ...</td>\n",
       "      <td>174,421,480</td>\n",
       "      <td>35,100,000\\r\\n</td>\n",
       "      <td>209,521,480</td>\n",
       "      <td>علماً أن :</td>\n",
       "    </tr>\n",
       "    <tr>\n",
       "      <th>255</th>\n",
       "      <td>تـاريخ البيع - ليوم الخميس 2018/9/13 والمنفذ ي...</td>\n",
       "      <td>156,902,584</td>\n",
       "      <td>30,800,000\\r\\n</td>\n",
       "      <td>187,702,584</td>\n",
       "      <td>علماً أن :</td>\n",
       "    </tr>\n",
       "    <tr>\n",
       "      <th>256</th>\n",
       "      <td>تـاريخ البيع - ليوم الأحد 2018/9/16 والمنفذ يو...</td>\n",
       "      <td>182,569,754</td>\n",
       "      <td>32,350,000\\r\\n</td>\n",
       "      <td>214,919,754</td>\n",
       "      <td>علماً أن :</td>\n",
       "    </tr>\n",
       "    <tr>\n",
       "      <th>257</th>\n",
       "      <td>تـاريخ البيع - ليوم الأثنين 2018/9/17 والمنفذ ...</td>\n",
       "      <td>147,381,019</td>\n",
       "      <td>38,000,000\\r\\n</td>\n",
       "      <td>185,381,019</td>\n",
       "      <td>علماً أن :</td>\n",
       "    </tr>\n",
       "    <tr>\n",
       "      <th>258</th>\n",
       "      <td>تـاريخ البيع - ليوم الثلاثاء 2018/9/18 والمنفذ...</td>\n",
       "      <td>104,937,400</td>\n",
       "      <td>32,250,000\\r\\n</td>\n",
       "      <td>137,187,400</td>\n",
       "      <td>علماً أن :</td>\n",
       "    </tr>\n",
       "    <tr>\n",
       "      <th>259</th>\n",
       "      <td>3789</td>\n",
       "      <td>الـمبلغ</td>\n",
       "      <td>190,058,455</td>\n",
       "      <td>35,900,000 \\r\\n</td>\n",
       "      <td>علماً أن :</td>\n",
       "    </tr>\n",
       "    <tr>\n",
       "      <th>260</th>\n",
       "      <td>3790</td>\n",
       "      <td>الـمبلغ</td>\n",
       "      <td>166,793,767</td>\n",
       "      <td>31,800,000 \\r\\n</td>\n",
       "      <td>علماً أن :</td>\n",
       "    </tr>\n",
       "    <tr>\n",
       "      <th>261</th>\n",
       "      <td>3791</td>\n",
       "      <td>الـمبلغ</td>\n",
       "      <td>175,348,374</td>\n",
       "      <td>32,900,000 \\r\\n</td>\n",
       "      <td>علماً أن :</td>\n",
       "    </tr>\n",
       "    <tr>\n",
       "      <th>262</th>\n",
       "      <td>3792</td>\n",
       "      <td>الـمبلغ</td>\n",
       "      <td>174,865,770</td>\n",
       "      <td>38,200,000 \\r\\n</td>\n",
       "      <td>علماً أن :</td>\n",
       "    </tr>\n",
       "    <tr>\n",
       "      <th>263</th>\n",
       "      <td>3793</td>\n",
       "      <td>الـمبلغ</td>\n",
       "      <td>167,674,850</td>\n",
       "      <td>34,450,000 \\r\\n</td>\n",
       "      <td>علماً أن :</td>\n",
       "    </tr>\n",
       "    <tr>\n",
       "      <th>264</th>\n",
       "      <td>3794</td>\n",
       "      <td>الـمبلغ</td>\n",
       "      <td>138,577,250</td>\n",
       "      <td>33,650,000\\r\\n</td>\n",
       "      <td>علماً أن :</td>\n",
       "    </tr>\n",
       "    <tr>\n",
       "      <th>265</th>\n",
       "      <td>3795</td>\n",
       "      <td>الـمبلغ</td>\n",
       "      <td>94,692,035</td>\n",
       "      <td>28,300,000\\r\\n</td>\n",
       "      <td>علماً أن :</td>\n",
       "    </tr>\n",
       "    <tr>\n",
       "      <th>266</th>\n",
       "      <td>3796</td>\n",
       "      <td>الـمبلغ</td>\n",
       "      <td>160,179,318</td>\n",
       "      <td>29,950,000\\r\\n</td>\n",
       "      <td>علماً أن :</td>\n",
       "    </tr>\n",
       "    <tr>\n",
       "      <th>267</th>\n",
       "      <td>3797</td>\n",
       "      <td>الـمبلغ</td>\n",
       "      <td>126,238,475</td>\n",
       "      <td>37,050,000\\r\\n</td>\n",
       "      <td>علماً أن :</td>\n",
       "    </tr>\n",
       "    <tr>\n",
       "      <th>268</th>\n",
       "      <td>3798</td>\n",
       "      <td>الـمبلغ</td>\n",
       "      <td>138,830,343</td>\n",
       "      <td>34,050,000\\r\\n</td>\n",
       "      <td>علماً أن :</td>\n",
       "    </tr>\n",
       "    <tr>\n",
       "      <th>269</th>\n",
       "      <td>3799</td>\n",
       "      <td>الـمبلغ</td>\n",
       "      <td>151,530,346</td>\n",
       "      <td>33,950,000\\r\\n</td>\n",
       "      <td>علماً أن :</td>\n",
       "    </tr>\n",
       "  </tbody>\n",
       "</table>\n",
       "</div>"
      ],
      "text/plain": [
       "                                                  date total_for_foreign  \\\n",
       "250  تـاريخ البيع - ليوم الخميس 2018/9/6 والمنفذ يو...       168,404,815   \n",
       "251  تـاريخ البيع - ليوم الاحد 2018/9/9 والمنفذ يوم...       165,241,119   \n",
       "252  تـاريخ البيع - ليوم الاثنين 2018/9/10 والمنفذ ...       169,998,910   \n",
       "253  تـاريخ البيع - ليوم الثلاثاء 2018/9/11 والمنفذ...       161,015,027   \n",
       "254  تـاريخ البيع - ليوم الاربعاء 2018/9/12 والمنفذ...       174,421,480   \n",
       "255  تـاريخ البيع - ليوم الخميس 2018/9/13 والمنفذ ي...       156,902,584   \n",
       "256  تـاريخ البيع - ليوم الأحد 2018/9/16 والمنفذ يو...       182,569,754   \n",
       "257  تـاريخ البيع - ليوم الأثنين 2018/9/17 والمنفذ ...       147,381,019   \n",
       "258  تـاريخ البيع - ليوم الثلاثاء 2018/9/18 والمنفذ...       104,937,400   \n",
       "259                                               3789           الـمبلغ   \n",
       "260                                               3790           الـمبلغ   \n",
       "261                                               3791           الـمبلغ   \n",
       "262                                               3792           الـمبلغ   \n",
       "263                                               3793           الـمبلغ   \n",
       "264                                               3794           الـمبلغ   \n",
       "265                                               3795           الـمبلغ   \n",
       "266                                               3796           الـمبلغ   \n",
       "267                                               3797           الـمبلغ   \n",
       "268                                               3798           الـمبلغ   \n",
       "269                                               3799           الـمبلغ   \n",
       "\n",
       "         total_cash             grand_total exchange_rate  \n",
       "250      31,100,000  اجمالي المبيعات الكلية    علماً أن :  \n",
       "251  33,050,000\\r\\n             198,291,119    علماً أن :  \n",
       "252  37,350,000\\r\\n             207,348,910    علماً أن :  \n",
       "253  34,350,000\\r\\n             195,365,027    علماً أن :  \n",
       "254  35,100,000\\r\\n             209,521,480    علماً أن :  \n",
       "255  30,800,000\\r\\n             187,702,584    علماً أن :  \n",
       "256  32,350,000\\r\\n             214,919,754    علماً أن :  \n",
       "257  38,000,000\\r\\n             185,381,019    علماً أن :  \n",
       "258  32,250,000\\r\\n             137,187,400    علماً أن :  \n",
       "259     190,058,455         35,900,000 \\r\\n    علماً أن :  \n",
       "260     166,793,767         31,800,000 \\r\\n    علماً أن :  \n",
       "261     175,348,374         32,900,000 \\r\\n    علماً أن :  \n",
       "262     174,865,770         38,200,000 \\r\\n    علماً أن :  \n",
       "263     167,674,850         34,450,000 \\r\\n    علماً أن :  \n",
       "264     138,577,250          33,650,000\\r\\n    علماً أن :  \n",
       "265      94,692,035          28,300,000\\r\\n    علماً أن :  \n",
       "266     160,179,318          29,950,000\\r\\n    علماً أن :  \n",
       "267     126,238,475          37,050,000\\r\\n    علماً أن :  \n",
       "268     138,830,343          34,050,000\\r\\n    علماً أن :  \n",
       "269     151,530,346          33,950,000\\r\\n    علماً أن :  "
      ]
     },
     "execution_count": 130,
     "metadata": {},
     "output_type": "execute_result"
    }
   ],
   "source": [
    "raw_data.iloc[250:270,:]"
   ]
  },
  {
   "cell_type": "markdown",
   "metadata": {},
   "source": [
    "### Determining next range"
   ]
  },
  {
   "cell_type": "code",
   "execution_count": 132,
   "metadata": {
    "ExecuteTime": {
     "end_time": "2019-09-12T02:11:05.199400Z",
     "start_time": "2019-09-12T02:11:03.671443Z"
    }
   },
   "outputs": [
    {
     "name": "stdout",
     "output_type": "stream",
     "text": [
      "page 500\n",
      "https://cbi.iq/currency_auction/view/500\n",
      "سعر البيع النقدي (1190) دينارلكل دولار.\n",
      "اجمالي البيع لأغراض تعزيز الارصدة في الخارج (حوالات،إعتمادات)\n",
      "اجمالي البيع النقدي\n",
      "171,949,980\n",
      "سعر بيع المبالغ المحولة لحسابات المصارف في الخارج (1190) دينار لكل دولار.\n"
     ]
    }
   ],
   "source": [
    "# Starts at 394, but doesn't go all the way to 643.\n",
    "# In fact, appears to change multiple times between 394 and 643\n",
    "\n",
    "for page in range(500, 501):\n",
    "    print('page {}'.format(page))\n",
    "    # piece together each unique URL\n",
    "    whole_url = partial_url + str(page)\n",
    "    print(whole_url)\n",
    "\n",
    "    page = requests.get(whole_url, headers=headers, timeout=500)\n",
    "    soup = BeautifulSoup(page.content, \"html.parser\")\n",
    "\n",
    "    info = soup.find_all(\n",
    "        'span', attrs={\"style\": \"font-family:Arial,Helvetica,sans-serif\"})\n",
    "\n",
    "    data = [i.text for i in info]\n",
    "\n",
    "    time.sleep(0.5)\n",
    "    # get date\n",
    "    print(data[-1])\n",
    "    # get total_for_foreign\n",
    "    print(data[7])\n",
    "    # get total_cash\n",
    "    print(data[9])\n",
    "    # get grand_total\n",
    "    print(data[12])\n",
    "    # get exchange_rate\n",
    "    print(data[14])"
   ]
  },
  {
   "cell_type": "code",
   "execution_count": 120,
   "metadata": {
    "ExecuteTime": {
     "end_time": "2019-09-12T01:55:27.628271Z",
     "start_time": "2019-09-12T01:55:27.621051Z"
    }
   },
   "outputs": [
    {
     "data": {
      "text/plain": [
       "['تـاريخ البيع - ليوم الخميس 2019/9/12 والمنفذ يوم الأربعاء 2019/9/11\\xa0 ',\n",
       " 'التفاصيل ',\n",
       " '    الـمبلغ',\n",
       " 'اجمالي البيع لأغراض تعزيز الارصدة في الخارج (حوالات،إعتمادات)',\n",
       " '231,588,396',\n",
       " 'اجمالي البيع النقدي',\n",
       " '26,550,000',\n",
       " 'اجمالي المبيعات الكلية',\n",
       " '258,138,396',\n",
       " 'علماً أن :',\n",
       " 'سعر بيع المبالغ المحولة لحسابات المصارف في الخارج (1190)\\xa0دينار لكل دولار.',\n",
       " 'سعر البيع النقدي (1190)\\xa0دينارلكل دولار.',\n",
       " '» جدول مبيعات البنك المركزي العراقي للعملة الاجنبية (المبالغ بالاف الدولارات) ليوم الخميس 2019/9/12 والمنفذ يوم الأربعاء 2019/9/11 ']"
      ]
     },
     "execution_count": 120,
     "metadata": {},
     "output_type": "execute_result"
    }
   ],
   "source": [
    "# data[3] # date\n",
    "data[3:]"
   ]
  },
  {
   "cell_type": "code",
   "execution_count": 121,
   "metadata": {
    "ExecuteTime": {
     "end_time": "2019-09-12T01:55:51.688922Z",
     "start_time": "2019-09-12T01:55:51.680920Z"
    }
   },
   "outputs": [
    {
     "name": "stdout",
     "output_type": "stream",
     "text": [
      "» جدول مبيعات البنك المركزي العراقي للعملة الاجنبية (المبالغ بالاف الدولارات) ليوم الخميس 2019/9/12 والمنفذ يوم الأربعاء 2019/9/11 \n",
      "231,588,396\n",
      "26,550,000\n",
      "علماً أن :\n",
      "سعر البيع النقدي (1190) دينارلكل دولار.\n"
     ]
    }
   ],
   "source": [
    "# get date\n",
    "print(data[-1])\n",
    "# get total_for_foreign\n",
    "print(data[7])\n",
    "# get total_cash\n",
    "print(data[9])\n",
    "# get grand_total\n",
    "print(data[12])\n",
    "# get exchange_rate\n",
    "print(data[14])"
   ]
  },
  {
   "cell_type": "code",
   "execution_count": null,
   "metadata": {},
   "outputs": [],
   "source": [
    "df = pd.DataFrame(columns=['date', 'total_for_foreign',\n",
    "                               'total_cash', 'grand_total', 'exchange_rate','url'])\n",
    "    for page in range(394, 643):\n",
    "\n",
    "        # piece together each unique URL\n",
    "        whole_url = partial_url + str(page)\n",
    "        print(whole_url)\n",
    "        try:\n",
    "            page = requests.get(whole_url, headers=headers, timeout=500)\n",
    "            soup = BeautifulSoup(page.content, \"html.parser\")\n",
    "\n",
    "            info = soup.find_all(\n",
    "                'span', attrs={\"style\": \"font-family:Arial,Helvetica,sans-serif\"})\n",
    "            # put data into a list\n",
    "            data = [i.text for i in info]\n",
    "\n",
    "            df = df.append({'date': data[1], \n",
    "                            'total_for_foreign': data[5], \n",
    "                            'total_cash': data[7], \n",
    "                            'grand_total': data[9],\n",
    "                            'exchange_rate': data[-3],\n",
    "                            'url':whole_url}, ignore_index=True)\n",
    "\n",
    "        except Exception:\n",
    "            print('No URL at that number')\n",
    "\n",
    "        time.sleep(0.5)\n",
    "    return df"
   ]
  },
  {
   "cell_type": "markdown",
   "metadata": {},
   "source": [
    "### Cleaning 124-394"
   ]
  },
  {
   "cell_type": "code",
   "execution_count": 205,
   "metadata": {
    "ExecuteTime": {
     "end_time": "2019-09-12T02:36:43.621632Z",
     "start_time": "2019-09-12T02:36:43.611271Z"
    }
   },
   "outputs": [],
   "source": [
    "raw_data1 = pd.read_csv('124_394.csv')"
   ]
  },
  {
   "cell_type": "code",
   "execution_count": 206,
   "metadata": {
    "ExecuteTime": {
     "end_time": "2019-09-12T02:36:44.023387Z",
     "start_time": "2019-09-12T02:36:44.010035Z"
    }
   },
   "outputs": [
    {
     "data": {
      "text/html": [
       "<div>\n",
       "<style scoped>\n",
       "    .dataframe tbody tr th:only-of-type {\n",
       "        vertical-align: middle;\n",
       "    }\n",
       "\n",
       "    .dataframe tbody tr th {\n",
       "        vertical-align: top;\n",
       "    }\n",
       "\n",
       "    .dataframe thead th {\n",
       "        text-align: right;\n",
       "    }\n",
       "</style>\n",
       "<table border=\"1\" class=\"dataframe\">\n",
       "  <thead>\n",
       "    <tr style=\"text-align: right;\">\n",
       "      <th></th>\n",
       "      <th>date</th>\n",
       "      <th>total_for_foreign</th>\n",
       "      <th>total_cash</th>\n",
       "      <th>grand_total</th>\n",
       "      <th>exchange_rate</th>\n",
       "      <th>url</th>\n",
       "    </tr>\n",
       "  </thead>\n",
       "  <tbody>\n",
       "    <tr>\n",
       "      <th>255</th>\n",
       "      <td>تـاريخ البيع - ليوم الخميس 2018/9/13 والمنفذ ي...</td>\n",
       "      <td>156,902,584</td>\n",
       "      <td>30,800,000\\r\\n</td>\n",
       "      <td>187,702,584</td>\n",
       "      <td>علماً أن :</td>\n",
       "      <td>https://cbi.iq/currency_auction/view/390</td>\n",
       "    </tr>\n",
       "    <tr>\n",
       "      <th>256</th>\n",
       "      <td>تـاريخ البيع - ليوم الأحد 2018/9/16 والمنفذ يو...</td>\n",
       "      <td>182,569,754</td>\n",
       "      <td>32,350,000\\r\\n</td>\n",
       "      <td>214,919,754</td>\n",
       "      <td>علماً أن :</td>\n",
       "      <td>https://cbi.iq/currency_auction/view/391</td>\n",
       "    </tr>\n",
       "    <tr>\n",
       "      <th>257</th>\n",
       "      <td>تـاريخ البيع - ليوم الأثنين 2018/9/17 والمنفذ ...</td>\n",
       "      <td>147,381,019</td>\n",
       "      <td>38,000,000\\r\\n</td>\n",
       "      <td>185,381,019</td>\n",
       "      <td>علماً أن :</td>\n",
       "      <td>https://cbi.iq/currency_auction/view/392</td>\n",
       "    </tr>\n",
       "    <tr>\n",
       "      <th>258</th>\n",
       "      <td>تـاريخ البيع - ليوم الثلاثاء 2018/9/18 والمنفذ...</td>\n",
       "      <td>104,937,400</td>\n",
       "      <td>32,250,000\\r\\n</td>\n",
       "      <td>137,187,400</td>\n",
       "      <td>علماً أن :</td>\n",
       "      <td>https://cbi.iq/currency_auction/view/393</td>\n",
       "    </tr>\n",
       "    <tr>\n",
       "      <th>259</th>\n",
       "      <td>3789</td>\n",
       "      <td>الـمبلغ</td>\n",
       "      <td>190,058,455</td>\n",
       "      <td>35,900,000 \\r\\n</td>\n",
       "      <td>علماً أن :</td>\n",
       "      <td>https://cbi.iq/currency_auction/view/394</td>\n",
       "    </tr>\n",
       "  </tbody>\n",
       "</table>\n",
       "</div>"
      ],
      "text/plain": [
       "                                                  date total_for_foreign  \\\n",
       "255  تـاريخ البيع - ليوم الخميس 2018/9/13 والمنفذ ي...       156,902,584   \n",
       "256  تـاريخ البيع - ليوم الأحد 2018/9/16 والمنفذ يو...       182,569,754   \n",
       "257  تـاريخ البيع - ليوم الأثنين 2018/9/17 والمنفذ ...       147,381,019   \n",
       "258  تـاريخ البيع - ليوم الثلاثاء 2018/9/18 والمنفذ...       104,937,400   \n",
       "259                                               3789           الـمبلغ   \n",
       "\n",
       "         total_cash      grand_total exchange_rate  \\\n",
       "255  30,800,000\\r\\n      187,702,584    علماً أن :   \n",
       "256  32,350,000\\r\\n      214,919,754    علماً أن :   \n",
       "257  38,000,000\\r\\n      185,381,019    علماً أن :   \n",
       "258  32,250,000\\r\\n      137,187,400    علماً أن :   \n",
       "259     190,058,455  35,900,000 \\r\\n    علماً أن :   \n",
       "\n",
       "                                          url  \n",
       "255  https://cbi.iq/currency_auction/view/390  \n",
       "256  https://cbi.iq/currency_auction/view/391  \n",
       "257  https://cbi.iq/currency_auction/view/392  \n",
       "258  https://cbi.iq/currency_auction/view/393  \n",
       "259  https://cbi.iq/currency_auction/view/394  "
      ]
     },
     "execution_count": 206,
     "metadata": {},
     "output_type": "execute_result"
    }
   ],
   "source": [
    "raw_data1.tail()"
   ]
  },
  {
   "cell_type": "code",
   "execution_count": 207,
   "metadata": {
    "ExecuteTime": {
     "end_time": "2019-09-12T02:36:44.641981Z",
     "start_time": "2019-09-12T02:36:44.637963Z"
    },
    "scrolled": false
   },
   "outputs": [],
   "source": [
    "raw_data1 = raw_data1.iloc[:259,]"
   ]
  },
  {
   "cell_type": "code",
   "execution_count": 208,
   "metadata": {
    "ExecuteTime": {
     "end_time": "2019-09-12T02:36:45.266588Z",
     "start_time": "2019-09-12T02:36:45.254066Z"
    }
   },
   "outputs": [
    {
     "data": {
      "text/html": [
       "<div>\n",
       "<style scoped>\n",
       "    .dataframe tbody tr th:only-of-type {\n",
       "        vertical-align: middle;\n",
       "    }\n",
       "\n",
       "    .dataframe tbody tr th {\n",
       "        vertical-align: top;\n",
       "    }\n",
       "\n",
       "    .dataframe thead th {\n",
       "        text-align: right;\n",
       "    }\n",
       "</style>\n",
       "<table border=\"1\" class=\"dataframe\">\n",
       "  <thead>\n",
       "    <tr style=\"text-align: right;\">\n",
       "      <th></th>\n",
       "      <th>date</th>\n",
       "      <th>total_for_foreign</th>\n",
       "      <th>total_cash</th>\n",
       "      <th>grand_total</th>\n",
       "      <th>exchange_rate</th>\n",
       "      <th>url</th>\n",
       "    </tr>\n",
       "  </thead>\n",
       "  <tbody>\n",
       "    <tr>\n",
       "      <th>254</th>\n",
       "      <td>تـاريخ البيع - ليوم الاربعاء 2018/9/12 والمنفذ...</td>\n",
       "      <td>174,421,480</td>\n",
       "      <td>35,100,000\\r\\n</td>\n",
       "      <td>209,521,480</td>\n",
       "      <td>علماً أن :</td>\n",
       "      <td>https://cbi.iq/currency_auction/view/389</td>\n",
       "    </tr>\n",
       "    <tr>\n",
       "      <th>255</th>\n",
       "      <td>تـاريخ البيع - ليوم الخميس 2018/9/13 والمنفذ ي...</td>\n",
       "      <td>156,902,584</td>\n",
       "      <td>30,800,000\\r\\n</td>\n",
       "      <td>187,702,584</td>\n",
       "      <td>علماً أن :</td>\n",
       "      <td>https://cbi.iq/currency_auction/view/390</td>\n",
       "    </tr>\n",
       "    <tr>\n",
       "      <th>256</th>\n",
       "      <td>تـاريخ البيع - ليوم الأحد 2018/9/16 والمنفذ يو...</td>\n",
       "      <td>182,569,754</td>\n",
       "      <td>32,350,000\\r\\n</td>\n",
       "      <td>214,919,754</td>\n",
       "      <td>علماً أن :</td>\n",
       "      <td>https://cbi.iq/currency_auction/view/391</td>\n",
       "    </tr>\n",
       "    <tr>\n",
       "      <th>257</th>\n",
       "      <td>تـاريخ البيع - ليوم الأثنين 2018/9/17 والمنفذ ...</td>\n",
       "      <td>147,381,019</td>\n",
       "      <td>38,000,000\\r\\n</td>\n",
       "      <td>185,381,019</td>\n",
       "      <td>علماً أن :</td>\n",
       "      <td>https://cbi.iq/currency_auction/view/392</td>\n",
       "    </tr>\n",
       "    <tr>\n",
       "      <th>258</th>\n",
       "      <td>تـاريخ البيع - ليوم الثلاثاء 2018/9/18 والمنفذ...</td>\n",
       "      <td>104,937,400</td>\n",
       "      <td>32,250,000\\r\\n</td>\n",
       "      <td>137,187,400</td>\n",
       "      <td>علماً أن :</td>\n",
       "      <td>https://cbi.iq/currency_auction/view/393</td>\n",
       "    </tr>\n",
       "  </tbody>\n",
       "</table>\n",
       "</div>"
      ],
      "text/plain": [
       "                                                  date total_for_foreign  \\\n",
       "254  تـاريخ البيع - ليوم الاربعاء 2018/9/12 والمنفذ...       174,421,480   \n",
       "255  تـاريخ البيع - ليوم الخميس 2018/9/13 والمنفذ ي...       156,902,584   \n",
       "256  تـاريخ البيع - ليوم الأحد 2018/9/16 والمنفذ يو...       182,569,754   \n",
       "257  تـاريخ البيع - ليوم الأثنين 2018/9/17 والمنفذ ...       147,381,019   \n",
       "258  تـاريخ البيع - ليوم الثلاثاء 2018/9/18 والمنفذ...       104,937,400   \n",
       "\n",
       "         total_cash   grand_total exchange_rate  \\\n",
       "254  35,100,000\\r\\n   209,521,480    علماً أن :   \n",
       "255  30,800,000\\r\\n   187,702,584    علماً أن :   \n",
       "256  32,350,000\\r\\n   214,919,754    علماً أن :   \n",
       "257  38,000,000\\r\\n   185,381,019    علماً أن :   \n",
       "258  32,250,000\\r\\n   137,187,400    علماً أن :   \n",
       "\n",
       "                                          url  \n",
       "254  https://cbi.iq/currency_auction/view/389  \n",
       "255  https://cbi.iq/currency_auction/view/390  \n",
       "256  https://cbi.iq/currency_auction/view/391  \n",
       "257  https://cbi.iq/currency_auction/view/392  \n",
       "258  https://cbi.iq/currency_auction/view/393  "
      ]
     },
     "execution_count": 208,
     "metadata": {},
     "output_type": "execute_result"
    }
   ],
   "source": [
    "raw_data1.tail()"
   ]
  },
  {
   "cell_type": "code",
   "execution_count": 209,
   "metadata": {
    "ExecuteTime": {
     "end_time": "2019-09-12T02:36:46.275559Z",
     "start_time": "2019-09-12T02:36:45.822321Z"
    }
   },
   "outputs": [
    {
     "data": {
      "text/html": [
       "<div>\n",
       "<style scoped>\n",
       "    .dataframe tbody tr th:only-of-type {\n",
       "        vertical-align: middle;\n",
       "    }\n",
       "\n",
       "    .dataframe tbody tr th {\n",
       "        vertical-align: top;\n",
       "    }\n",
       "\n",
       "    .dataframe thead th {\n",
       "        text-align: right;\n",
       "    }\n",
       "</style>\n",
       "<table border=\"1\" class=\"dataframe\">\n",
       "  <thead>\n",
       "    <tr style=\"text-align: right;\">\n",
       "      <th></th>\n",
       "      <th>date</th>\n",
       "      <th>total_for_foreign</th>\n",
       "      <th>total_cash</th>\n",
       "      <th>grand_total</th>\n",
       "      <th>exchange_rate</th>\n",
       "      <th>url</th>\n",
       "    </tr>\n",
       "  </thead>\n",
       "  <tbody>\n",
       "    <tr>\n",
       "      <th>254</th>\n",
       "      <td>تـاريخ البيع - ليوم الاربعاء 2018/9/12 والمنفذ...</td>\n",
       "      <td>174,421,480</td>\n",
       "      <td>35,100,000\\r\\n</td>\n",
       "      <td>209,521,480</td>\n",
       "      <td>علماً أن :</td>\n",
       "      <td>https://cbi.iq/currency_auction/view/389</td>\n",
       "    </tr>\n",
       "    <tr>\n",
       "      <th>255</th>\n",
       "      <td>تـاريخ البيع - ليوم الخميس 2018/9/13 والمنفذ ي...</td>\n",
       "      <td>156,902,584</td>\n",
       "      <td>30,800,000\\r\\n</td>\n",
       "      <td>187,702,584</td>\n",
       "      <td>علماً أن :</td>\n",
       "      <td>https://cbi.iq/currency_auction/view/390</td>\n",
       "    </tr>\n",
       "    <tr>\n",
       "      <th>256</th>\n",
       "      <td>تـاريخ البيع - ليوم الأحد 2018/9/16 والمنفذ يو...</td>\n",
       "      <td>182,569,754</td>\n",
       "      <td>32,350,000\\r\\n</td>\n",
       "      <td>214,919,754</td>\n",
       "      <td>علماً أن :</td>\n",
       "      <td>https://cbi.iq/currency_auction/view/391</td>\n",
       "    </tr>\n",
       "    <tr>\n",
       "      <th>257</th>\n",
       "      <td>تـاريخ البيع - ليوم الأثنين 2018/9/17 والمنفذ ...</td>\n",
       "      <td>147,381,019</td>\n",
       "      <td>38,000,000\\r\\n</td>\n",
       "      <td>185,381,019</td>\n",
       "      <td>علماً أن :</td>\n",
       "      <td>https://cbi.iq/currency_auction/view/392</td>\n",
       "    </tr>\n",
       "    <tr>\n",
       "      <th>258</th>\n",
       "      <td>تـاريخ البيع - ليوم الثلاثاء 2018/9/18 والمنفذ...</td>\n",
       "      <td>104,937,400</td>\n",
       "      <td>32,250,000\\r\\n</td>\n",
       "      <td>137,187,400</td>\n",
       "      <td>علماً أن :</td>\n",
       "      <td>https://cbi.iq/currency_auction/view/393</td>\n",
       "    </tr>\n",
       "  </tbody>\n",
       "</table>\n",
       "</div>"
      ],
      "text/plain": [
       "                                                  date total_for_foreign  \\\n",
       "254  تـاريخ البيع - ليوم الاربعاء 2018/9/12 والمنفذ...       174,421,480   \n",
       "255  تـاريخ البيع - ليوم الخميس 2018/9/13 والمنفذ ي...       156,902,584   \n",
       "256  تـاريخ البيع - ليوم الأحد 2018/9/16 والمنفذ يو...       182,569,754   \n",
       "257  تـاريخ البيع - ليوم الأثنين 2018/9/17 والمنفذ ...       147,381,019   \n",
       "258  تـاريخ البيع - ليوم الثلاثاء 2018/9/18 والمنفذ...       104,937,400   \n",
       "\n",
       "         total_cash   grand_total exchange_rate  \\\n",
       "254  35,100,000\\r\\n   209,521,480    علماً أن :   \n",
       "255  30,800,000\\r\\n   187,702,584    علماً أن :   \n",
       "256  32,350,000\\r\\n   214,919,754    علماً أن :   \n",
       "257  38,000,000\\r\\n   185,381,019    علماً أن :   \n",
       "258  32,250,000\\r\\n   137,187,400    علماً أن :   \n",
       "\n",
       "                                          url  \n",
       "254  https://cbi.iq/currency_auction/view/389  \n",
       "255  https://cbi.iq/currency_auction/view/390  \n",
       "256  https://cbi.iq/currency_auction/view/391  \n",
       "257  https://cbi.iq/currency_auction/view/392  \n",
       "258  https://cbi.iq/currency_auction/view/393  "
      ]
     },
     "execution_count": 209,
     "metadata": {},
     "output_type": "execute_result"
    }
   ],
   "source": [
    "raw_data1['total_for_foreign'] = raw_data1['total_for_foreign'].str.strip()\n",
    "raw_data1.tail()"
   ]
  },
  {
   "cell_type": "code",
   "execution_count": 210,
   "metadata": {
    "ExecuteTime": {
     "end_time": "2019-09-12T02:36:46.538162Z",
     "start_time": "2019-09-12T02:36:46.524041Z"
    }
   },
   "outputs": [
    {
     "data": {
      "text/html": [
       "<div>\n",
       "<style scoped>\n",
       "    .dataframe tbody tr th:only-of-type {\n",
       "        vertical-align: middle;\n",
       "    }\n",
       "\n",
       "    .dataframe tbody tr th {\n",
       "        vertical-align: top;\n",
       "    }\n",
       "\n",
       "    .dataframe thead th {\n",
       "        text-align: right;\n",
       "    }\n",
       "</style>\n",
       "<table border=\"1\" class=\"dataframe\">\n",
       "  <thead>\n",
       "    <tr style=\"text-align: right;\">\n",
       "      <th></th>\n",
       "      <th>date</th>\n",
       "      <th>total_for_foreign</th>\n",
       "      <th>total_cash</th>\n",
       "      <th>grand_total</th>\n",
       "      <th>exchange_rate</th>\n",
       "      <th>url</th>\n",
       "    </tr>\n",
       "  </thead>\n",
       "  <tbody>\n",
       "    <tr>\n",
       "      <th>254</th>\n",
       "      <td>تـاريخ البيع - ليوم الاربعاء 2018/9/12 والمنفذ...</td>\n",
       "      <td>174,421,480</td>\n",
       "      <td>35,100,000</td>\n",
       "      <td>209,521,480</td>\n",
       "      <td>علماً أن :</td>\n",
       "      <td>https://cbi.iq/currency_auction/view/389</td>\n",
       "    </tr>\n",
       "    <tr>\n",
       "      <th>255</th>\n",
       "      <td>تـاريخ البيع - ليوم الخميس 2018/9/13 والمنفذ ي...</td>\n",
       "      <td>156,902,584</td>\n",
       "      <td>30,800,000</td>\n",
       "      <td>187,702,584</td>\n",
       "      <td>علماً أن :</td>\n",
       "      <td>https://cbi.iq/currency_auction/view/390</td>\n",
       "    </tr>\n",
       "    <tr>\n",
       "      <th>256</th>\n",
       "      <td>تـاريخ البيع - ليوم الأحد 2018/9/16 والمنفذ يو...</td>\n",
       "      <td>182,569,754</td>\n",
       "      <td>32,350,000</td>\n",
       "      <td>214,919,754</td>\n",
       "      <td>علماً أن :</td>\n",
       "      <td>https://cbi.iq/currency_auction/view/391</td>\n",
       "    </tr>\n",
       "    <tr>\n",
       "      <th>257</th>\n",
       "      <td>تـاريخ البيع - ليوم الأثنين 2018/9/17 والمنفذ ...</td>\n",
       "      <td>147,381,019</td>\n",
       "      <td>38,000,000</td>\n",
       "      <td>185,381,019</td>\n",
       "      <td>علماً أن :</td>\n",
       "      <td>https://cbi.iq/currency_auction/view/392</td>\n",
       "    </tr>\n",
       "    <tr>\n",
       "      <th>258</th>\n",
       "      <td>تـاريخ البيع - ليوم الثلاثاء 2018/9/18 والمنفذ...</td>\n",
       "      <td>104,937,400</td>\n",
       "      <td>32,250,000</td>\n",
       "      <td>137,187,400</td>\n",
       "      <td>علماً أن :</td>\n",
       "      <td>https://cbi.iq/currency_auction/view/393</td>\n",
       "    </tr>\n",
       "  </tbody>\n",
       "</table>\n",
       "</div>"
      ],
      "text/plain": [
       "                                                  date total_for_foreign  \\\n",
       "254  تـاريخ البيع - ليوم الاربعاء 2018/9/12 والمنفذ...       174,421,480   \n",
       "255  تـاريخ البيع - ليوم الخميس 2018/9/13 والمنفذ ي...       156,902,584   \n",
       "256  تـاريخ البيع - ليوم الأحد 2018/9/16 والمنفذ يو...       182,569,754   \n",
       "257  تـاريخ البيع - ليوم الأثنين 2018/9/17 والمنفذ ...       147,381,019   \n",
       "258  تـاريخ البيع - ليوم الثلاثاء 2018/9/18 والمنفذ...       104,937,400   \n",
       "\n",
       "     total_cash   grand_total exchange_rate  \\\n",
       "254  35,100,000   209,521,480    علماً أن :   \n",
       "255  30,800,000   187,702,584    علماً أن :   \n",
       "256  32,350,000   214,919,754    علماً أن :   \n",
       "257  38,000,000   185,381,019    علماً أن :   \n",
       "258  32,250,000   137,187,400    علماً أن :   \n",
       "\n",
       "                                          url  \n",
       "254  https://cbi.iq/currency_auction/view/389  \n",
       "255  https://cbi.iq/currency_auction/view/390  \n",
       "256  https://cbi.iq/currency_auction/view/391  \n",
       "257  https://cbi.iq/currency_auction/view/392  \n",
       "258  https://cbi.iq/currency_auction/view/393  "
      ]
     },
     "execution_count": 210,
     "metadata": {},
     "output_type": "execute_result"
    }
   ],
   "source": [
    "raw_data1['total_cash'] = raw_data1['total_cash'].str.strip()\n",
    "raw_data1.tail()"
   ]
  },
  {
   "cell_type": "code",
   "execution_count": 211,
   "metadata": {
    "ExecuteTime": {
     "end_time": "2019-09-12T02:36:48.206817Z",
     "start_time": "2019-09-12T02:36:48.194390Z"
    }
   },
   "outputs": [
    {
     "data": {
      "text/html": [
       "<div>\n",
       "<style scoped>\n",
       "    .dataframe tbody tr th:only-of-type {\n",
       "        vertical-align: middle;\n",
       "    }\n",
       "\n",
       "    .dataframe tbody tr th {\n",
       "        vertical-align: top;\n",
       "    }\n",
       "\n",
       "    .dataframe thead th {\n",
       "        text-align: right;\n",
       "    }\n",
       "</style>\n",
       "<table border=\"1\" class=\"dataframe\">\n",
       "  <thead>\n",
       "    <tr style=\"text-align: right;\">\n",
       "      <th></th>\n",
       "      <th>date</th>\n",
       "      <th>total_for_foreign</th>\n",
       "      <th>total_cash</th>\n",
       "      <th>grand_total</th>\n",
       "      <th>exchange_rate</th>\n",
       "      <th>url</th>\n",
       "    </tr>\n",
       "  </thead>\n",
       "  <tbody>\n",
       "    <tr>\n",
       "      <th>254</th>\n",
       "      <td>تـاريخ البيع - ليوم الاربعاء 2018/9/12 والمنفذ...</td>\n",
       "      <td>174,421,480</td>\n",
       "      <td>35,100,000</td>\n",
       "      <td>209,521,480</td>\n",
       "      <td>علماً أن :</td>\n",
       "      <td>https://cbi.iq/currency_auction/view/389</td>\n",
       "    </tr>\n",
       "    <tr>\n",
       "      <th>255</th>\n",
       "      <td>تـاريخ البيع - ليوم الخميس 2018/9/13 والمنفذ ي...</td>\n",
       "      <td>156,902,584</td>\n",
       "      <td>30,800,000</td>\n",
       "      <td>187,702,584</td>\n",
       "      <td>علماً أن :</td>\n",
       "      <td>https://cbi.iq/currency_auction/view/390</td>\n",
       "    </tr>\n",
       "    <tr>\n",
       "      <th>256</th>\n",
       "      <td>تـاريخ البيع - ليوم الأحد 2018/9/16 والمنفذ يو...</td>\n",
       "      <td>182,569,754</td>\n",
       "      <td>32,350,000</td>\n",
       "      <td>214,919,754</td>\n",
       "      <td>علماً أن :</td>\n",
       "      <td>https://cbi.iq/currency_auction/view/391</td>\n",
       "    </tr>\n",
       "    <tr>\n",
       "      <th>257</th>\n",
       "      <td>تـاريخ البيع - ليوم الأثنين 2018/9/17 والمنفذ ...</td>\n",
       "      <td>147,381,019</td>\n",
       "      <td>38,000,000</td>\n",
       "      <td>185,381,019</td>\n",
       "      <td>علماً أن :</td>\n",
       "      <td>https://cbi.iq/currency_auction/view/392</td>\n",
       "    </tr>\n",
       "    <tr>\n",
       "      <th>258</th>\n",
       "      <td>تـاريخ البيع - ليوم الثلاثاء 2018/9/18 والمنفذ...</td>\n",
       "      <td>104,937,400</td>\n",
       "      <td>32,250,000</td>\n",
       "      <td>137,187,400</td>\n",
       "      <td>علماً أن :</td>\n",
       "      <td>https://cbi.iq/currency_auction/view/393</td>\n",
       "    </tr>\n",
       "  </tbody>\n",
       "</table>\n",
       "</div>"
      ],
      "text/plain": [
       "                                                  date total_for_foreign  \\\n",
       "254  تـاريخ البيع - ليوم الاربعاء 2018/9/12 والمنفذ...       174,421,480   \n",
       "255  تـاريخ البيع - ليوم الخميس 2018/9/13 والمنفذ ي...       156,902,584   \n",
       "256  تـاريخ البيع - ليوم الأحد 2018/9/16 والمنفذ يو...       182,569,754   \n",
       "257  تـاريخ البيع - ليوم الأثنين 2018/9/17 والمنفذ ...       147,381,019   \n",
       "258  تـاريخ البيع - ليوم الثلاثاء 2018/9/18 والمنفذ...       104,937,400   \n",
       "\n",
       "     total_cash  grand_total exchange_rate  \\\n",
       "254  35,100,000  209,521,480    علماً أن :   \n",
       "255  30,800,000  187,702,584    علماً أن :   \n",
       "256  32,350,000  214,919,754    علماً أن :   \n",
       "257  38,000,000  185,381,019    علماً أن :   \n",
       "258  32,250,000  137,187,400    علماً أن :   \n",
       "\n",
       "                                          url  \n",
       "254  https://cbi.iq/currency_auction/view/389  \n",
       "255  https://cbi.iq/currency_auction/view/390  \n",
       "256  https://cbi.iq/currency_auction/view/391  \n",
       "257  https://cbi.iq/currency_auction/view/392  \n",
       "258  https://cbi.iq/currency_auction/view/393  "
      ]
     },
     "execution_count": 211,
     "metadata": {},
     "output_type": "execute_result"
    }
   ],
   "source": [
    "raw_data1['grand_total'] = raw_data1['grand_total'].str.strip()\n",
    "raw_data1.tail()"
   ]
  },
  {
   "cell_type": "code",
   "execution_count": 212,
   "metadata": {
    "ExecuteTime": {
     "end_time": "2019-09-12T02:36:49.922976Z",
     "start_time": "2019-09-12T02:36:49.916655Z"
    }
   },
   "outputs": [],
   "source": [
    "# now to remove the commas and convert to int\n",
    "raw_data1['total_for_foreign'] = raw_data1.total_for_foreign.str.replace(',','')\n",
    "raw_data1['total_for_foreign'] = pd.to_numeric(raw_data1.total_for_foreign,errors='coerce')"
   ]
  },
  {
   "cell_type": "code",
   "execution_count": 213,
   "metadata": {
    "ExecuteTime": {
     "end_time": "2019-09-12T02:36:51.466654Z",
     "start_time": "2019-09-12T02:36:51.459669Z"
    }
   },
   "outputs": [],
   "source": [
    "raw_data1['total_cash'] = pd.to_numeric(raw_data1.total_cash.str.replace(',',''), errors='coerce')"
   ]
  },
  {
   "cell_type": "code",
   "execution_count": 214,
   "metadata": {
    "ExecuteTime": {
     "end_time": "2019-09-12T02:37:29.531836Z",
     "start_time": "2019-09-12T02:37:29.517927Z"
    }
   },
   "outputs": [
    {
     "name": "stdout",
     "output_type": "stream",
     "text": [
      "<class 'pandas.core.frame.DataFrame'>\n",
      "RangeIndex: 259 entries, 0 to 258\n",
      "Data columns (total 6 columns):\n",
      "date                 259 non-null object\n",
      "total_for_foreign    254 non-null float64\n",
      "total_cash           254 non-null float64\n",
      "grand_total          232 non-null float64\n",
      "exchange_rate        259 non-null object\n",
      "url                  259 non-null object\n",
      "dtypes: float64(3), object(3)\n",
      "memory usage: 12.2+ KB\n"
     ]
    }
   ],
   "source": [
    "raw_data1['grand_total'] = pd.to_numeric(raw_data1.grand_total.str.replace(',',''), errors='coerce')\n",
    "\n",
    "raw_data1.info()"
   ]
  },
  {
   "cell_type": "code",
   "execution_count": null,
   "metadata": {},
   "outputs": [],
   "source": []
  }
 ],
 "metadata": {
  "kernelspec": {
   "display_name": "Python 3",
   "language": "python",
   "name": "python3"
  },
  "language_info": {
   "codemirror_mode": {
    "name": "ipython",
    "version": 3
   },
   "file_extension": ".py",
   "mimetype": "text/x-python",
   "name": "python",
   "nbconvert_exporter": "python",
   "pygments_lexer": "ipython3",
   "version": "3.7.1"
  },
  "toc": {
   "base_numbering": 1,
   "nav_menu": {},
   "number_sections": false,
   "sideBar": true,
   "skip_h1_title": false,
   "title_cell": "Table of Contents",
   "title_sidebar": "Contents",
   "toc_cell": false,
   "toc_position": {},
   "toc_section_display": true,
   "toc_window_display": true
  },
  "varInspector": {
   "cols": {
    "lenName": 16,
    "lenType": 16,
    "lenVar": 40
   },
   "kernels_config": {
    "python": {
     "delete_cmd_postfix": "",
     "delete_cmd_prefix": "del ",
     "library": "var_list.py",
     "varRefreshCmd": "print(var_dic_list())"
    },
    "r": {
     "delete_cmd_postfix": ") ",
     "delete_cmd_prefix": "rm(",
     "library": "var_list.r",
     "varRefreshCmd": "cat(var_dic_list()) "
    }
   },
   "types_to_exclude": [
    "module",
    "function",
    "builtin_function_or_method",
    "instance",
    "_Feature"
   ],
   "window_display": false
  }
 },
 "nbformat": 4,
 "nbformat_minor": 2
}
